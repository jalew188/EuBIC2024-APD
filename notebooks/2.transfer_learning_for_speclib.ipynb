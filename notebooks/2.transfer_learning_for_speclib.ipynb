{
 "cells": [
  {
   "cell_type": "markdown",
   "metadata": {},
   "source": [
    "# Model tuning for spectral library prediction"
   ]
  },
  {
   "cell_type": "markdown",
   "metadata": {},
   "source": [
    "### Prepare phospho data for model tuning"
   ]
  },
  {
   "cell_type": "code",
   "execution_count": 1,
   "metadata": {},
   "outputs": [
    {
     "name": "stderr",
     "output_type": "stream",
     "text": [
      "/Users/wenfengzeng/workspace/alphabase/alphabase/psm_reader/psm_reader.py:492: UserWarning: Unknown modifications: {'_(gl)'}. Precursors with unknown modifications will be removed.\n",
      "  warnings.warn(\n"
     ]
    },
    {
     "data": {
      "text/html": [
       "<div>\n",
       "<style scoped>\n",
       "    .dataframe tbody tr th:only-of-type {\n",
       "        vertical-align: middle;\n",
       "    }\n",
       "\n",
       "    .dataframe tbody tr th {\n",
       "        vertical-align: top;\n",
       "    }\n",
       "\n",
       "    .dataframe thead th {\n",
       "        text-align: right;\n",
       "    }\n",
       "</style>\n",
       "<table border=\"1\" class=\"dataframe\">\n",
       "  <thead>\n",
       "    <tr style=\"text-align: right;\">\n",
       "      <th></th>\n",
       "      <th>sequence</th>\n",
       "      <th>charge</th>\n",
       "      <th>rt</th>\n",
       "      <th>scan_num</th>\n",
       "      <th>raw_name</th>\n",
       "      <th>precursor_mz</th>\n",
       "      <th>score</th>\n",
       "      <th>proteins</th>\n",
       "      <th>genes</th>\n",
       "      <th>decoy</th>\n",
       "      <th>spec_idx</th>\n",
       "      <th>mods</th>\n",
       "      <th>mod_sites</th>\n",
       "      <th>nAA</th>\n",
       "      <th>rt_norm</th>\n",
       "    </tr>\n",
       "  </thead>\n",
       "  <tbody>\n",
       "    <tr>\n",
       "      <th>0</th>\n",
       "      <td>TSLFSSK</td>\n",
       "      <td>2</td>\n",
       "      <td>9.9918</td>\n",
       "      <td>9212</td>\n",
       "      <td>20171001_QE3_nLC7_DBJ_SA_LFQphos_Tech_Rep_03</td>\n",
       "      <td>425.19133</td>\n",
       "      <td>68.016</td>\n",
       "      <td>Q9BTX1</td>\n",
       "      <td>NDC1</td>\n",
       "      <td>0</td>\n",
       "      <td>9211</td>\n",
       "      <td>Phospho@S</td>\n",
       "      <td>6</td>\n",
       "      <td>7</td>\n",
       "      <td>0.521112</td>\n",
       "    </tr>\n",
       "    <tr>\n",
       "      <th>1</th>\n",
       "      <td>LNTLLQR</td>\n",
       "      <td>2</td>\n",
       "      <td>8.9748</td>\n",
       "      <td>7875</td>\n",
       "      <td>20171001_QE3_nLC7_DBJ_SA_LFQphos_Tech_Rep_03</td>\n",
       "      <td>429.26380</td>\n",
       "      <td>128.380</td>\n",
       "      <td>Q00839</td>\n",
       "      <td>HNRNPU</td>\n",
       "      <td>0</td>\n",
       "      <td>7874</td>\n",
       "      <td></td>\n",
       "      <td></td>\n",
       "      <td>7</td>\n",
       "      <td>0.468071</td>\n",
       "    </tr>\n",
       "    <tr>\n",
       "      <th>2</th>\n",
       "      <td>RFIGSPR</td>\n",
       "      <td>2</td>\n",
       "      <td>6.5790</td>\n",
       "      <td>4718</td>\n",
       "      <td>20171001_QE3_nLC7_DBJ_SA_LFQphos_Tech_Rep_03</td>\n",
       "      <td>456.72620</td>\n",
       "      <td>70.256</td>\n",
       "      <td>P23443;K7ERJ3</td>\n",
       "      <td>RPS6KB1</td>\n",
       "      <td>0</td>\n",
       "      <td>4717</td>\n",
       "      <td>Phospho@S</td>\n",
       "      <td>5</td>\n",
       "      <td>7</td>\n",
       "      <td>0.343121</td>\n",
       "    </tr>\n",
       "    <tr>\n",
       "      <th>3</th>\n",
       "      <td>TEWLDGK</td>\n",
       "      <td>2</td>\n",
       "      <td>8.9811</td>\n",
       "      <td>7882</td>\n",
       "      <td>20171001_QE3_nLC7_DBJ_SA_LFQphos_Tech_Rep_03</td>\n",
       "      <td>424.71107</td>\n",
       "      <td>100.740</td>\n",
       "      <td>P62937;F5H284;Q9Y536;P0DN26;A0A0B4J2A2;A0A075B...</td>\n",
       "      <td>PPIA;PPIAL4D;PPIAL4A;PPIAL4C;PPIAL4E</td>\n",
       "      <td>0</td>\n",
       "      <td>7881</td>\n",
       "      <td></td>\n",
       "      <td></td>\n",
       "      <td>7</td>\n",
       "      <td>0.468400</td>\n",
       "    </tr>\n",
       "    <tr>\n",
       "      <th>4</th>\n",
       "      <td>TDSPWIK</td>\n",
       "      <td>2</td>\n",
       "      <td>11.0450</td>\n",
       "      <td>10583</td>\n",
       "      <td>20171001_QE3_nLC7_DBJ_SA_LFQphos_Tech_Rep_03</td>\n",
       "      <td>463.70460</td>\n",
       "      <td>65.156</td>\n",
       "      <td>Q9H9B1</td>\n",
       "      <td>EHMT1</td>\n",
       "      <td>0</td>\n",
       "      <td>10582</td>\n",
       "      <td>Phospho@S</td>\n",
       "      <td>3</td>\n",
       "      <td>7</td>\n",
       "      <td>0.576040</td>\n",
       "    </tr>\n",
       "    <tr>\n",
       "      <th>...</th>\n",
       "      <td>...</td>\n",
       "      <td>...</td>\n",
       "      <td>...</td>\n",
       "      <td>...</td>\n",
       "      <td>...</td>\n",
       "      <td>...</td>\n",
       "      <td>...</td>\n",
       "      <td>...</td>\n",
       "      <td>...</td>\n",
       "      <td>...</td>\n",
       "      <td>...</td>\n",
       "      <td>...</td>\n",
       "      <td>...</td>\n",
       "      <td>...</td>\n",
       "      <td>...</td>\n",
       "    </tr>\n",
       "    <tr>\n",
       "      <th>9681</th>\n",
       "      <td>EGAGVWHQDGALPQQCPGTPSSEMEQLDRPGLSQPGALGIANPLLA...</td>\n",
       "      <td>5</td>\n",
       "      <td>17.5310</td>\n",
       "      <td>18850</td>\n",
       "      <td>20171001_QE3_nLC7_DBJ_SA_LFQphos_Tech_Rep_03</td>\n",
       "      <td>1271.59420</td>\n",
       "      <td>30.405</td>\n",
       "      <td>O15027</td>\n",
       "      <td>SEC16A</td>\n",
       "      <td>0</td>\n",
       "      <td>18849</td>\n",
       "      <td>Phospho@T;Oxidation@M;Phospho@S;Carbamidomethyl@C</td>\n",
       "      <td>19;24;51;16</td>\n",
       "      <td>60</td>\n",
       "      <td>0.914311</td>\n",
       "    </tr>\n",
       "    <tr>\n",
       "      <th>9682</th>\n",
       "      <td>RGSPGQEEELPQGQPQSPNAPPSPSVGETLGDGINSSQTKPGGSSP...</td>\n",
       "      <td>5</td>\n",
       "      <td>15.1870</td>\n",
       "      <td>15891</td>\n",
       "      <td>20171001_QE3_nLC7_DBJ_SA_LFQphos_Tech_Rep_03</td>\n",
       "      <td>1241.14890</td>\n",
       "      <td>54.576</td>\n",
       "      <td>Q14202</td>\n",
       "      <td>ZMYM3</td>\n",
       "      <td>0</td>\n",
       "      <td>15890</td>\n",
       "      <td>Phospho@S;Phospho@S;Phospho@S;Phospho@S</td>\n",
       "      <td>3;17;23;44</td>\n",
       "      <td>60</td>\n",
       "      <td>0.792062</td>\n",
       "    </tr>\n",
       "    <tr>\n",
       "      <th>9683</th>\n",
       "      <td>ADRDSGSEQGGAALGSGGSLGHPGSGSGSGGGGGGGGGGGGSGGGG...</td>\n",
       "      <td>4</td>\n",
       "      <td>11.5820</td>\n",
       "      <td>11280</td>\n",
       "      <td>20171001_QE3_nLC7_DBJ_SA_LFQphos_Tech_Rep_03</td>\n",
       "      <td>1345.06530</td>\n",
       "      <td>59.341</td>\n",
       "      <td>Q00577</td>\n",
       "      <td>PURA</td>\n",
       "      <td>0</td>\n",
       "      <td>11279</td>\n",
       "      <td>Acetyl@Protein N-term;Phospho@S;Phospho@S</td>\n",
       "      <td>0;5;7</td>\n",
       "      <td>63</td>\n",
       "      <td>0.604047</td>\n",
       "    </tr>\n",
       "    <tr>\n",
       "      <th>9684</th>\n",
       "      <td>ADRDSGSEQGGAALGSGGSLGHPGSGSGSGGGGGGGGGGGGSGGGG...</td>\n",
       "      <td>4</td>\n",
       "      <td>10.7280</td>\n",
       "      <td>10172</td>\n",
       "      <td>20171001_QE3_nLC7_DBJ_SA_LFQphos_Tech_Rep_03</td>\n",
       "      <td>1325.07380</td>\n",
       "      <td>91.219</td>\n",
       "      <td>Q00577</td>\n",
       "      <td>PURA</td>\n",
       "      <td>0</td>\n",
       "      <td>10171</td>\n",
       "      <td>Acetyl@Protein N-term;Phospho@S</td>\n",
       "      <td>0;5</td>\n",
       "      <td>63</td>\n",
       "      <td>0.559508</td>\n",
       "    </tr>\n",
       "    <tr>\n",
       "      <th>9685</th>\n",
       "      <td>LEVSVDGLTLSPDPEERPGAEGAPLLPPPLPPPSPPGSGRGPGASG...</td>\n",
       "      <td>5</td>\n",
       "      <td>17.6590</td>\n",
       "      <td>19010</td>\n",
       "      <td>20171001_QE3_nLC7_DBJ_SA_LFQphos_Tech_Rep_03</td>\n",
       "      <td>1245.20460</td>\n",
       "      <td>30.929</td>\n",
       "      <td>Q9H3P7</td>\n",
       "      <td>ACBD3</td>\n",
       "      <td>0</td>\n",
       "      <td>19009</td>\n",
       "      <td>Phospho@S</td>\n",
       "      <td>34</td>\n",
       "      <td>64</td>\n",
       "      <td>0.920987</td>\n",
       "    </tr>\n",
       "  </tbody>\n",
       "</table>\n",
       "<p>9686 rows × 15 columns</p>\n",
       "</div>"
      ],
      "text/plain": [
       "                                               sequence  charge       rt  \\\n",
       "0                                               TSLFSSK       2   9.9918   \n",
       "1                                               LNTLLQR       2   8.9748   \n",
       "2                                               RFIGSPR       2   6.5790   \n",
       "3                                               TEWLDGK       2   8.9811   \n",
       "4                                               TDSPWIK       2  11.0450   \n",
       "...                                                 ...     ...      ...   \n",
       "9681  EGAGVWHQDGALPQQCPGTPSSEMEQLDRPGLSQPGALGIANPLLA...       5  17.5310   \n",
       "9682  RGSPGQEEELPQGQPQSPNAPPSPSVGETLGDGINSSQTKPGGSSP...       5  15.1870   \n",
       "9683  ADRDSGSEQGGAALGSGGSLGHPGSGSGSGGGGGGGGGGGGSGGGG...       4  11.5820   \n",
       "9684  ADRDSGSEQGGAALGSGGSLGHPGSGSGSGGGGGGGGGGGGSGGGG...       4  10.7280   \n",
       "9685  LEVSVDGLTLSPDPEERPGAEGAPLLPPPLPPPSPPGSGRGPGASG...       5  17.6590   \n",
       "\n",
       "      scan_num                                      raw_name  precursor_mz  \\\n",
       "0         9212  20171001_QE3_nLC7_DBJ_SA_LFQphos_Tech_Rep_03     425.19133   \n",
       "1         7875  20171001_QE3_nLC7_DBJ_SA_LFQphos_Tech_Rep_03     429.26380   \n",
       "2         4718  20171001_QE3_nLC7_DBJ_SA_LFQphos_Tech_Rep_03     456.72620   \n",
       "3         7882  20171001_QE3_nLC7_DBJ_SA_LFQphos_Tech_Rep_03     424.71107   \n",
       "4        10583  20171001_QE3_nLC7_DBJ_SA_LFQphos_Tech_Rep_03     463.70460   \n",
       "...        ...                                           ...           ...   \n",
       "9681     18850  20171001_QE3_nLC7_DBJ_SA_LFQphos_Tech_Rep_03    1271.59420   \n",
       "9682     15891  20171001_QE3_nLC7_DBJ_SA_LFQphos_Tech_Rep_03    1241.14890   \n",
       "9683     11280  20171001_QE3_nLC7_DBJ_SA_LFQphos_Tech_Rep_03    1345.06530   \n",
       "9684     10172  20171001_QE3_nLC7_DBJ_SA_LFQphos_Tech_Rep_03    1325.07380   \n",
       "9685     19010  20171001_QE3_nLC7_DBJ_SA_LFQphos_Tech_Rep_03    1245.20460   \n",
       "\n",
       "        score                                           proteins  \\\n",
       "0      68.016                                             Q9BTX1   \n",
       "1     128.380                                             Q00839   \n",
       "2      70.256                                      P23443;K7ERJ3   \n",
       "3     100.740  P62937;F5H284;Q9Y536;P0DN26;A0A0B4J2A2;A0A075B...   \n",
       "4      65.156                                             Q9H9B1   \n",
       "...       ...                                                ...   \n",
       "9681   30.405                                             O15027   \n",
       "9682   54.576                                             Q14202   \n",
       "9683   59.341                                             Q00577   \n",
       "9684   91.219                                             Q00577   \n",
       "9685   30.929                                             Q9H3P7   \n",
       "\n",
       "                                     genes  decoy  spec_idx  \\\n",
       "0                                     NDC1      0      9211   \n",
       "1                                   HNRNPU      0      7874   \n",
       "2                                  RPS6KB1      0      4717   \n",
       "3     PPIA;PPIAL4D;PPIAL4A;PPIAL4C;PPIAL4E      0      7881   \n",
       "4                                    EHMT1      0     10582   \n",
       "...                                    ...    ...       ...   \n",
       "9681                                SEC16A      0     18849   \n",
       "9682                                 ZMYM3      0     15890   \n",
       "9683                                  PURA      0     11279   \n",
       "9684                                  PURA      0     10171   \n",
       "9685                                 ACBD3      0     19009   \n",
       "\n",
       "                                                   mods    mod_sites  nAA  \\\n",
       "0                                             Phospho@S            6    7   \n",
       "1                                                                       7   \n",
       "2                                             Phospho@S            5    7   \n",
       "3                                                                       7   \n",
       "4                                             Phospho@S            3    7   \n",
       "...                                                 ...          ...  ...   \n",
       "9681  Phospho@T;Oxidation@M;Phospho@S;Carbamidomethyl@C  19;24;51;16   60   \n",
       "9682            Phospho@S;Phospho@S;Phospho@S;Phospho@S   3;17;23;44   60   \n",
       "9683          Acetyl@Protein N-term;Phospho@S;Phospho@S        0;5;7   63   \n",
       "9684                    Acetyl@Protein N-term;Phospho@S          0;5   63   \n",
       "9685                                          Phospho@S           34   64   \n",
       "\n",
       "       rt_norm  \n",
       "0     0.521112  \n",
       "1     0.468071  \n",
       "2     0.343121  \n",
       "3     0.468400  \n",
       "4     0.576040  \n",
       "...        ...  \n",
       "9681  0.914311  \n",
       "9682  0.792062  \n",
       "9683  0.604047  \n",
       "9684  0.559508  \n",
       "9685  0.920987  \n",
       "\n",
       "[9686 rows x 15 columns]"
      ]
     },
     "execution_count": 1,
     "metadata": {},
     "output_type": "execute_result"
    }
   ],
   "source": [
    "from alphabase.psm_reader import MaxQuantReader\n",
    "psm_reader = MaxQuantReader()\n",
    "psm_df = psm_reader.import_file(\"../test_data/phos/MaxQuant_msms.txt\")\n",
    "psm_df"
   ]
  },
  {
   "cell_type": "code",
   "execution_count": 2,
   "metadata": {},
   "outputs": [
    {
     "name": "stderr",
     "output_type": "stream",
     "text": [
      "WARNING:root:WARNING: Temp mmap arrays are written to /var/folders/fh/hf8t3l1x02d42ggk3b304_rh0000gn/T/temp_mmap_513b4iy7. Cleanup of this folder is OS dependant, and might need to be triggered manually! Current space: 621,941,006,336\n",
      "WARNING:root:WARNING: No Bruker libraries are available for this operating system. Mobility and m/z values need to be estimated. While this estimation often returns acceptable results with errors < 0.02 Th, huge errors (e.g. offsets of 6 Th) have already been observed for some samples!\n",
      "100%|██████████| 1/1 [00:01<00:00,  1.32s/it]\n"
     ]
    },
    {
     "data": {
      "text/html": [
       "<div>\n",
       "<style scoped>\n",
       "    .dataframe tbody tr th:only-of-type {\n",
       "        vertical-align: middle;\n",
       "    }\n",
       "\n",
       "    .dataframe tbody tr th {\n",
       "        vertical-align: top;\n",
       "    }\n",
       "\n",
       "    .dataframe thead th {\n",
       "        text-align: right;\n",
       "    }\n",
       "</style>\n",
       "<table border=\"1\" class=\"dataframe\">\n",
       "  <thead>\n",
       "    <tr style=\"text-align: right;\">\n",
       "      <th></th>\n",
       "      <th>b_z1</th>\n",
       "      <th>b_z2</th>\n",
       "      <th>y_z1</th>\n",
       "      <th>y_z2</th>\n",
       "      <th>b_modloss_z1</th>\n",
       "      <th>b_modloss_z2</th>\n",
       "      <th>y_modloss_z1</th>\n",
       "      <th>y_modloss_z2</th>\n",
       "    </tr>\n",
       "  </thead>\n",
       "  <tbody>\n",
       "    <tr>\n",
       "      <th>0</th>\n",
       "      <td>0.000000</td>\n",
       "      <td>0.0</td>\n",
       "      <td>0.000000</td>\n",
       "      <td>0.0</td>\n",
       "      <td>0.0</td>\n",
       "      <td>0.0</td>\n",
       "      <td>16924.156250</td>\n",
       "      <td>0.0</td>\n",
       "    </tr>\n",
       "    <tr>\n",
       "      <th>1</th>\n",
       "      <td>56745.179688</td>\n",
       "      <td>0.0</td>\n",
       "      <td>12997.813477</td>\n",
       "      <td>0.0</td>\n",
       "      <td>0.0</td>\n",
       "      <td>0.0</td>\n",
       "      <td>26060.705078</td>\n",
       "      <td>0.0</td>\n",
       "    </tr>\n",
       "    <tr>\n",
       "      <th>2</th>\n",
       "      <td>0.000000</td>\n",
       "      <td>0.0</td>\n",
       "      <td>0.000000</td>\n",
       "      <td>0.0</td>\n",
       "      <td>0.0</td>\n",
       "      <td>0.0</td>\n",
       "      <td>31265.720703</td>\n",
       "      <td>0.0</td>\n",
       "    </tr>\n",
       "    <tr>\n",
       "      <th>3</th>\n",
       "      <td>0.000000</td>\n",
       "      <td>0.0</td>\n",
       "      <td>0.000000</td>\n",
       "      <td>0.0</td>\n",
       "      <td>0.0</td>\n",
       "      <td>0.0</td>\n",
       "      <td>38606.406250</td>\n",
       "      <td>0.0</td>\n",
       "    </tr>\n",
       "    <tr>\n",
       "      <th>4</th>\n",
       "      <td>0.000000</td>\n",
       "      <td>0.0</td>\n",
       "      <td>0.000000</td>\n",
       "      <td>0.0</td>\n",
       "      <td>0.0</td>\n",
       "      <td>0.0</td>\n",
       "      <td>51442.460938</td>\n",
       "      <td>0.0</td>\n",
       "    </tr>\n",
       "    <tr>\n",
       "      <th>...</th>\n",
       "      <td>...</td>\n",
       "      <td>...</td>\n",
       "      <td>...</td>\n",
       "      <td>...</td>\n",
       "      <td>...</td>\n",
       "      <td>...</td>\n",
       "      <td>...</td>\n",
       "      <td>...</td>\n",
       "    </tr>\n",
       "    <tr>\n",
       "      <th>170695</th>\n",
       "      <td>0.000000</td>\n",
       "      <td>0.0</td>\n",
       "      <td>0.000000</td>\n",
       "      <td>0.0</td>\n",
       "      <td>0.0</td>\n",
       "      <td>0.0</td>\n",
       "      <td>0.000000</td>\n",
       "      <td>0.0</td>\n",
       "    </tr>\n",
       "    <tr>\n",
       "      <th>170696</th>\n",
       "      <td>0.000000</td>\n",
       "      <td>0.0</td>\n",
       "      <td>0.000000</td>\n",
       "      <td>0.0</td>\n",
       "      <td>0.0</td>\n",
       "      <td>0.0</td>\n",
       "      <td>0.000000</td>\n",
       "      <td>0.0</td>\n",
       "    </tr>\n",
       "    <tr>\n",
       "      <th>170697</th>\n",
       "      <td>0.000000</td>\n",
       "      <td>0.0</td>\n",
       "      <td>31844.667969</td>\n",
       "      <td>0.0</td>\n",
       "      <td>0.0</td>\n",
       "      <td>0.0</td>\n",
       "      <td>0.000000</td>\n",
       "      <td>0.0</td>\n",
       "    </tr>\n",
       "    <tr>\n",
       "      <th>170698</th>\n",
       "      <td>0.000000</td>\n",
       "      <td>0.0</td>\n",
       "      <td>61805.929688</td>\n",
       "      <td>0.0</td>\n",
       "      <td>0.0</td>\n",
       "      <td>0.0</td>\n",
       "      <td>0.000000</td>\n",
       "      <td>0.0</td>\n",
       "    </tr>\n",
       "    <tr>\n",
       "      <th>170699</th>\n",
       "      <td>0.000000</td>\n",
       "      <td>0.0</td>\n",
       "      <td>15180.942383</td>\n",
       "      <td>0.0</td>\n",
       "      <td>0.0</td>\n",
       "      <td>0.0</td>\n",
       "      <td>0.000000</td>\n",
       "      <td>0.0</td>\n",
       "    </tr>\n",
       "  </tbody>\n",
       "</table>\n",
       "<p>170700 rows × 8 columns</p>\n",
       "</div>"
      ],
      "text/plain": [
       "                b_z1  b_z2          y_z1  y_z2  b_modloss_z1  b_modloss_z2  \\\n",
       "0           0.000000   0.0      0.000000   0.0           0.0           0.0   \n",
       "1       56745.179688   0.0  12997.813477   0.0           0.0           0.0   \n",
       "2           0.000000   0.0      0.000000   0.0           0.0           0.0   \n",
       "3           0.000000   0.0      0.000000   0.0           0.0           0.0   \n",
       "4           0.000000   0.0      0.000000   0.0           0.0           0.0   \n",
       "...              ...   ...           ...   ...           ...           ...   \n",
       "170695      0.000000   0.0      0.000000   0.0           0.0           0.0   \n",
       "170696      0.000000   0.0      0.000000   0.0           0.0           0.0   \n",
       "170697      0.000000   0.0  31844.667969   0.0           0.0           0.0   \n",
       "170698      0.000000   0.0  61805.929688   0.0           0.0           0.0   \n",
       "170699      0.000000   0.0  15180.942383   0.0           0.0           0.0   \n",
       "\n",
       "        y_modloss_z1  y_modloss_z2  \n",
       "0       16924.156250           0.0  \n",
       "1       26060.705078           0.0  \n",
       "2       31265.720703           0.0  \n",
       "3       38606.406250           0.0  \n",
       "4       51442.460938           0.0  \n",
       "...              ...           ...  \n",
       "170695      0.000000           0.0  \n",
       "170696      0.000000           0.0  \n",
       "170697      0.000000           0.0  \n",
       "170698      0.000000           0.0  \n",
       "170699      0.000000           0.0  \n",
       "\n",
       "[170700 rows x 8 columns]"
      ]
     },
     "execution_count": 2,
     "metadata": {},
     "output_type": "execute_result"
    }
   ],
   "source": [
    "from alpharaw.match.psm_match import PepSpecMatch\n",
    "\n",
    "match = PepSpecMatch()\n",
    "(\n",
    "    psm_df, frag_mz_df,\n",
    "    frag_inten_df, _\n",
    ") = match.match_ms2_multi_raw(\n",
    "    psm_df, \n",
    "    ms_files=[\"../test_data/phos/20171001_QE3_nLC7_DBJ_SA_LFQphos_Tech_Rep_03.raw.hdf\"],\n",
    "    ms_file_type=\"alpharaw_hdf\"\n",
    ")\n",
    "frag_inten_df"
   ]
  },
  {
   "cell_type": "code",
   "execution_count": 3,
   "metadata": {},
   "outputs": [],
   "source": [
    "from peptdeep.pretrained_models import ModelManager\n",
    "\n",
    "model_mgr = ModelManager(mask_modloss=False) # phos has modloss\n",
    "model_mgr.train_verbose = True"
   ]
  },
  {
   "cell_type": "code",
   "execution_count": 4,
   "metadata": {},
   "outputs": [
    {
     "data": {
      "text/html": [
       "<div>\n",
       "<style scoped>\n",
       "    .dataframe tbody tr th:only-of-type {\n",
       "        vertical-align: middle;\n",
       "    }\n",
       "\n",
       "    .dataframe tbody tr th {\n",
       "        vertical-align: top;\n",
       "    }\n",
       "\n",
       "    .dataframe thead th {\n",
       "        text-align: right;\n",
       "    }\n",
       "</style>\n",
       "<table border=\"1\" class=\"dataframe\">\n",
       "  <thead>\n",
       "    <tr style=\"text-align: right;\">\n",
       "      <th></th>\n",
       "      <th>sequence</th>\n",
       "      <th>charge</th>\n",
       "      <th>rt</th>\n",
       "      <th>scan_num</th>\n",
       "      <th>raw_name</th>\n",
       "      <th>precursor_mz</th>\n",
       "      <th>score</th>\n",
       "      <th>proteins</th>\n",
       "      <th>genes</th>\n",
       "      <th>decoy</th>\n",
       "      <th>spec_idx</th>\n",
       "      <th>mods</th>\n",
       "      <th>mod_sites</th>\n",
       "      <th>nAA</th>\n",
       "      <th>rt_norm</th>\n",
       "      <th>frag_start_idx</th>\n",
       "      <th>frag_stop_idx</th>\n",
       "      <th>nce</th>\n",
       "      <th>instrument</th>\n",
       "    </tr>\n",
       "  </thead>\n",
       "  <tbody>\n",
       "    <tr>\n",
       "      <th>0</th>\n",
       "      <td>TSLFSSK</td>\n",
       "      <td>2</td>\n",
       "      <td>9.9918</td>\n",
       "      <td>9212</td>\n",
       "      <td>20171001_QE3_nLC7_DBJ_SA_LFQphos_Tech_Rep_03</td>\n",
       "      <td>425.19133</td>\n",
       "      <td>68.016</td>\n",
       "      <td>Q9BTX1</td>\n",
       "      <td>NDC1</td>\n",
       "      <td>0</td>\n",
       "      <td>9211</td>\n",
       "      <td>Phospho@S</td>\n",
       "      <td>6</td>\n",
       "      <td>7</td>\n",
       "      <td>0.521112</td>\n",
       "      <td>0</td>\n",
       "      <td>6</td>\n",
       "      <td>28.0</td>\n",
       "      <td>Lumos</td>\n",
       "    </tr>\n",
       "    <tr>\n",
       "      <th>2</th>\n",
       "      <td>RFIGSPR</td>\n",
       "      <td>2</td>\n",
       "      <td>6.5790</td>\n",
       "      <td>4718</td>\n",
       "      <td>20171001_QE3_nLC7_DBJ_SA_LFQphos_Tech_Rep_03</td>\n",
       "      <td>456.72620</td>\n",
       "      <td>70.256</td>\n",
       "      <td>P23443;K7ERJ3</td>\n",
       "      <td>RPS6KB1</td>\n",
       "      <td>0</td>\n",
       "      <td>4717</td>\n",
       "      <td>Phospho@S</td>\n",
       "      <td>5</td>\n",
       "      <td>7</td>\n",
       "      <td>0.343121</td>\n",
       "      <td>12</td>\n",
       "      <td>18</td>\n",
       "      <td>28.0</td>\n",
       "      <td>Lumos</td>\n",
       "    </tr>\n",
       "    <tr>\n",
       "      <th>3</th>\n",
       "      <td>TEWLDGK</td>\n",
       "      <td>2</td>\n",
       "      <td>8.9811</td>\n",
       "      <td>7882</td>\n",
       "      <td>20171001_QE3_nLC7_DBJ_SA_LFQphos_Tech_Rep_03</td>\n",
       "      <td>424.71107</td>\n",
       "      <td>100.740</td>\n",
       "      <td>P62937;F5H284;Q9Y536;P0DN26;A0A0B4J2A2;A0A075B...</td>\n",
       "      <td>PPIA;PPIAL4D;PPIAL4A;PPIAL4C;PPIAL4E</td>\n",
       "      <td>0</td>\n",
       "      <td>7881</td>\n",
       "      <td></td>\n",
       "      <td></td>\n",
       "      <td>7</td>\n",
       "      <td>0.468400</td>\n",
       "      <td>18</td>\n",
       "      <td>24</td>\n",
       "      <td>28.0</td>\n",
       "      <td>Lumos</td>\n",
       "    </tr>\n",
       "    <tr>\n",
       "      <th>5</th>\n",
       "      <td>FLPLFDR</td>\n",
       "      <td>2</td>\n",
       "      <td>16.4160</td>\n",
       "      <td>17446</td>\n",
       "      <td>20171001_QE3_nLC7_DBJ_SA_LFQphos_Tech_Rep_03</td>\n",
       "      <td>454.25545</td>\n",
       "      <td>86.086</td>\n",
       "      <td>P61604;S4R3N1</td>\n",
       "      <td>HSPE1;HSPE1-MOB4</td>\n",
       "      <td>0</td>\n",
       "      <td>17445</td>\n",
       "      <td></td>\n",
       "      <td></td>\n",
       "      <td>7</td>\n",
       "      <td>0.856159</td>\n",
       "      <td>30</td>\n",
       "      <td>36</td>\n",
       "      <td>28.0</td>\n",
       "      <td>Lumos</td>\n",
       "    </tr>\n",
       "    <tr>\n",
       "      <th>7</th>\n",
       "      <td>FLLGGSK</td>\n",
       "      <td>2</td>\n",
       "      <td>13.9240</td>\n",
       "      <td>14284</td>\n",
       "      <td>20171001_QE3_nLC7_DBJ_SA_LFQphos_Tech_Rep_03</td>\n",
       "      <td>401.19895</td>\n",
       "      <td>40.268</td>\n",
       "      <td>O15063</td>\n",
       "      <td>KIAA0355</td>\n",
       "      <td>0</td>\n",
       "      <td>14283</td>\n",
       "      <td>Phospho@S</td>\n",
       "      <td>6</td>\n",
       "      <td>7</td>\n",
       "      <td>0.726192</td>\n",
       "      <td>42</td>\n",
       "      <td>48</td>\n",
       "      <td>28.0</td>\n",
       "      <td>Lumos</td>\n",
       "    </tr>\n",
       "    <tr>\n",
       "      <th>...</th>\n",
       "      <td>...</td>\n",
       "      <td>...</td>\n",
       "      <td>...</td>\n",
       "      <td>...</td>\n",
       "      <td>...</td>\n",
       "      <td>...</td>\n",
       "      <td>...</td>\n",
       "      <td>...</td>\n",
       "      <td>...</td>\n",
       "      <td>...</td>\n",
       "      <td>...</td>\n",
       "      <td>...</td>\n",
       "      <td>...</td>\n",
       "      <td>...</td>\n",
       "      <td>...</td>\n",
       "      <td>...</td>\n",
       "      <td>...</td>\n",
       "      <td>...</td>\n",
       "      <td>...</td>\n",
       "    </tr>\n",
       "    <tr>\n",
       "      <th>9654</th>\n",
       "      <td>SSEAETQQPPAAPPAAPALSAADTKPGTTGSGAGSGGPGGLTSAAP...</td>\n",
       "      <td>4</td>\n",
       "      <td>13.8580</td>\n",
       "      <td>14199</td>\n",
       "      <td>20171001_QE3_nLC7_DBJ_SA_LFQphos_Tech_Rep_03</td>\n",
       "      <td>1149.28590</td>\n",
       "      <td>76.259</td>\n",
       "      <td>P67809</td>\n",
       "      <td>YBX1</td>\n",
       "      <td>0</td>\n",
       "      <td>14198</td>\n",
       "      <td>Acetyl@Protein N-term;Phospho@S</td>\n",
       "      <td>0;1</td>\n",
       "      <td>51</td>\n",
       "      <td>0.722750</td>\n",
       "      <td>168970</td>\n",
       "      <td>169020</td>\n",
       "      <td>28.0</td>\n",
       "      <td>Lumos</td>\n",
       "    </tr>\n",
       "    <tr>\n",
       "      <th>9657</th>\n",
       "      <td>IGPPSPGDDEEEAAAAAGAPAAAGATGDLASAQLGGAPNRWEVLSA...</td>\n",
       "      <td>4</td>\n",
       "      <td>17.6030</td>\n",
       "      <td>18940</td>\n",
       "      <td>20171001_QE3_nLC7_DBJ_SA_LFQphos_Tech_Rep_03</td>\n",
       "      <td>1245.34900</td>\n",
       "      <td>144.390</td>\n",
       "      <td>Q02447</td>\n",
       "      <td>SP3</td>\n",
       "      <td>0</td>\n",
       "      <td>18939</td>\n",
       "      <td>Phospho@S</td>\n",
       "      <td>5</td>\n",
       "      <td>52</td>\n",
       "      <td>0.918066</td>\n",
       "      <td>169121</td>\n",
       "      <td>169172</td>\n",
       "      <td>28.0</td>\n",
       "      <td>Lumos</td>\n",
       "    </tr>\n",
       "    <tr>\n",
       "      <th>9660</th>\n",
       "      <td>HGNRNSNSYGIPEPAHAYAQPQTTTPLPAVSGSPGAAITPLPSTQN...</td>\n",
       "      <td>5</td>\n",
       "      <td>15.8180</td>\n",
       "      <td>16691</td>\n",
       "      <td>20171001_QE3_nLC7_DBJ_SA_LFQphos_Tech_Rep_03</td>\n",
       "      <td>1070.12520</td>\n",
       "      <td>51.475</td>\n",
       "      <td>P46109</td>\n",
       "      <td>CRKL</td>\n",
       "      <td>0</td>\n",
       "      <td>16690</td>\n",
       "      <td>Phospho@S</td>\n",
       "      <td>6</td>\n",
       "      <td>52</td>\n",
       "      <td>0.824971</td>\n",
       "      <td>169274</td>\n",
       "      <td>169325</td>\n",
       "      <td>28.0</td>\n",
       "      <td>Lumos</td>\n",
       "    </tr>\n",
       "    <tr>\n",
       "      <th>9661</th>\n",
       "      <td>QLALPATEQAATQESTFQELCEGLLEESDGEGEPGQGEGPEAGDAE...</td>\n",
       "      <td>5</td>\n",
       "      <td>18.2030</td>\n",
       "      <td>19699</td>\n",
       "      <td>20171001_QE3_nLC7_DBJ_SA_LFQphos_Tech_Rep_03</td>\n",
       "      <td>1128.29220</td>\n",
       "      <td>47.202</td>\n",
       "      <td>Q9NZM5</td>\n",
       "      <td>GLTSCR2</td>\n",
       "      <td>0</td>\n",
       "      <td>19698</td>\n",
       "      <td>Phospho@T;Deamidated@Q;Carbamidomethyl@C;Carba...</td>\n",
       "      <td>7;9;21;48</td>\n",
       "      <td>53</td>\n",
       "      <td>0.949359</td>\n",
       "      <td>169325</td>\n",
       "      <td>169377</td>\n",
       "      <td>28.0</td>\n",
       "      <td>Lumos</td>\n",
       "    </tr>\n",
       "    <tr>\n",
       "      <th>9672</th>\n",
       "      <td>HNLYRDSMVMHNSDPNLHLLAEGAPIDWGEEYSNSGGGGSPSPSTP...</td>\n",
       "      <td>5</td>\n",
       "      <td>16.6510</td>\n",
       "      <td>17742</td>\n",
       "      <td>20171001_QE3_nLC7_DBJ_SA_LFQphos_Tech_Rep_03</td>\n",
       "      <td>1183.71200</td>\n",
       "      <td>32.043</td>\n",
       "      <td>Q96TA1</td>\n",
       "      <td>FAM129B</td>\n",
       "      <td>0</td>\n",
       "      <td>17741</td>\n",
       "      <td>Phospho@S;Oxidation@M;Phospho@S</td>\n",
       "      <td>7;8;33</td>\n",
       "      <td>54</td>\n",
       "      <td>0.868416</td>\n",
       "      <td>169901</td>\n",
       "      <td>169954</td>\n",
       "      <td>28.0</td>\n",
       "      <td>Lumos</td>\n",
       "    </tr>\n",
       "  </tbody>\n",
       "</table>\n",
       "<p>3110 rows × 19 columns</p>\n",
       "</div>"
      ],
      "text/plain": [
       "                                               sequence  charge       rt  \\\n",
       "0                                               TSLFSSK       2   9.9918   \n",
       "2                                               RFIGSPR       2   6.5790   \n",
       "3                                               TEWLDGK       2   8.9811   \n",
       "5                                               FLPLFDR       2  16.4160   \n",
       "7                                               FLLGGSK       2  13.9240   \n",
       "...                                                 ...     ...      ...   \n",
       "9654  SSEAETQQPPAAPPAAPALSAADTKPGTTGSGAGSGGPGGLTSAAP...       4  13.8580   \n",
       "9657  IGPPSPGDDEEEAAAAAGAPAAAGATGDLASAQLGGAPNRWEVLSA...       4  17.6030   \n",
       "9660  HGNRNSNSYGIPEPAHAYAQPQTTTPLPAVSGSPGAAITPLPSTQN...       5  15.8180   \n",
       "9661  QLALPATEQAATQESTFQELCEGLLEESDGEGEPGQGEGPEAGDAE...       5  18.2030   \n",
       "9672  HNLYRDSMVMHNSDPNLHLLAEGAPIDWGEEYSNSGGGGSPSPSTP...       5  16.6510   \n",
       "\n",
       "      scan_num                                      raw_name  precursor_mz  \\\n",
       "0         9212  20171001_QE3_nLC7_DBJ_SA_LFQphos_Tech_Rep_03     425.19133   \n",
       "2         4718  20171001_QE3_nLC7_DBJ_SA_LFQphos_Tech_Rep_03     456.72620   \n",
       "3         7882  20171001_QE3_nLC7_DBJ_SA_LFQphos_Tech_Rep_03     424.71107   \n",
       "5        17446  20171001_QE3_nLC7_DBJ_SA_LFQphos_Tech_Rep_03     454.25545   \n",
       "7        14284  20171001_QE3_nLC7_DBJ_SA_LFQphos_Tech_Rep_03     401.19895   \n",
       "...        ...                                           ...           ...   \n",
       "9654     14199  20171001_QE3_nLC7_DBJ_SA_LFQphos_Tech_Rep_03    1149.28590   \n",
       "9657     18940  20171001_QE3_nLC7_DBJ_SA_LFQphos_Tech_Rep_03    1245.34900   \n",
       "9660     16691  20171001_QE3_nLC7_DBJ_SA_LFQphos_Tech_Rep_03    1070.12520   \n",
       "9661     19699  20171001_QE3_nLC7_DBJ_SA_LFQphos_Tech_Rep_03    1128.29220   \n",
       "9672     17742  20171001_QE3_nLC7_DBJ_SA_LFQphos_Tech_Rep_03    1183.71200   \n",
       "\n",
       "        score                                           proteins  \\\n",
       "0      68.016                                             Q9BTX1   \n",
       "2      70.256                                      P23443;K7ERJ3   \n",
       "3     100.740  P62937;F5H284;Q9Y536;P0DN26;A0A0B4J2A2;A0A075B...   \n",
       "5      86.086                                      P61604;S4R3N1   \n",
       "7      40.268                                             O15063   \n",
       "...       ...                                                ...   \n",
       "9654   76.259                                             P67809   \n",
       "9657  144.390                                             Q02447   \n",
       "9660   51.475                                             P46109   \n",
       "9661   47.202                                             Q9NZM5   \n",
       "9672   32.043                                             Q96TA1   \n",
       "\n",
       "                                     genes  decoy  spec_idx  \\\n",
       "0                                     NDC1      0      9211   \n",
       "2                                  RPS6KB1      0      4717   \n",
       "3     PPIA;PPIAL4D;PPIAL4A;PPIAL4C;PPIAL4E      0      7881   \n",
       "5                         HSPE1;HSPE1-MOB4      0     17445   \n",
       "7                                 KIAA0355      0     14283   \n",
       "...                                    ...    ...       ...   \n",
       "9654                                  YBX1      0     14198   \n",
       "9657                                   SP3      0     18939   \n",
       "9660                                  CRKL      0     16690   \n",
       "9661                               GLTSCR2      0     19698   \n",
       "9672                               FAM129B      0     17741   \n",
       "\n",
       "                                                   mods  mod_sites  nAA  \\\n",
       "0                                             Phospho@S          6    7   \n",
       "2                                             Phospho@S          5    7   \n",
       "3                                                                     7   \n",
       "5                                                                     7   \n",
       "7                                             Phospho@S          6    7   \n",
       "...                                                 ...        ...  ...   \n",
       "9654                    Acetyl@Protein N-term;Phospho@S        0;1   51   \n",
       "9657                                          Phospho@S          5   52   \n",
       "9660                                          Phospho@S          6   52   \n",
       "9661  Phospho@T;Deamidated@Q;Carbamidomethyl@C;Carba...  7;9;21;48   53   \n",
       "9672                    Phospho@S;Oxidation@M;Phospho@S     7;8;33   54   \n",
       "\n",
       "       rt_norm  frag_start_idx  frag_stop_idx   nce instrument  \n",
       "0     0.521112               0              6  28.0      Lumos  \n",
       "2     0.343121              12             18  28.0      Lumos  \n",
       "3     0.468400              18             24  28.0      Lumos  \n",
       "5     0.856159              30             36  28.0      Lumos  \n",
       "7     0.726192              42             48  28.0      Lumos  \n",
       "...        ...             ...            ...   ...        ...  \n",
       "9654  0.722750          168970         169020  28.0      Lumos  \n",
       "9657  0.918066          169121         169172  28.0      Lumos  \n",
       "9660  0.824971          169274         169325  28.0      Lumos  \n",
       "9661  0.949359          169325         169377  28.0      Lumos  \n",
       "9672  0.868416          169901         169954  28.0      Lumos  \n",
       "\n",
       "[3110 rows x 19 columns]"
      ]
     },
     "execution_count": 4,
     "metadata": {},
     "output_type": "execute_result"
    }
   ],
   "source": [
    "model_mgr.set_default_nce_instrument(psm_df)\n",
    "train_psm_df = psm_df.sample(5000, replace=False, random_state=0)\n",
    "test_psm_df = psm_df[~psm_df.sequence.isin(train_psm_df.sequence)].copy()\n",
    "test_psm_df"
   ]
  },
  {
   "cell_type": "code",
   "execution_count": 5,
   "metadata": {},
   "outputs": [
    {
     "data": {
      "text/html": [
       "<div>\n",
       "<style scoped>\n",
       "    .dataframe tbody tr th:only-of-type {\n",
       "        vertical-align: middle;\n",
       "    }\n",
       "\n",
       "    .dataframe tbody tr th {\n",
       "        vertical-align: top;\n",
       "    }\n",
       "\n",
       "    .dataframe thead th {\n",
       "        text-align: right;\n",
       "    }\n",
       "</style>\n",
       "<table border=\"1\" class=\"dataframe\">\n",
       "  <thead>\n",
       "    <tr style=\"text-align: right;\">\n",
       "      <th></th>\n",
       "      <th>R_square</th>\n",
       "      <th>R</th>\n",
       "      <th>slope</th>\n",
       "      <th>intercept</th>\n",
       "      <th>test_num</th>\n",
       "    </tr>\n",
       "  </thead>\n",
       "  <tbody>\n",
       "    <tr>\n",
       "      <th>0</th>\n",
       "      <td>0.983856</td>\n",
       "      <td>0.991895</td>\n",
       "      <td>0.819683</td>\n",
       "      <td>0.198241</td>\n",
       "      <td>3110</td>\n",
       "    </tr>\n",
       "  </tbody>\n",
       "</table>\n",
       "</div>"
      ],
      "text/plain": [
       "   R_square         R     slope  intercept  test_num\n",
       "0  0.983856  0.991895  0.819683   0.198241      3110"
      ]
     },
     "execution_count": 5,
     "metadata": {},
     "output_type": "execute_result"
    }
   ],
   "source": [
    "model_mgr.rt_model.test(test_psm_df)"
   ]
  },
  {
   "cell_type": "code",
   "execution_count": 6,
   "metadata": {},
   "outputs": [
    {
     "data": {
      "text/html": [
       "<div>\n",
       "<style scoped>\n",
       "    .dataframe tbody tr th:only-of-type {\n",
       "        vertical-align: middle;\n",
       "    }\n",
       "\n",
       "    .dataframe tbody tr th {\n",
       "        vertical-align: top;\n",
       "    }\n",
       "\n",
       "    .dataframe thead th {\n",
       "        text-align: right;\n",
       "    }\n",
       "</style>\n",
       "<table border=\"1\" class=\"dataframe\">\n",
       "  <thead>\n",
       "    <tr style=\"text-align: right;\">\n",
       "      <th></th>\n",
       "      <th>PCC</th>\n",
       "      <th>COS</th>\n",
       "      <th>SA</th>\n",
       "      <th>SPC</th>\n",
       "    </tr>\n",
       "  </thead>\n",
       "  <tbody>\n",
       "    <tr>\n",
       "      <th>count</th>\n",
       "      <td>3110.000000</td>\n",
       "      <td>3110.000000</td>\n",
       "      <td>3110.000000</td>\n",
       "      <td>3110.000000</td>\n",
       "    </tr>\n",
       "    <tr>\n",
       "      <th>mean</th>\n",
       "      <td>0.886477</td>\n",
       "      <td>0.895969</td>\n",
       "      <td>0.731964</td>\n",
       "      <td>0.664866</td>\n",
       "    </tr>\n",
       "    <tr>\n",
       "      <th>std</th>\n",
       "      <td>0.118040</td>\n",
       "      <td>0.109075</td>\n",
       "      <td>0.126412</td>\n",
       "      <td>0.170045</td>\n",
       "    </tr>\n",
       "    <tr>\n",
       "      <th>min</th>\n",
       "      <td>-0.018241</td>\n",
       "      <td>0.047196</td>\n",
       "      <td>0.030057</td>\n",
       "      <td>-0.502826</td>\n",
       "    </tr>\n",
       "    <tr>\n",
       "      <th>25%</th>\n",
       "      <td>0.860696</td>\n",
       "      <td>0.872091</td>\n",
       "      <td>0.674473</td>\n",
       "      <td>0.570971</td>\n",
       "    </tr>\n",
       "    <tr>\n",
       "      <th>50%</th>\n",
       "      <td>0.919846</td>\n",
       "      <td>0.927219</td>\n",
       "      <td>0.755615</td>\n",
       "      <td>0.690140</td>\n",
       "    </tr>\n",
       "    <tr>\n",
       "      <th>75%</th>\n",
       "      <td>0.955416</td>\n",
       "      <td>0.959145</td>\n",
       "      <td>0.817397</td>\n",
       "      <td>0.783000</td>\n",
       "    </tr>\n",
       "    <tr>\n",
       "      <th>max</th>\n",
       "      <td>0.997122</td>\n",
       "      <td>0.997123</td>\n",
       "      <td>0.951698</td>\n",
       "      <td>0.999274</td>\n",
       "    </tr>\n",
       "    <tr>\n",
       "      <th>&gt;0.90</th>\n",
       "      <td>0.604180</td>\n",
       "      <td>0.642122</td>\n",
       "      <td>0.028296</td>\n",
       "      <td>0.040514</td>\n",
       "    </tr>\n",
       "    <tr>\n",
       "      <th>&gt;0.75</th>\n",
       "      <td>0.915756</td>\n",
       "      <td>0.932797</td>\n",
       "      <td>0.520579</td>\n",
       "      <td>0.339228</td>\n",
       "    </tr>\n",
       "  </tbody>\n",
       "</table>\n",
       "</div>"
      ],
      "text/plain": [
       "               PCC          COS           SA          SPC\n",
       "count  3110.000000  3110.000000  3110.000000  3110.000000\n",
       "mean      0.886477     0.895969     0.731964     0.664866\n",
       "std       0.118040     0.109075     0.126412     0.170045\n",
       "min      -0.018241     0.047196     0.030057    -0.502826\n",
       "25%       0.860696     0.872091     0.674473     0.570971\n",
       "50%       0.919846     0.927219     0.755615     0.690140\n",
       "75%       0.955416     0.959145     0.817397     0.783000\n",
       "max       0.997122     0.997123     0.951698     0.999274\n",
       ">0.90     0.604180     0.642122     0.028296     0.040514\n",
       ">0.75     0.915756     0.932797     0.520579     0.339228"
      ]
     },
     "execution_count": 6,
     "metadata": {},
     "output_type": "execute_result"
    }
   ],
   "source": [
    "model_mgr.ms2_model.test(\n",
    "    test_psm_df, frag_inten_df\n",
    ")"
   ]
  },
  {
   "cell_type": "code",
   "execution_count": null,
   "metadata": {},
   "outputs": [],
   "source": []
  },
  {
   "cell_type": "code",
   "execution_count": 7,
   "metadata": {},
   "outputs": [],
   "source": [
    "from alpharaw.viz.psm_plot import PSM_Plot\n",
    "from alpharaw.ms_data_base import MSData_Base\n",
    "\n",
    "ms_data = MSData_Base()\n",
    "ms_data.load_hdf(\"../test_data/phos/20171001_QE3_nLC7_DBJ_SA_LFQphos_Tech_Rep_03.raw.hdf\")\n",
    "\n",
    "psm_plotter = PSM_Plot()"
   ]
  },
  {
   "cell_type": "code",
   "execution_count": 8,
   "metadata": {},
   "outputs": [
    {
     "data": {
      "text/html": [
       "<div>\n",
       "<style scoped>\n",
       "    .dataframe tbody tr th:only-of-type {\n",
       "        vertical-align: middle;\n",
       "    }\n",
       "\n",
       "    .dataframe tbody tr th {\n",
       "        vertical-align: top;\n",
       "    }\n",
       "\n",
       "    .dataframe thead th {\n",
       "        text-align: right;\n",
       "    }\n",
       "</style>\n",
       "<table border=\"1\" class=\"dataframe\">\n",
       "  <thead>\n",
       "    <tr style=\"text-align: right;\">\n",
       "      <th></th>\n",
       "      <th>sequence</th>\n",
       "      <th>mods</th>\n",
       "      <th>mod_sites</th>\n",
       "      <th>charge</th>\n",
       "      <th>spec_idx</th>\n",
       "      <th>precursor_mz</th>\n",
       "      <th>nAA</th>\n",
       "    </tr>\n",
       "  </thead>\n",
       "  <tbody>\n",
       "    <tr>\n",
       "      <th>1543</th>\n",
       "      <td>VYEHTSRFSPK</td>\n",
       "      <td>Phospho@S</td>\n",
       "      <td>9</td>\n",
       "      <td>3</td>\n",
       "      <td>2753</td>\n",
       "      <td>477.55365</td>\n",
       "      <td>11</td>\n",
       "    </tr>\n",
       "  </tbody>\n",
       "</table>\n",
       "</div>"
      ],
      "text/plain": [
       "         sequence       mods mod_sites  charge  spec_idx  precursor_mz  nAA\n",
       "1543  VYEHTSRFSPK  Phospho@S         9       3      2753     477.55365   11"
      ]
     },
     "execution_count": 8,
     "metadata": {},
     "output_type": "execute_result"
    }
   ],
   "source": [
    "psm_idx = 500\n",
    "plot_psm = test_psm_df.query(\"mods.str.contains('Phos')\").iloc[\n",
    "    psm_idx:psm_idx+1\n",
    "][[\"sequence\",\"mods\",\"mod_sites\",\"charge\",\"spec_idx\",\"precursor_mz\",\"nAA\"]]\n",
    "plot_psm"
   ]
  },
  {
   "cell_type": "code",
   "execution_count": 9,
   "metadata": {},
   "outputs": [
    {
     "name": "stdout",
     "output_type": "stream",
     "text": [
      "2024-01-05 13:26:50> Predicting MS2 ...\n"
     ]
    },
    {
     "name": "stderr",
     "output_type": "stream",
     "text": [
      "100%|██████████| 1/1 [00:00<00:00, 118.01it/s]\n"
     ]
    },
    {
     "data": {
      "application/vnd.plotly.v1+json": {
       "config": {
        "plotlyServerURL": "https://plot.ly"
       },
       "data": [
        {
         "marker": {
          "color": "lightgrey",
          "size": 1
         },
         "mode": "markers",
         "name": "",
         "showlegend": false,
         "type": "scatter",
         "x": [
          101.07186,
          102.0558,
          110.07183,
          110.07947,
          112.087746,
          115.08752,
          116.071945,
          119.38613,
          120.081726,
          129.1027,
          130.05098,
          130.08685,
          130.10614,
          136.06418,
          136.07611,
          137.07986,
          141.1034,
          146.0632,
          147.11327,
          155.0824,
          156.07741,
          157.10886,
          158.09319,
          167.08176,
          171.1139,
          175.1198,
          183.07782,
          187.07166,
          187.14491,
          188.148,
          191.61958,
          192.12086,
          202.08755,
          209.12766,
          211.07103,
          214.09839,
          221.10374,
          226.15543,
          226.61111,
          233.12836,
          235.14465,
          236.14871,
          239.11424,
          240.1472,
          240.60843,
          241.10933,
          241.62877,
          244.16635,
          245.1675,
          246.17143,
          249.09795,
          249.93042,
          252.07652,
          261.123,
          263.13986,
          265.1191,
          265.64957,
          266.1524,
          267.10925,
          272.17154,
          274.657,
          275.1579,
          278.15475,
          283.66214,
          284.16275,
          293.1138,
          295.10657,
          301.66287,
          302.1616,
          313.1875,
          316.67627,
          323.6456,
          324.14703,
          325.2489,
          349.673,
          350.14737,
          365.2059,
          378.71844,
          382.2329,
          383.22766,
          396.74295,
          398.20053,
          402.28683,
          402.72357,
          405.18622,
          405.53888,
          405.877,
          406.20514,
          407.2036,
          411.54846,
          411.6094,
          411.8811,
          411.9396,
          412.2163,
          412.55066,
          412.61423,
          414.2393,
          417.5528,
          417.88586,
          418.2211,
          419.21957,
          419.29068,
          423.89166,
          425.2175,
          428.2382,
          428.29745,
          428.71765,
          428.7943,
          429.29947,
          430.17413,
          439.71582,
          440.72964,
          444.20773,
          444.54153,
          444.8826,
          445.22418,
          450.5474,
          453.23776,
          453.73502,
          460.24557,
          462.24707,
          462.74286,
          463.24298,
          471.25345,
          471.75726,
          477.25327,
          477.75317,
          495.24005,
          495.72586,
          511.23514,
          517.3102,
          517.76215,
          518.261,
          520.2421,
          526.76776,
          527.26666,
          527.7691,
          530.25256,
          535.7752,
          536.2733,
          545.26556,
          549.76996,
          561.2817,
          575.76044,
          584.76074,
          588.3213,
          589.2858,
          599.2969,
          599.78986,
          608.29956,
          608.7997,
          611.29193,
          617.30554,
          617.80817,
          626.30835,
          630.315,
          641.3262,
          666.29504,
          685.32837,
          686.33795,
          688.8204,
          698.33923,
          699.3479,
          703.3936,
          722.27094,
          739.3056,
          783.35596,
          786.4273,
          787.4213,
          801.3759,
          804.4372,
          805.4406,
          809.3689,
          827.3846,
          828.38873,
          852.4019,
          870.3994,
          902.417,
          941.4939,
          990.4455,
          991.4588
         ],
         "xaxis": "x2",
         "y": [
          20909.701,
          29505.701,
          180578.75,
          14425.784,
          27063.59,
          11250.888,
          13002.489,
          7848.4385,
          14907.029,
          116243.81,
          13762.772,
          35386.836,
          9396.226,
          24192.818,
          479766.62,
          22955.11,
          11338.176,
          14579.491,
          60520.582,
          18069.996,
          11859.785,
          28729.74,
          17033.9,
          21991.658,
          10481.87,
          51238.664,
          15054.208,
          14232.827,
          155470.05,
          13746.609,
          59120.957,
          14561.316,
          10596.11,
          11140.204,
          15286.413,
          11062.541,
          47686.316,
          66452.125,
          15733.911,
          13968.483,
          218870.44,
          17149.088,
          35878.33,
          19792.42,
          29381.617,
          13872.491,
          15401.13,
          201716.16,
          14814.713,
          9088.723,
          63552.613,
          9071.154,
          23641.822,
          14509.371,
          38947.035,
          54924.895,
          8927.52,
          10058.801,
          91549.01,
          24990.121,
          39071.863,
          23543.186,
          8716.51,
          34632.375,
          27509.44,
          23120.832,
          10394.375,
          16951.127,
          9978.487,
          11768.5625,
          10155.076,
          87650.766,
          63607.586,
          11454.373,
          33349.176,
          14208.418,
          11491.225,
          10416.879,
          22839.479,
          12138.429,
          20433.879,
          19959.271,
          13483.287,
          19350.428,
          25781.322,
          9863.897,
          17676.568,
          32193.555,
          17700.984,
          41016.84,
          17432.652,
          88242.055,
          14792.65,
          39300.336,
          21870.48,
          17101.889,
          42886.008,
          31228.535,
          92473.98,
          49294.434,
          16900.568,
          11392.772,
          11663.875,
          20526.65,
          28582.451,
          18259.773,
          54822.887,
          24292.646,
          11264.093,
          33019.945,
          15119.736,
          10069.697,
          25119.412,
          57541.34,
          34029.61,
          11235.657,
          30867.654,
          25655.848,
          26833.666,
          13843.142,
          124074.95,
          40694.297,
          12683.424,
          165062.55,
          48414.105,
          60715.05,
          24627.797,
          14425.985,
          47901.234,
          26905.422,
          18683.953,
          41843.87,
          35534.242,
          31960.62,
          132907.58,
          53374.83,
          18107.656,
          17917.42,
          118515.875,
          40740.355,
          26872.393,
          14652.907,
          27379.557,
          12559.593,
          12987.533,
          18924.053,
          17537.797,
          17880.97,
          19628.654,
          47130.832,
          26020.768,
          11466.977,
          146033.31,
          65685.2,
          22319.062,
          10580.072,
          30808.492,
          12987.358,
          78190.19,
          78019.734,
          17744.012,
          37287.043,
          19538.395,
          43330.297,
          13548.133,
          22548.107,
          16164.166,
          32671.047,
          20581.695,
          18620.762,
          128193.195,
          34845.98,
          21278.982,
          42286.68,
          14266.347,
          25045.764,
          10160.314,
          22703.375,
          35855.66,
          37249.12,
          14355.418
         ],
         "yaxis": "y2"
        },
        {
         "hovertemplate": "<b>%{hovertext}</b><br><b>m/z:</b> %{x}<br><b>intensity:</b> %{y}",
         "hovertext": [
          "b2+",
          "b9-98++"
         ],
         "marker": {
          "color": "blue",
          "size": 1
         },
         "mode": "markers",
         "name": "",
         "showlegend": false,
         "type": "scatter",
         "x": [
          263.139,
          545.2593
         ],
         "xaxis": "x2",
         "y": [
          38947.035,
          26872.393
         ],
         "yaxis": "y2"
        },
        {
         "hovertemplate": "<b>%{hovertext}</b><br><b>m/z:</b> %{x}<br><b>intensity:</b> %{y}",
         "hovertext": [
          "b2+",
          "b7++",
          "b9-98++"
         ],
         "marker": {
          "color": "blue",
          "size": 1
         },
         "mode": "markers",
         "name": "",
         "showlegend": false,
         "type": "scatter",
         "x": [
          263.139,
          437.2143,
          545.2593
         ],
         "xaxis": "x2",
         "y": [
          -25894.648,
          -1111.237,
          -48962.137
         ],
         "yaxis": "y2"
        },
        {
         "hovertemplate": "<b>%{hovertext}</b><br><b>m/z:</b> %{x}<br><b>intensity:</b> %{y}",
         "hovertext": [
          "y10-98++",
          "y10++",
          "y9-98++",
          "y9++",
          "y8-98+",
          "y8-98++",
          "y8++",
          "y7-98+",
          "y7-98++",
          "y7+",
          "y6-98+",
          "y6+",
          "y3-98+",
          "y2+",
          "y1+"
         ],
         "marker": {
          "color": "red",
          "size": 1
         },
         "mode": "markers",
         "name": "",
         "showlegend": false,
         "type": "scatter",
         "x": [
          617.3042,
          666.29266,
          535.7725,
          584.761,
          941.4952,
          471.25122,
          520.2397,
          804.4363,
          402.72177,
          902.41315,
          703.3886,
          801.3655,
          313.18704,
          244.16557,
          147.11281
         ],
         "xaxis": "x2",
         "y": [
          146033.31,
          12987.358,
          118515.875,
          12987.533,
          35855.66,
          165062.55,
          31960.62,
          128193.195,
          19350.428,
          22703.375,
          43330.297,
          18620.762,
          11768.5625,
          201716.16,
          60520.582
         ],
         "yaxis": "y2"
        },
        {
         "hovertemplate": "<b>%{hovertext}</b><br><b>m/z:</b> %{x}<br><b>intensity:</b> %{y}",
         "hovertext": [
          "y10-98++",
          "y10++",
          "y9-98++",
          "y9++",
          "y8-98+",
          "y8-98++",
          "y8+",
          "y8++",
          "y7-98+",
          "y7-98++",
          "y7+",
          "y7++",
          "y6-98+",
          "y6+",
          "y4-98+",
          "y3-98+",
          "y2+",
          "y1+"
         ],
         "marker": {
          "color": "red",
          "size": 1
         },
         "mode": "markers",
         "name": "",
         "showlegend": false,
         "type": "scatter",
         "x": [
          617.3042,
          666.29266,
          535.7725,
          584.761,
          941.4952,
          471.25122,
          1039.472,
          520.2397,
          804.4363,
          402.72177,
          902.41315,
          451.7102,
          703.3886,
          801.3655,
          460.25543,
          313.18704,
          244.16557,
          147.11281
         ],
         "xaxis": "x2",
         "y": [
          -201716.16,
          -88248.79,
          -148599.66,
          -41899.508,
          -14046.839,
          -118552.516,
          -372.10193,
          -58665.26,
          -66097.64,
          -14468.098,
          -25993.102,
          -9050.141,
          -27764.225,
          -10898.8955,
          -7043.6123,
          -4333.0894,
          -101417.95,
          -18869.08
         ],
         "yaxis": "y2"
        },
        {
         "hovertemplate": "%{hovertext}<br><b>m/z:</b> %{x}<br><b>Mass err:</b> %{y}",
         "hovertext": [
          "b2+",
          "b9-98++"
         ],
         "marker": {
          "color": "blue",
          "size": 5
         },
         "mode": "markers",
         "name": "blue",
         "showlegend": false,
         "type": "scatter",
         "x": [
          263.139,
          545.2593
         ],
         "xaxis": "x3",
         "y": [
          3.2473,
          11.5296
         ],
         "yaxis": "y3"
        },
        {
         "hovertemplate": "%{hovertext}<br><b>m/z:</b> %{x}<br><b>Mass err:</b> %{y}",
         "hovertext": [
          "y10-98++",
          "y10++",
          "y9-98++",
          "y9++",
          "y8-98+",
          "y8-98++",
          "y8++",
          "y7-98+",
          "y7-98++",
          "y7+",
          "y6-98+",
          "y6+",
          "y3-98+",
          "y2+",
          "y1+"
         ],
         "marker": {
          "color": "red",
          "size": 5
         },
         "mode": "markers",
         "name": "red",
         "showlegend": false,
         "type": "scatter",
         "x": [
          617.3042,
          666.29266,
          535.7725,
          584.761,
          941.4952,
          471.25122,
          520.2397,
          804.4363,
          402.72177,
          902.41315,
          703.3886,
          801.3655,
          313.18704,
          244.16557,
          147.11281
         ],
         "xaxis": "x3",
         "y": [
          2.1752,
          3.5726,
          5.0125,
          -0.4175,
          -1.3614,
          4.7274,
          4.6928,
          1.1381,
          4.4709,
          4.261,
          7.1154,
          13.024,
          1.4616,
          3.1872,
          3.1117
         ],
         "yaxis": "y3"
        },
        {
         "hoverinfo": "skip",
         "line": {
          "width": 1
         },
         "marker": {
          "color": "blue"
         },
         "mode": "lines",
         "showlegend": false,
         "type": "scatter",
         "x": [
          325.9776940463988,
          353.1215006615505,
          353.1215006615505
         ],
         "xaxis": "x",
         "y": [
          0.6,
          0.6,
          0.4
         ],
         "yaxis": "y"
        },
        {
         "hoverinfo": "skip",
         "line": {
          "width": 1
         },
         "marker": {
          "color": "blue"
         },
         "mode": "lines",
         "showlegend": false,
         "type": "scatter",
         "x": [
          705.9909866585218,
          733.1347932736735,
          733.1347932736735
         ],
         "xaxis": "x",
         "y": [
          0.6,
          0.6,
          0.4
         ],
         "yaxis": "y"
        },
        {
         "hoverinfo": "skip",
         "line": {
          "width": 1
         },
         "marker": {
          "color": "red"
         },
         "mode": "lines",
         "showlegend": false,
         "type": "scatter",
         "x": [
          325.9776940463988,
          298.83388743124715,
          298.83388743124715
         ],
         "xaxis": "x",
         "y": [
          -0.6,
          -0.6,
          -0.4
         ],
         "yaxis": "y"
        },
        {
         "hoverinfo": "skip",
         "line": {
          "width": 1
         },
         "marker": {
          "color": "red"
         },
         "mode": "lines",
         "showlegend": false,
         "type": "scatter",
         "x": [
          380.2653072767021,
          353.1215006615505,
          353.1215006615505
         ],
         "xaxis": "x",
         "y": [
          -0.6,
          -0.6,
          -0.4
         ],
         "yaxis": "y"
        },
        {
         "hoverinfo": "skip",
         "line": {
          "width": 1
         },
         "marker": {
          "color": "red"
         },
         "mode": "lines",
         "showlegend": false,
         "type": "scatter",
         "x": [
          434.5529205070054,
          407.4091138918538,
          407.4091138918538
         ],
         "xaxis": "x",
         "y": [
          -0.6,
          -0.6,
          -0.4
         ],
         "yaxis": "y"
        },
        {
         "hoverinfo": "skip",
         "line": {
          "width": 1
         },
         "marker": {
          "color": "red"
         },
         "mode": "lines",
         "showlegend": false,
         "type": "scatter",
         "x": [
          488.84053373730865,
          461.69672712215703,
          461.69672712215703
         ],
         "xaxis": "x",
         "y": [
          -0.6,
          -0.6,
          -0.4
         ],
         "yaxis": "y"
        },
        {
         "hoverinfo": "skip",
         "line": {
          "width": 1
         },
         "marker": {
          "color": "red"
         },
         "mode": "lines",
         "showlegend": false,
         "type": "scatter",
         "x": [
          543.1281469676119,
          515.9843403524602,
          515.9843403524602
         ],
         "xaxis": "x",
         "y": [
          -0.6,
          -0.6,
          -0.4
         ],
         "yaxis": "y"
        },
        {
         "hoverinfo": "skip",
         "line": {
          "width": 1
         },
         "marker": {
          "color": "red"
         },
         "mode": "lines",
         "showlegend": false,
         "type": "scatter",
         "x": [
          705.9909866585218,
          678.8471800433701,
          678.8471800433701
         ],
         "xaxis": "x",
         "y": [
          -0.6,
          -0.6,
          -0.4
         ],
         "yaxis": "y"
        },
        {
         "hoverinfo": "skip",
         "line": {
          "width": 1
         },
         "marker": {
          "color": "red"
         },
         "mode": "lines",
         "showlegend": false,
         "type": "scatter",
         "x": [
          760.278599888825,
          733.1347932736734,
          733.1347932736734
         ],
         "xaxis": "x",
         "y": [
          -0.6,
          -0.6,
          -0.4
         ],
         "yaxis": "y"
        },
        {
         "hoverinfo": "skip",
         "line": {
          "width": 1
         },
         "marker": {
          "color": "red"
         },
         "mode": "lines",
         "showlegend": false,
         "type": "scatter",
         "x": [
          814.5662131191284,
          787.4224065039767,
          787.4224065039767
         ],
         "xaxis": "x",
         "y": [
          -0.6,
          -0.6,
          -0.4
         ],
         "yaxis": "y"
        }
       ],
       "layout": {
        "annotations": [
         {
          "font": {
           "size": 10
          },
          "text": "y10-98++",
          "textangle": -90,
          "x": 617.30419921875,
          "xref": "x2",
          "y": 150067.635625,
          "yref": "y2"
         },
         {
          "font": {
           "size": 10
          },
          "text": "y10++",
          "textangle": -90,
          "x": 666.2926635742188,
          "xref": "x2",
          "y": 17021.6815234375,
          "yref": "y2"
         },
         {
          "font": {
           "size": 10
          },
          "text": "b2+",
          "textangle": -90,
          "x": 263.1390075683594,
          "xref": "x2",
          "y": 42981.35828125,
          "yref": "y2"
         },
         {
          "font": {
           "size": 10
          },
          "text": "y9-98++",
          "textangle": -90,
          "x": 535.7725219726562,
          "xref": "x2",
          "y": 122550.198125,
          "yref": "y2"
         },
         {
          "font": {
           "size": 10
          },
          "text": "y9++",
          "textangle": -90,
          "x": 584.760986328125,
          "xref": "x2",
          "y": 17021.856328125,
          "yref": "y2"
         },
         {
          "font": {
           "size": 10
          },
          "text": "y8-98+",
          "textangle": -90,
          "x": 941.4951782226562,
          "xref": "x2",
          "y": 39889.98328125,
          "yref": "y2"
         },
         {
          "font": {
           "size": 10
          },
          "text": "y8-98++",
          "textangle": -90,
          "x": 471.251220703125,
          "xref": "x2",
          "y": 169096.87,
          "yref": "y2"
         },
         {
          "font": {
           "size": 10
          },
          "text": "y8++",
          "textangle": -90,
          "x": 520.2396850585938,
          "xref": "x2",
          "y": 35994.942265625,
          "yref": "y2"
         },
         {
          "font": {
           "size": 10
          },
          "text": "y7-98+",
          "textangle": -90,
          "x": 804.436279296875,
          "xref": "x2",
          "y": 132227.5184375,
          "yref": "y2"
         },
         {
          "font": {
           "size": 10
          },
          "text": "y7-98++",
          "textangle": -90,
          "x": 402.7217712402344,
          "xref": "x2",
          "y": 23384.750859375,
          "yref": "y2"
         },
         {
          "font": {
           "size": 10
          },
          "text": "y7+",
          "textangle": -90,
          "x": 902.4131469726562,
          "xref": "x2",
          "y": 26737.698125,
          "yref": "y2"
         },
         {
          "font": {
           "size": 10
          },
          "text": "y6-98+",
          "textangle": -90,
          "x": 703.3886108398438,
          "xref": "x2",
          "y": 47364.62,
          "yref": "y2"
         },
         {
          "font": {
           "size": 10
          },
          "text": "y6+",
          "textangle": -90,
          "x": 801.365478515625,
          "xref": "x2",
          "y": 22655.08484375,
          "yref": "y2"
         },
         {
          "font": {
           "size": 10
          },
          "text": "y3-98+",
          "textangle": -90,
          "x": 313.1870422363281,
          "xref": "x2",
          "y": 15802.885624999999,
          "yref": "y2"
         },
         {
          "font": {
           "size": 10
          },
          "text": "b9-98++",
          "textangle": -90,
          "x": 545.25927734375,
          "xref": "x2",
          "y": 30906.715703125,
          "yref": "y2"
         },
         {
          "font": {
           "size": 10
          },
          "text": "y2+",
          "textangle": -90,
          "x": 244.1655731201172,
          "xref": "x2",
          "y": 205750.479375,
          "yref": "y2"
         },
         {
          "font": {
           "size": 10
          },
          "text": "y1+",
          "textangle": -90,
          "x": 147.11280822753906,
          "xref": "x2",
          "y": 64554.90515625,
          "yref": "y2"
         },
         {
          "ay": -70972.75661621093,
          "ayref": "y2",
          "font": {
           "size": 10
          },
          "text": "y8+",
          "textangle": -90,
          "x": 1039.4720458984375,
          "xref": "x2",
          "y": -4406.425053710937,
          "yref": "y2"
         },
         {
          "ay": -83012.73125,
          "ayref": "y2",
          "font": {
           "size": 10
          },
          "text": "y7++",
          "textangle": -90,
          "x": 451.710205078125,
          "xref": "x2",
          "y": -13084.463749999999,
          "yref": "y2"
         },
         {
          "ay": -75073.82768554687,
          "ayref": "y2",
          "font": {
           "size": 10
          },
          "text": "b7++",
          "textangle": -90,
          "x": 437.21429443359375,
          "xref": "x2",
          "y": -5145.560185546875,
          "yref": "y2"
         },
         {
          "ay": -87730.0748046875,
          "ayref": "y2",
          "font": {
           "size": 10
          },
          "text": "y4-98+",
          "textangle": -90,
          "x": 460.25543212890625,
          "xref": "x2",
          "y": -11077.935429687499,
          "yref": "y2"
         },
         {
          "align": "center",
          "font": {
           "size": 14
          },
          "showarrow": false,
          "text": "V",
          "x": 271.69008081609553,
          "xref": "x",
          "y": 0,
          "yref": "y",
          "yshift": 1
         },
         {
          "align": "center",
          "font": {
           "size": 14
          },
          "showarrow": false,
          "text": "Y",
          "x": 325.9776940463988,
          "xref": "x",
          "y": 0,
          "yref": "y",
          "yshift": 1
         },
         {
          "align": "center",
          "font": {
           "size": 14
          },
          "showarrow": false,
          "text": "E",
          "x": 380.2653072767021,
          "xref": "x",
          "y": 0,
          "yref": "y",
          "yshift": 1
         },
         {
          "align": "center",
          "font": {
           "size": 14
          },
          "showarrow": false,
          "text": "H",
          "x": 434.5529205070054,
          "xref": "x",
          "y": 0,
          "yref": "y",
          "yshift": 1
         },
         {
          "align": "center",
          "font": {
           "size": 14
          },
          "showarrow": false,
          "text": "T",
          "x": 488.84053373730865,
          "xref": "x",
          "y": 0,
          "yref": "y",
          "yshift": 1
         },
         {
          "align": "center",
          "font": {
           "size": 14
          },
          "showarrow": false,
          "text": "S",
          "x": 543.1281469676119,
          "xref": "x",
          "y": 0,
          "yref": "y",
          "yshift": 1
         },
         {
          "align": "center",
          "font": {
           "size": 14
          },
          "showarrow": false,
          "text": "R",
          "x": 597.4157601979152,
          "xref": "x",
          "y": 0,
          "yref": "y",
          "yshift": 1
         },
         {
          "align": "center",
          "font": {
           "size": 14
          },
          "showarrow": false,
          "text": "F",
          "x": 651.7033734282186,
          "xref": "x",
          "y": 0,
          "yref": "y",
          "yshift": 1
         },
         {
          "align": "center",
          "font": {
           "color": "firebrick",
           "size": 14
          },
          "showarrow": false,
          "text": "S",
          "x": 705.9909866585218,
          "xref": "x",
          "y": 0,
          "yref": "y",
          "yshift": 1
         },
         {
          "align": "center",
          "font": {
           "size": 14
          },
          "showarrow": false,
          "text": "P",
          "x": 760.278599888825,
          "xref": "x",
          "y": 0,
          "yref": "y",
          "yshift": 1
         },
         {
          "align": "center",
          "font": {
           "size": 14
          },
          "showarrow": false,
          "text": "K",
          "x": 814.5662131191284,
          "xref": "x",
          "y": 0,
          "yref": "y",
          "yshift": 1
         },
         {
          "font": {
           "size": 8
          },
          "showarrow": false,
          "text": "b2",
          "x": 339.54959735397466,
          "xref": "x",
          "y": 1,
          "yref": "y"
         },
         {
          "font": {
           "size": 8
          },
          "showarrow": false,
          "text": "b9",
          "x": 719.5628899660976,
          "xref": "x",
          "y": 1,
          "yref": "y"
         },
         {
          "font": {
           "size": 8
          },
          "showarrow": false,
          "text": "y10",
          "x": 312.405790738823,
          "xref": "x",
          "y": -1,
          "yref": "y"
         },
         {
          "font": {
           "size": 8
          },
          "showarrow": false,
          "text": "y9",
          "x": 366.6934039691263,
          "xref": "x",
          "y": -1,
          "yref": "y"
         },
         {
          "font": {
           "size": 8
          },
          "showarrow": false,
          "text": "y8",
          "x": 420.98101719942963,
          "xref": "x",
          "y": -1,
          "yref": "y"
         },
         {
          "font": {
           "size": 8
          },
          "showarrow": false,
          "text": "y7",
          "x": 475.26863042973287,
          "xref": "x",
          "y": -1,
          "yref": "y"
         },
         {
          "font": {
           "size": 8
          },
          "showarrow": false,
          "text": "y6",
          "x": 529.556243660036,
          "xref": "x",
          "y": -1,
          "yref": "y"
         },
         {
          "font": {
           "size": 8
          },
          "showarrow": false,
          "text": "y3",
          "x": 692.419083350946,
          "xref": "x",
          "y": -1,
          "yref": "y"
         },
         {
          "font": {
           "size": 8
          },
          "showarrow": false,
          "text": "y2",
          "x": 746.7066965812492,
          "xref": "x",
          "y": -1,
          "yref": "y"
         },
         {
          "font": {
           "size": 8
          },
          "showarrow": false,
          "text": "y1",
          "x": 800.9943098115525,
          "xref": "x",
          "y": -1,
          "yref": "y"
         }
        ],
        "height": 600,
        "hovermode": "x",
        "shapes": [
         {
          "line": {
           "color": "lightgrey",
           "width": 1.5
          },
          "type": "line",
          "x0": 101.07186126708984,
          "x1": 101.07186126708984,
          "xref": "x2",
          "y0": 0,
          "y1": 20909.701171875,
          "yref": "y2"
         },
         {
          "line": {
           "color": "lightgrey",
           "width": 1.5
          },
          "type": "line",
          "x0": 102.05580139160156,
          "x1": 102.05580139160156,
          "xref": "x2",
          "y0": 0,
          "y1": 29505.701171875,
          "yref": "y2"
         },
         {
          "line": {
           "color": "lightgrey",
           "width": 1.5
          },
          "type": "line",
          "x0": 110.07183074951172,
          "x1": 110.07183074951172,
          "xref": "x2",
          "y0": 0,
          "y1": 180578.75,
          "yref": "y2"
         },
         {
          "line": {
           "color": "lightgrey",
           "width": 1.5
          },
          "type": "line",
          "x0": 110.0794677734375,
          "x1": 110.0794677734375,
          "xref": "x2",
          "y0": 0,
          "y1": 14425.7841796875,
          "yref": "y2"
         },
         {
          "line": {
           "color": "lightgrey",
           "width": 1.5
          },
          "type": "line",
          "x0": 112.0877456665039,
          "x1": 112.0877456665039,
          "xref": "x2",
          "y0": 0,
          "y1": 27063.58984375,
          "yref": "y2"
         },
         {
          "line": {
           "color": "lightgrey",
           "width": 1.5
          },
          "type": "line",
          "x0": 115.08751678466797,
          "x1": 115.08751678466797,
          "xref": "x2",
          "y0": 0,
          "y1": 11250.8876953125,
          "yref": "y2"
         },
         {
          "line": {
           "color": "lightgrey",
           "width": 1.5
          },
          "type": "line",
          "x0": 116.07194519042969,
          "x1": 116.07194519042969,
          "xref": "x2",
          "y0": 0,
          "y1": 13002.4892578125,
          "yref": "y2"
         },
         {
          "line": {
           "color": "lightgrey",
           "width": 1.5
          },
          "type": "line",
          "x0": 119.3861312866211,
          "x1": 119.3861312866211,
          "xref": "x2",
          "y0": 0,
          "y1": 7848.4384765625,
          "yref": "y2"
         },
         {
          "line": {
           "color": "lightgrey",
           "width": 1.5
          },
          "type": "line",
          "x0": 120.08172607421875,
          "x1": 120.08172607421875,
          "xref": "x2",
          "y0": 0,
          "y1": 14907.029296875,
          "yref": "y2"
         },
         {
          "line": {
           "color": "lightgrey",
           "width": 1.5
          },
          "type": "line",
          "x0": 129.1027069091797,
          "x1": 129.1027069091797,
          "xref": "x2",
          "y0": 0,
          "y1": 116243.8125,
          "yref": "y2"
         },
         {
          "line": {
           "color": "lightgrey",
           "width": 1.5
          },
          "type": "line",
          "x0": 130.0509796142578,
          "x1": 130.0509796142578,
          "xref": "x2",
          "y0": 0,
          "y1": 13762.7724609375,
          "yref": "y2"
         },
         {
          "line": {
           "color": "lightgrey",
           "width": 1.5
          },
          "type": "line",
          "x0": 130.08685302734375,
          "x1": 130.08685302734375,
          "xref": "x2",
          "y0": 0,
          "y1": 35386.8359375,
          "yref": "y2"
         },
         {
          "line": {
           "color": "lightgrey",
           "width": 1.5
          },
          "type": "line",
          "x0": 130.10614013671875,
          "x1": 130.10614013671875,
          "xref": "x2",
          "y0": 0,
          "y1": 9396.2255859375,
          "yref": "y2"
         },
         {
          "line": {
           "color": "lightgrey",
           "width": 1.5
          },
          "type": "line",
          "x0": 136.06417846679688,
          "x1": 136.06417846679688,
          "xref": "x2",
          "y0": 0,
          "y1": 24192.818359375,
          "yref": "y2"
         },
         {
          "line": {
           "color": "lightgrey",
           "width": 1.5
          },
          "type": "line",
          "x0": 136.07611083984375,
          "x1": 136.07611083984375,
          "xref": "x2",
          "y0": 0,
          "y1": 479766.625,
          "yref": "y2"
         },
         {
          "line": {
           "color": "lightgrey",
           "width": 1.5
          },
          "type": "line",
          "x0": 137.07986450195312,
          "x1": 137.07986450195312,
          "xref": "x2",
          "y0": 0,
          "y1": 22955.109375,
          "yref": "y2"
         },
         {
          "line": {
           "color": "lightgrey",
           "width": 1.5
          },
          "type": "line",
          "x0": 141.1033935546875,
          "x1": 141.1033935546875,
          "xref": "x2",
          "y0": 0,
          "y1": 11338.17578125,
          "yref": "y2"
         },
         {
          "line": {
           "color": "lightgrey",
           "width": 1.5
          },
          "type": "line",
          "x0": 146.06320190429688,
          "x1": 146.06320190429688,
          "xref": "x2",
          "y0": 0,
          "y1": 14579.4912109375,
          "yref": "y2"
         },
         {
          "line": {
           "color": "lightgrey",
           "width": 1.5
          },
          "type": "line",
          "x0": 147.11326599121094,
          "x1": 147.11326599121094,
          "xref": "x2",
          "y0": 0,
          "y1": 60520.58203125,
          "yref": "y2"
         },
         {
          "line": {
           "color": "lightgrey",
           "width": 1.5
          },
          "type": "line",
          "x0": 155.0823974609375,
          "x1": 155.0823974609375,
          "xref": "x2",
          "y0": 0,
          "y1": 18069.99609375,
          "yref": "y2"
         },
         {
          "line": {
           "color": "lightgrey",
           "width": 1.5
          },
          "type": "line",
          "x0": 156.07740783691406,
          "x1": 156.07740783691406,
          "xref": "x2",
          "y0": 0,
          "y1": 11859.78515625,
          "yref": "y2"
         },
         {
          "line": {
           "color": "lightgrey",
           "width": 1.5
          },
          "type": "line",
          "x0": 157.10885620117188,
          "x1": 157.10885620117188,
          "xref": "x2",
          "y0": 0,
          "y1": 28729.740234375,
          "yref": "y2"
         },
         {
          "line": {
           "color": "lightgrey",
           "width": 1.5
          },
          "type": "line",
          "x0": 158.0931854248047,
          "x1": 158.0931854248047,
          "xref": "x2",
          "y0": 0,
          "y1": 17033.900390625,
          "yref": "y2"
         },
         {
          "line": {
           "color": "lightgrey",
           "width": 1.5
          },
          "type": "line",
          "x0": 167.08175659179688,
          "x1": 167.08175659179688,
          "xref": "x2",
          "y0": 0,
          "y1": 21991.658203125,
          "yref": "y2"
         },
         {
          "line": {
           "color": "lightgrey",
           "width": 1.5
          },
          "type": "line",
          "x0": 171.11390686035156,
          "x1": 171.11390686035156,
          "xref": "x2",
          "y0": 0,
          "y1": 10481.8701171875,
          "yref": "y2"
         },
         {
          "line": {
           "color": "lightgrey",
           "width": 1.5
          },
          "type": "line",
          "x0": 175.1197967529297,
          "x1": 175.1197967529297,
          "xref": "x2",
          "y0": 0,
          "y1": 51238.6640625,
          "yref": "y2"
         },
         {
          "line": {
           "color": "lightgrey",
           "width": 1.5
          },
          "type": "line",
          "x0": 183.07781982421875,
          "x1": 183.07781982421875,
          "xref": "x2",
          "y0": 0,
          "y1": 15054.2080078125,
          "yref": "y2"
         },
         {
          "line": {
           "color": "lightgrey",
           "width": 1.5
          },
          "type": "line",
          "x0": 187.0716552734375,
          "x1": 187.0716552734375,
          "xref": "x2",
          "y0": 0,
          "y1": 14232.8271484375,
          "yref": "y2"
         },
         {
          "line": {
           "color": "lightgrey",
           "width": 1.5
          },
          "type": "line",
          "x0": 187.14491271972656,
          "x1": 187.14491271972656,
          "xref": "x2",
          "y0": 0,
          "y1": 155470.046875,
          "yref": "y2"
         },
         {
          "line": {
           "color": "lightgrey",
           "width": 1.5
          },
          "type": "line",
          "x0": 188.1479949951172,
          "x1": 188.1479949951172,
          "xref": "x2",
          "y0": 0,
          "y1": 13746.609375,
          "yref": "y2"
         },
         {
          "line": {
           "color": "lightgrey",
           "width": 1.5
          },
          "type": "line",
          "x0": 191.6195831298828,
          "x1": 191.6195831298828,
          "xref": "x2",
          "y0": 0,
          "y1": 59120.95703125,
          "yref": "y2"
         },
         {
          "line": {
           "color": "lightgrey",
           "width": 1.5
          },
          "type": "line",
          "x0": 192.12086486816406,
          "x1": 192.12086486816406,
          "xref": "x2",
          "y0": 0,
          "y1": 14561.31640625,
          "yref": "y2"
         },
         {
          "line": {
           "color": "lightgrey",
           "width": 1.5
          },
          "type": "line",
          "x0": 202.08755493164062,
          "x1": 202.08755493164062,
          "xref": "x2",
          "y0": 0,
          "y1": 10596.1103515625,
          "yref": "y2"
         },
         {
          "line": {
           "color": "lightgrey",
           "width": 1.5
          },
          "type": "line",
          "x0": 209.12765502929688,
          "x1": 209.12765502929688,
          "xref": "x2",
          "y0": 0,
          "y1": 11140.2041015625,
          "yref": "y2"
         },
         {
          "line": {
           "color": "lightgrey",
           "width": 1.5
          },
          "type": "line",
          "x0": 211.07102966308594,
          "x1": 211.07102966308594,
          "xref": "x2",
          "y0": 0,
          "y1": 15286.4130859375,
          "yref": "y2"
         },
         {
          "line": {
           "color": "lightgrey",
           "width": 1.5
          },
          "type": "line",
          "x0": 214.098388671875,
          "x1": 214.098388671875,
          "xref": "x2",
          "y0": 0,
          "y1": 11062.541015625,
          "yref": "y2"
         },
         {
          "line": {
           "color": "lightgrey",
           "width": 1.5
          },
          "type": "line",
          "x0": 221.10374450683594,
          "x1": 221.10374450683594,
          "xref": "x2",
          "y0": 0,
          "y1": 47686.31640625,
          "yref": "y2"
         },
         {
          "line": {
           "color": "lightgrey",
           "width": 1.5
          },
          "type": "line",
          "x0": 226.15542602539062,
          "x1": 226.15542602539062,
          "xref": "x2",
          "y0": 0,
          "y1": 66452.125,
          "yref": "y2"
         },
         {
          "line": {
           "color": "lightgrey",
           "width": 1.5
          },
          "type": "line",
          "x0": 226.61111450195312,
          "x1": 226.61111450195312,
          "xref": "x2",
          "y0": 0,
          "y1": 15733.9111328125,
          "yref": "y2"
         },
         {
          "line": {
           "color": "lightgrey",
           "width": 1.5
          },
          "type": "line",
          "x0": 233.12835693359375,
          "x1": 233.12835693359375,
          "xref": "x2",
          "y0": 0,
          "y1": 13968.4833984375,
          "yref": "y2"
         },
         {
          "line": {
           "color": "lightgrey",
           "width": 1.5
          },
          "type": "line",
          "x0": 235.1446533203125,
          "x1": 235.1446533203125,
          "xref": "x2",
          "y0": 0,
          "y1": 218870.4375,
          "yref": "y2"
         },
         {
          "line": {
           "color": "lightgrey",
           "width": 1.5
          },
          "type": "line",
          "x0": 236.14871215820312,
          "x1": 236.14871215820312,
          "xref": "x2",
          "y0": 0,
          "y1": 17149.087890625,
          "yref": "y2"
         },
         {
          "line": {
           "color": "lightgrey",
           "width": 1.5
          },
          "type": "line",
          "x0": 239.11424255371094,
          "x1": 239.11424255371094,
          "xref": "x2",
          "y0": 0,
          "y1": 35878.328125,
          "yref": "y2"
         },
         {
          "line": {
           "color": "lightgrey",
           "width": 1.5
          },
          "type": "line",
          "x0": 240.14720153808594,
          "x1": 240.14720153808594,
          "xref": "x2",
          "y0": 0,
          "y1": 19792.419921875,
          "yref": "y2"
         },
         {
          "line": {
           "color": "lightgrey",
           "width": 1.5
          },
          "type": "line",
          "x0": 240.60842895507812,
          "x1": 240.60842895507812,
          "xref": "x2",
          "y0": 0,
          "y1": 29381.6171875,
          "yref": "y2"
         },
         {
          "line": {
           "color": "lightgrey",
           "width": 1.5
          },
          "type": "line",
          "x0": 241.1093292236328,
          "x1": 241.1093292236328,
          "xref": "x2",
          "y0": 0,
          "y1": 13872.4912109375,
          "yref": "y2"
         },
         {
          "line": {
           "color": "lightgrey",
           "width": 1.5
          },
          "type": "line",
          "x0": 241.62876892089844,
          "x1": 241.62876892089844,
          "xref": "x2",
          "y0": 0,
          "y1": 15401.1298828125,
          "yref": "y2"
         },
         {
          "line": {
           "color": "lightgrey",
           "width": 1.5
          },
          "type": "line",
          "x0": 244.16635131835938,
          "x1": 244.16635131835938,
          "xref": "x2",
          "y0": 0,
          "y1": 201716.15625,
          "yref": "y2"
         },
         {
          "line": {
           "color": "lightgrey",
           "width": 1.5
          },
          "type": "line",
          "x0": 245.16749572753906,
          "x1": 245.16749572753906,
          "xref": "x2",
          "y0": 0,
          "y1": 14814.712890625,
          "yref": "y2"
         },
         {
          "line": {
           "color": "lightgrey",
           "width": 1.5
          },
          "type": "line",
          "x0": 246.1714324951172,
          "x1": 246.1714324951172,
          "xref": "x2",
          "y0": 0,
          "y1": 9088.72265625,
          "yref": "y2"
         },
         {
          "line": {
           "color": "lightgrey",
           "width": 1.5
          },
          "type": "line",
          "x0": 249.0979461669922,
          "x1": 249.0979461669922,
          "xref": "x2",
          "y0": 0,
          "y1": 63552.61328125,
          "yref": "y2"
         },
         {
          "line": {
           "color": "lightgrey",
           "width": 1.5
          },
          "type": "line",
          "x0": 249.930419921875,
          "x1": 249.930419921875,
          "xref": "x2",
          "y0": 0,
          "y1": 9071.154296875,
          "yref": "y2"
         },
         {
          "line": {
           "color": "lightgrey",
           "width": 1.5
          },
          "type": "line",
          "x0": 252.07652282714844,
          "x1": 252.07652282714844,
          "xref": "x2",
          "y0": 0,
          "y1": 23641.822265625,
          "yref": "y2"
         },
         {
          "line": {
           "color": "lightgrey",
           "width": 1.5
          },
          "type": "line",
          "x0": 261.12298583984375,
          "x1": 261.12298583984375,
          "xref": "x2",
          "y0": 0,
          "y1": 14509.37109375,
          "yref": "y2"
         },
         {
          "line": {
           "color": "lightgrey",
           "width": 1.5
          },
          "type": "line",
          "x0": 263.1398620605469,
          "x1": 263.1398620605469,
          "xref": "x2",
          "y0": 0,
          "y1": 38947.03515625,
          "yref": "y2"
         },
         {
          "line": {
           "color": "lightgrey",
           "width": 1.5
          },
          "type": "line",
          "x0": 265.1191101074219,
          "x1": 265.1191101074219,
          "xref": "x2",
          "y0": 0,
          "y1": 54924.89453125,
          "yref": "y2"
         },
         {
          "line": {
           "color": "lightgrey",
           "width": 1.5
          },
          "type": "line",
          "x0": 265.6495666503906,
          "x1": 265.6495666503906,
          "xref": "x2",
          "y0": 0,
          "y1": 8927.51953125,
          "yref": "y2"
         },
         {
          "line": {
           "color": "lightgrey",
           "width": 1.5
          },
          "type": "line",
          "x0": 266.15240478515625,
          "x1": 266.15240478515625,
          "xref": "x2",
          "y0": 0,
          "y1": 10058.80078125,
          "yref": "y2"
         },
         {
          "line": {
           "color": "lightgrey",
           "width": 1.5
          },
          "type": "line",
          "x0": 267.1092529296875,
          "x1": 267.1092529296875,
          "xref": "x2",
          "y0": 0,
          "y1": 91549.0078125,
          "yref": "y2"
         },
         {
          "line": {
           "color": "lightgrey",
           "width": 1.5
          },
          "type": "line",
          "x0": 272.1715393066406,
          "x1": 272.1715393066406,
          "xref": "x2",
          "y0": 0,
          "y1": 24990.12109375,
          "yref": "y2"
         },
         {
          "line": {
           "color": "lightgrey",
           "width": 1.5
          },
          "type": "line",
          "x0": 274.6570129394531,
          "x1": 274.6570129394531,
          "xref": "x2",
          "y0": 0,
          "y1": 39071.86328125,
          "yref": "y2"
         },
         {
          "line": {
           "color": "lightgrey",
           "width": 1.5
          },
          "type": "line",
          "x0": 275.15789794921875,
          "x1": 275.15789794921875,
          "xref": "x2",
          "y0": 0,
          "y1": 23543.185546875,
          "yref": "y2"
         },
         {
          "line": {
           "color": "lightgrey",
           "width": 1.5
          },
          "type": "line",
          "x0": 278.1547546386719,
          "x1": 278.1547546386719,
          "xref": "x2",
          "y0": 0,
          "y1": 8716.509765625,
          "yref": "y2"
         },
         {
          "line": {
           "color": "lightgrey",
           "width": 1.5
          },
          "type": "line",
          "x0": 283.6621398925781,
          "x1": 283.6621398925781,
          "xref": "x2",
          "y0": 0,
          "y1": 34632.375,
          "yref": "y2"
         },
         {
          "line": {
           "color": "lightgrey",
           "width": 1.5
          },
          "type": "line",
          "x0": 284.1627502441406,
          "x1": 284.1627502441406,
          "xref": "x2",
          "y0": 0,
          "y1": 27509.439453125,
          "yref": "y2"
         },
         {
          "line": {
           "color": "lightgrey",
           "width": 1.5
          },
          "type": "line",
          "x0": 293.1138000488281,
          "x1": 293.1138000488281,
          "xref": "x2",
          "y0": 0,
          "y1": 23120.83203125,
          "yref": "y2"
         },
         {
          "line": {
           "color": "lightgrey",
           "width": 1.5
          },
          "type": "line",
          "x0": 295.1065673828125,
          "x1": 295.1065673828125,
          "xref": "x2",
          "y0": 0,
          "y1": 10394.375,
          "yref": "y2"
         },
         {
          "line": {
           "color": "lightgrey",
           "width": 1.5
          },
          "type": "line",
          "x0": 301.6628723144531,
          "x1": 301.6628723144531,
          "xref": "x2",
          "y0": 0,
          "y1": 16951.126953125,
          "yref": "y2"
         },
         {
          "line": {
           "color": "lightgrey",
           "width": 1.5
          },
          "type": "line",
          "x0": 302.1615905761719,
          "x1": 302.1615905761719,
          "xref": "x2",
          "y0": 0,
          "y1": 9978.4873046875,
          "yref": "y2"
         },
         {
          "line": {
           "color": "lightgrey",
           "width": 1.5
          },
          "type": "line",
          "x0": 313.1875,
          "x1": 313.1875,
          "xref": "x2",
          "y0": 0,
          "y1": 11768.5625,
          "yref": "y2"
         },
         {
          "line": {
           "color": "lightgrey",
           "width": 1.5
          },
          "type": "line",
          "x0": 316.67626953125,
          "x1": 316.67626953125,
          "xref": "x2",
          "y0": 0,
          "y1": 10155.076171875,
          "yref": "y2"
         },
         {
          "line": {
           "color": "lightgrey",
           "width": 1.5
          },
          "type": "line",
          "x0": 323.6455993652344,
          "x1": 323.6455993652344,
          "xref": "x2",
          "y0": 0,
          "y1": 87650.765625,
          "yref": "y2"
         },
         {
          "line": {
           "color": "lightgrey",
           "width": 1.5
          },
          "type": "line",
          "x0": 324.14703369140625,
          "x1": 324.14703369140625,
          "xref": "x2",
          "y0": 0,
          "y1": 63607.5859375,
          "yref": "y2"
         },
         {
          "line": {
           "color": "lightgrey",
           "width": 1.5
          },
          "type": "line",
          "x0": 325.2489013671875,
          "x1": 325.2489013671875,
          "xref": "x2",
          "y0": 0,
          "y1": 11454.373046875,
          "yref": "y2"
         },
         {
          "line": {
           "color": "lightgrey",
           "width": 1.5
          },
          "type": "line",
          "x0": 349.6730041503906,
          "x1": 349.6730041503906,
          "xref": "x2",
          "y0": 0,
          "y1": 33349.17578125,
          "yref": "y2"
         },
         {
          "line": {
           "color": "lightgrey",
           "width": 1.5
          },
          "type": "line",
          "x0": 350.1473693847656,
          "x1": 350.1473693847656,
          "xref": "x2",
          "y0": 0,
          "y1": 14208.41796875,
          "yref": "y2"
         },
         {
          "line": {
           "color": "lightgrey",
           "width": 1.5
          },
          "type": "line",
          "x0": 365.2059020996094,
          "x1": 365.2059020996094,
          "xref": "x2",
          "y0": 0,
          "y1": 11491.224609375,
          "yref": "y2"
         },
         {
          "line": {
           "color": "lightgrey",
           "width": 1.5
          },
          "type": "line",
          "x0": 378.71844482421875,
          "x1": 378.71844482421875,
          "xref": "x2",
          "y0": 0,
          "y1": 10416.87890625,
          "yref": "y2"
         },
         {
          "line": {
           "color": "lightgrey",
           "width": 1.5
          },
          "type": "line",
          "x0": 382.23291015625,
          "x1": 382.23291015625,
          "xref": "x2",
          "y0": 0,
          "y1": 22839.478515625,
          "yref": "y2"
         },
         {
          "line": {
           "color": "lightgrey",
           "width": 1.5
          },
          "type": "line",
          "x0": 383.2276611328125,
          "x1": 383.2276611328125,
          "xref": "x2",
          "y0": 0,
          "y1": 12138.4287109375,
          "yref": "y2"
         },
         {
          "line": {
           "color": "lightgrey",
           "width": 1.5
          },
          "type": "line",
          "x0": 396.7429504394531,
          "x1": 396.7429504394531,
          "xref": "x2",
          "y0": 0,
          "y1": 20433.87890625,
          "yref": "y2"
         },
         {
          "line": {
           "color": "lightgrey",
           "width": 1.5
          },
          "type": "line",
          "x0": 398.2005310058594,
          "x1": 398.2005310058594,
          "xref": "x2",
          "y0": 0,
          "y1": 19959.271484375,
          "yref": "y2"
         },
         {
          "line": {
           "color": "lightgrey",
           "width": 1.5
          },
          "type": "line",
          "x0": 402.2868347167969,
          "x1": 402.2868347167969,
          "xref": "x2",
          "y0": 0,
          "y1": 13483.287109375,
          "yref": "y2"
         },
         {
          "line": {
           "color": "lightgrey",
           "width": 1.5
          },
          "type": "line",
          "x0": 402.72357177734375,
          "x1": 402.72357177734375,
          "xref": "x2",
          "y0": 0,
          "y1": 19350.427734375,
          "yref": "y2"
         },
         {
          "line": {
           "color": "lightgrey",
           "width": 1.5
          },
          "type": "line",
          "x0": 405.18621826171875,
          "x1": 405.18621826171875,
          "xref": "x2",
          "y0": 0,
          "y1": 25781.322265625,
          "yref": "y2"
         },
         {
          "line": {
           "color": "lightgrey",
           "width": 1.5
          },
          "type": "line",
          "x0": 405.53887939453125,
          "x1": 405.53887939453125,
          "xref": "x2",
          "y0": 0,
          "y1": 9863.8974609375,
          "yref": "y2"
         },
         {
          "line": {
           "color": "lightgrey",
           "width": 1.5
          },
          "type": "line",
          "x0": 405.87701416015625,
          "x1": 405.87701416015625,
          "xref": "x2",
          "y0": 0,
          "y1": 17676.568359375,
          "yref": "y2"
         },
         {
          "line": {
           "color": "lightgrey",
           "width": 1.5
          },
          "type": "line",
          "x0": 406.20513916015625,
          "x1": 406.20513916015625,
          "xref": "x2",
          "y0": 0,
          "y1": 32193.5546875,
          "yref": "y2"
         },
         {
          "line": {
           "color": "lightgrey",
           "width": 1.5
          },
          "type": "line",
          "x0": 407.20361328125,
          "x1": 407.20361328125,
          "xref": "x2",
          "y0": 0,
          "y1": 17700.984375,
          "yref": "y2"
         },
         {
          "line": {
           "color": "lightgrey",
           "width": 1.5
          },
          "type": "line",
          "x0": 411.5484619140625,
          "x1": 411.5484619140625,
          "xref": "x2",
          "y0": 0,
          "y1": 41016.83984375,
          "yref": "y2"
         },
         {
          "line": {
           "color": "lightgrey",
           "width": 1.5
          },
          "type": "line",
          "x0": 411.6094055175781,
          "x1": 411.6094055175781,
          "xref": "x2",
          "y0": 0,
          "y1": 17432.65234375,
          "yref": "y2"
         },
         {
          "line": {
           "color": "lightgrey",
           "width": 1.5
          },
          "type": "line",
          "x0": 411.881103515625,
          "x1": 411.881103515625,
          "xref": "x2",
          "y0": 0,
          "y1": 88242.0546875,
          "yref": "y2"
         },
         {
          "line": {
           "color": "lightgrey",
           "width": 1.5
          },
          "type": "line",
          "x0": 411.9396057128906,
          "x1": 411.9396057128906,
          "xref": "x2",
          "y0": 0,
          "y1": 14792.650390625,
          "yref": "y2"
         },
         {
          "line": {
           "color": "lightgrey",
           "width": 1.5
          },
          "type": "line",
          "x0": 412.21630859375,
          "x1": 412.21630859375,
          "xref": "x2",
          "y0": 0,
          "y1": 39300.3359375,
          "yref": "y2"
         },
         {
          "line": {
           "color": "lightgrey",
           "width": 1.5
          },
          "type": "line",
          "x0": 412.5506591796875,
          "x1": 412.5506591796875,
          "xref": "x2",
          "y0": 0,
          "y1": 21870.48046875,
          "yref": "y2"
         },
         {
          "line": {
           "color": "lightgrey",
           "width": 1.5
          },
          "type": "line",
          "x0": 412.6142272949219,
          "x1": 412.6142272949219,
          "xref": "x2",
          "y0": 0,
          "y1": 17101.888671875,
          "yref": "y2"
         },
         {
          "line": {
           "color": "lightgrey",
           "width": 1.5
          },
          "type": "line",
          "x0": 414.2392883300781,
          "x1": 414.2392883300781,
          "xref": "x2",
          "y0": 0,
          "y1": 42886.0078125,
          "yref": "y2"
         },
         {
          "line": {
           "color": "lightgrey",
           "width": 1.5
          },
          "type": "line",
          "x0": 417.55279541015625,
          "x1": 417.55279541015625,
          "xref": "x2",
          "y0": 0,
          "y1": 31228.53515625,
          "yref": "y2"
         },
         {
          "line": {
           "color": "lightgrey",
           "width": 1.5
          },
          "type": "line",
          "x0": 417.8858642578125,
          "x1": 417.8858642578125,
          "xref": "x2",
          "y0": 0,
          "y1": 92473.9765625,
          "yref": "y2"
         },
         {
          "line": {
           "color": "lightgrey",
           "width": 1.5
          },
          "type": "line",
          "x0": 418.2210998535156,
          "x1": 418.2210998535156,
          "xref": "x2",
          "y0": 0,
          "y1": 49294.43359375,
          "yref": "y2"
         },
         {
          "line": {
           "color": "lightgrey",
           "width": 1.5
          },
          "type": "line",
          "x0": 419.2195739746094,
          "x1": 419.2195739746094,
          "xref": "x2",
          "y0": 0,
          "y1": 16900.568359375,
          "yref": "y2"
         },
         {
          "line": {
           "color": "lightgrey",
           "width": 1.5
          },
          "type": "line",
          "x0": 419.2906799316406,
          "x1": 419.2906799316406,
          "xref": "x2",
          "y0": 0,
          "y1": 11392.7724609375,
          "yref": "y2"
         },
         {
          "line": {
           "color": "lightgrey",
           "width": 1.5
          },
          "type": "line",
          "x0": 423.89166259765625,
          "x1": 423.89166259765625,
          "xref": "x2",
          "y0": 0,
          "y1": 11663.875,
          "yref": "y2"
         },
         {
          "line": {
           "color": "lightgrey",
           "width": 1.5
          },
          "type": "line",
          "x0": 425.2174987792969,
          "x1": 425.2174987792969,
          "xref": "x2",
          "y0": 0,
          "y1": 20526.650390625,
          "yref": "y2"
         },
         {
          "line": {
           "color": "lightgrey",
           "width": 1.5
          },
          "type": "line",
          "x0": 428.2381896972656,
          "x1": 428.2381896972656,
          "xref": "x2",
          "y0": 0,
          "y1": 28582.451171875,
          "yref": "y2"
         },
         {
          "line": {
           "color": "lightgrey",
           "width": 1.5
          },
          "type": "line",
          "x0": 428.2974548339844,
          "x1": 428.2974548339844,
          "xref": "x2",
          "y0": 0,
          "y1": 18259.7734375,
          "yref": "y2"
         },
         {
          "line": {
           "color": "lightgrey",
           "width": 1.5
          },
          "type": "line",
          "x0": 428.7176513671875,
          "x1": 428.7176513671875,
          "xref": "x2",
          "y0": 0,
          "y1": 54822.88671875,
          "yref": "y2"
         },
         {
          "line": {
           "color": "lightgrey",
           "width": 1.5
          },
          "type": "line",
          "x0": 428.7943115234375,
          "x1": 428.7943115234375,
          "xref": "x2",
          "y0": 0,
          "y1": 24292.646484375,
          "yref": "y2"
         },
         {
          "line": {
           "color": "lightgrey",
           "width": 1.5
          },
          "type": "line",
          "x0": 429.2994689941406,
          "x1": 429.2994689941406,
          "xref": "x2",
          "y0": 0,
          "y1": 11264.0927734375,
          "yref": "y2"
         },
         {
          "line": {
           "color": "lightgrey",
           "width": 1.5
          },
          "type": "line",
          "x0": 430.17413330078125,
          "x1": 430.17413330078125,
          "xref": "x2",
          "y0": 0,
          "y1": 33019.9453125,
          "yref": "y2"
         },
         {
          "line": {
           "color": "lightgrey",
           "width": 1.5
          },
          "type": "line",
          "x0": 439.7158203125,
          "x1": 439.7158203125,
          "xref": "x2",
          "y0": 0,
          "y1": 15119.736328125,
          "yref": "y2"
         },
         {
          "line": {
           "color": "lightgrey",
           "width": 1.5
          },
          "type": "line",
          "x0": 440.7296447753906,
          "x1": 440.7296447753906,
          "xref": "x2",
          "y0": 0,
          "y1": 10069.697265625,
          "yref": "y2"
         },
         {
          "line": {
           "color": "lightgrey",
           "width": 1.5
          },
          "type": "line",
          "x0": 444.2077331542969,
          "x1": 444.2077331542969,
          "xref": "x2",
          "y0": 0,
          "y1": 25119.412109375,
          "yref": "y2"
         },
         {
          "line": {
           "color": "lightgrey",
           "width": 1.5
          },
          "type": "line",
          "x0": 444.5415344238281,
          "x1": 444.5415344238281,
          "xref": "x2",
          "y0": 0,
          "y1": 57541.33984375,
          "yref": "y2"
         },
         {
          "line": {
           "color": "lightgrey",
           "width": 1.5
          },
          "type": "line",
          "x0": 444.8825988769531,
          "x1": 444.8825988769531,
          "xref": "x2",
          "y0": 0,
          "y1": 34029.609375,
          "yref": "y2"
         },
         {
          "line": {
           "color": "lightgrey",
           "width": 1.5
          },
          "type": "line",
          "x0": 445.22418212890625,
          "x1": 445.22418212890625,
          "xref": "x2",
          "y0": 0,
          "y1": 11235.6572265625,
          "yref": "y2"
         },
         {
          "line": {
           "color": "lightgrey",
           "width": 1.5
          },
          "type": "line",
          "x0": 450.5473937988281,
          "x1": 450.5473937988281,
          "xref": "x2",
          "y0": 0,
          "y1": 30867.654296875,
          "yref": "y2"
         },
         {
          "line": {
           "color": "lightgrey",
           "width": 1.5
          },
          "type": "line",
          "x0": 453.2377624511719,
          "x1": 453.2377624511719,
          "xref": "x2",
          "y0": 0,
          "y1": 25655.84765625,
          "yref": "y2"
         },
         {
          "line": {
           "color": "lightgrey",
           "width": 1.5
          },
          "type": "line",
          "x0": 453.7350158691406,
          "x1": 453.7350158691406,
          "xref": "x2",
          "y0": 0,
          "y1": 26833.666015625,
          "yref": "y2"
         },
         {
          "line": {
           "color": "lightgrey",
           "width": 1.5
          },
          "type": "line",
          "x0": 460.2455749511719,
          "x1": 460.2455749511719,
          "xref": "x2",
          "y0": 0,
          "y1": 13843.1416015625,
          "yref": "y2"
         },
         {
          "line": {
           "color": "lightgrey",
           "width": 1.5
          },
          "type": "line",
          "x0": 462.2470703125,
          "x1": 462.2470703125,
          "xref": "x2",
          "y0": 0,
          "y1": 124074.953125,
          "yref": "y2"
         },
         {
          "line": {
           "color": "lightgrey",
           "width": 1.5
          },
          "type": "line",
          "x0": 462.74285888671875,
          "x1": 462.74285888671875,
          "xref": "x2",
          "y0": 0,
          "y1": 40694.296875,
          "yref": "y2"
         },
         {
          "line": {
           "color": "lightgrey",
           "width": 1.5
          },
          "type": "line",
          "x0": 463.24298095703125,
          "x1": 463.24298095703125,
          "xref": "x2",
          "y0": 0,
          "y1": 12683.423828125,
          "yref": "y2"
         },
         {
          "line": {
           "color": "lightgrey",
           "width": 1.5
          },
          "type": "line",
          "x0": 471.2534484863281,
          "x1": 471.2534484863281,
          "xref": "x2",
          "y0": 0,
          "y1": 165062.546875,
          "yref": "y2"
         },
         {
          "line": {
           "color": "lightgrey",
           "width": 1.5
          },
          "type": "line",
          "x0": 471.75726318359375,
          "x1": 471.75726318359375,
          "xref": "x2",
          "y0": 0,
          "y1": 48414.10546875,
          "yref": "y2"
         },
         {
          "line": {
           "color": "lightgrey",
           "width": 1.5
          },
          "type": "line",
          "x0": 477.2532653808594,
          "x1": 477.2532653808594,
          "xref": "x2",
          "y0": 0,
          "y1": 60715.05078125,
          "yref": "y2"
         },
         {
          "line": {
           "color": "lightgrey",
           "width": 1.5
          },
          "type": "line",
          "x0": 477.753173828125,
          "x1": 477.753173828125,
          "xref": "x2",
          "y0": 0,
          "y1": 24627.796875,
          "yref": "y2"
         },
         {
          "line": {
           "color": "lightgrey",
           "width": 1.5
          },
          "type": "line",
          "x0": 495.24005126953125,
          "x1": 495.24005126953125,
          "xref": "x2",
          "y0": 0,
          "y1": 14425.9853515625,
          "yref": "y2"
         },
         {
          "line": {
           "color": "lightgrey",
           "width": 1.5
          },
          "type": "line",
          "x0": 495.7258605957031,
          "x1": 495.7258605957031,
          "xref": "x2",
          "y0": 0,
          "y1": 47901.234375,
          "yref": "y2"
         },
         {
          "line": {
           "color": "lightgrey",
           "width": 1.5
          },
          "type": "line",
          "x0": 511.2351379394531,
          "x1": 511.2351379394531,
          "xref": "x2",
          "y0": 0,
          "y1": 26905.421875,
          "yref": "y2"
         },
         {
          "line": {
           "color": "lightgrey",
           "width": 1.5
          },
          "type": "line",
          "x0": 517.3101806640625,
          "x1": 517.3101806640625,
          "xref": "x2",
          "y0": 0,
          "y1": 18683.953125,
          "yref": "y2"
         },
         {
          "line": {
           "color": "lightgrey",
           "width": 1.5
          },
          "type": "line",
          "x0": 517.7621459960938,
          "x1": 517.7621459960938,
          "xref": "x2",
          "y0": 0,
          "y1": 41843.87109375,
          "yref": "y2"
         },
         {
          "line": {
           "color": "lightgrey",
           "width": 1.5
          },
          "type": "line",
          "x0": 518.260986328125,
          "x1": 518.260986328125,
          "xref": "x2",
          "y0": 0,
          "y1": 35534.2421875,
          "yref": "y2"
         },
         {
          "line": {
           "color": "lightgrey",
           "width": 1.5
          },
          "type": "line",
          "x0": 520.2421264648438,
          "x1": 520.2421264648438,
          "xref": "x2",
          "y0": 0,
          "y1": 31960.619140625,
          "yref": "y2"
         },
         {
          "line": {
           "color": "lightgrey",
           "width": 1.5
          },
          "type": "line",
          "x0": 526.7677612304688,
          "x1": 526.7677612304688,
          "xref": "x2",
          "y0": 0,
          "y1": 132907.578125,
          "yref": "y2"
         },
         {
          "line": {
           "color": "lightgrey",
           "width": 1.5
          },
          "type": "line",
          "x0": 527.2666625976562,
          "x1": 527.2666625976562,
          "xref": "x2",
          "y0": 0,
          "y1": 53374.828125,
          "yref": "y2"
         },
         {
          "line": {
           "color": "lightgrey",
           "width": 1.5
          },
          "type": "line",
          "x0": 527.7691040039062,
          "x1": 527.7691040039062,
          "xref": "x2",
          "y0": 0,
          "y1": 18107.65625,
          "yref": "y2"
         },
         {
          "line": {
           "color": "lightgrey",
           "width": 1.5
          },
          "type": "line",
          "x0": 530.2525634765625,
          "x1": 530.2525634765625,
          "xref": "x2",
          "y0": 0,
          "y1": 17917.419921875,
          "yref": "y2"
         },
         {
          "line": {
           "color": "lightgrey",
           "width": 1.5
          },
          "type": "line",
          "x0": 535.7752075195312,
          "x1": 535.7752075195312,
          "xref": "x2",
          "y0": 0,
          "y1": 118515.875,
          "yref": "y2"
         },
         {
          "line": {
           "color": "lightgrey",
           "width": 1.5
          },
          "type": "line",
          "x0": 536.2733154296875,
          "x1": 536.2733154296875,
          "xref": "x2",
          "y0": 0,
          "y1": 40740.35546875,
          "yref": "y2"
         },
         {
          "line": {
           "color": "lightgrey",
           "width": 1.5
          },
          "type": "line",
          "x0": 545.2655639648438,
          "x1": 545.2655639648438,
          "xref": "x2",
          "y0": 0,
          "y1": 26872.392578125,
          "yref": "y2"
         },
         {
          "line": {
           "color": "lightgrey",
           "width": 1.5
          },
          "type": "line",
          "x0": 549.7699584960938,
          "x1": 549.7699584960938,
          "xref": "x2",
          "y0": 0,
          "y1": 14652.9072265625,
          "yref": "y2"
         },
         {
          "line": {
           "color": "lightgrey",
           "width": 1.5
          },
          "type": "line",
          "x0": 561.2816772460938,
          "x1": 561.2816772460938,
          "xref": "x2",
          "y0": 0,
          "y1": 27379.556640625,
          "yref": "y2"
         },
         {
          "line": {
           "color": "lightgrey",
           "width": 1.5
          },
          "type": "line",
          "x0": 575.7604370117188,
          "x1": 575.7604370117188,
          "xref": "x2",
          "y0": 0,
          "y1": 12559.5927734375,
          "yref": "y2"
         },
         {
          "line": {
           "color": "lightgrey",
           "width": 1.5
          },
          "type": "line",
          "x0": 584.7607421875,
          "x1": 584.7607421875,
          "xref": "x2",
          "y0": 0,
          "y1": 12987.533203125,
          "yref": "y2"
         },
         {
          "line": {
           "color": "lightgrey",
           "width": 1.5
          },
          "type": "line",
          "x0": 588.3212890625,
          "x1": 588.3212890625,
          "xref": "x2",
          "y0": 0,
          "y1": 18924.052734375,
          "yref": "y2"
         },
         {
          "line": {
           "color": "lightgrey",
           "width": 1.5
          },
          "type": "line",
          "x0": 589.2858276367188,
          "x1": 589.2858276367188,
          "xref": "x2",
          "y0": 0,
          "y1": 17537.796875,
          "yref": "y2"
         },
         {
          "line": {
           "color": "lightgrey",
           "width": 1.5
          },
          "type": "line",
          "x0": 599.296875,
          "x1": 599.296875,
          "xref": "x2",
          "y0": 0,
          "y1": 17880.970703125,
          "yref": "y2"
         },
         {
          "line": {
           "color": "lightgrey",
           "width": 1.5
          },
          "type": "line",
          "x0": 599.7898559570312,
          "x1": 599.7898559570312,
          "xref": "x2",
          "y0": 0,
          "y1": 19628.654296875,
          "yref": "y2"
         },
         {
          "line": {
           "color": "lightgrey",
           "width": 1.5
          },
          "type": "line",
          "x0": 608.299560546875,
          "x1": 608.299560546875,
          "xref": "x2",
          "y0": 0,
          "y1": 47130.83203125,
          "yref": "y2"
         },
         {
          "line": {
           "color": "lightgrey",
           "width": 1.5
          },
          "type": "line",
          "x0": 608.7996826171875,
          "x1": 608.7996826171875,
          "xref": "x2",
          "y0": 0,
          "y1": 26020.767578125,
          "yref": "y2"
         },
         {
          "line": {
           "color": "lightgrey",
           "width": 1.5
          },
          "type": "line",
          "x0": 611.2919311523438,
          "x1": 611.2919311523438,
          "xref": "x2",
          "y0": 0,
          "y1": 11466.9765625,
          "yref": "y2"
         },
         {
          "line": {
           "color": "lightgrey",
           "width": 1.5
          },
          "type": "line",
          "x0": 617.3055419921875,
          "x1": 617.3055419921875,
          "xref": "x2",
          "y0": 0,
          "y1": 146033.3125,
          "yref": "y2"
         },
         {
          "line": {
           "color": "lightgrey",
           "width": 1.5
          },
          "type": "line",
          "x0": 617.8081665039062,
          "x1": 617.8081665039062,
          "xref": "x2",
          "y0": 0,
          "y1": 65685.203125,
          "yref": "y2"
         },
         {
          "line": {
           "color": "lightgrey",
           "width": 1.5
          },
          "type": "line",
          "x0": 626.308349609375,
          "x1": 626.308349609375,
          "xref": "x2",
          "y0": 0,
          "y1": 22319.0625,
          "yref": "y2"
         },
         {
          "line": {
           "color": "lightgrey",
           "width": 1.5
          },
          "type": "line",
          "x0": 630.3150024414062,
          "x1": 630.3150024414062,
          "xref": "x2",
          "y0": 0,
          "y1": 10580.072265625,
          "yref": "y2"
         },
         {
          "line": {
           "color": "lightgrey",
           "width": 1.5
          },
          "type": "line",
          "x0": 641.326171875,
          "x1": 641.326171875,
          "xref": "x2",
          "y0": 0,
          "y1": 30808.4921875,
          "yref": "y2"
         },
         {
          "line": {
           "color": "lightgrey",
           "width": 1.5
          },
          "type": "line",
          "x0": 666.2950439453125,
          "x1": 666.2950439453125,
          "xref": "x2",
          "y0": 0,
          "y1": 12987.3583984375,
          "yref": "y2"
         },
         {
          "line": {
           "color": "lightgrey",
           "width": 1.5
          },
          "type": "line",
          "x0": 685.328369140625,
          "x1": 685.328369140625,
          "xref": "x2",
          "y0": 0,
          "y1": 78190.1875,
          "yref": "y2"
         },
         {
          "line": {
           "color": "lightgrey",
           "width": 1.5
          },
          "type": "line",
          "x0": 686.3379516601562,
          "x1": 686.3379516601562,
          "xref": "x2",
          "y0": 0,
          "y1": 78019.734375,
          "yref": "y2"
         },
         {
          "line": {
           "color": "lightgrey",
           "width": 1.5
          },
          "type": "line",
          "x0": 688.8203735351562,
          "x1": 688.8203735351562,
          "xref": "x2",
          "y0": 0,
          "y1": 17744.01171875,
          "yref": "y2"
         },
         {
          "line": {
           "color": "lightgrey",
           "width": 1.5
          },
          "type": "line",
          "x0": 698.3392333984375,
          "x1": 698.3392333984375,
          "xref": "x2",
          "y0": 0,
          "y1": 37287.04296875,
          "yref": "y2"
         },
         {
          "line": {
           "color": "lightgrey",
           "width": 1.5
          },
          "type": "line",
          "x0": 699.347900390625,
          "x1": 699.347900390625,
          "xref": "x2",
          "y0": 0,
          "y1": 19538.39453125,
          "yref": "y2"
         },
         {
          "line": {
           "color": "lightgrey",
           "width": 1.5
          },
          "type": "line",
          "x0": 703.3936157226562,
          "x1": 703.3936157226562,
          "xref": "x2",
          "y0": 0,
          "y1": 43330.296875,
          "yref": "y2"
         },
         {
          "line": {
           "color": "lightgrey",
           "width": 1.5
          },
          "type": "line",
          "x0": 722.2709350585938,
          "x1": 722.2709350585938,
          "xref": "x2",
          "y0": 0,
          "y1": 13548.1328125,
          "yref": "y2"
         },
         {
          "line": {
           "color": "lightgrey",
           "width": 1.5
          },
          "type": "line",
          "x0": 739.3056030273438,
          "x1": 739.3056030273438,
          "xref": "x2",
          "y0": 0,
          "y1": 22548.107421875,
          "yref": "y2"
         },
         {
          "line": {
           "color": "lightgrey",
           "width": 1.5
          },
          "type": "line",
          "x0": 783.35595703125,
          "x1": 783.35595703125,
          "xref": "x2",
          "y0": 0,
          "y1": 16164.166015625,
          "yref": "y2"
         },
         {
          "line": {
           "color": "lightgrey",
           "width": 1.5
          },
          "type": "line",
          "x0": 786.4273071289062,
          "x1": 786.4273071289062,
          "xref": "x2",
          "y0": 0,
          "y1": 32671.046875,
          "yref": "y2"
         },
         {
          "line": {
           "color": "lightgrey",
           "width": 1.5
          },
          "type": "line",
          "x0": 787.4213256835938,
          "x1": 787.4213256835938,
          "xref": "x2",
          "y0": 0,
          "y1": 20581.6953125,
          "yref": "y2"
         },
         {
          "line": {
           "color": "lightgrey",
           "width": 1.5
          },
          "type": "line",
          "x0": 801.3759155273438,
          "x1": 801.3759155273438,
          "xref": "x2",
          "y0": 0,
          "y1": 18620.76171875,
          "yref": "y2"
         },
         {
          "line": {
           "color": "lightgrey",
           "width": 1.5
          },
          "type": "line",
          "x0": 804.4371948242188,
          "x1": 804.4371948242188,
          "xref": "x2",
          "y0": 0,
          "y1": 128193.1953125,
          "yref": "y2"
         },
         {
          "line": {
           "color": "lightgrey",
           "width": 1.5
          },
          "type": "line",
          "x0": 805.4406127929688,
          "x1": 805.4406127929688,
          "xref": "x2",
          "y0": 0,
          "y1": 34845.98046875,
          "yref": "y2"
         },
         {
          "line": {
           "color": "lightgrey",
           "width": 1.5
          },
          "type": "line",
          "x0": 809.368896484375,
          "x1": 809.368896484375,
          "xref": "x2",
          "y0": 0,
          "y1": 21278.982421875,
          "yref": "y2"
         },
         {
          "line": {
           "color": "lightgrey",
           "width": 1.5
          },
          "type": "line",
          "x0": 827.3845825195312,
          "x1": 827.3845825195312,
          "xref": "x2",
          "y0": 0,
          "y1": 42286.6796875,
          "yref": "y2"
         },
         {
          "line": {
           "color": "lightgrey",
           "width": 1.5
          },
          "type": "line",
          "x0": 828.3887329101562,
          "x1": 828.3887329101562,
          "xref": "x2",
          "y0": 0,
          "y1": 14266.3466796875,
          "yref": "y2"
         },
         {
          "line": {
           "color": "lightgrey",
           "width": 1.5
          },
          "type": "line",
          "x0": 852.4019165039062,
          "x1": 852.4019165039062,
          "xref": "x2",
          "y0": 0,
          "y1": 25045.763671875,
          "yref": "y2"
         },
         {
          "line": {
           "color": "lightgrey",
           "width": 1.5
          },
          "type": "line",
          "x0": 870.3994140625,
          "x1": 870.3994140625,
          "xref": "x2",
          "y0": 0,
          "y1": 10160.314453125,
          "yref": "y2"
         },
         {
          "line": {
           "color": "lightgrey",
           "width": 1.5
          },
          "type": "line",
          "x0": 902.4169921875,
          "x1": 902.4169921875,
          "xref": "x2",
          "y0": 0,
          "y1": 22703.375,
          "yref": "y2"
         },
         {
          "line": {
           "color": "lightgrey",
           "width": 1.5
          },
          "type": "line",
          "x0": 941.493896484375,
          "x1": 941.493896484375,
          "xref": "x2",
          "y0": 0,
          "y1": 35855.66015625,
          "yref": "y2"
         },
         {
          "line": {
           "color": "lightgrey",
           "width": 1.5
          },
          "type": "line",
          "x0": 990.4454956054688,
          "x1": 990.4454956054688,
          "xref": "x2",
          "y0": 0,
          "y1": 37249.12109375,
          "yref": "y2"
         },
         {
          "line": {
           "color": "lightgrey",
           "width": 1.5
          },
          "type": "line",
          "x0": 991.4588012695312,
          "x1": 991.4588012695312,
          "xref": "x2",
          "y0": 0,
          "y1": 14355.41796875,
          "yref": "y2"
         },
         {
          "line": {
           "color": "red",
           "width": 1.5
          },
          "type": "line",
          "x0": 617.30419921875,
          "x1": 617.30419921875,
          "xref": "x2",
          "y0": 0,
          "y1": 146033.3125,
          "yref": "y2"
         },
         {
          "line": {
           "color": "red",
           "width": 1.5
          },
          "type": "line",
          "x0": 666.2926635742188,
          "x1": 666.2926635742188,
          "xref": "x2",
          "y0": 0,
          "y1": 12987.3583984375,
          "yref": "y2"
         },
         {
          "line": {
           "color": "blue",
           "width": 1.5
          },
          "type": "line",
          "x0": 263.1390075683594,
          "x1": 263.1390075683594,
          "xref": "x2",
          "y0": 0,
          "y1": 38947.03515625,
          "yref": "y2"
         },
         {
          "line": {
           "color": "red",
           "width": 1.5
          },
          "type": "line",
          "x0": 535.7725219726562,
          "x1": 535.7725219726562,
          "xref": "x2",
          "y0": 0,
          "y1": 118515.875,
          "yref": "y2"
         },
         {
          "line": {
           "color": "red",
           "width": 1.5
          },
          "type": "line",
          "x0": 584.760986328125,
          "x1": 584.760986328125,
          "xref": "x2",
          "y0": 0,
          "y1": 12987.533203125,
          "yref": "y2"
         },
         {
          "line": {
           "color": "red",
           "width": 1.5
          },
          "type": "line",
          "x0": 941.4951782226562,
          "x1": 941.4951782226562,
          "xref": "x2",
          "y0": 0,
          "y1": 35855.66015625,
          "yref": "y2"
         },
         {
          "line": {
           "color": "red",
           "width": 1.5
          },
          "type": "line",
          "x0": 471.251220703125,
          "x1": 471.251220703125,
          "xref": "x2",
          "y0": 0,
          "y1": 165062.546875,
          "yref": "y2"
         },
         {
          "line": {
           "color": "red",
           "width": 1.5
          },
          "type": "line",
          "x0": 520.2396850585938,
          "x1": 520.2396850585938,
          "xref": "x2",
          "y0": 0,
          "y1": 31960.619140625,
          "yref": "y2"
         },
         {
          "line": {
           "color": "red",
           "width": 1.5
          },
          "type": "line",
          "x0": 804.436279296875,
          "x1": 804.436279296875,
          "xref": "x2",
          "y0": 0,
          "y1": 128193.1953125,
          "yref": "y2"
         },
         {
          "line": {
           "color": "red",
           "width": 1.5
          },
          "type": "line",
          "x0": 402.7217712402344,
          "x1": 402.7217712402344,
          "xref": "x2",
          "y0": 0,
          "y1": 19350.427734375,
          "yref": "y2"
         },
         {
          "line": {
           "color": "red",
           "width": 1.5
          },
          "type": "line",
          "x0": 902.4131469726562,
          "x1": 902.4131469726562,
          "xref": "x2",
          "y0": 0,
          "y1": 22703.375,
          "yref": "y2"
         },
         {
          "line": {
           "color": "red",
           "width": 1.5
          },
          "type": "line",
          "x0": 703.3886108398438,
          "x1": 703.3886108398438,
          "xref": "x2",
          "y0": 0,
          "y1": 43330.296875,
          "yref": "y2"
         },
         {
          "line": {
           "color": "red",
           "width": 1.5
          },
          "type": "line",
          "x0": 801.365478515625,
          "x1": 801.365478515625,
          "xref": "x2",
          "y0": 0,
          "y1": 18620.76171875,
          "yref": "y2"
         },
         {
          "line": {
           "color": "red",
           "width": 1.5
          },
          "type": "line",
          "x0": 313.1870422363281,
          "x1": 313.1870422363281,
          "xref": "x2",
          "y0": 0,
          "y1": 11768.5625,
          "yref": "y2"
         },
         {
          "line": {
           "color": "blue",
           "width": 1.5
          },
          "type": "line",
          "x0": 545.25927734375,
          "x1": 545.25927734375,
          "xref": "x2",
          "y0": 0,
          "y1": 26872.392578125,
          "yref": "y2"
         },
         {
          "line": {
           "color": "red",
           "width": 1.5
          },
          "type": "line",
          "x0": 244.1655731201172,
          "x1": 244.1655731201172,
          "xref": "x2",
          "y0": 0,
          "y1": 201716.15625,
          "yref": "y2"
         },
         {
          "line": {
           "color": "red",
           "width": 1.5
          },
          "type": "line",
          "x0": 147.11280822753906,
          "x1": 147.11280822753906,
          "xref": "x2",
          "y0": 0,
          "y1": 60520.58203125,
          "yref": "y2"
         },
         {
          "line": {
           "color": "red",
           "width": 1.5
          },
          "type": "line",
          "x0": 617.30419921875,
          "x1": 617.30419921875,
          "xref": "x2",
          "y0": 0,
          "y1": -201716.15625,
          "yref": "y2"
         },
         {
          "line": {
           "color": "red",
           "width": 1.5
          },
          "type": "line",
          "x0": 666.2926635742188,
          "x1": 666.2926635742188,
          "xref": "x2",
          "y0": 0,
          "y1": -88248.7890625,
          "yref": "y2"
         },
         {
          "line": {
           "color": "blue",
           "width": 1.5
          },
          "type": "line",
          "x0": 263.1390075683594,
          "x1": 263.1390075683594,
          "xref": "x2",
          "y0": 0,
          "y1": -25894.6484375,
          "yref": "y2"
         },
         {
          "line": {
           "color": "red",
           "width": 1.5
          },
          "type": "line",
          "x0": 535.7725219726562,
          "x1": 535.7725219726562,
          "xref": "x2",
          "y0": 0,
          "y1": -148599.65625,
          "yref": "y2"
         },
         {
          "line": {
           "color": "red",
           "width": 1.5
          },
          "type": "line",
          "x0": 584.760986328125,
          "x1": 584.760986328125,
          "xref": "x2",
          "y0": 0,
          "y1": -41899.5078125,
          "yref": "y2"
         },
         {
          "line": {
           "color": "red",
           "width": 1.5
          },
          "type": "line",
          "x0": 941.4951782226562,
          "x1": 941.4951782226562,
          "xref": "x2",
          "y0": 0,
          "y1": -14046.8388671875,
          "yref": "y2"
         },
         {
          "line": {
           "color": "red",
           "width": 1.5
          },
          "type": "line",
          "x0": 471.251220703125,
          "x1": 471.251220703125,
          "xref": "x2",
          "y0": 0,
          "y1": -118552.515625,
          "yref": "y2"
         },
         {
          "line": {
           "color": "red",
           "width": 1.5
          },
          "type": "line",
          "x0": 1039.4720458984375,
          "x1": 1039.4720458984375,
          "xref": "x2",
          "y0": 0,
          "y1": -372.1019287109375,
          "yref": "y2"
         },
         {
          "line": {
           "color": "red",
           "width": 1.5
          },
          "type": "line",
          "x0": 520.2396850585938,
          "x1": 520.2396850585938,
          "xref": "x2",
          "y0": 0,
          "y1": -58665.26171875,
          "yref": "y2"
         },
         {
          "line": {
           "color": "red",
           "width": 1.5
          },
          "type": "line",
          "x0": 804.436279296875,
          "x1": 804.436279296875,
          "xref": "x2",
          "y0": 0,
          "y1": -66097.640625,
          "yref": "y2"
         },
         {
          "line": {
           "color": "red",
           "width": 1.5
          },
          "type": "line",
          "x0": 402.7217712402344,
          "x1": 402.7217712402344,
          "xref": "x2",
          "y0": 0,
          "y1": -14468.09765625,
          "yref": "y2"
         },
         {
          "line": {
           "color": "red",
           "width": 1.5
          },
          "type": "line",
          "x0": 902.4131469726562,
          "x1": 902.4131469726562,
          "xref": "x2",
          "y0": 0,
          "y1": -25993.1015625,
          "yref": "y2"
         },
         {
          "line": {
           "color": "red",
           "width": 1.5
          },
          "type": "line",
          "x0": 451.710205078125,
          "x1": 451.710205078125,
          "xref": "x2",
          "y0": 0,
          "y1": -9050.140625,
          "yref": "y2"
         },
         {
          "line": {
           "color": "red",
           "width": 1.5
          },
          "type": "line",
          "x0": 703.3886108398438,
          "x1": 703.3886108398438,
          "xref": "x2",
          "y0": 0,
          "y1": -27764.224609375,
          "yref": "y2"
         },
         {
          "line": {
           "color": "red",
           "width": 1.5
          },
          "type": "line",
          "x0": 801.365478515625,
          "x1": 801.365478515625,
          "xref": "x2",
          "y0": 0,
          "y1": -10898.8955078125,
          "yref": "y2"
         },
         {
          "line": {
           "color": "blue",
           "width": 1.5
          },
          "type": "line",
          "x0": 437.21429443359375,
          "x1": 437.21429443359375,
          "xref": "x2",
          "y0": 0,
          "y1": -1111.237060546875,
          "yref": "y2"
         },
         {
          "line": {
           "color": "red",
           "width": 1.5
          },
          "type": "line",
          "x0": 460.25543212890625,
          "x1": 460.25543212890625,
          "xref": "x2",
          "y0": 0,
          "y1": -7043.6123046875,
          "yref": "y2"
         },
         {
          "line": {
           "color": "red",
           "width": 1.5
          },
          "type": "line",
          "x0": 313.1870422363281,
          "x1": 313.1870422363281,
          "xref": "x2",
          "y0": 0,
          "y1": -4333.08935546875,
          "yref": "y2"
         },
         {
          "line": {
           "color": "blue",
           "width": 1.5
          },
          "type": "line",
          "x0": 545.25927734375,
          "x1": 545.25927734375,
          "xref": "x2",
          "y0": 0,
          "y1": -48962.13671875,
          "yref": "y2"
         },
         {
          "line": {
           "color": "red",
           "width": 1.5
          },
          "type": "line",
          "x0": 244.1655731201172,
          "x1": 244.1655731201172,
          "xref": "x2",
          "y0": 0,
          "y1": -101417.953125,
          "yref": "y2"
         },
         {
          "line": {
           "color": "red",
           "width": 1.5
          },
          "type": "line",
          "x0": 147.11280822753906,
          "x1": 147.11280822753906,
          "xref": "x2",
          "y0": 0,
          "y1": -18869.080078125,
          "yref": "y2"
         }
        ],
        "template": {
         "data": {
          "bar": [
           {
            "error_x": {
             "color": "#2a3f5f"
            },
            "error_y": {
             "color": "#2a3f5f"
            },
            "marker": {
             "line": {
              "color": "white",
              "width": 0.5
             },
             "pattern": {
              "fillmode": "overlay",
              "size": 10,
              "solidity": 0.2
             }
            },
            "type": "bar"
           }
          ],
          "barpolar": [
           {
            "marker": {
             "line": {
              "color": "white",
              "width": 0.5
             },
             "pattern": {
              "fillmode": "overlay",
              "size": 10,
              "solidity": 0.2
             }
            },
            "type": "barpolar"
           }
          ],
          "carpet": [
           {
            "aaxis": {
             "endlinecolor": "#2a3f5f",
             "gridcolor": "#C8D4E3",
             "linecolor": "#C8D4E3",
             "minorgridcolor": "#C8D4E3",
             "startlinecolor": "#2a3f5f"
            },
            "baxis": {
             "endlinecolor": "#2a3f5f",
             "gridcolor": "#C8D4E3",
             "linecolor": "#C8D4E3",
             "minorgridcolor": "#C8D4E3",
             "startlinecolor": "#2a3f5f"
            },
            "type": "carpet"
           }
          ],
          "choropleth": [
           {
            "colorbar": {
             "outlinewidth": 0,
             "ticks": ""
            },
            "type": "choropleth"
           }
          ],
          "contour": [
           {
            "colorbar": {
             "outlinewidth": 0,
             "ticks": ""
            },
            "colorscale": [
             [
              0,
              "#0d0887"
             ],
             [
              0.1111111111111111,
              "#46039f"
             ],
             [
              0.2222222222222222,
              "#7201a8"
             ],
             [
              0.3333333333333333,
              "#9c179e"
             ],
             [
              0.4444444444444444,
              "#bd3786"
             ],
             [
              0.5555555555555556,
              "#d8576b"
             ],
             [
              0.6666666666666666,
              "#ed7953"
             ],
             [
              0.7777777777777778,
              "#fb9f3a"
             ],
             [
              0.8888888888888888,
              "#fdca26"
             ],
             [
              1,
              "#f0f921"
             ]
            ],
            "type": "contour"
           }
          ],
          "contourcarpet": [
           {
            "colorbar": {
             "outlinewidth": 0,
             "ticks": ""
            },
            "type": "contourcarpet"
           }
          ],
          "heatmap": [
           {
            "colorbar": {
             "outlinewidth": 0,
             "ticks": ""
            },
            "colorscale": [
             [
              0,
              "#0d0887"
             ],
             [
              0.1111111111111111,
              "#46039f"
             ],
             [
              0.2222222222222222,
              "#7201a8"
             ],
             [
              0.3333333333333333,
              "#9c179e"
             ],
             [
              0.4444444444444444,
              "#bd3786"
             ],
             [
              0.5555555555555556,
              "#d8576b"
             ],
             [
              0.6666666666666666,
              "#ed7953"
             ],
             [
              0.7777777777777778,
              "#fb9f3a"
             ],
             [
              0.8888888888888888,
              "#fdca26"
             ],
             [
              1,
              "#f0f921"
             ]
            ],
            "type": "heatmap"
           }
          ],
          "heatmapgl": [
           {
            "colorbar": {
             "outlinewidth": 0,
             "ticks": ""
            },
            "colorscale": [
             [
              0,
              "#0d0887"
             ],
             [
              0.1111111111111111,
              "#46039f"
             ],
             [
              0.2222222222222222,
              "#7201a8"
             ],
             [
              0.3333333333333333,
              "#9c179e"
             ],
             [
              0.4444444444444444,
              "#bd3786"
             ],
             [
              0.5555555555555556,
              "#d8576b"
             ],
             [
              0.6666666666666666,
              "#ed7953"
             ],
             [
              0.7777777777777778,
              "#fb9f3a"
             ],
             [
              0.8888888888888888,
              "#fdca26"
             ],
             [
              1,
              "#f0f921"
             ]
            ],
            "type": "heatmapgl"
           }
          ],
          "histogram": [
           {
            "marker": {
             "pattern": {
              "fillmode": "overlay",
              "size": 10,
              "solidity": 0.2
             }
            },
            "type": "histogram"
           }
          ],
          "histogram2d": [
           {
            "colorbar": {
             "outlinewidth": 0,
             "ticks": ""
            },
            "colorscale": [
             [
              0,
              "#0d0887"
             ],
             [
              0.1111111111111111,
              "#46039f"
             ],
             [
              0.2222222222222222,
              "#7201a8"
             ],
             [
              0.3333333333333333,
              "#9c179e"
             ],
             [
              0.4444444444444444,
              "#bd3786"
             ],
             [
              0.5555555555555556,
              "#d8576b"
             ],
             [
              0.6666666666666666,
              "#ed7953"
             ],
             [
              0.7777777777777778,
              "#fb9f3a"
             ],
             [
              0.8888888888888888,
              "#fdca26"
             ],
             [
              1,
              "#f0f921"
             ]
            ],
            "type": "histogram2d"
           }
          ],
          "histogram2dcontour": [
           {
            "colorbar": {
             "outlinewidth": 0,
             "ticks": ""
            },
            "colorscale": [
             [
              0,
              "#0d0887"
             ],
             [
              0.1111111111111111,
              "#46039f"
             ],
             [
              0.2222222222222222,
              "#7201a8"
             ],
             [
              0.3333333333333333,
              "#9c179e"
             ],
             [
              0.4444444444444444,
              "#bd3786"
             ],
             [
              0.5555555555555556,
              "#d8576b"
             ],
             [
              0.6666666666666666,
              "#ed7953"
             ],
             [
              0.7777777777777778,
              "#fb9f3a"
             ],
             [
              0.8888888888888888,
              "#fdca26"
             ],
             [
              1,
              "#f0f921"
             ]
            ],
            "type": "histogram2dcontour"
           }
          ],
          "mesh3d": [
           {
            "colorbar": {
             "outlinewidth": 0,
             "ticks": ""
            },
            "type": "mesh3d"
           }
          ],
          "parcoords": [
           {
            "line": {
             "colorbar": {
              "outlinewidth": 0,
              "ticks": ""
             }
            },
            "type": "parcoords"
           }
          ],
          "pie": [
           {
            "automargin": true,
            "type": "pie"
           }
          ],
          "scatter": [
           {
            "fillpattern": {
             "fillmode": "overlay",
             "size": 10,
             "solidity": 0.2
            },
            "type": "scatter"
           }
          ],
          "scatter3d": [
           {
            "line": {
             "colorbar": {
              "outlinewidth": 0,
              "ticks": ""
             }
            },
            "marker": {
             "colorbar": {
              "outlinewidth": 0,
              "ticks": ""
             }
            },
            "type": "scatter3d"
           }
          ],
          "scattercarpet": [
           {
            "marker": {
             "colorbar": {
              "outlinewidth": 0,
              "ticks": ""
             }
            },
            "type": "scattercarpet"
           }
          ],
          "scattergeo": [
           {
            "marker": {
             "colorbar": {
              "outlinewidth": 0,
              "ticks": ""
             }
            },
            "type": "scattergeo"
           }
          ],
          "scattergl": [
           {
            "marker": {
             "colorbar": {
              "outlinewidth": 0,
              "ticks": ""
             }
            },
            "type": "scattergl"
           }
          ],
          "scattermapbox": [
           {
            "marker": {
             "colorbar": {
              "outlinewidth": 0,
              "ticks": ""
             }
            },
            "type": "scattermapbox"
           }
          ],
          "scatterpolar": [
           {
            "marker": {
             "colorbar": {
              "outlinewidth": 0,
              "ticks": ""
             }
            },
            "type": "scatterpolar"
           }
          ],
          "scatterpolargl": [
           {
            "marker": {
             "colorbar": {
              "outlinewidth": 0,
              "ticks": ""
             }
            },
            "type": "scatterpolargl"
           }
          ],
          "scatterternary": [
           {
            "marker": {
             "colorbar": {
              "outlinewidth": 0,
              "ticks": ""
             }
            },
            "type": "scatterternary"
           }
          ],
          "surface": [
           {
            "colorbar": {
             "outlinewidth": 0,
             "ticks": ""
            },
            "colorscale": [
             [
              0,
              "#0d0887"
             ],
             [
              0.1111111111111111,
              "#46039f"
             ],
             [
              0.2222222222222222,
              "#7201a8"
             ],
             [
              0.3333333333333333,
              "#9c179e"
             ],
             [
              0.4444444444444444,
              "#bd3786"
             ],
             [
              0.5555555555555556,
              "#d8576b"
             ],
             [
              0.6666666666666666,
              "#ed7953"
             ],
             [
              0.7777777777777778,
              "#fb9f3a"
             ],
             [
              0.8888888888888888,
              "#fdca26"
             ],
             [
              1,
              "#f0f921"
             ]
            ],
            "type": "surface"
           }
          ],
          "table": [
           {
            "cells": {
             "fill": {
              "color": "#EBF0F8"
             },
             "line": {
              "color": "white"
             }
            },
            "header": {
             "fill": {
              "color": "#C8D4E3"
             },
             "line": {
              "color": "white"
             }
            },
            "type": "table"
           }
          ]
         },
         "layout": {
          "annotationdefaults": {
           "arrowcolor": "#2a3f5f",
           "arrowhead": 0,
           "arrowwidth": 1
          },
          "autotypenumbers": "strict",
          "coloraxis": {
           "colorbar": {
            "outlinewidth": 0,
            "ticks": ""
           }
          },
          "colorscale": {
           "diverging": [
            [
             0,
             "#8e0152"
            ],
            [
             0.1,
             "#c51b7d"
            ],
            [
             0.2,
             "#de77ae"
            ],
            [
             0.3,
             "#f1b6da"
            ],
            [
             0.4,
             "#fde0ef"
            ],
            [
             0.5,
             "#f7f7f7"
            ],
            [
             0.6,
             "#e6f5d0"
            ],
            [
             0.7,
             "#b8e186"
            ],
            [
             0.8,
             "#7fbc41"
            ],
            [
             0.9,
             "#4d9221"
            ],
            [
             1,
             "#276419"
            ]
           ],
           "sequential": [
            [
             0,
             "#0d0887"
            ],
            [
             0.1111111111111111,
             "#46039f"
            ],
            [
             0.2222222222222222,
             "#7201a8"
            ],
            [
             0.3333333333333333,
             "#9c179e"
            ],
            [
             0.4444444444444444,
             "#bd3786"
            ],
            [
             0.5555555555555556,
             "#d8576b"
            ],
            [
             0.6666666666666666,
             "#ed7953"
            ],
            [
             0.7777777777777778,
             "#fb9f3a"
            ],
            [
             0.8888888888888888,
             "#fdca26"
            ],
            [
             1,
             "#f0f921"
            ]
           ],
           "sequentialminus": [
            [
             0,
             "#0d0887"
            ],
            [
             0.1111111111111111,
             "#46039f"
            ],
            [
             0.2222222222222222,
             "#7201a8"
            ],
            [
             0.3333333333333333,
             "#9c179e"
            ],
            [
             0.4444444444444444,
             "#bd3786"
            ],
            [
             0.5555555555555556,
             "#d8576b"
            ],
            [
             0.6666666666666666,
             "#ed7953"
            ],
            [
             0.7777777777777778,
             "#fb9f3a"
            ],
            [
             0.8888888888888888,
             "#fdca26"
            ],
            [
             1,
             "#f0f921"
            ]
           ]
          },
          "colorway": [
           "#636efa",
           "#EF553B",
           "#00cc96",
           "#ab63fa",
           "#FFA15A",
           "#19d3f3",
           "#FF6692",
           "#B6E880",
           "#FF97FF",
           "#FECB52"
          ],
          "font": {
           "color": "#2a3f5f"
          },
          "geo": {
           "bgcolor": "white",
           "lakecolor": "white",
           "landcolor": "white",
           "showlakes": true,
           "showland": true,
           "subunitcolor": "#C8D4E3"
          },
          "hoverlabel": {
           "align": "left"
          },
          "hovermode": "closest",
          "mapbox": {
           "style": "light"
          },
          "paper_bgcolor": "white",
          "plot_bgcolor": "white",
          "polar": {
           "angularaxis": {
            "gridcolor": "#EBF0F8",
            "linecolor": "#EBF0F8",
            "ticks": ""
           },
           "bgcolor": "white",
           "radialaxis": {
            "gridcolor": "#EBF0F8",
            "linecolor": "#EBF0F8",
            "ticks": ""
           }
          },
          "scene": {
           "xaxis": {
            "backgroundcolor": "white",
            "gridcolor": "#DFE8F3",
            "gridwidth": 2,
            "linecolor": "#EBF0F8",
            "showbackground": true,
            "ticks": "",
            "zerolinecolor": "#EBF0F8"
           },
           "yaxis": {
            "backgroundcolor": "white",
            "gridcolor": "#DFE8F3",
            "gridwidth": 2,
            "linecolor": "#EBF0F8",
            "showbackground": true,
            "ticks": "",
            "zerolinecolor": "#EBF0F8"
           },
           "zaxis": {
            "backgroundcolor": "white",
            "gridcolor": "#DFE8F3",
            "gridwidth": 2,
            "linecolor": "#EBF0F8",
            "showbackground": true,
            "ticks": "",
            "zerolinecolor": "#EBF0F8"
           }
          },
          "shapedefaults": {
           "line": {
            "color": "#2a3f5f"
           }
          },
          "ternary": {
           "aaxis": {
            "gridcolor": "#DFE8F3",
            "linecolor": "#A2B1C6",
            "ticks": ""
           },
           "baxis": {
            "gridcolor": "#DFE8F3",
            "linecolor": "#A2B1C6",
            "ticks": ""
           },
           "bgcolor": "white",
           "caxis": {
            "gridcolor": "#DFE8F3",
            "linecolor": "#A2B1C6",
            "ticks": ""
           }
          },
          "title": {
           "x": 0.05
          },
          "xaxis": {
           "automargin": true,
           "gridcolor": "#EBF0F8",
           "linecolor": "#EBF0F8",
           "ticks": "",
           "title": {
            "standoff": 15
           },
           "zerolinecolor": "#EBF0F8",
           "zerolinewidth": 2
          },
          "yaxis": {
           "automargin": true,
           "gridcolor": "#EBF0F8",
           "linecolor": "#EBF0F8",
           "ticks": "",
           "title": {
            "standoff": 15
           },
           "zerolinecolor": "#EBF0F8",
           "zerolinewidth": 2
          }
         }
        },
        "title": {
         "text": "_VYEHTSRFS[+80]PK_(3+) (R=0.730)",
         "yanchor": "bottom"
        },
        "xaxis": {
         "anchor": "y",
         "domain": [
          0,
          1
         ],
         "matches": "x",
         "visible": false
        },
        "xaxis2": {
         "anchor": "y2",
         "domain": [
          0,
          1
         ],
         "matches": "x"
        },
        "xaxis3": {
         "anchor": "y3",
         "domain": [
          0,
          1
         ],
         "matches": "x"
        },
        "yaxis": {
         "anchor": "x",
         "domain": [
          0.875,
          1
         ],
         "range": [
          -1.1,
          1.1
         ],
         "title": {
          "text": "intensity"
         },
         "visible": false
        },
        "yaxis2": {
         "anchor": "x2",
         "domain": [
          0.175,
          0.825
         ],
         "title": {
          "text": "intensity"
         }
        },
        "yaxis3": {
         "anchor": "x3",
         "domain": [
          0,
          0.125
         ],
         "title": {
          "text": "m/z err"
         }
        }
       }
      }
     },
     "metadata": {},
     "output_type": "display_data"
    }
   ],
   "source": [
    "from alpharaw.viz.df_utils import make_psm_plot_df_for_peptide\n",
    "\n",
    "spec_idx = plot_psm.spec_idx.values[0]\n",
    "peak_mzs, peak_intens = ms_data.get_peaks(spec_idx)\n",
    "\n",
    "pred_inten_df = model_mgr.predict_ms2(plot_psm)\n",
    "\n",
    "plot_df = make_psm_plot_df_for_peptide(\n",
    "    peak_mzs, peak_intens,\n",
    "    sequence=plot_psm.sequence.values[0],\n",
    "    mods=plot_psm.mods.values[0],\n",
    "    mod_sites=plot_psm.mod_sites.values[0],\n",
    "    charge=plot_psm.charge.values[0],\n",
    "    charged_frag_types=pred_inten_df.columns.values,\n",
    "    fragment_intensity_df=pred_inten_df,\n",
    ")\n",
    "psm_plotter.plot(plot_df, \n",
    "    plot_psm.sequence.values[0], \n",
    "    plot_df.modified_sequence.values[0], \n",
    "    plot_unmatched_peaks=True\n",
    ")"
   ]
  },
  {
   "cell_type": "markdown",
   "metadata": {},
   "source": [
    "### Tuning RT and MS2 models"
   ]
  },
  {
   "cell_type": "code",
   "execution_count": 10,
   "metadata": {},
   "outputs": [
    {
     "name": "stdout",
     "output_type": "stream",
     "text": [
      "2024-01-05 13:26:52> 1380 PSMs for RT model training/transfer learning\n",
      "2024-01-05 13:26:53> Testing pretrained RT model:\n",
      "   R_square         R     slope  intercept  test_num\n",
      "0  0.995402  0.997698  0.825496   0.195517      1000\n",
      "2024-01-05 13:26:53> Training with fixed sequence length: 0\n",
      "[Training] Epoch=1, lr=2e-05, loss=0.08107706442332038\n",
      "[Training] Epoch=2, lr=4e-05, loss=0.07229084406907742\n",
      "[Training] Epoch=3, lr=6e-05, loss=0.050113604529402576\n",
      "[Training] Epoch=4, lr=8e-05, loss=0.032774752516371124\n",
      "[Training] Epoch=5, lr=0.0001, loss=0.024268284377355415\n",
      "[Training] Epoch=6, lr=9.890738003669029e-05, loss=0.018506147518145062\n",
      "[Training] Epoch=7, lr=9.567727288213005e-05, loss=0.013855666934082715\n",
      "[Training] Epoch=8, lr=9.045084971874738e-05, loss=0.013193035771389706\n",
      "[Training] Epoch=9, lr=8.345653031794292e-05, loss=0.011465283415208641\n",
      "[Training] Epoch=10, lr=7.500000000000001e-05, loss=0.011816166181233712\n",
      "[Training] Epoch=11, lr=6.545084971874738e-05, loss=0.01034928841713386\n",
      "[Training] Epoch=12, lr=5.522642316338268e-05, loss=0.01050123496231838\n",
      "[Training] Epoch=13, lr=4.477357683661734e-05, loss=0.009688031544031288\n",
      "[Training] Epoch=14, lr=3.4549150281252636e-05, loss=0.008750610940086726\n",
      "[Training] Epoch=15, lr=2.500000000000001e-05, loss=0.009234086361874897\n",
      "[Training] Epoch=16, lr=1.6543469682057106e-05, loss=0.008647163689602166\n",
      "[Training] Epoch=17, lr=9.549150281252633e-06, loss=0.008509265675316922\n",
      "[Training] Epoch=18, lr=4.322727117869951e-06, loss=0.008524204877455933\n",
      "[Training] Epoch=19, lr=1.0926199633097157e-06, loss=0.008364641738948055\n",
      "[Training] Epoch=20, lr=0.0, loss=0.008358054198861983\n",
      "2024-01-05 13:27:36> Testing refined RT model:\n",
      "   R_square         R    slope  intercept  test_num\n",
      "0  0.993634  0.996812  0.99994   0.002577      1000\n"
     ]
    }
   ],
   "source": [
    "model_mgr.psm_num_to_train_rt_ccs = 1000\n",
    "model_mgr.psm_num_to_test_rt_ccs = 1000\n",
    "model_mgr.epoch_to_train_rt_ccs = 20\n",
    "model_mgr.warmup_epoch_to_train_rt_ccs = 5\n",
    "model_mgr.train_rt_model(train_psm_df)"
   ]
  },
  {
   "cell_type": "code",
   "execution_count": 11,
   "metadata": {},
   "outputs": [
    {
     "data": {
      "text/html": [
       "<div>\n",
       "<style scoped>\n",
       "    .dataframe tbody tr th:only-of-type {\n",
       "        vertical-align: middle;\n",
       "    }\n",
       "\n",
       "    .dataframe tbody tr th {\n",
       "        vertical-align: top;\n",
       "    }\n",
       "\n",
       "    .dataframe thead th {\n",
       "        text-align: right;\n",
       "    }\n",
       "</style>\n",
       "<table border=\"1\" class=\"dataframe\">\n",
       "  <thead>\n",
       "    <tr style=\"text-align: right;\">\n",
       "      <th></th>\n",
       "      <th>R_square</th>\n",
       "      <th>R</th>\n",
       "      <th>slope</th>\n",
       "      <th>intercept</th>\n",
       "      <th>test_num</th>\n",
       "    </tr>\n",
       "  </thead>\n",
       "  <tbody>\n",
       "    <tr>\n",
       "      <th>0</th>\n",
       "      <td>0.980845</td>\n",
       "      <td>0.990376</td>\n",
       "      <td>0.984908</td>\n",
       "      <td>0.012151</td>\n",
       "      <td>3110</td>\n",
       "    </tr>\n",
       "  </tbody>\n",
       "</table>\n",
       "</div>"
      ],
      "text/plain": [
       "   R_square         R     slope  intercept  test_num\n",
       "0  0.980845  0.990376  0.984908   0.012151      3110"
      ]
     },
     "execution_count": 11,
     "metadata": {},
     "output_type": "execute_result"
    }
   ],
   "source": [
    "model_mgr.rt_model.test(test_psm_df)"
   ]
  },
  {
   "cell_type": "code",
   "execution_count": null,
   "metadata": {},
   "outputs": [],
   "source": []
  },
  {
   "cell_type": "code",
   "execution_count": 12,
   "metadata": {},
   "outputs": [
    {
     "name": "stdout",
     "output_type": "stream",
     "text": [
      "2024-01-05 13:27:43> Testing pretrained MS2 model on testing df:\n",
      "               PCC          COS           SA          SPC\n",
      "count  1000.000000  1000.000000  1000.000000  1000.000000\n",
      "mean      0.890840     0.899625     0.734921     0.671004\n",
      "std       0.103765     0.096695     0.118363     0.162031\n",
      "min       0.211809     0.245652     0.158004    -0.424290\n",
      "25%       0.862589     0.872491     0.674994     0.579460\n",
      "50%       0.920959     0.927785     0.756579     0.693159\n",
      "75%       0.955755     0.959441     0.818064     0.782204\n",
      "max       0.995810     0.996068     0.943524     0.999539\n",
      ">0.90     0.613000     0.656000     0.024000     0.046000\n",
      ">0.75     0.925000     0.939000     0.528000     0.342000\n",
      "2024-01-05 13:27:43> 1381 PSMs for MS2 model training/transfer learning\n",
      "2024-01-05 13:27:43> Training with fixed sequence length: 0\n",
      "[Training] Epoch=1, lr=3.3333333333333335e-05, loss=0.01664908328498511\n",
      "[Training] Epoch=2, lr=6.666666666666667e-05, loss=0.013426864479223023\n",
      "[Training] Epoch=3, lr=0.0001, loss=0.011662697976293124\n",
      "[Training] Epoch=4, lr=9.504844339512095e-05, loss=0.010919107883439763\n",
      "[Training] Epoch=5, lr=8.117449009293668e-05, loss=0.01071721899991288\n",
      "[Training] Epoch=6, lr=6.112604669781572e-05, loss=0.010207610149138971\n",
      "[Training] Epoch=7, lr=3.887395330218429e-05, loss=0.009793884702958167\n",
      "[Training] Epoch=8, lr=1.8825509907063327e-05, loss=0.009706607549046368\n",
      "[Training] Epoch=9, lr=4.951556604879048e-06, loss=0.009379133440392174\n",
      "[Training] Epoch=10, lr=0.0, loss=0.009282386552987864\n",
      "2024-01-05 13:28:47> Testing refined MS2 model on training df:\n",
      "               PCC          COS           SA          SPC\n",
      "count  1381.000000  1381.000000  1381.000000  1381.000000\n",
      "mean      0.945910     0.949416     0.840730     0.787452\n",
      "std       0.127122     0.120614     0.136104     0.144089\n",
      "min      -0.035886     0.015531     0.009888    -0.254713\n",
      "25%       0.956678     0.959769     0.818806     0.725496\n",
      "50%       0.980305     0.981679     0.877952     0.812672\n",
      "75%       0.990054     0.990683     0.913031     0.877489\n",
      "max       0.999251     0.999310     0.976353     1.000000\n",
      ">0.90     0.908038     0.913106     0.348298     0.186821\n",
      ">0.75     0.961622     0.963794     0.887762     0.689356\n",
      "2024-01-05 13:28:49> Testing refined MS2 model on testing df:\n",
      "               PCC          COS           SA          SPC\n",
      "count  1000.000000  1000.000000  1000.000000  1000.000000\n",
      "mean      0.953285     0.956783     0.838784     0.789710\n",
      "std       0.073237     0.068623     0.100190     0.126019\n",
      "min       0.216983     0.261581     0.168488    -0.325526\n",
      "25%       0.949626     0.953412     0.804910     0.727732\n",
      "50%       0.976389     0.978035     0.866322     0.806516\n",
      "75%       0.987401     0.988312     0.902572     0.873089\n",
      "max       0.998691     0.998718     0.967756     1.000000\n",
      ">0.90     0.897000     0.907000     0.271000     0.163000\n",
      ">0.75     0.976000     0.978000     0.863000     0.702000\n"
     ]
    }
   ],
   "source": [
    "model_mgr.psm_num_to_train_ms2 = 1000\n",
    "model_mgr.psm_num_to_test_ms2 = 1000\n",
    "model_mgr.epoch_to_train_ms2 = 10\n",
    "model_mgr.warmup_epoch_to_train_ms2 = 3\n",
    "model_mgr.train_ms2_model(train_psm_df, frag_inten_df)"
   ]
  },
  {
   "cell_type": "code",
   "execution_count": 13,
   "metadata": {},
   "outputs": [
    {
     "data": {
      "text/html": [
       "<div>\n",
       "<style scoped>\n",
       "    .dataframe tbody tr th:only-of-type {\n",
       "        vertical-align: middle;\n",
       "    }\n",
       "\n",
       "    .dataframe tbody tr th {\n",
       "        vertical-align: top;\n",
       "    }\n",
       "\n",
       "    .dataframe thead th {\n",
       "        text-align: right;\n",
       "    }\n",
       "</style>\n",
       "<table border=\"1\" class=\"dataframe\">\n",
       "  <thead>\n",
       "    <tr style=\"text-align: right;\">\n",
       "      <th></th>\n",
       "      <th>PCC</th>\n",
       "      <th>COS</th>\n",
       "      <th>SA</th>\n",
       "      <th>SPC</th>\n",
       "    </tr>\n",
       "  </thead>\n",
       "  <tbody>\n",
       "    <tr>\n",
       "      <th>count</th>\n",
       "      <td>3110.000000</td>\n",
       "      <td>3110.000000</td>\n",
       "      <td>3110.000000</td>\n",
       "      <td>3110.000000</td>\n",
       "    </tr>\n",
       "    <tr>\n",
       "      <th>mean</th>\n",
       "      <td>0.951283</td>\n",
       "      <td>0.955014</td>\n",
       "      <td>0.840375</td>\n",
       "      <td>0.787173</td>\n",
       "    </tr>\n",
       "    <tr>\n",
       "      <th>std</th>\n",
       "      <td>0.095901</td>\n",
       "      <td>0.089486</td>\n",
       "      <td>0.112223</td>\n",
       "      <td>0.135250</td>\n",
       "    </tr>\n",
       "    <tr>\n",
       "      <th>min</th>\n",
       "      <td>-0.010916</td>\n",
       "      <td>0.078225</td>\n",
       "      <td>0.049851</td>\n",
       "      <td>-0.206753</td>\n",
       "    </tr>\n",
       "    <tr>\n",
       "      <th>25%</th>\n",
       "      <td>0.954793</td>\n",
       "      <td>0.958629</td>\n",
       "      <td>0.816239</td>\n",
       "      <td>0.722921</td>\n",
       "    </tr>\n",
       "    <tr>\n",
       "      <th>50%</th>\n",
       "      <td>0.976775</td>\n",
       "      <td>0.978615</td>\n",
       "      <td>0.868106</td>\n",
       "      <td>0.805832</td>\n",
       "    </tr>\n",
       "    <tr>\n",
       "      <th>75%</th>\n",
       "      <td>0.988050</td>\n",
       "      <td>0.988949</td>\n",
       "      <td>0.905269</td>\n",
       "      <td>0.875599</td>\n",
       "    </tr>\n",
       "    <tr>\n",
       "      <th>max</th>\n",
       "      <td>0.999578</td>\n",
       "      <td>0.999610</td>\n",
       "      <td>0.982218</td>\n",
       "      <td>1.000000</td>\n",
       "    </tr>\n",
       "    <tr>\n",
       "      <th>&gt;0.90</th>\n",
       "      <td>0.908682</td>\n",
       "      <td>0.920900</td>\n",
       "      <td>0.292283</td>\n",
       "      <td>0.182637</td>\n",
       "    </tr>\n",
       "    <tr>\n",
       "      <th>&gt;0.75</th>\n",
       "      <td>0.972347</td>\n",
       "      <td>0.975884</td>\n",
       "      <td>0.884566</td>\n",
       "      <td>0.680064</td>\n",
       "    </tr>\n",
       "  </tbody>\n",
       "</table>\n",
       "</div>"
      ],
      "text/plain": [
       "               PCC          COS           SA          SPC\n",
       "count  3110.000000  3110.000000  3110.000000  3110.000000\n",
       "mean      0.951283     0.955014     0.840375     0.787173\n",
       "std       0.095901     0.089486     0.112223     0.135250\n",
       "min      -0.010916     0.078225     0.049851    -0.206753\n",
       "25%       0.954793     0.958629     0.816239     0.722921\n",
       "50%       0.976775     0.978615     0.868106     0.805832\n",
       "75%       0.988050     0.988949     0.905269     0.875599\n",
       "max       0.999578     0.999610     0.982218     1.000000\n",
       ">0.90     0.908682     0.920900     0.292283     0.182637\n",
       ">0.75     0.972347     0.975884     0.884566     0.680064"
      ]
     },
     "execution_count": 13,
     "metadata": {},
     "output_type": "execute_result"
    }
   ],
   "source": [
    "model_mgr.ms2_model.test(test_psm_df, frag_inten_df)"
   ]
  },
  {
   "cell_type": "code",
   "execution_count": 14,
   "metadata": {},
   "outputs": [
    {
     "name": "stdout",
     "output_type": "stream",
     "text": [
      "2024-01-05 13:28:54> Predicting MS2 ...\n"
     ]
    },
    {
     "name": "stderr",
     "output_type": "stream",
     "text": [
      "100%|██████████| 1/1 [00:00<00:00, 121.44it/s]\n"
     ]
    },
    {
     "data": {
      "application/vnd.plotly.v1+json": {
       "config": {
        "plotlyServerURL": "https://plot.ly"
       },
       "data": [
        {
         "marker": {
          "color": "lightgrey",
          "size": 1
         },
         "mode": "markers",
         "name": "",
         "showlegend": false,
         "type": "scatter",
         "x": [
          101.07186,
          102.0558,
          110.07183,
          110.07947,
          112.087746,
          115.08752,
          116.071945,
          119.38613,
          120.081726,
          129.1027,
          130.05098,
          130.08685,
          130.10614,
          136.06418,
          136.07611,
          137.07986,
          141.1034,
          146.0632,
          147.11327,
          155.0824,
          156.07741,
          157.10886,
          158.09319,
          167.08176,
          171.1139,
          175.1198,
          183.07782,
          187.07166,
          187.14491,
          188.148,
          191.61958,
          192.12086,
          202.08755,
          209.12766,
          211.07103,
          214.09839,
          221.10374,
          226.15543,
          226.61111,
          233.12836,
          235.14465,
          236.14871,
          239.11424,
          240.1472,
          240.60843,
          241.10933,
          241.62877,
          244.16635,
          245.1675,
          246.17143,
          249.09795,
          249.93042,
          252.07652,
          261.123,
          263.13986,
          265.1191,
          265.64957,
          266.1524,
          267.10925,
          272.17154,
          274.657,
          275.1579,
          278.15475,
          283.66214,
          284.16275,
          293.1138,
          295.10657,
          301.66287,
          302.1616,
          313.1875,
          316.67627,
          323.6456,
          324.14703,
          325.2489,
          349.673,
          350.14737,
          365.2059,
          378.71844,
          382.2329,
          383.22766,
          396.74295,
          398.20053,
          402.28683,
          402.72357,
          405.18622,
          405.53888,
          405.877,
          406.20514,
          407.2036,
          411.54846,
          411.6094,
          411.8811,
          411.9396,
          412.2163,
          412.55066,
          412.61423,
          414.2393,
          417.5528,
          417.88586,
          418.2211,
          419.21957,
          419.29068,
          423.89166,
          425.2175,
          428.2382,
          428.29745,
          428.71765,
          428.7943,
          429.29947,
          430.17413,
          439.71582,
          440.72964,
          444.20773,
          444.54153,
          444.8826,
          445.22418,
          450.5474,
          453.23776,
          453.73502,
          460.24557,
          462.24707,
          462.74286,
          463.24298,
          471.25345,
          471.75726,
          477.25327,
          477.75317,
          495.24005,
          495.72586,
          511.23514,
          517.3102,
          517.76215,
          518.261,
          520.2421,
          526.76776,
          527.26666,
          527.7691,
          530.25256,
          535.7752,
          536.2733,
          545.26556,
          549.76996,
          561.2817,
          575.76044,
          584.76074,
          588.3213,
          589.2858,
          599.2969,
          599.78986,
          608.29956,
          608.7997,
          611.29193,
          617.30554,
          617.80817,
          626.30835,
          630.315,
          641.3262,
          666.29504,
          685.32837,
          686.33795,
          688.8204,
          698.33923,
          699.3479,
          703.3936,
          722.27094,
          739.3056,
          783.35596,
          786.4273,
          787.4213,
          801.3759,
          804.4372,
          805.4406,
          809.3689,
          827.3846,
          828.38873,
          852.4019,
          870.3994,
          902.417,
          941.4939,
          990.4455,
          991.4588
         ],
         "xaxis": "x2",
         "y": [
          20909.701,
          29505.701,
          180578.75,
          14425.784,
          27063.59,
          11250.888,
          13002.489,
          7848.4385,
          14907.029,
          116243.81,
          13762.772,
          35386.836,
          9396.226,
          24192.818,
          479766.62,
          22955.11,
          11338.176,
          14579.491,
          60520.582,
          18069.996,
          11859.785,
          28729.74,
          17033.9,
          21991.658,
          10481.87,
          51238.664,
          15054.208,
          14232.827,
          155470.05,
          13746.609,
          59120.957,
          14561.316,
          10596.11,
          11140.204,
          15286.413,
          11062.541,
          47686.316,
          66452.125,
          15733.911,
          13968.483,
          218870.44,
          17149.088,
          35878.33,
          19792.42,
          29381.617,
          13872.491,
          15401.13,
          201716.16,
          14814.713,
          9088.723,
          63552.613,
          9071.154,
          23641.822,
          14509.371,
          38947.035,
          54924.895,
          8927.52,
          10058.801,
          91549.01,
          24990.121,
          39071.863,
          23543.186,
          8716.51,
          34632.375,
          27509.44,
          23120.832,
          10394.375,
          16951.127,
          9978.487,
          11768.5625,
          10155.076,
          87650.766,
          63607.586,
          11454.373,
          33349.176,
          14208.418,
          11491.225,
          10416.879,
          22839.479,
          12138.429,
          20433.879,
          19959.271,
          13483.287,
          19350.428,
          25781.322,
          9863.897,
          17676.568,
          32193.555,
          17700.984,
          41016.84,
          17432.652,
          88242.055,
          14792.65,
          39300.336,
          21870.48,
          17101.889,
          42886.008,
          31228.535,
          92473.98,
          49294.434,
          16900.568,
          11392.772,
          11663.875,
          20526.65,
          28582.451,
          18259.773,
          54822.887,
          24292.646,
          11264.093,
          33019.945,
          15119.736,
          10069.697,
          25119.412,
          57541.34,
          34029.61,
          11235.657,
          30867.654,
          25655.848,
          26833.666,
          13843.142,
          124074.95,
          40694.297,
          12683.424,
          165062.55,
          48414.105,
          60715.05,
          24627.797,
          14425.985,
          47901.234,
          26905.422,
          18683.953,
          41843.87,
          35534.242,
          31960.62,
          132907.58,
          53374.83,
          18107.656,
          17917.42,
          118515.875,
          40740.355,
          26872.393,
          14652.907,
          27379.557,
          12559.593,
          12987.533,
          18924.053,
          17537.797,
          17880.97,
          19628.654,
          47130.832,
          26020.768,
          11466.977,
          146033.31,
          65685.2,
          22319.062,
          10580.072,
          30808.492,
          12987.358,
          78190.19,
          78019.734,
          17744.012,
          37287.043,
          19538.395,
          43330.297,
          13548.133,
          22548.107,
          16164.166,
          32671.047,
          20581.695,
          18620.762,
          128193.195,
          34845.98,
          21278.982,
          42286.68,
          14266.347,
          25045.764,
          10160.314,
          22703.375,
          35855.66,
          37249.12,
          14355.418
         ],
         "yaxis": "y2"
        },
        {
         "hovertemplate": "<b>%{hovertext}</b><br><b>m/z:</b> %{x}<br><b>intensity:</b> %{y}",
         "hovertext": [
          "b2+",
          "b9-98++"
         ],
         "marker": {
          "color": "blue",
          "size": 1
         },
         "mode": "markers",
         "name": "",
         "showlegend": false,
         "type": "scatter",
         "x": [
          263.139,
          545.2593
         ],
         "xaxis": "x2",
         "y": [
          38947.035,
          26872.393
         ],
         "yaxis": "y2"
        },
        {
         "hovertemplate": "<b>%{hovertext}</b><br><b>m/z:</b> %{x}<br><b>intensity:</b> %{y}",
         "hovertext": [
          "b2+",
          "b9-98++"
         ],
         "marker": {
          "color": "blue",
          "size": 1
         },
         "mode": "markers",
         "name": "",
         "showlegend": false,
         "type": "scatter",
         "x": [
          263.139,
          545.2593
         ],
         "xaxis": "x2",
         "y": [
          -29111.963,
          -26496.062
         ],
         "yaxis": "y2"
        },
        {
         "hovertemplate": "<b>%{hovertext}</b><br><b>m/z:</b> %{x}<br><b>intensity:</b> %{y}",
         "hovertext": [
          "y10-98++",
          "y10++",
          "y9-98++",
          "y8-98+",
          "y8-98++",
          "y8++",
          "y7-98+",
          "y7-98++",
          "y7+",
          "y6-98+",
          "y6+",
          "y3-98+",
          "y2+",
          "y1+"
         ],
         "marker": {
          "color": "red",
          "size": 1
         },
         "mode": "markers",
         "name": "",
         "showlegend": false,
         "type": "scatter",
         "x": [
          617.3042,
          666.29266,
          535.7725,
          941.4952,
          471.25122,
          520.2397,
          804.4363,
          402.72177,
          902.41315,
          703.3886,
          801.3655,
          313.18704,
          244.16557,
          147.11281
         ],
         "xaxis": "x2",
         "y": [
          146033.31,
          12987.358,
          118515.875,
          35855.66,
          165062.55,
          31960.62,
          128193.195,
          19350.428,
          22703.375,
          43330.297,
          18620.762,
          11768.5625,
          201716.16,
          60520.582
         ],
         "yaxis": "y2"
        },
        {
         "hovertemplate": "<b>%{hovertext}</b><br><b>m/z:</b> %{x}<br><b>intensity:</b> %{y}",
         "hovertext": [
          "y10-98++",
          "y10++",
          "y9-98++",
          "y8-98+",
          "y8-98++",
          "y8++",
          "y7-98+",
          "y7-98++",
          "y7+",
          "y6-98+",
          "y6+",
          "y5-98+",
          "y4-98+",
          "y3-98+",
          "y2+",
          "y1+"
         ],
         "marker": {
          "color": "red",
          "size": 1
         },
         "mode": "markers",
         "name": "",
         "showlegend": false,
         "type": "scatter",
         "x": [
          617.3042,
          666.29266,
          535.7725,
          941.4952,
          471.25122,
          520.2397,
          804.4363,
          402.72177,
          902.41315,
          703.3886,
          801.3655,
          616.35657,
          460.25543,
          313.18704,
          244.16557,
          147.11281
         ],
         "xaxis": "x2",
         "y": [
          -197392.25,
          -18977.02,
          -101057.42,
          -32807.402,
          -201716.16,
          -42207.84,
          -175540.48,
          -13824.641,
          -24477.889,
          -63476.633,
          -6130.857,
          -435.1185,
          -14551.1045,
          -8653.353,
          -185278.05,
          -51180.977
         ],
         "yaxis": "y2"
        },
        {
         "hovertemplate": "%{hovertext}<br><b>m/z:</b> %{x}<br><b>Mass err:</b> %{y}",
         "hovertext": [
          "b2+",
          "b9-98++"
         ],
         "marker": {
          "color": "blue",
          "size": 5
         },
         "mode": "markers",
         "name": "blue",
         "showlegend": false,
         "type": "scatter",
         "x": [
          263.139,
          545.2593
         ],
         "xaxis": "x3",
         "y": [
          3.2473,
          11.5296
         ],
         "yaxis": "y3"
        },
        {
         "hovertemplate": "%{hovertext}<br><b>m/z:</b> %{x}<br><b>Mass err:</b> %{y}",
         "hovertext": [
          "y10-98++",
          "y10++",
          "y9-98++",
          "y8-98+",
          "y8-98++",
          "y8++",
          "y7-98+",
          "y7-98++",
          "y7+",
          "y6-98+",
          "y6+",
          "y3-98+",
          "y2+",
          "y1+"
         ],
         "marker": {
          "color": "red",
          "size": 5
         },
         "mode": "markers",
         "name": "red",
         "showlegend": false,
         "type": "scatter",
         "x": [
          617.3042,
          666.29266,
          535.7725,
          941.4952,
          471.25122,
          520.2397,
          804.4363,
          402.72177,
          902.41315,
          703.3886,
          801.3655,
          313.18704,
          244.16557,
          147.11281
         ],
         "xaxis": "x3",
         "y": [
          2.1752,
          3.5726,
          5.0125,
          -1.3614,
          4.7274,
          4.6928,
          1.1381,
          4.4709,
          4.261,
          7.1154,
          13.024,
          1.4616,
          3.1872,
          3.1117
         ],
         "yaxis": "y3"
        },
        {
         "hoverinfo": "skip",
         "line": {
          "width": 1
         },
         "marker": {
          "color": "blue"
         },
         "mode": "lines",
         "showlegend": false,
         "type": "scatter",
         "x": [
          314.4703874824461,
          340.225381236431,
          340.225381236431
         ],
         "xaxis": "x",
         "y": [
          0.6,
          0.6,
          0.4
         ],
         "yaxis": "y"
        },
        {
         "hoverinfo": "skip",
         "line": {
          "width": 1
         },
         "marker": {
          "color": "blue"
         },
         "mode": "lines",
         "showlegend": false,
         "type": "scatter",
         "x": [
          675.0403000382353,
          700.7952937922201,
          700.7952937922201
         ],
         "xaxis": "x",
         "y": [
          0.6,
          0.6,
          0.4
         ],
         "yaxis": "y"
        },
        {
         "hoverinfo": "skip",
         "line": {
          "width": 1
         },
         "marker": {
          "color": "red"
         },
         "mode": "lines",
         "showlegend": false,
         "type": "scatter",
         "x": [
          314.4703874824461,
          288.71539372846115,
          288.71539372846115
         ],
         "xaxis": "x",
         "y": [
          -0.6,
          -0.6,
          -0.4
         ],
         "yaxis": "y"
        },
        {
         "hoverinfo": "skip",
         "line": {
          "width": 1
         },
         "marker": {
          "color": "red"
         },
         "mode": "lines",
         "showlegend": false,
         "type": "scatter",
         "x": [
          365.98037499041595,
          340.225381236431,
          340.225381236431
         ],
         "xaxis": "x",
         "y": [
          -0.6,
          -0.6,
          -0.4
         ],
         "yaxis": "y"
        },
        {
         "hoverinfo": "skip",
         "line": {
          "width": 1
         },
         "marker": {
          "color": "red"
         },
         "mode": "lines",
         "showlegend": false,
         "type": "scatter",
         "x": [
          417.4903624983858,
          391.7353687444009,
          391.7353687444009
         ],
         "xaxis": "x",
         "y": [
          -0.6,
          -0.6,
          -0.4
         ],
         "yaxis": "y"
        },
        {
         "hoverinfo": "skip",
         "line": {
          "width": 1
         },
         "marker": {
          "color": "red"
         },
         "mode": "lines",
         "showlegend": false,
         "type": "scatter",
         "x": [
          469.0003500063557,
          443.24535625237075,
          443.24535625237075
         ],
         "xaxis": "x",
         "y": [
          -0.6,
          -0.6,
          -0.4
         ],
         "yaxis": "y"
        },
        {
         "hoverinfo": "skip",
         "line": {
          "width": 1
         },
         "marker": {
          "color": "red"
         },
         "mode": "lines",
         "showlegend": false,
         "type": "scatter",
         "x": [
          520.5103375143256,
          494.75534376034057,
          494.75534376034057
         ],
         "xaxis": "x",
         "y": [
          -0.6,
          -0.6,
          -0.4
         ],
         "yaxis": "y"
        },
        {
         "hoverinfo": "skip",
         "line": {
          "width": 1
         },
         "marker": {
          "color": "red"
         },
         "mode": "lines",
         "showlegend": false,
         "type": "scatter",
         "x": [
          675.0403000382353,
          649.2853062842504,
          649.2853062842504
         ],
         "xaxis": "x",
         "y": [
          -0.6,
          -0.6,
          -0.4
         ],
         "yaxis": "y"
        },
        {
         "hoverinfo": "skip",
         "line": {
          "width": 1
         },
         "marker": {
          "color": "red"
         },
         "mode": "lines",
         "showlegend": false,
         "type": "scatter",
         "x": [
          726.550287546205,
          700.79529379222,
          700.79529379222
         ],
         "xaxis": "x",
         "y": [
          -0.6,
          -0.6,
          -0.4
         ],
         "yaxis": "y"
        },
        {
         "hoverinfo": "skip",
         "line": {
          "width": 1
         },
         "marker": {
          "color": "red"
         },
         "mode": "lines",
         "showlegend": false,
         "type": "scatter",
         "x": [
          778.060275054175,
          752.30528130019,
          752.30528130019
         ],
         "xaxis": "x",
         "y": [
          -0.6,
          -0.6,
          -0.4
         ],
         "yaxis": "y"
        }
       ],
       "layout": {
        "annotations": [
         {
          "font": {
           "size": 10
          },
          "text": "y10-98++",
          "textangle": -90,
          "x": 617.30419921875,
          "xref": "x2",
          "y": 150067.635625,
          "yref": "y2"
         },
         {
          "font": {
           "size": 10
          },
          "text": "y10++",
          "textangle": -90,
          "x": 666.2926635742188,
          "xref": "x2",
          "y": 17021.6815234375,
          "yref": "y2"
         },
         {
          "font": {
           "size": 10
          },
          "text": "b2+",
          "textangle": -90,
          "x": 263.1390075683594,
          "xref": "x2",
          "y": 42981.35828125,
          "yref": "y2"
         },
         {
          "font": {
           "size": 10
          },
          "text": "y9-98++",
          "textangle": -90,
          "x": 535.7725219726562,
          "xref": "x2",
          "y": 122550.198125,
          "yref": "y2"
         },
         {
          "font": {
           "size": 10
          },
          "text": "y8-98+",
          "textangle": -90,
          "x": 941.4951782226562,
          "xref": "x2",
          "y": 39889.98328125,
          "yref": "y2"
         },
         {
          "font": {
           "size": 10
          },
          "text": "y8-98++",
          "textangle": -90,
          "x": 471.251220703125,
          "xref": "x2",
          "y": 169096.87,
          "yref": "y2"
         },
         {
          "font": {
           "size": 10
          },
          "text": "y8++",
          "textangle": -90,
          "x": 520.2396850585938,
          "xref": "x2",
          "y": 35994.942265625,
          "yref": "y2"
         },
         {
          "font": {
           "size": 10
          },
          "text": "y7-98+",
          "textangle": -90,
          "x": 804.436279296875,
          "xref": "x2",
          "y": 132227.5184375,
          "yref": "y2"
         },
         {
          "font": {
           "size": 10
          },
          "text": "y7-98++",
          "textangle": -90,
          "x": 402.7217712402344,
          "xref": "x2",
          "y": 23384.750859375,
          "yref": "y2"
         },
         {
          "font": {
           "size": 10
          },
          "text": "y7+",
          "textangle": -90,
          "x": 902.4131469726562,
          "xref": "x2",
          "y": 26737.698125,
          "yref": "y2"
         },
         {
          "font": {
           "size": 10
          },
          "text": "y6-98+",
          "textangle": -90,
          "x": 703.3886108398438,
          "xref": "x2",
          "y": 47364.62,
          "yref": "y2"
         },
         {
          "font": {
           "size": 10
          },
          "text": "y6+",
          "textangle": -90,
          "x": 801.365478515625,
          "xref": "x2",
          "y": 22655.08484375,
          "yref": "y2"
         },
         {
          "font": {
           "size": 10
          },
          "text": "y3-98+",
          "textangle": -90,
          "x": 313.1870422363281,
          "xref": "x2",
          "y": 15802.885624999999,
          "yref": "y2"
         },
         {
          "font": {
           "size": 10
          },
          "text": "b9-98++",
          "textangle": -90,
          "x": 545.25927734375,
          "xref": "x2",
          "y": 30906.715703125,
          "yref": "y2"
         },
         {
          "font": {
           "size": 10
          },
          "text": "y2+",
          "textangle": -90,
          "x": 244.1655731201172,
          "xref": "x2",
          "y": 205750.479375,
          "yref": "y2"
         },
         {
          "font": {
           "size": 10
          },
          "text": "y1+",
          "textangle": -90,
          "x": 147.11280822753906,
          "xref": "x2",
          "y": 64554.90515625,
          "yref": "y2"
         },
         {
          "ay": -81121.58099975585,
          "ayref": "y2",
          "font": {
           "size": 10
          },
          "text": "y5-98+",
          "textangle": -90,
          "x": 616.3565673828125,
          "xref": "x2",
          "y": -4469.441624755859,
          "yref": "y2"
         },
         {
          "ay": -95237.5669921875,
          "ayref": "y2",
          "font": {
           "size": 10
          },
          "text": "y4-98+",
          "textangle": -90,
          "x": 460.25543212890625,
          "xref": "x2",
          "y": -18585.4276171875,
          "yref": "y2"
         },
         {
          "align": "center",
          "font": {
           "size": 14
          },
          "showarrow": false,
          "text": "V",
          "x": 262.9603999744762,
          "xref": "x",
          "y": 0,
          "yref": "y",
          "yshift": 1
         },
         {
          "align": "center",
          "font": {
           "size": 14
          },
          "showarrow": false,
          "text": "Y",
          "x": 314.4703874824461,
          "xref": "x",
          "y": 0,
          "yref": "y",
          "yshift": 1
         },
         {
          "align": "center",
          "font": {
           "size": 14
          },
          "showarrow": false,
          "text": "E",
          "x": 365.98037499041595,
          "xref": "x",
          "y": 0,
          "yref": "y",
          "yshift": 1
         },
         {
          "align": "center",
          "font": {
           "size": 14
          },
          "showarrow": false,
          "text": "H",
          "x": 417.4903624983858,
          "xref": "x",
          "y": 0,
          "yref": "y",
          "yshift": 1
         },
         {
          "align": "center",
          "font": {
           "size": 14
          },
          "showarrow": false,
          "text": "T",
          "x": 469.0003500063557,
          "xref": "x",
          "y": 0,
          "yref": "y",
          "yshift": 1
         },
         {
          "align": "center",
          "font": {
           "size": 14
          },
          "showarrow": false,
          "text": "S",
          "x": 520.5103375143256,
          "xref": "x",
          "y": 0,
          "yref": "y",
          "yshift": 1
         },
         {
          "align": "center",
          "font": {
           "size": 14
          },
          "showarrow": false,
          "text": "R",
          "x": 572.0203250222955,
          "xref": "x",
          "y": 0,
          "yref": "y",
          "yshift": 1
         },
         {
          "align": "center",
          "font": {
           "size": 14
          },
          "showarrow": false,
          "text": "F",
          "x": 623.5303125302653,
          "xref": "x",
          "y": 0,
          "yref": "y",
          "yshift": 1
         },
         {
          "align": "center",
          "font": {
           "color": "firebrick",
           "size": 14
          },
          "showarrow": false,
          "text": "S",
          "x": 675.0403000382353,
          "xref": "x",
          "y": 0,
          "yref": "y",
          "yshift": 1
         },
         {
          "align": "center",
          "font": {
           "size": 14
          },
          "showarrow": false,
          "text": "P",
          "x": 726.550287546205,
          "xref": "x",
          "y": 0,
          "yref": "y",
          "yshift": 1
         },
         {
          "align": "center",
          "font": {
           "size": 14
          },
          "showarrow": false,
          "text": "K",
          "x": 778.060275054175,
          "xref": "x",
          "y": 0,
          "yref": "y",
          "yshift": 1
         },
         {
          "font": {
           "size": 8
          },
          "showarrow": false,
          "text": "b2",
          "x": 327.3478843594386,
          "xref": "x",
          "y": 1,
          "yref": "y"
         },
         {
          "font": {
           "size": 8
          },
          "showarrow": false,
          "text": "b9",
          "x": 687.9177969152277,
          "xref": "x",
          "y": 1,
          "yref": "y"
         },
         {
          "font": {
           "size": 8
          },
          "showarrow": false,
          "text": "y10",
          "x": 301.5928906054536,
          "xref": "x",
          "y": -1,
          "yref": "y"
         },
         {
          "font": {
           "size": 8
          },
          "showarrow": false,
          "text": "y9",
          "x": 353.10287811342346,
          "xref": "x",
          "y": -1,
          "yref": "y"
         },
         {
          "font": {
           "size": 8
          },
          "showarrow": false,
          "text": "y8",
          "x": 404.6128656213933,
          "xref": "x",
          "y": -1,
          "yref": "y"
         },
         {
          "font": {
           "size": 8
          },
          "showarrow": false,
          "text": "y7",
          "x": 456.1228531293632,
          "xref": "x",
          "y": -1,
          "yref": "y"
         },
         {
          "font": {
           "size": 8
          },
          "showarrow": false,
          "text": "y6",
          "x": 507.63284063733306,
          "xref": "x",
          "y": -1,
          "yref": "y"
         },
         {
          "font": {
           "size": 8
          },
          "showarrow": false,
          "text": "y3",
          "x": 662.1628031612429,
          "xref": "x",
          "y": -1,
          "yref": "y"
         },
         {
          "font": {
           "size": 8
          },
          "showarrow": false,
          "text": "y2",
          "x": 713.6727906692125,
          "xref": "x",
          "y": -1,
          "yref": "y"
         },
         {
          "font": {
           "size": 8
          },
          "showarrow": false,
          "text": "y1",
          "x": 765.1827781771825,
          "xref": "x",
          "y": -1,
          "yref": "y"
         }
        ],
        "height": 600,
        "hovermode": "x",
        "shapes": [
         {
          "line": {
           "color": "lightgrey",
           "width": 1.5
          },
          "type": "line",
          "x0": 101.07186126708984,
          "x1": 101.07186126708984,
          "xref": "x2",
          "y0": 0,
          "y1": 20909.701171875,
          "yref": "y2"
         },
         {
          "line": {
           "color": "lightgrey",
           "width": 1.5
          },
          "type": "line",
          "x0": 102.05580139160156,
          "x1": 102.05580139160156,
          "xref": "x2",
          "y0": 0,
          "y1": 29505.701171875,
          "yref": "y2"
         },
         {
          "line": {
           "color": "lightgrey",
           "width": 1.5
          },
          "type": "line",
          "x0": 110.07183074951172,
          "x1": 110.07183074951172,
          "xref": "x2",
          "y0": 0,
          "y1": 180578.75,
          "yref": "y2"
         },
         {
          "line": {
           "color": "lightgrey",
           "width": 1.5
          },
          "type": "line",
          "x0": 110.0794677734375,
          "x1": 110.0794677734375,
          "xref": "x2",
          "y0": 0,
          "y1": 14425.7841796875,
          "yref": "y2"
         },
         {
          "line": {
           "color": "lightgrey",
           "width": 1.5
          },
          "type": "line",
          "x0": 112.0877456665039,
          "x1": 112.0877456665039,
          "xref": "x2",
          "y0": 0,
          "y1": 27063.58984375,
          "yref": "y2"
         },
         {
          "line": {
           "color": "lightgrey",
           "width": 1.5
          },
          "type": "line",
          "x0": 115.08751678466797,
          "x1": 115.08751678466797,
          "xref": "x2",
          "y0": 0,
          "y1": 11250.8876953125,
          "yref": "y2"
         },
         {
          "line": {
           "color": "lightgrey",
           "width": 1.5
          },
          "type": "line",
          "x0": 116.07194519042969,
          "x1": 116.07194519042969,
          "xref": "x2",
          "y0": 0,
          "y1": 13002.4892578125,
          "yref": "y2"
         },
         {
          "line": {
           "color": "lightgrey",
           "width": 1.5
          },
          "type": "line",
          "x0": 119.3861312866211,
          "x1": 119.3861312866211,
          "xref": "x2",
          "y0": 0,
          "y1": 7848.4384765625,
          "yref": "y2"
         },
         {
          "line": {
           "color": "lightgrey",
           "width": 1.5
          },
          "type": "line",
          "x0": 120.08172607421875,
          "x1": 120.08172607421875,
          "xref": "x2",
          "y0": 0,
          "y1": 14907.029296875,
          "yref": "y2"
         },
         {
          "line": {
           "color": "lightgrey",
           "width": 1.5
          },
          "type": "line",
          "x0": 129.1027069091797,
          "x1": 129.1027069091797,
          "xref": "x2",
          "y0": 0,
          "y1": 116243.8125,
          "yref": "y2"
         },
         {
          "line": {
           "color": "lightgrey",
           "width": 1.5
          },
          "type": "line",
          "x0": 130.0509796142578,
          "x1": 130.0509796142578,
          "xref": "x2",
          "y0": 0,
          "y1": 13762.7724609375,
          "yref": "y2"
         },
         {
          "line": {
           "color": "lightgrey",
           "width": 1.5
          },
          "type": "line",
          "x0": 130.08685302734375,
          "x1": 130.08685302734375,
          "xref": "x2",
          "y0": 0,
          "y1": 35386.8359375,
          "yref": "y2"
         },
         {
          "line": {
           "color": "lightgrey",
           "width": 1.5
          },
          "type": "line",
          "x0": 130.10614013671875,
          "x1": 130.10614013671875,
          "xref": "x2",
          "y0": 0,
          "y1": 9396.2255859375,
          "yref": "y2"
         },
         {
          "line": {
           "color": "lightgrey",
           "width": 1.5
          },
          "type": "line",
          "x0": 136.06417846679688,
          "x1": 136.06417846679688,
          "xref": "x2",
          "y0": 0,
          "y1": 24192.818359375,
          "yref": "y2"
         },
         {
          "line": {
           "color": "lightgrey",
           "width": 1.5
          },
          "type": "line",
          "x0": 136.07611083984375,
          "x1": 136.07611083984375,
          "xref": "x2",
          "y0": 0,
          "y1": 479766.625,
          "yref": "y2"
         },
         {
          "line": {
           "color": "lightgrey",
           "width": 1.5
          },
          "type": "line",
          "x0": 137.07986450195312,
          "x1": 137.07986450195312,
          "xref": "x2",
          "y0": 0,
          "y1": 22955.109375,
          "yref": "y2"
         },
         {
          "line": {
           "color": "lightgrey",
           "width": 1.5
          },
          "type": "line",
          "x0": 141.1033935546875,
          "x1": 141.1033935546875,
          "xref": "x2",
          "y0": 0,
          "y1": 11338.17578125,
          "yref": "y2"
         },
         {
          "line": {
           "color": "lightgrey",
           "width": 1.5
          },
          "type": "line",
          "x0": 146.06320190429688,
          "x1": 146.06320190429688,
          "xref": "x2",
          "y0": 0,
          "y1": 14579.4912109375,
          "yref": "y2"
         },
         {
          "line": {
           "color": "lightgrey",
           "width": 1.5
          },
          "type": "line",
          "x0": 147.11326599121094,
          "x1": 147.11326599121094,
          "xref": "x2",
          "y0": 0,
          "y1": 60520.58203125,
          "yref": "y2"
         },
         {
          "line": {
           "color": "lightgrey",
           "width": 1.5
          },
          "type": "line",
          "x0": 155.0823974609375,
          "x1": 155.0823974609375,
          "xref": "x2",
          "y0": 0,
          "y1": 18069.99609375,
          "yref": "y2"
         },
         {
          "line": {
           "color": "lightgrey",
           "width": 1.5
          },
          "type": "line",
          "x0": 156.07740783691406,
          "x1": 156.07740783691406,
          "xref": "x2",
          "y0": 0,
          "y1": 11859.78515625,
          "yref": "y2"
         },
         {
          "line": {
           "color": "lightgrey",
           "width": 1.5
          },
          "type": "line",
          "x0": 157.10885620117188,
          "x1": 157.10885620117188,
          "xref": "x2",
          "y0": 0,
          "y1": 28729.740234375,
          "yref": "y2"
         },
         {
          "line": {
           "color": "lightgrey",
           "width": 1.5
          },
          "type": "line",
          "x0": 158.0931854248047,
          "x1": 158.0931854248047,
          "xref": "x2",
          "y0": 0,
          "y1": 17033.900390625,
          "yref": "y2"
         },
         {
          "line": {
           "color": "lightgrey",
           "width": 1.5
          },
          "type": "line",
          "x0": 167.08175659179688,
          "x1": 167.08175659179688,
          "xref": "x2",
          "y0": 0,
          "y1": 21991.658203125,
          "yref": "y2"
         },
         {
          "line": {
           "color": "lightgrey",
           "width": 1.5
          },
          "type": "line",
          "x0": 171.11390686035156,
          "x1": 171.11390686035156,
          "xref": "x2",
          "y0": 0,
          "y1": 10481.8701171875,
          "yref": "y2"
         },
         {
          "line": {
           "color": "lightgrey",
           "width": 1.5
          },
          "type": "line",
          "x0": 175.1197967529297,
          "x1": 175.1197967529297,
          "xref": "x2",
          "y0": 0,
          "y1": 51238.6640625,
          "yref": "y2"
         },
         {
          "line": {
           "color": "lightgrey",
           "width": 1.5
          },
          "type": "line",
          "x0": 183.07781982421875,
          "x1": 183.07781982421875,
          "xref": "x2",
          "y0": 0,
          "y1": 15054.2080078125,
          "yref": "y2"
         },
         {
          "line": {
           "color": "lightgrey",
           "width": 1.5
          },
          "type": "line",
          "x0": 187.0716552734375,
          "x1": 187.0716552734375,
          "xref": "x2",
          "y0": 0,
          "y1": 14232.8271484375,
          "yref": "y2"
         },
         {
          "line": {
           "color": "lightgrey",
           "width": 1.5
          },
          "type": "line",
          "x0": 187.14491271972656,
          "x1": 187.14491271972656,
          "xref": "x2",
          "y0": 0,
          "y1": 155470.046875,
          "yref": "y2"
         },
         {
          "line": {
           "color": "lightgrey",
           "width": 1.5
          },
          "type": "line",
          "x0": 188.1479949951172,
          "x1": 188.1479949951172,
          "xref": "x2",
          "y0": 0,
          "y1": 13746.609375,
          "yref": "y2"
         },
         {
          "line": {
           "color": "lightgrey",
           "width": 1.5
          },
          "type": "line",
          "x0": 191.6195831298828,
          "x1": 191.6195831298828,
          "xref": "x2",
          "y0": 0,
          "y1": 59120.95703125,
          "yref": "y2"
         },
         {
          "line": {
           "color": "lightgrey",
           "width": 1.5
          },
          "type": "line",
          "x0": 192.12086486816406,
          "x1": 192.12086486816406,
          "xref": "x2",
          "y0": 0,
          "y1": 14561.31640625,
          "yref": "y2"
         },
         {
          "line": {
           "color": "lightgrey",
           "width": 1.5
          },
          "type": "line",
          "x0": 202.08755493164062,
          "x1": 202.08755493164062,
          "xref": "x2",
          "y0": 0,
          "y1": 10596.1103515625,
          "yref": "y2"
         },
         {
          "line": {
           "color": "lightgrey",
           "width": 1.5
          },
          "type": "line",
          "x0": 209.12765502929688,
          "x1": 209.12765502929688,
          "xref": "x2",
          "y0": 0,
          "y1": 11140.2041015625,
          "yref": "y2"
         },
         {
          "line": {
           "color": "lightgrey",
           "width": 1.5
          },
          "type": "line",
          "x0": 211.07102966308594,
          "x1": 211.07102966308594,
          "xref": "x2",
          "y0": 0,
          "y1": 15286.4130859375,
          "yref": "y2"
         },
         {
          "line": {
           "color": "lightgrey",
           "width": 1.5
          },
          "type": "line",
          "x0": 214.098388671875,
          "x1": 214.098388671875,
          "xref": "x2",
          "y0": 0,
          "y1": 11062.541015625,
          "yref": "y2"
         },
         {
          "line": {
           "color": "lightgrey",
           "width": 1.5
          },
          "type": "line",
          "x0": 221.10374450683594,
          "x1": 221.10374450683594,
          "xref": "x2",
          "y0": 0,
          "y1": 47686.31640625,
          "yref": "y2"
         },
         {
          "line": {
           "color": "lightgrey",
           "width": 1.5
          },
          "type": "line",
          "x0": 226.15542602539062,
          "x1": 226.15542602539062,
          "xref": "x2",
          "y0": 0,
          "y1": 66452.125,
          "yref": "y2"
         },
         {
          "line": {
           "color": "lightgrey",
           "width": 1.5
          },
          "type": "line",
          "x0": 226.61111450195312,
          "x1": 226.61111450195312,
          "xref": "x2",
          "y0": 0,
          "y1": 15733.9111328125,
          "yref": "y2"
         },
         {
          "line": {
           "color": "lightgrey",
           "width": 1.5
          },
          "type": "line",
          "x0": 233.12835693359375,
          "x1": 233.12835693359375,
          "xref": "x2",
          "y0": 0,
          "y1": 13968.4833984375,
          "yref": "y2"
         },
         {
          "line": {
           "color": "lightgrey",
           "width": 1.5
          },
          "type": "line",
          "x0": 235.1446533203125,
          "x1": 235.1446533203125,
          "xref": "x2",
          "y0": 0,
          "y1": 218870.4375,
          "yref": "y2"
         },
         {
          "line": {
           "color": "lightgrey",
           "width": 1.5
          },
          "type": "line",
          "x0": 236.14871215820312,
          "x1": 236.14871215820312,
          "xref": "x2",
          "y0": 0,
          "y1": 17149.087890625,
          "yref": "y2"
         },
         {
          "line": {
           "color": "lightgrey",
           "width": 1.5
          },
          "type": "line",
          "x0": 239.11424255371094,
          "x1": 239.11424255371094,
          "xref": "x2",
          "y0": 0,
          "y1": 35878.328125,
          "yref": "y2"
         },
         {
          "line": {
           "color": "lightgrey",
           "width": 1.5
          },
          "type": "line",
          "x0": 240.14720153808594,
          "x1": 240.14720153808594,
          "xref": "x2",
          "y0": 0,
          "y1": 19792.419921875,
          "yref": "y2"
         },
         {
          "line": {
           "color": "lightgrey",
           "width": 1.5
          },
          "type": "line",
          "x0": 240.60842895507812,
          "x1": 240.60842895507812,
          "xref": "x2",
          "y0": 0,
          "y1": 29381.6171875,
          "yref": "y2"
         },
         {
          "line": {
           "color": "lightgrey",
           "width": 1.5
          },
          "type": "line",
          "x0": 241.1093292236328,
          "x1": 241.1093292236328,
          "xref": "x2",
          "y0": 0,
          "y1": 13872.4912109375,
          "yref": "y2"
         },
         {
          "line": {
           "color": "lightgrey",
           "width": 1.5
          },
          "type": "line",
          "x0": 241.62876892089844,
          "x1": 241.62876892089844,
          "xref": "x2",
          "y0": 0,
          "y1": 15401.1298828125,
          "yref": "y2"
         },
         {
          "line": {
           "color": "lightgrey",
           "width": 1.5
          },
          "type": "line",
          "x0": 244.16635131835938,
          "x1": 244.16635131835938,
          "xref": "x2",
          "y0": 0,
          "y1": 201716.15625,
          "yref": "y2"
         },
         {
          "line": {
           "color": "lightgrey",
           "width": 1.5
          },
          "type": "line",
          "x0": 245.16749572753906,
          "x1": 245.16749572753906,
          "xref": "x2",
          "y0": 0,
          "y1": 14814.712890625,
          "yref": "y2"
         },
         {
          "line": {
           "color": "lightgrey",
           "width": 1.5
          },
          "type": "line",
          "x0": 246.1714324951172,
          "x1": 246.1714324951172,
          "xref": "x2",
          "y0": 0,
          "y1": 9088.72265625,
          "yref": "y2"
         },
         {
          "line": {
           "color": "lightgrey",
           "width": 1.5
          },
          "type": "line",
          "x0": 249.0979461669922,
          "x1": 249.0979461669922,
          "xref": "x2",
          "y0": 0,
          "y1": 63552.61328125,
          "yref": "y2"
         },
         {
          "line": {
           "color": "lightgrey",
           "width": 1.5
          },
          "type": "line",
          "x0": 249.930419921875,
          "x1": 249.930419921875,
          "xref": "x2",
          "y0": 0,
          "y1": 9071.154296875,
          "yref": "y2"
         },
         {
          "line": {
           "color": "lightgrey",
           "width": 1.5
          },
          "type": "line",
          "x0": 252.07652282714844,
          "x1": 252.07652282714844,
          "xref": "x2",
          "y0": 0,
          "y1": 23641.822265625,
          "yref": "y2"
         },
         {
          "line": {
           "color": "lightgrey",
           "width": 1.5
          },
          "type": "line",
          "x0": 261.12298583984375,
          "x1": 261.12298583984375,
          "xref": "x2",
          "y0": 0,
          "y1": 14509.37109375,
          "yref": "y2"
         },
         {
          "line": {
           "color": "lightgrey",
           "width": 1.5
          },
          "type": "line",
          "x0": 263.1398620605469,
          "x1": 263.1398620605469,
          "xref": "x2",
          "y0": 0,
          "y1": 38947.03515625,
          "yref": "y2"
         },
         {
          "line": {
           "color": "lightgrey",
           "width": 1.5
          },
          "type": "line",
          "x0": 265.1191101074219,
          "x1": 265.1191101074219,
          "xref": "x2",
          "y0": 0,
          "y1": 54924.89453125,
          "yref": "y2"
         },
         {
          "line": {
           "color": "lightgrey",
           "width": 1.5
          },
          "type": "line",
          "x0": 265.6495666503906,
          "x1": 265.6495666503906,
          "xref": "x2",
          "y0": 0,
          "y1": 8927.51953125,
          "yref": "y2"
         },
         {
          "line": {
           "color": "lightgrey",
           "width": 1.5
          },
          "type": "line",
          "x0": 266.15240478515625,
          "x1": 266.15240478515625,
          "xref": "x2",
          "y0": 0,
          "y1": 10058.80078125,
          "yref": "y2"
         },
         {
          "line": {
           "color": "lightgrey",
           "width": 1.5
          },
          "type": "line",
          "x0": 267.1092529296875,
          "x1": 267.1092529296875,
          "xref": "x2",
          "y0": 0,
          "y1": 91549.0078125,
          "yref": "y2"
         },
         {
          "line": {
           "color": "lightgrey",
           "width": 1.5
          },
          "type": "line",
          "x0": 272.1715393066406,
          "x1": 272.1715393066406,
          "xref": "x2",
          "y0": 0,
          "y1": 24990.12109375,
          "yref": "y2"
         },
         {
          "line": {
           "color": "lightgrey",
           "width": 1.5
          },
          "type": "line",
          "x0": 274.6570129394531,
          "x1": 274.6570129394531,
          "xref": "x2",
          "y0": 0,
          "y1": 39071.86328125,
          "yref": "y2"
         },
         {
          "line": {
           "color": "lightgrey",
           "width": 1.5
          },
          "type": "line",
          "x0": 275.15789794921875,
          "x1": 275.15789794921875,
          "xref": "x2",
          "y0": 0,
          "y1": 23543.185546875,
          "yref": "y2"
         },
         {
          "line": {
           "color": "lightgrey",
           "width": 1.5
          },
          "type": "line",
          "x0": 278.1547546386719,
          "x1": 278.1547546386719,
          "xref": "x2",
          "y0": 0,
          "y1": 8716.509765625,
          "yref": "y2"
         },
         {
          "line": {
           "color": "lightgrey",
           "width": 1.5
          },
          "type": "line",
          "x0": 283.6621398925781,
          "x1": 283.6621398925781,
          "xref": "x2",
          "y0": 0,
          "y1": 34632.375,
          "yref": "y2"
         },
         {
          "line": {
           "color": "lightgrey",
           "width": 1.5
          },
          "type": "line",
          "x0": 284.1627502441406,
          "x1": 284.1627502441406,
          "xref": "x2",
          "y0": 0,
          "y1": 27509.439453125,
          "yref": "y2"
         },
         {
          "line": {
           "color": "lightgrey",
           "width": 1.5
          },
          "type": "line",
          "x0": 293.1138000488281,
          "x1": 293.1138000488281,
          "xref": "x2",
          "y0": 0,
          "y1": 23120.83203125,
          "yref": "y2"
         },
         {
          "line": {
           "color": "lightgrey",
           "width": 1.5
          },
          "type": "line",
          "x0": 295.1065673828125,
          "x1": 295.1065673828125,
          "xref": "x2",
          "y0": 0,
          "y1": 10394.375,
          "yref": "y2"
         },
         {
          "line": {
           "color": "lightgrey",
           "width": 1.5
          },
          "type": "line",
          "x0": 301.6628723144531,
          "x1": 301.6628723144531,
          "xref": "x2",
          "y0": 0,
          "y1": 16951.126953125,
          "yref": "y2"
         },
         {
          "line": {
           "color": "lightgrey",
           "width": 1.5
          },
          "type": "line",
          "x0": 302.1615905761719,
          "x1": 302.1615905761719,
          "xref": "x2",
          "y0": 0,
          "y1": 9978.4873046875,
          "yref": "y2"
         },
         {
          "line": {
           "color": "lightgrey",
           "width": 1.5
          },
          "type": "line",
          "x0": 313.1875,
          "x1": 313.1875,
          "xref": "x2",
          "y0": 0,
          "y1": 11768.5625,
          "yref": "y2"
         },
         {
          "line": {
           "color": "lightgrey",
           "width": 1.5
          },
          "type": "line",
          "x0": 316.67626953125,
          "x1": 316.67626953125,
          "xref": "x2",
          "y0": 0,
          "y1": 10155.076171875,
          "yref": "y2"
         },
         {
          "line": {
           "color": "lightgrey",
           "width": 1.5
          },
          "type": "line",
          "x0": 323.6455993652344,
          "x1": 323.6455993652344,
          "xref": "x2",
          "y0": 0,
          "y1": 87650.765625,
          "yref": "y2"
         },
         {
          "line": {
           "color": "lightgrey",
           "width": 1.5
          },
          "type": "line",
          "x0": 324.14703369140625,
          "x1": 324.14703369140625,
          "xref": "x2",
          "y0": 0,
          "y1": 63607.5859375,
          "yref": "y2"
         },
         {
          "line": {
           "color": "lightgrey",
           "width": 1.5
          },
          "type": "line",
          "x0": 325.2489013671875,
          "x1": 325.2489013671875,
          "xref": "x2",
          "y0": 0,
          "y1": 11454.373046875,
          "yref": "y2"
         },
         {
          "line": {
           "color": "lightgrey",
           "width": 1.5
          },
          "type": "line",
          "x0": 349.6730041503906,
          "x1": 349.6730041503906,
          "xref": "x2",
          "y0": 0,
          "y1": 33349.17578125,
          "yref": "y2"
         },
         {
          "line": {
           "color": "lightgrey",
           "width": 1.5
          },
          "type": "line",
          "x0": 350.1473693847656,
          "x1": 350.1473693847656,
          "xref": "x2",
          "y0": 0,
          "y1": 14208.41796875,
          "yref": "y2"
         },
         {
          "line": {
           "color": "lightgrey",
           "width": 1.5
          },
          "type": "line",
          "x0": 365.2059020996094,
          "x1": 365.2059020996094,
          "xref": "x2",
          "y0": 0,
          "y1": 11491.224609375,
          "yref": "y2"
         },
         {
          "line": {
           "color": "lightgrey",
           "width": 1.5
          },
          "type": "line",
          "x0": 378.71844482421875,
          "x1": 378.71844482421875,
          "xref": "x2",
          "y0": 0,
          "y1": 10416.87890625,
          "yref": "y2"
         },
         {
          "line": {
           "color": "lightgrey",
           "width": 1.5
          },
          "type": "line",
          "x0": 382.23291015625,
          "x1": 382.23291015625,
          "xref": "x2",
          "y0": 0,
          "y1": 22839.478515625,
          "yref": "y2"
         },
         {
          "line": {
           "color": "lightgrey",
           "width": 1.5
          },
          "type": "line",
          "x0": 383.2276611328125,
          "x1": 383.2276611328125,
          "xref": "x2",
          "y0": 0,
          "y1": 12138.4287109375,
          "yref": "y2"
         },
         {
          "line": {
           "color": "lightgrey",
           "width": 1.5
          },
          "type": "line",
          "x0": 396.7429504394531,
          "x1": 396.7429504394531,
          "xref": "x2",
          "y0": 0,
          "y1": 20433.87890625,
          "yref": "y2"
         },
         {
          "line": {
           "color": "lightgrey",
           "width": 1.5
          },
          "type": "line",
          "x0": 398.2005310058594,
          "x1": 398.2005310058594,
          "xref": "x2",
          "y0": 0,
          "y1": 19959.271484375,
          "yref": "y2"
         },
         {
          "line": {
           "color": "lightgrey",
           "width": 1.5
          },
          "type": "line",
          "x0": 402.2868347167969,
          "x1": 402.2868347167969,
          "xref": "x2",
          "y0": 0,
          "y1": 13483.287109375,
          "yref": "y2"
         },
         {
          "line": {
           "color": "lightgrey",
           "width": 1.5
          },
          "type": "line",
          "x0": 402.72357177734375,
          "x1": 402.72357177734375,
          "xref": "x2",
          "y0": 0,
          "y1": 19350.427734375,
          "yref": "y2"
         },
         {
          "line": {
           "color": "lightgrey",
           "width": 1.5
          },
          "type": "line",
          "x0": 405.18621826171875,
          "x1": 405.18621826171875,
          "xref": "x2",
          "y0": 0,
          "y1": 25781.322265625,
          "yref": "y2"
         },
         {
          "line": {
           "color": "lightgrey",
           "width": 1.5
          },
          "type": "line",
          "x0": 405.53887939453125,
          "x1": 405.53887939453125,
          "xref": "x2",
          "y0": 0,
          "y1": 9863.8974609375,
          "yref": "y2"
         },
         {
          "line": {
           "color": "lightgrey",
           "width": 1.5
          },
          "type": "line",
          "x0": 405.87701416015625,
          "x1": 405.87701416015625,
          "xref": "x2",
          "y0": 0,
          "y1": 17676.568359375,
          "yref": "y2"
         },
         {
          "line": {
           "color": "lightgrey",
           "width": 1.5
          },
          "type": "line",
          "x0": 406.20513916015625,
          "x1": 406.20513916015625,
          "xref": "x2",
          "y0": 0,
          "y1": 32193.5546875,
          "yref": "y2"
         },
         {
          "line": {
           "color": "lightgrey",
           "width": 1.5
          },
          "type": "line",
          "x0": 407.20361328125,
          "x1": 407.20361328125,
          "xref": "x2",
          "y0": 0,
          "y1": 17700.984375,
          "yref": "y2"
         },
         {
          "line": {
           "color": "lightgrey",
           "width": 1.5
          },
          "type": "line",
          "x0": 411.5484619140625,
          "x1": 411.5484619140625,
          "xref": "x2",
          "y0": 0,
          "y1": 41016.83984375,
          "yref": "y2"
         },
         {
          "line": {
           "color": "lightgrey",
           "width": 1.5
          },
          "type": "line",
          "x0": 411.6094055175781,
          "x1": 411.6094055175781,
          "xref": "x2",
          "y0": 0,
          "y1": 17432.65234375,
          "yref": "y2"
         },
         {
          "line": {
           "color": "lightgrey",
           "width": 1.5
          },
          "type": "line",
          "x0": 411.881103515625,
          "x1": 411.881103515625,
          "xref": "x2",
          "y0": 0,
          "y1": 88242.0546875,
          "yref": "y2"
         },
         {
          "line": {
           "color": "lightgrey",
           "width": 1.5
          },
          "type": "line",
          "x0": 411.9396057128906,
          "x1": 411.9396057128906,
          "xref": "x2",
          "y0": 0,
          "y1": 14792.650390625,
          "yref": "y2"
         },
         {
          "line": {
           "color": "lightgrey",
           "width": 1.5
          },
          "type": "line",
          "x0": 412.21630859375,
          "x1": 412.21630859375,
          "xref": "x2",
          "y0": 0,
          "y1": 39300.3359375,
          "yref": "y2"
         },
         {
          "line": {
           "color": "lightgrey",
           "width": 1.5
          },
          "type": "line",
          "x0": 412.5506591796875,
          "x1": 412.5506591796875,
          "xref": "x2",
          "y0": 0,
          "y1": 21870.48046875,
          "yref": "y2"
         },
         {
          "line": {
           "color": "lightgrey",
           "width": 1.5
          },
          "type": "line",
          "x0": 412.6142272949219,
          "x1": 412.6142272949219,
          "xref": "x2",
          "y0": 0,
          "y1": 17101.888671875,
          "yref": "y2"
         },
         {
          "line": {
           "color": "lightgrey",
           "width": 1.5
          },
          "type": "line",
          "x0": 414.2392883300781,
          "x1": 414.2392883300781,
          "xref": "x2",
          "y0": 0,
          "y1": 42886.0078125,
          "yref": "y2"
         },
         {
          "line": {
           "color": "lightgrey",
           "width": 1.5
          },
          "type": "line",
          "x0": 417.55279541015625,
          "x1": 417.55279541015625,
          "xref": "x2",
          "y0": 0,
          "y1": 31228.53515625,
          "yref": "y2"
         },
         {
          "line": {
           "color": "lightgrey",
           "width": 1.5
          },
          "type": "line",
          "x0": 417.8858642578125,
          "x1": 417.8858642578125,
          "xref": "x2",
          "y0": 0,
          "y1": 92473.9765625,
          "yref": "y2"
         },
         {
          "line": {
           "color": "lightgrey",
           "width": 1.5
          },
          "type": "line",
          "x0": 418.2210998535156,
          "x1": 418.2210998535156,
          "xref": "x2",
          "y0": 0,
          "y1": 49294.43359375,
          "yref": "y2"
         },
         {
          "line": {
           "color": "lightgrey",
           "width": 1.5
          },
          "type": "line",
          "x0": 419.2195739746094,
          "x1": 419.2195739746094,
          "xref": "x2",
          "y0": 0,
          "y1": 16900.568359375,
          "yref": "y2"
         },
         {
          "line": {
           "color": "lightgrey",
           "width": 1.5
          },
          "type": "line",
          "x0": 419.2906799316406,
          "x1": 419.2906799316406,
          "xref": "x2",
          "y0": 0,
          "y1": 11392.7724609375,
          "yref": "y2"
         },
         {
          "line": {
           "color": "lightgrey",
           "width": 1.5
          },
          "type": "line",
          "x0": 423.89166259765625,
          "x1": 423.89166259765625,
          "xref": "x2",
          "y0": 0,
          "y1": 11663.875,
          "yref": "y2"
         },
         {
          "line": {
           "color": "lightgrey",
           "width": 1.5
          },
          "type": "line",
          "x0": 425.2174987792969,
          "x1": 425.2174987792969,
          "xref": "x2",
          "y0": 0,
          "y1": 20526.650390625,
          "yref": "y2"
         },
         {
          "line": {
           "color": "lightgrey",
           "width": 1.5
          },
          "type": "line",
          "x0": 428.2381896972656,
          "x1": 428.2381896972656,
          "xref": "x2",
          "y0": 0,
          "y1": 28582.451171875,
          "yref": "y2"
         },
         {
          "line": {
           "color": "lightgrey",
           "width": 1.5
          },
          "type": "line",
          "x0": 428.2974548339844,
          "x1": 428.2974548339844,
          "xref": "x2",
          "y0": 0,
          "y1": 18259.7734375,
          "yref": "y2"
         },
         {
          "line": {
           "color": "lightgrey",
           "width": 1.5
          },
          "type": "line",
          "x0": 428.7176513671875,
          "x1": 428.7176513671875,
          "xref": "x2",
          "y0": 0,
          "y1": 54822.88671875,
          "yref": "y2"
         },
         {
          "line": {
           "color": "lightgrey",
           "width": 1.5
          },
          "type": "line",
          "x0": 428.7943115234375,
          "x1": 428.7943115234375,
          "xref": "x2",
          "y0": 0,
          "y1": 24292.646484375,
          "yref": "y2"
         },
         {
          "line": {
           "color": "lightgrey",
           "width": 1.5
          },
          "type": "line",
          "x0": 429.2994689941406,
          "x1": 429.2994689941406,
          "xref": "x2",
          "y0": 0,
          "y1": 11264.0927734375,
          "yref": "y2"
         },
         {
          "line": {
           "color": "lightgrey",
           "width": 1.5
          },
          "type": "line",
          "x0": 430.17413330078125,
          "x1": 430.17413330078125,
          "xref": "x2",
          "y0": 0,
          "y1": 33019.9453125,
          "yref": "y2"
         },
         {
          "line": {
           "color": "lightgrey",
           "width": 1.5
          },
          "type": "line",
          "x0": 439.7158203125,
          "x1": 439.7158203125,
          "xref": "x2",
          "y0": 0,
          "y1": 15119.736328125,
          "yref": "y2"
         },
         {
          "line": {
           "color": "lightgrey",
           "width": 1.5
          },
          "type": "line",
          "x0": 440.7296447753906,
          "x1": 440.7296447753906,
          "xref": "x2",
          "y0": 0,
          "y1": 10069.697265625,
          "yref": "y2"
         },
         {
          "line": {
           "color": "lightgrey",
           "width": 1.5
          },
          "type": "line",
          "x0": 444.2077331542969,
          "x1": 444.2077331542969,
          "xref": "x2",
          "y0": 0,
          "y1": 25119.412109375,
          "yref": "y2"
         },
         {
          "line": {
           "color": "lightgrey",
           "width": 1.5
          },
          "type": "line",
          "x0": 444.5415344238281,
          "x1": 444.5415344238281,
          "xref": "x2",
          "y0": 0,
          "y1": 57541.33984375,
          "yref": "y2"
         },
         {
          "line": {
           "color": "lightgrey",
           "width": 1.5
          },
          "type": "line",
          "x0": 444.8825988769531,
          "x1": 444.8825988769531,
          "xref": "x2",
          "y0": 0,
          "y1": 34029.609375,
          "yref": "y2"
         },
         {
          "line": {
           "color": "lightgrey",
           "width": 1.5
          },
          "type": "line",
          "x0": 445.22418212890625,
          "x1": 445.22418212890625,
          "xref": "x2",
          "y0": 0,
          "y1": 11235.6572265625,
          "yref": "y2"
         },
         {
          "line": {
           "color": "lightgrey",
           "width": 1.5
          },
          "type": "line",
          "x0": 450.5473937988281,
          "x1": 450.5473937988281,
          "xref": "x2",
          "y0": 0,
          "y1": 30867.654296875,
          "yref": "y2"
         },
         {
          "line": {
           "color": "lightgrey",
           "width": 1.5
          },
          "type": "line",
          "x0": 453.2377624511719,
          "x1": 453.2377624511719,
          "xref": "x2",
          "y0": 0,
          "y1": 25655.84765625,
          "yref": "y2"
         },
         {
          "line": {
           "color": "lightgrey",
           "width": 1.5
          },
          "type": "line",
          "x0": 453.7350158691406,
          "x1": 453.7350158691406,
          "xref": "x2",
          "y0": 0,
          "y1": 26833.666015625,
          "yref": "y2"
         },
         {
          "line": {
           "color": "lightgrey",
           "width": 1.5
          },
          "type": "line",
          "x0": 460.2455749511719,
          "x1": 460.2455749511719,
          "xref": "x2",
          "y0": 0,
          "y1": 13843.1416015625,
          "yref": "y2"
         },
         {
          "line": {
           "color": "lightgrey",
           "width": 1.5
          },
          "type": "line",
          "x0": 462.2470703125,
          "x1": 462.2470703125,
          "xref": "x2",
          "y0": 0,
          "y1": 124074.953125,
          "yref": "y2"
         },
         {
          "line": {
           "color": "lightgrey",
           "width": 1.5
          },
          "type": "line",
          "x0": 462.74285888671875,
          "x1": 462.74285888671875,
          "xref": "x2",
          "y0": 0,
          "y1": 40694.296875,
          "yref": "y2"
         },
         {
          "line": {
           "color": "lightgrey",
           "width": 1.5
          },
          "type": "line",
          "x0": 463.24298095703125,
          "x1": 463.24298095703125,
          "xref": "x2",
          "y0": 0,
          "y1": 12683.423828125,
          "yref": "y2"
         },
         {
          "line": {
           "color": "lightgrey",
           "width": 1.5
          },
          "type": "line",
          "x0": 471.2534484863281,
          "x1": 471.2534484863281,
          "xref": "x2",
          "y0": 0,
          "y1": 165062.546875,
          "yref": "y2"
         },
         {
          "line": {
           "color": "lightgrey",
           "width": 1.5
          },
          "type": "line",
          "x0": 471.75726318359375,
          "x1": 471.75726318359375,
          "xref": "x2",
          "y0": 0,
          "y1": 48414.10546875,
          "yref": "y2"
         },
         {
          "line": {
           "color": "lightgrey",
           "width": 1.5
          },
          "type": "line",
          "x0": 477.2532653808594,
          "x1": 477.2532653808594,
          "xref": "x2",
          "y0": 0,
          "y1": 60715.05078125,
          "yref": "y2"
         },
         {
          "line": {
           "color": "lightgrey",
           "width": 1.5
          },
          "type": "line",
          "x0": 477.753173828125,
          "x1": 477.753173828125,
          "xref": "x2",
          "y0": 0,
          "y1": 24627.796875,
          "yref": "y2"
         },
         {
          "line": {
           "color": "lightgrey",
           "width": 1.5
          },
          "type": "line",
          "x0": 495.24005126953125,
          "x1": 495.24005126953125,
          "xref": "x2",
          "y0": 0,
          "y1": 14425.9853515625,
          "yref": "y2"
         },
         {
          "line": {
           "color": "lightgrey",
           "width": 1.5
          },
          "type": "line",
          "x0": 495.7258605957031,
          "x1": 495.7258605957031,
          "xref": "x2",
          "y0": 0,
          "y1": 47901.234375,
          "yref": "y2"
         },
         {
          "line": {
           "color": "lightgrey",
           "width": 1.5
          },
          "type": "line",
          "x0": 511.2351379394531,
          "x1": 511.2351379394531,
          "xref": "x2",
          "y0": 0,
          "y1": 26905.421875,
          "yref": "y2"
         },
         {
          "line": {
           "color": "lightgrey",
           "width": 1.5
          },
          "type": "line",
          "x0": 517.3101806640625,
          "x1": 517.3101806640625,
          "xref": "x2",
          "y0": 0,
          "y1": 18683.953125,
          "yref": "y2"
         },
         {
          "line": {
           "color": "lightgrey",
           "width": 1.5
          },
          "type": "line",
          "x0": 517.7621459960938,
          "x1": 517.7621459960938,
          "xref": "x2",
          "y0": 0,
          "y1": 41843.87109375,
          "yref": "y2"
         },
         {
          "line": {
           "color": "lightgrey",
           "width": 1.5
          },
          "type": "line",
          "x0": 518.260986328125,
          "x1": 518.260986328125,
          "xref": "x2",
          "y0": 0,
          "y1": 35534.2421875,
          "yref": "y2"
         },
         {
          "line": {
           "color": "lightgrey",
           "width": 1.5
          },
          "type": "line",
          "x0": 520.2421264648438,
          "x1": 520.2421264648438,
          "xref": "x2",
          "y0": 0,
          "y1": 31960.619140625,
          "yref": "y2"
         },
         {
          "line": {
           "color": "lightgrey",
           "width": 1.5
          },
          "type": "line",
          "x0": 526.7677612304688,
          "x1": 526.7677612304688,
          "xref": "x2",
          "y0": 0,
          "y1": 132907.578125,
          "yref": "y2"
         },
         {
          "line": {
           "color": "lightgrey",
           "width": 1.5
          },
          "type": "line",
          "x0": 527.2666625976562,
          "x1": 527.2666625976562,
          "xref": "x2",
          "y0": 0,
          "y1": 53374.828125,
          "yref": "y2"
         },
         {
          "line": {
           "color": "lightgrey",
           "width": 1.5
          },
          "type": "line",
          "x0": 527.7691040039062,
          "x1": 527.7691040039062,
          "xref": "x2",
          "y0": 0,
          "y1": 18107.65625,
          "yref": "y2"
         },
         {
          "line": {
           "color": "lightgrey",
           "width": 1.5
          },
          "type": "line",
          "x0": 530.2525634765625,
          "x1": 530.2525634765625,
          "xref": "x2",
          "y0": 0,
          "y1": 17917.419921875,
          "yref": "y2"
         },
         {
          "line": {
           "color": "lightgrey",
           "width": 1.5
          },
          "type": "line",
          "x0": 535.7752075195312,
          "x1": 535.7752075195312,
          "xref": "x2",
          "y0": 0,
          "y1": 118515.875,
          "yref": "y2"
         },
         {
          "line": {
           "color": "lightgrey",
           "width": 1.5
          },
          "type": "line",
          "x0": 536.2733154296875,
          "x1": 536.2733154296875,
          "xref": "x2",
          "y0": 0,
          "y1": 40740.35546875,
          "yref": "y2"
         },
         {
          "line": {
           "color": "lightgrey",
           "width": 1.5
          },
          "type": "line",
          "x0": 545.2655639648438,
          "x1": 545.2655639648438,
          "xref": "x2",
          "y0": 0,
          "y1": 26872.392578125,
          "yref": "y2"
         },
         {
          "line": {
           "color": "lightgrey",
           "width": 1.5
          },
          "type": "line",
          "x0": 549.7699584960938,
          "x1": 549.7699584960938,
          "xref": "x2",
          "y0": 0,
          "y1": 14652.9072265625,
          "yref": "y2"
         },
         {
          "line": {
           "color": "lightgrey",
           "width": 1.5
          },
          "type": "line",
          "x0": 561.2816772460938,
          "x1": 561.2816772460938,
          "xref": "x2",
          "y0": 0,
          "y1": 27379.556640625,
          "yref": "y2"
         },
         {
          "line": {
           "color": "lightgrey",
           "width": 1.5
          },
          "type": "line",
          "x0": 575.7604370117188,
          "x1": 575.7604370117188,
          "xref": "x2",
          "y0": 0,
          "y1": 12559.5927734375,
          "yref": "y2"
         },
         {
          "line": {
           "color": "lightgrey",
           "width": 1.5
          },
          "type": "line",
          "x0": 584.7607421875,
          "x1": 584.7607421875,
          "xref": "x2",
          "y0": 0,
          "y1": 12987.533203125,
          "yref": "y2"
         },
         {
          "line": {
           "color": "lightgrey",
           "width": 1.5
          },
          "type": "line",
          "x0": 588.3212890625,
          "x1": 588.3212890625,
          "xref": "x2",
          "y0": 0,
          "y1": 18924.052734375,
          "yref": "y2"
         },
         {
          "line": {
           "color": "lightgrey",
           "width": 1.5
          },
          "type": "line",
          "x0": 589.2858276367188,
          "x1": 589.2858276367188,
          "xref": "x2",
          "y0": 0,
          "y1": 17537.796875,
          "yref": "y2"
         },
         {
          "line": {
           "color": "lightgrey",
           "width": 1.5
          },
          "type": "line",
          "x0": 599.296875,
          "x1": 599.296875,
          "xref": "x2",
          "y0": 0,
          "y1": 17880.970703125,
          "yref": "y2"
         },
         {
          "line": {
           "color": "lightgrey",
           "width": 1.5
          },
          "type": "line",
          "x0": 599.7898559570312,
          "x1": 599.7898559570312,
          "xref": "x2",
          "y0": 0,
          "y1": 19628.654296875,
          "yref": "y2"
         },
         {
          "line": {
           "color": "lightgrey",
           "width": 1.5
          },
          "type": "line",
          "x0": 608.299560546875,
          "x1": 608.299560546875,
          "xref": "x2",
          "y0": 0,
          "y1": 47130.83203125,
          "yref": "y2"
         },
         {
          "line": {
           "color": "lightgrey",
           "width": 1.5
          },
          "type": "line",
          "x0": 608.7996826171875,
          "x1": 608.7996826171875,
          "xref": "x2",
          "y0": 0,
          "y1": 26020.767578125,
          "yref": "y2"
         },
         {
          "line": {
           "color": "lightgrey",
           "width": 1.5
          },
          "type": "line",
          "x0": 611.2919311523438,
          "x1": 611.2919311523438,
          "xref": "x2",
          "y0": 0,
          "y1": 11466.9765625,
          "yref": "y2"
         },
         {
          "line": {
           "color": "lightgrey",
           "width": 1.5
          },
          "type": "line",
          "x0": 617.3055419921875,
          "x1": 617.3055419921875,
          "xref": "x2",
          "y0": 0,
          "y1": 146033.3125,
          "yref": "y2"
         },
         {
          "line": {
           "color": "lightgrey",
           "width": 1.5
          },
          "type": "line",
          "x0": 617.8081665039062,
          "x1": 617.8081665039062,
          "xref": "x2",
          "y0": 0,
          "y1": 65685.203125,
          "yref": "y2"
         },
         {
          "line": {
           "color": "lightgrey",
           "width": 1.5
          },
          "type": "line",
          "x0": 626.308349609375,
          "x1": 626.308349609375,
          "xref": "x2",
          "y0": 0,
          "y1": 22319.0625,
          "yref": "y2"
         },
         {
          "line": {
           "color": "lightgrey",
           "width": 1.5
          },
          "type": "line",
          "x0": 630.3150024414062,
          "x1": 630.3150024414062,
          "xref": "x2",
          "y0": 0,
          "y1": 10580.072265625,
          "yref": "y2"
         },
         {
          "line": {
           "color": "lightgrey",
           "width": 1.5
          },
          "type": "line",
          "x0": 641.326171875,
          "x1": 641.326171875,
          "xref": "x2",
          "y0": 0,
          "y1": 30808.4921875,
          "yref": "y2"
         },
         {
          "line": {
           "color": "lightgrey",
           "width": 1.5
          },
          "type": "line",
          "x0": 666.2950439453125,
          "x1": 666.2950439453125,
          "xref": "x2",
          "y0": 0,
          "y1": 12987.3583984375,
          "yref": "y2"
         },
         {
          "line": {
           "color": "lightgrey",
           "width": 1.5
          },
          "type": "line",
          "x0": 685.328369140625,
          "x1": 685.328369140625,
          "xref": "x2",
          "y0": 0,
          "y1": 78190.1875,
          "yref": "y2"
         },
         {
          "line": {
           "color": "lightgrey",
           "width": 1.5
          },
          "type": "line",
          "x0": 686.3379516601562,
          "x1": 686.3379516601562,
          "xref": "x2",
          "y0": 0,
          "y1": 78019.734375,
          "yref": "y2"
         },
         {
          "line": {
           "color": "lightgrey",
           "width": 1.5
          },
          "type": "line",
          "x0": 688.8203735351562,
          "x1": 688.8203735351562,
          "xref": "x2",
          "y0": 0,
          "y1": 17744.01171875,
          "yref": "y2"
         },
         {
          "line": {
           "color": "lightgrey",
           "width": 1.5
          },
          "type": "line",
          "x0": 698.3392333984375,
          "x1": 698.3392333984375,
          "xref": "x2",
          "y0": 0,
          "y1": 37287.04296875,
          "yref": "y2"
         },
         {
          "line": {
           "color": "lightgrey",
           "width": 1.5
          },
          "type": "line",
          "x0": 699.347900390625,
          "x1": 699.347900390625,
          "xref": "x2",
          "y0": 0,
          "y1": 19538.39453125,
          "yref": "y2"
         },
         {
          "line": {
           "color": "lightgrey",
           "width": 1.5
          },
          "type": "line",
          "x0": 703.3936157226562,
          "x1": 703.3936157226562,
          "xref": "x2",
          "y0": 0,
          "y1": 43330.296875,
          "yref": "y2"
         },
         {
          "line": {
           "color": "lightgrey",
           "width": 1.5
          },
          "type": "line",
          "x0": 722.2709350585938,
          "x1": 722.2709350585938,
          "xref": "x2",
          "y0": 0,
          "y1": 13548.1328125,
          "yref": "y2"
         },
         {
          "line": {
           "color": "lightgrey",
           "width": 1.5
          },
          "type": "line",
          "x0": 739.3056030273438,
          "x1": 739.3056030273438,
          "xref": "x2",
          "y0": 0,
          "y1": 22548.107421875,
          "yref": "y2"
         },
         {
          "line": {
           "color": "lightgrey",
           "width": 1.5
          },
          "type": "line",
          "x0": 783.35595703125,
          "x1": 783.35595703125,
          "xref": "x2",
          "y0": 0,
          "y1": 16164.166015625,
          "yref": "y2"
         },
         {
          "line": {
           "color": "lightgrey",
           "width": 1.5
          },
          "type": "line",
          "x0": 786.4273071289062,
          "x1": 786.4273071289062,
          "xref": "x2",
          "y0": 0,
          "y1": 32671.046875,
          "yref": "y2"
         },
         {
          "line": {
           "color": "lightgrey",
           "width": 1.5
          },
          "type": "line",
          "x0": 787.4213256835938,
          "x1": 787.4213256835938,
          "xref": "x2",
          "y0": 0,
          "y1": 20581.6953125,
          "yref": "y2"
         },
         {
          "line": {
           "color": "lightgrey",
           "width": 1.5
          },
          "type": "line",
          "x0": 801.3759155273438,
          "x1": 801.3759155273438,
          "xref": "x2",
          "y0": 0,
          "y1": 18620.76171875,
          "yref": "y2"
         },
         {
          "line": {
           "color": "lightgrey",
           "width": 1.5
          },
          "type": "line",
          "x0": 804.4371948242188,
          "x1": 804.4371948242188,
          "xref": "x2",
          "y0": 0,
          "y1": 128193.1953125,
          "yref": "y2"
         },
         {
          "line": {
           "color": "lightgrey",
           "width": 1.5
          },
          "type": "line",
          "x0": 805.4406127929688,
          "x1": 805.4406127929688,
          "xref": "x2",
          "y0": 0,
          "y1": 34845.98046875,
          "yref": "y2"
         },
         {
          "line": {
           "color": "lightgrey",
           "width": 1.5
          },
          "type": "line",
          "x0": 809.368896484375,
          "x1": 809.368896484375,
          "xref": "x2",
          "y0": 0,
          "y1": 21278.982421875,
          "yref": "y2"
         },
         {
          "line": {
           "color": "lightgrey",
           "width": 1.5
          },
          "type": "line",
          "x0": 827.3845825195312,
          "x1": 827.3845825195312,
          "xref": "x2",
          "y0": 0,
          "y1": 42286.6796875,
          "yref": "y2"
         },
         {
          "line": {
           "color": "lightgrey",
           "width": 1.5
          },
          "type": "line",
          "x0": 828.3887329101562,
          "x1": 828.3887329101562,
          "xref": "x2",
          "y0": 0,
          "y1": 14266.3466796875,
          "yref": "y2"
         },
         {
          "line": {
           "color": "lightgrey",
           "width": 1.5
          },
          "type": "line",
          "x0": 852.4019165039062,
          "x1": 852.4019165039062,
          "xref": "x2",
          "y0": 0,
          "y1": 25045.763671875,
          "yref": "y2"
         },
         {
          "line": {
           "color": "lightgrey",
           "width": 1.5
          },
          "type": "line",
          "x0": 870.3994140625,
          "x1": 870.3994140625,
          "xref": "x2",
          "y0": 0,
          "y1": 10160.314453125,
          "yref": "y2"
         },
         {
          "line": {
           "color": "lightgrey",
           "width": 1.5
          },
          "type": "line",
          "x0": 902.4169921875,
          "x1": 902.4169921875,
          "xref": "x2",
          "y0": 0,
          "y1": 22703.375,
          "yref": "y2"
         },
         {
          "line": {
           "color": "lightgrey",
           "width": 1.5
          },
          "type": "line",
          "x0": 941.493896484375,
          "x1": 941.493896484375,
          "xref": "x2",
          "y0": 0,
          "y1": 35855.66015625,
          "yref": "y2"
         },
         {
          "line": {
           "color": "lightgrey",
           "width": 1.5
          },
          "type": "line",
          "x0": 990.4454956054688,
          "x1": 990.4454956054688,
          "xref": "x2",
          "y0": 0,
          "y1": 37249.12109375,
          "yref": "y2"
         },
         {
          "line": {
           "color": "lightgrey",
           "width": 1.5
          },
          "type": "line",
          "x0": 991.4588012695312,
          "x1": 991.4588012695312,
          "xref": "x2",
          "y0": 0,
          "y1": 14355.41796875,
          "yref": "y2"
         },
         {
          "line": {
           "color": "red",
           "width": 1.5
          },
          "type": "line",
          "x0": 617.30419921875,
          "x1": 617.30419921875,
          "xref": "x2",
          "y0": 0,
          "y1": 146033.3125,
          "yref": "y2"
         },
         {
          "line": {
           "color": "red",
           "width": 1.5
          },
          "type": "line",
          "x0": 666.2926635742188,
          "x1": 666.2926635742188,
          "xref": "x2",
          "y0": 0,
          "y1": 12987.3583984375,
          "yref": "y2"
         },
         {
          "line": {
           "color": "blue",
           "width": 1.5
          },
          "type": "line",
          "x0": 263.1390075683594,
          "x1": 263.1390075683594,
          "xref": "x2",
          "y0": 0,
          "y1": 38947.03515625,
          "yref": "y2"
         },
         {
          "line": {
           "color": "red",
           "width": 1.5
          },
          "type": "line",
          "x0": 535.7725219726562,
          "x1": 535.7725219726562,
          "xref": "x2",
          "y0": 0,
          "y1": 118515.875,
          "yref": "y2"
         },
         {
          "line": {
           "color": "red",
           "width": 1.5
          },
          "type": "line",
          "x0": 941.4951782226562,
          "x1": 941.4951782226562,
          "xref": "x2",
          "y0": 0,
          "y1": 35855.66015625,
          "yref": "y2"
         },
         {
          "line": {
           "color": "red",
           "width": 1.5
          },
          "type": "line",
          "x0": 471.251220703125,
          "x1": 471.251220703125,
          "xref": "x2",
          "y0": 0,
          "y1": 165062.546875,
          "yref": "y2"
         },
         {
          "line": {
           "color": "red",
           "width": 1.5
          },
          "type": "line",
          "x0": 520.2396850585938,
          "x1": 520.2396850585938,
          "xref": "x2",
          "y0": 0,
          "y1": 31960.619140625,
          "yref": "y2"
         },
         {
          "line": {
           "color": "red",
           "width": 1.5
          },
          "type": "line",
          "x0": 804.436279296875,
          "x1": 804.436279296875,
          "xref": "x2",
          "y0": 0,
          "y1": 128193.1953125,
          "yref": "y2"
         },
         {
          "line": {
           "color": "red",
           "width": 1.5
          },
          "type": "line",
          "x0": 402.7217712402344,
          "x1": 402.7217712402344,
          "xref": "x2",
          "y0": 0,
          "y1": 19350.427734375,
          "yref": "y2"
         },
         {
          "line": {
           "color": "red",
           "width": 1.5
          },
          "type": "line",
          "x0": 902.4131469726562,
          "x1": 902.4131469726562,
          "xref": "x2",
          "y0": 0,
          "y1": 22703.375,
          "yref": "y2"
         },
         {
          "line": {
           "color": "red",
           "width": 1.5
          },
          "type": "line",
          "x0": 703.3886108398438,
          "x1": 703.3886108398438,
          "xref": "x2",
          "y0": 0,
          "y1": 43330.296875,
          "yref": "y2"
         },
         {
          "line": {
           "color": "red",
           "width": 1.5
          },
          "type": "line",
          "x0": 801.365478515625,
          "x1": 801.365478515625,
          "xref": "x2",
          "y0": 0,
          "y1": 18620.76171875,
          "yref": "y2"
         },
         {
          "line": {
           "color": "red",
           "width": 1.5
          },
          "type": "line",
          "x0": 313.1870422363281,
          "x1": 313.1870422363281,
          "xref": "x2",
          "y0": 0,
          "y1": 11768.5625,
          "yref": "y2"
         },
         {
          "line": {
           "color": "blue",
           "width": 1.5
          },
          "type": "line",
          "x0": 545.25927734375,
          "x1": 545.25927734375,
          "xref": "x2",
          "y0": 0,
          "y1": 26872.392578125,
          "yref": "y2"
         },
         {
          "line": {
           "color": "red",
           "width": 1.5
          },
          "type": "line",
          "x0": 244.1655731201172,
          "x1": 244.1655731201172,
          "xref": "x2",
          "y0": 0,
          "y1": 201716.15625,
          "yref": "y2"
         },
         {
          "line": {
           "color": "red",
           "width": 1.5
          },
          "type": "line",
          "x0": 147.11280822753906,
          "x1": 147.11280822753906,
          "xref": "x2",
          "y0": 0,
          "y1": 60520.58203125,
          "yref": "y2"
         },
         {
          "line": {
           "color": "red",
           "width": 1.5
          },
          "type": "line",
          "x0": 617.30419921875,
          "x1": 617.30419921875,
          "xref": "x2",
          "y0": 0,
          "y1": -197392.25,
          "yref": "y2"
         },
         {
          "line": {
           "color": "red",
           "width": 1.5
          },
          "type": "line",
          "x0": 666.2926635742188,
          "x1": 666.2926635742188,
          "xref": "x2",
          "y0": 0,
          "y1": -18977.01953125,
          "yref": "y2"
         },
         {
          "line": {
           "color": "blue",
           "width": 1.5
          },
          "type": "line",
          "x0": 263.1390075683594,
          "x1": 263.1390075683594,
          "xref": "x2",
          "y0": 0,
          "y1": -29111.962890625,
          "yref": "y2"
         },
         {
          "line": {
           "color": "red",
           "width": 1.5
          },
          "type": "line",
          "x0": 535.7725219726562,
          "x1": 535.7725219726562,
          "xref": "x2",
          "y0": 0,
          "y1": -101057.421875,
          "yref": "y2"
         },
         {
          "line": {
           "color": "red",
           "width": 1.5
          },
          "type": "line",
          "x0": 941.4951782226562,
          "x1": 941.4951782226562,
          "xref": "x2",
          "y0": 0,
          "y1": -32807.40234375,
          "yref": "y2"
         },
         {
          "line": {
           "color": "red",
           "width": 1.5
          },
          "type": "line",
          "x0": 471.251220703125,
          "x1": 471.251220703125,
          "xref": "x2",
          "y0": 0,
          "y1": -201716.15625,
          "yref": "y2"
         },
         {
          "line": {
           "color": "red",
           "width": 1.5
          },
          "type": "line",
          "x0": 520.2396850585938,
          "x1": 520.2396850585938,
          "xref": "x2",
          "y0": 0,
          "y1": -42207.83984375,
          "yref": "y2"
         },
         {
          "line": {
           "color": "red",
           "width": 1.5
          },
          "type": "line",
          "x0": 804.436279296875,
          "x1": 804.436279296875,
          "xref": "x2",
          "y0": 0,
          "y1": -175540.484375,
          "yref": "y2"
         },
         {
          "line": {
           "color": "red",
           "width": 1.5
          },
          "type": "line",
          "x0": 402.7217712402344,
          "x1": 402.7217712402344,
          "xref": "x2",
          "y0": 0,
          "y1": -13824.640625,
          "yref": "y2"
         },
         {
          "line": {
           "color": "red",
           "width": 1.5
          },
          "type": "line",
          "x0": 902.4131469726562,
          "x1": 902.4131469726562,
          "xref": "x2",
          "y0": 0,
          "y1": -24477.888671875,
          "yref": "y2"
         },
         {
          "line": {
           "color": "red",
           "width": 1.5
          },
          "type": "line",
          "x0": 703.3886108398438,
          "x1": 703.3886108398438,
          "xref": "x2",
          "y0": 0,
          "y1": -63476.6328125,
          "yref": "y2"
         },
         {
          "line": {
           "color": "red",
           "width": 1.5
          },
          "type": "line",
          "x0": 801.365478515625,
          "x1": 801.365478515625,
          "xref": "x2",
          "y0": 0,
          "y1": -6130.85693359375,
          "yref": "y2"
         },
         {
          "line": {
           "color": "red",
           "width": 1.5
          },
          "type": "line",
          "x0": 616.3565673828125,
          "x1": 616.3565673828125,
          "xref": "x2",
          "y0": 0,
          "y1": -435.1184997558594,
          "yref": "y2"
         },
         {
          "line": {
           "color": "red",
           "width": 1.5
          },
          "type": "line",
          "x0": 460.25543212890625,
          "x1": 460.25543212890625,
          "xref": "x2",
          "y0": 0,
          "y1": -14551.1044921875,
          "yref": "y2"
         },
         {
          "line": {
           "color": "red",
           "width": 1.5
          },
          "type": "line",
          "x0": 313.1870422363281,
          "x1": 313.1870422363281,
          "xref": "x2",
          "y0": 0,
          "y1": -8653.3525390625,
          "yref": "y2"
         },
         {
          "line": {
           "color": "blue",
           "width": 1.5
          },
          "type": "line",
          "x0": 545.25927734375,
          "x1": 545.25927734375,
          "xref": "x2",
          "y0": 0,
          "y1": -26496.0625,
          "yref": "y2"
         },
         {
          "line": {
           "color": "red",
           "width": 1.5
          },
          "type": "line",
          "x0": 244.1655731201172,
          "x1": 244.1655731201172,
          "xref": "x2",
          "y0": 0,
          "y1": -185278.046875,
          "yref": "y2"
         },
         {
          "line": {
           "color": "red",
           "width": 1.5
          },
          "type": "line",
          "x0": 147.11280822753906,
          "x1": 147.11280822753906,
          "xref": "x2",
          "y0": 0,
          "y1": -51180.9765625,
          "yref": "y2"
         }
        ],
        "template": {
         "data": {
          "bar": [
           {
            "error_x": {
             "color": "#2a3f5f"
            },
            "error_y": {
             "color": "#2a3f5f"
            },
            "marker": {
             "line": {
              "color": "white",
              "width": 0.5
             },
             "pattern": {
              "fillmode": "overlay",
              "size": 10,
              "solidity": 0.2
             }
            },
            "type": "bar"
           }
          ],
          "barpolar": [
           {
            "marker": {
             "line": {
              "color": "white",
              "width": 0.5
             },
             "pattern": {
              "fillmode": "overlay",
              "size": 10,
              "solidity": 0.2
             }
            },
            "type": "barpolar"
           }
          ],
          "carpet": [
           {
            "aaxis": {
             "endlinecolor": "#2a3f5f",
             "gridcolor": "#C8D4E3",
             "linecolor": "#C8D4E3",
             "minorgridcolor": "#C8D4E3",
             "startlinecolor": "#2a3f5f"
            },
            "baxis": {
             "endlinecolor": "#2a3f5f",
             "gridcolor": "#C8D4E3",
             "linecolor": "#C8D4E3",
             "minorgridcolor": "#C8D4E3",
             "startlinecolor": "#2a3f5f"
            },
            "type": "carpet"
           }
          ],
          "choropleth": [
           {
            "colorbar": {
             "outlinewidth": 0,
             "ticks": ""
            },
            "type": "choropleth"
           }
          ],
          "contour": [
           {
            "colorbar": {
             "outlinewidth": 0,
             "ticks": ""
            },
            "colorscale": [
             [
              0,
              "#0d0887"
             ],
             [
              0.1111111111111111,
              "#46039f"
             ],
             [
              0.2222222222222222,
              "#7201a8"
             ],
             [
              0.3333333333333333,
              "#9c179e"
             ],
             [
              0.4444444444444444,
              "#bd3786"
             ],
             [
              0.5555555555555556,
              "#d8576b"
             ],
             [
              0.6666666666666666,
              "#ed7953"
             ],
             [
              0.7777777777777778,
              "#fb9f3a"
             ],
             [
              0.8888888888888888,
              "#fdca26"
             ],
             [
              1,
              "#f0f921"
             ]
            ],
            "type": "contour"
           }
          ],
          "contourcarpet": [
           {
            "colorbar": {
             "outlinewidth": 0,
             "ticks": ""
            },
            "type": "contourcarpet"
           }
          ],
          "heatmap": [
           {
            "colorbar": {
             "outlinewidth": 0,
             "ticks": ""
            },
            "colorscale": [
             [
              0,
              "#0d0887"
             ],
             [
              0.1111111111111111,
              "#46039f"
             ],
             [
              0.2222222222222222,
              "#7201a8"
             ],
             [
              0.3333333333333333,
              "#9c179e"
             ],
             [
              0.4444444444444444,
              "#bd3786"
             ],
             [
              0.5555555555555556,
              "#d8576b"
             ],
             [
              0.6666666666666666,
              "#ed7953"
             ],
             [
              0.7777777777777778,
              "#fb9f3a"
             ],
             [
              0.8888888888888888,
              "#fdca26"
             ],
             [
              1,
              "#f0f921"
             ]
            ],
            "type": "heatmap"
           }
          ],
          "heatmapgl": [
           {
            "colorbar": {
             "outlinewidth": 0,
             "ticks": ""
            },
            "colorscale": [
             [
              0,
              "#0d0887"
             ],
             [
              0.1111111111111111,
              "#46039f"
             ],
             [
              0.2222222222222222,
              "#7201a8"
             ],
             [
              0.3333333333333333,
              "#9c179e"
             ],
             [
              0.4444444444444444,
              "#bd3786"
             ],
             [
              0.5555555555555556,
              "#d8576b"
             ],
             [
              0.6666666666666666,
              "#ed7953"
             ],
             [
              0.7777777777777778,
              "#fb9f3a"
             ],
             [
              0.8888888888888888,
              "#fdca26"
             ],
             [
              1,
              "#f0f921"
             ]
            ],
            "type": "heatmapgl"
           }
          ],
          "histogram": [
           {
            "marker": {
             "pattern": {
              "fillmode": "overlay",
              "size": 10,
              "solidity": 0.2
             }
            },
            "type": "histogram"
           }
          ],
          "histogram2d": [
           {
            "colorbar": {
             "outlinewidth": 0,
             "ticks": ""
            },
            "colorscale": [
             [
              0,
              "#0d0887"
             ],
             [
              0.1111111111111111,
              "#46039f"
             ],
             [
              0.2222222222222222,
              "#7201a8"
             ],
             [
              0.3333333333333333,
              "#9c179e"
             ],
             [
              0.4444444444444444,
              "#bd3786"
             ],
             [
              0.5555555555555556,
              "#d8576b"
             ],
             [
              0.6666666666666666,
              "#ed7953"
             ],
             [
              0.7777777777777778,
              "#fb9f3a"
             ],
             [
              0.8888888888888888,
              "#fdca26"
             ],
             [
              1,
              "#f0f921"
             ]
            ],
            "type": "histogram2d"
           }
          ],
          "histogram2dcontour": [
           {
            "colorbar": {
             "outlinewidth": 0,
             "ticks": ""
            },
            "colorscale": [
             [
              0,
              "#0d0887"
             ],
             [
              0.1111111111111111,
              "#46039f"
             ],
             [
              0.2222222222222222,
              "#7201a8"
             ],
             [
              0.3333333333333333,
              "#9c179e"
             ],
             [
              0.4444444444444444,
              "#bd3786"
             ],
             [
              0.5555555555555556,
              "#d8576b"
             ],
             [
              0.6666666666666666,
              "#ed7953"
             ],
             [
              0.7777777777777778,
              "#fb9f3a"
             ],
             [
              0.8888888888888888,
              "#fdca26"
             ],
             [
              1,
              "#f0f921"
             ]
            ],
            "type": "histogram2dcontour"
           }
          ],
          "mesh3d": [
           {
            "colorbar": {
             "outlinewidth": 0,
             "ticks": ""
            },
            "type": "mesh3d"
           }
          ],
          "parcoords": [
           {
            "line": {
             "colorbar": {
              "outlinewidth": 0,
              "ticks": ""
             }
            },
            "type": "parcoords"
           }
          ],
          "pie": [
           {
            "automargin": true,
            "type": "pie"
           }
          ],
          "scatter": [
           {
            "fillpattern": {
             "fillmode": "overlay",
             "size": 10,
             "solidity": 0.2
            },
            "type": "scatter"
           }
          ],
          "scatter3d": [
           {
            "line": {
             "colorbar": {
              "outlinewidth": 0,
              "ticks": ""
             }
            },
            "marker": {
             "colorbar": {
              "outlinewidth": 0,
              "ticks": ""
             }
            },
            "type": "scatter3d"
           }
          ],
          "scattercarpet": [
           {
            "marker": {
             "colorbar": {
              "outlinewidth": 0,
              "ticks": ""
             }
            },
            "type": "scattercarpet"
           }
          ],
          "scattergeo": [
           {
            "marker": {
             "colorbar": {
              "outlinewidth": 0,
              "ticks": ""
             }
            },
            "type": "scattergeo"
           }
          ],
          "scattergl": [
           {
            "marker": {
             "colorbar": {
              "outlinewidth": 0,
              "ticks": ""
             }
            },
            "type": "scattergl"
           }
          ],
          "scattermapbox": [
           {
            "marker": {
             "colorbar": {
              "outlinewidth": 0,
              "ticks": ""
             }
            },
            "type": "scattermapbox"
           }
          ],
          "scatterpolar": [
           {
            "marker": {
             "colorbar": {
              "outlinewidth": 0,
              "ticks": ""
             }
            },
            "type": "scatterpolar"
           }
          ],
          "scatterpolargl": [
           {
            "marker": {
             "colorbar": {
              "outlinewidth": 0,
              "ticks": ""
             }
            },
            "type": "scatterpolargl"
           }
          ],
          "scatterternary": [
           {
            "marker": {
             "colorbar": {
              "outlinewidth": 0,
              "ticks": ""
             }
            },
            "type": "scatterternary"
           }
          ],
          "surface": [
           {
            "colorbar": {
             "outlinewidth": 0,
             "ticks": ""
            },
            "colorscale": [
             [
              0,
              "#0d0887"
             ],
             [
              0.1111111111111111,
              "#46039f"
             ],
             [
              0.2222222222222222,
              "#7201a8"
             ],
             [
              0.3333333333333333,
              "#9c179e"
             ],
             [
              0.4444444444444444,
              "#bd3786"
             ],
             [
              0.5555555555555556,
              "#d8576b"
             ],
             [
              0.6666666666666666,
              "#ed7953"
             ],
             [
              0.7777777777777778,
              "#fb9f3a"
             ],
             [
              0.8888888888888888,
              "#fdca26"
             ],
             [
              1,
              "#f0f921"
             ]
            ],
            "type": "surface"
           }
          ],
          "table": [
           {
            "cells": {
             "fill": {
              "color": "#EBF0F8"
             },
             "line": {
              "color": "white"
             }
            },
            "header": {
             "fill": {
              "color": "#C8D4E3"
             },
             "line": {
              "color": "white"
             }
            },
            "type": "table"
           }
          ]
         },
         "layout": {
          "annotationdefaults": {
           "arrowcolor": "#2a3f5f",
           "arrowhead": 0,
           "arrowwidth": 1
          },
          "autotypenumbers": "strict",
          "coloraxis": {
           "colorbar": {
            "outlinewidth": 0,
            "ticks": ""
           }
          },
          "colorscale": {
           "diverging": [
            [
             0,
             "#8e0152"
            ],
            [
             0.1,
             "#c51b7d"
            ],
            [
             0.2,
             "#de77ae"
            ],
            [
             0.3,
             "#f1b6da"
            ],
            [
             0.4,
             "#fde0ef"
            ],
            [
             0.5,
             "#f7f7f7"
            ],
            [
             0.6,
             "#e6f5d0"
            ],
            [
             0.7,
             "#b8e186"
            ],
            [
             0.8,
             "#7fbc41"
            ],
            [
             0.9,
             "#4d9221"
            ],
            [
             1,
             "#276419"
            ]
           ],
           "sequential": [
            [
             0,
             "#0d0887"
            ],
            [
             0.1111111111111111,
             "#46039f"
            ],
            [
             0.2222222222222222,
             "#7201a8"
            ],
            [
             0.3333333333333333,
             "#9c179e"
            ],
            [
             0.4444444444444444,
             "#bd3786"
            ],
            [
             0.5555555555555556,
             "#d8576b"
            ],
            [
             0.6666666666666666,
             "#ed7953"
            ],
            [
             0.7777777777777778,
             "#fb9f3a"
            ],
            [
             0.8888888888888888,
             "#fdca26"
            ],
            [
             1,
             "#f0f921"
            ]
           ],
           "sequentialminus": [
            [
             0,
             "#0d0887"
            ],
            [
             0.1111111111111111,
             "#46039f"
            ],
            [
             0.2222222222222222,
             "#7201a8"
            ],
            [
             0.3333333333333333,
             "#9c179e"
            ],
            [
             0.4444444444444444,
             "#bd3786"
            ],
            [
             0.5555555555555556,
             "#d8576b"
            ],
            [
             0.6666666666666666,
             "#ed7953"
            ],
            [
             0.7777777777777778,
             "#fb9f3a"
            ],
            [
             0.8888888888888888,
             "#fdca26"
            ],
            [
             1,
             "#f0f921"
            ]
           ]
          },
          "colorway": [
           "#636efa",
           "#EF553B",
           "#00cc96",
           "#ab63fa",
           "#FFA15A",
           "#19d3f3",
           "#FF6692",
           "#B6E880",
           "#FF97FF",
           "#FECB52"
          ],
          "font": {
           "color": "#2a3f5f"
          },
          "geo": {
           "bgcolor": "white",
           "lakecolor": "white",
           "landcolor": "white",
           "showlakes": true,
           "showland": true,
           "subunitcolor": "#C8D4E3"
          },
          "hoverlabel": {
           "align": "left"
          },
          "hovermode": "closest",
          "mapbox": {
           "style": "light"
          },
          "paper_bgcolor": "white",
          "plot_bgcolor": "white",
          "polar": {
           "angularaxis": {
            "gridcolor": "#EBF0F8",
            "linecolor": "#EBF0F8",
            "ticks": ""
           },
           "bgcolor": "white",
           "radialaxis": {
            "gridcolor": "#EBF0F8",
            "linecolor": "#EBF0F8",
            "ticks": ""
           }
          },
          "scene": {
           "xaxis": {
            "backgroundcolor": "white",
            "gridcolor": "#DFE8F3",
            "gridwidth": 2,
            "linecolor": "#EBF0F8",
            "showbackground": true,
            "ticks": "",
            "zerolinecolor": "#EBF0F8"
           },
           "yaxis": {
            "backgroundcolor": "white",
            "gridcolor": "#DFE8F3",
            "gridwidth": 2,
            "linecolor": "#EBF0F8",
            "showbackground": true,
            "ticks": "",
            "zerolinecolor": "#EBF0F8"
           },
           "zaxis": {
            "backgroundcolor": "white",
            "gridcolor": "#DFE8F3",
            "gridwidth": 2,
            "linecolor": "#EBF0F8",
            "showbackground": true,
            "ticks": "",
            "zerolinecolor": "#EBF0F8"
           }
          },
          "shapedefaults": {
           "line": {
            "color": "#2a3f5f"
           }
          },
          "ternary": {
           "aaxis": {
            "gridcolor": "#DFE8F3",
            "linecolor": "#A2B1C6",
            "ticks": ""
           },
           "baxis": {
            "gridcolor": "#DFE8F3",
            "linecolor": "#A2B1C6",
            "ticks": ""
           },
           "bgcolor": "white",
           "caxis": {
            "gridcolor": "#DFE8F3",
            "linecolor": "#A2B1C6",
            "ticks": ""
           }
          },
          "title": {
           "x": 0.05
          },
          "xaxis": {
           "automargin": true,
           "gridcolor": "#EBF0F8",
           "linecolor": "#EBF0F8",
           "ticks": "",
           "title": {
            "standoff": 15
           },
           "zerolinecolor": "#EBF0F8",
           "zerolinewidth": 2
          },
          "yaxis": {
           "automargin": true,
           "gridcolor": "#EBF0F8",
           "linecolor": "#EBF0F8",
           "ticks": "",
           "title": {
            "standoff": 15
           },
           "zerolinecolor": "#EBF0F8",
           "zerolinewidth": 2
          }
         }
        },
        "title": {
         "text": "_VYEHTSRFS[+80]PK_(3+) (R=0.961)",
         "yanchor": "bottom"
        },
        "xaxis": {
         "anchor": "y",
         "domain": [
          0,
          1
         ],
         "matches": "x",
         "visible": false
        },
        "xaxis2": {
         "anchor": "y2",
         "domain": [
          0,
          1
         ],
         "matches": "x"
        },
        "xaxis3": {
         "anchor": "y3",
         "domain": [
          0,
          1
         ],
         "matches": "x"
        },
        "yaxis": {
         "anchor": "x",
         "domain": [
          0.875,
          1
         ],
         "range": [
          -1.1,
          1.1
         ],
         "title": {
          "text": "intensity"
         },
         "visible": false
        },
        "yaxis2": {
         "anchor": "x2",
         "domain": [
          0.175,
          0.825
         ],
         "title": {
          "text": "intensity"
         }
        },
        "yaxis3": {
         "anchor": "x3",
         "domain": [
          0,
          0.125
         ],
         "title": {
          "text": "m/z err"
         }
        }
       }
      }
     },
     "metadata": {},
     "output_type": "display_data"
    }
   ],
   "source": [
    "from alpharaw.viz.df_utils import make_psm_plot_df_for_peptide\n",
    "\n",
    "spec_idx = plot_psm.spec_idx.values[0]\n",
    "peak_mzs, peak_intens = ms_data.get_peaks(spec_idx)\n",
    "\n",
    "pred_inten_df = model_mgr.predict_ms2(plot_psm)\n",
    "\n",
    "plot_df = make_psm_plot_df_for_peptide(\n",
    "    peak_mzs, peak_intens,\n",
    "    sequence=plot_psm.sequence.values[0],\n",
    "    mods=plot_psm.mods.values[0],\n",
    "    mod_sites=plot_psm.mod_sites.values[0],\n",
    "    charge=plot_psm.charge.values[0],\n",
    "    charged_frag_types=pred_inten_df.columns.values,\n",
    "    fragment_intensity_df=pred_inten_df,\n",
    ")\n",
    "psm_plotter.plot(plot_df, \n",
    "    plot_psm.sequence.values[0], \n",
    "    plot_df.modified_sequence.values[0], \n",
    "    plot_unmatched_peaks=True\n",
    ")"
   ]
  },
  {
   "cell_type": "markdown",
   "metadata": {},
   "source": [
    "### Predict spectral library with refined models"
   ]
  },
  {
   "cell_type": "code",
   "execution_count": 15,
   "metadata": {},
   "outputs": [
    {
     "data": {
      "text/html": [
       "<div>\n",
       "<style scoped>\n",
       "    .dataframe tbody tr th:only-of-type {\n",
       "        vertical-align: middle;\n",
       "    }\n",
       "\n",
       "    .dataframe tbody tr th {\n",
       "        vertical-align: top;\n",
       "    }\n",
       "\n",
       "    .dataframe thead th {\n",
       "        text-align: right;\n",
       "    }\n",
       "</style>\n",
       "<table border=\"1\" class=\"dataframe\">\n",
       "  <thead>\n",
       "    <tr style=\"text-align: right;\">\n",
       "      <th></th>\n",
       "      <th>sequence</th>\n",
       "      <th>protein_idxes</th>\n",
       "      <th>miss_cleavage</th>\n",
       "      <th>is_prot_nterm</th>\n",
       "      <th>is_prot_cterm</th>\n",
       "      <th>mods</th>\n",
       "      <th>mod_sites</th>\n",
       "      <th>nAA</th>\n",
       "      <th>charge</th>\n",
       "    </tr>\n",
       "  </thead>\n",
       "  <tbody>\n",
       "    <tr>\n",
       "      <th>0</th>\n",
       "      <td>QKELDSK</td>\n",
       "      <td>0</td>\n",
       "      <td>1</td>\n",
       "      <td>False</td>\n",
       "      <td>False</td>\n",
       "      <td>Phospho@S</td>\n",
       "      <td>6</td>\n",
       "      <td>7</td>\n",
       "      <td>2</td>\n",
       "    </tr>\n",
       "    <tr>\n",
       "      <th>1</th>\n",
       "      <td>QKELDSK</td>\n",
       "      <td>0</td>\n",
       "      <td>1</td>\n",
       "      <td>False</td>\n",
       "      <td>False</td>\n",
       "      <td>Phospho@S</td>\n",
       "      <td>6</td>\n",
       "      <td>7</td>\n",
       "      <td>3</td>\n",
       "    </tr>\n",
       "    <tr>\n",
       "      <th>2</th>\n",
       "      <td>QKELDSK</td>\n",
       "      <td>0</td>\n",
       "      <td>1</td>\n",
       "      <td>False</td>\n",
       "      <td>False</td>\n",
       "      <td>Phospho@S</td>\n",
       "      <td>6</td>\n",
       "      <td>7</td>\n",
       "      <td>4</td>\n",
       "    </tr>\n",
       "    <tr>\n",
       "      <th>3</th>\n",
       "      <td>QKELDSK</td>\n",
       "      <td>0</td>\n",
       "      <td>1</td>\n",
       "      <td>False</td>\n",
       "      <td>False</td>\n",
       "      <td></td>\n",
       "      <td></td>\n",
       "      <td>7</td>\n",
       "      <td>2</td>\n",
       "    </tr>\n",
       "    <tr>\n",
       "      <th>4</th>\n",
       "      <td>QKELDSK</td>\n",
       "      <td>0</td>\n",
       "      <td>1</td>\n",
       "      <td>False</td>\n",
       "      <td>False</td>\n",
       "      <td></td>\n",
       "      <td></td>\n",
       "      <td>7</td>\n",
       "      <td>3</td>\n",
       "    </tr>\n",
       "    <tr>\n",
       "      <th>...</th>\n",
       "      <td>...</td>\n",
       "      <td>...</td>\n",
       "      <td>...</td>\n",
       "      <td>...</td>\n",
       "      <td>...</td>\n",
       "      <td>...</td>\n",
       "      <td>...</td>\n",
       "      <td>...</td>\n",
       "      <td>...</td>\n",
       "    </tr>\n",
       "    <tr>\n",
       "      <th>1048</th>\n",
       "      <td>QDWEHAANDVSFATIRFHDLLSQLDDQYSR</td>\n",
       "      <td>0</td>\n",
       "      <td>1</td>\n",
       "      <td>False</td>\n",
       "      <td>False</td>\n",
       "      <td>Phospho@S</td>\n",
       "      <td>29</td>\n",
       "      <td>30</td>\n",
       "      <td>3</td>\n",
       "    </tr>\n",
       "    <tr>\n",
       "      <th>1049</th>\n",
       "      <td>QDWEHAANDVSFATIRFHDLLSQLDDQYSR</td>\n",
       "      <td>0</td>\n",
       "      <td>1</td>\n",
       "      <td>False</td>\n",
       "      <td>False</td>\n",
       "      <td>Phospho@S</td>\n",
       "      <td>29</td>\n",
       "      <td>30</td>\n",
       "      <td>4</td>\n",
       "    </tr>\n",
       "    <tr>\n",
       "      <th>1050</th>\n",
       "      <td>QDWEHAANDVSFATIRFHDLLSQLDDQYSR</td>\n",
       "      <td>0</td>\n",
       "      <td>1</td>\n",
       "      <td>False</td>\n",
       "      <td>False</td>\n",
       "      <td></td>\n",
       "      <td></td>\n",
       "      <td>30</td>\n",
       "      <td>2</td>\n",
       "    </tr>\n",
       "    <tr>\n",
       "      <th>1051</th>\n",
       "      <td>QDWEHAANDVSFATIRFHDLLSQLDDQYSR</td>\n",
       "      <td>0</td>\n",
       "      <td>1</td>\n",
       "      <td>False</td>\n",
       "      <td>False</td>\n",
       "      <td></td>\n",
       "      <td></td>\n",
       "      <td>30</td>\n",
       "      <td>3</td>\n",
       "    </tr>\n",
       "    <tr>\n",
       "      <th>1052</th>\n",
       "      <td>QDWEHAANDVSFATIRFHDLLSQLDDQYSR</td>\n",
       "      <td>0</td>\n",
       "      <td>1</td>\n",
       "      <td>False</td>\n",
       "      <td>False</td>\n",
       "      <td></td>\n",
       "      <td></td>\n",
       "      <td>30</td>\n",
       "      <td>4</td>\n",
       "    </tr>\n",
       "  </tbody>\n",
       "</table>\n",
       "<p>1053 rows × 9 columns</p>\n",
       "</div>"
      ],
      "text/plain": [
       "                            sequence protein_idxes  miss_cleavage  \\\n",
       "0                            QKELDSK             0              1   \n",
       "1                            QKELDSK             0              1   \n",
       "2                            QKELDSK             0              1   \n",
       "3                            QKELDSK             0              1   \n",
       "4                            QKELDSK             0              1   \n",
       "...                              ...           ...            ...   \n",
       "1048  QDWEHAANDVSFATIRFHDLLSQLDDQYSR             0              1   \n",
       "1049  QDWEHAANDVSFATIRFHDLLSQLDDQYSR             0              1   \n",
       "1050  QDWEHAANDVSFATIRFHDLLSQLDDQYSR             0              1   \n",
       "1051  QDWEHAANDVSFATIRFHDLLSQLDDQYSR             0              1   \n",
       "1052  QDWEHAANDVSFATIRFHDLLSQLDDQYSR             0              1   \n",
       "\n",
       "      is_prot_nterm  is_prot_cterm       mods mod_sites  nAA  charge  \n",
       "0             False          False  Phospho@S         6    7       2  \n",
       "1             False          False  Phospho@S         6    7       3  \n",
       "2             False          False  Phospho@S         6    7       4  \n",
       "3             False          False                         7       2  \n",
       "4             False          False                         7       3  \n",
       "...             ...            ...        ...       ...  ...     ...  \n",
       "1048          False          False  Phospho@S        29   30       3  \n",
       "1049          False          False  Phospho@S        29   30       4  \n",
       "1050          False          False                        30       2  \n",
       "1051          False          False                        30       3  \n",
       "1052          False          False                        30       4  \n",
       "\n",
       "[1053 rows x 9 columns]"
      ]
     },
     "execution_count": 15,
     "metadata": {},
     "output_type": "execute_result"
    }
   ],
   "source": [
    "from peptdeep.protein.fasta import PredictSpecLibFasta\n",
    "fasta_lib = PredictSpecLibFasta(\n",
    "    model_manager=model_mgr,\n",
    "    charged_frag_types=model_mgr.ms2_model.charged_frag_types,\n",
    "    precursor_charge_min=2,\n",
    "    precursor_charge_max=4,\n",
    "    precursor_mz_min=400,\n",
    "    precursor_mz_max=1000,\n",
    "    peptide_length_min=7,\n",
    "    peptide_length_max=30,\n",
    "    max_missed_cleavages=2,\n",
    "    var_mods=[\"Acetyl@Protein_N-term\", \"Oxidation@M\"],\n",
    "    fix_mods=[\"Carbamidomethyl@C\"],\n",
    "    special_mods=[\"Phospho@S\",\"Phospho@T\",\"Phospho@Y\"],\n",
    "    min_special_mod_num=0,\n",
    "    max_special_mod_num=1,\n",
    ")\n",
    "fasta_lib.import_and_process_fasta(\n",
    "    [\"../test_data/small_fasta/test_protein.fasta\"]\n",
    ")\n",
    "fasta_lib.precursor_df"
   ]
  },
  {
   "cell_type": "code",
   "execution_count": 16,
   "metadata": {},
   "outputs": [
    {
     "name": "stdout",
     "output_type": "stream",
     "text": [
      "2024-01-05 13:28:54> Predicting RT/IM/MS2 for 616 precursors ...\n",
      "2024-01-05 13:28:54> Predicting RT ...\n"
     ]
    },
    {
     "name": "stderr",
     "output_type": "stream",
     "text": [
      "  0%|          | 0/24 [00:00<?, ?it/s]"
     ]
    },
    {
     "name": "stderr",
     "output_type": "stream",
     "text": [
      "100%|██████████| 24/24 [00:00<00:00, 71.69it/s]"
     ]
    },
    {
     "name": "stdout",
     "output_type": "stream",
     "text": [
      "2024-01-05 13:28:55> Predicting MS2 ...\n"
     ]
    },
    {
     "name": "stderr",
     "output_type": "stream",
     "text": [
      "\n",
      "100%|██████████| 24/24 [00:00<00:00, 26.00it/s]"
     ]
    },
    {
     "name": "stdout",
     "output_type": "stream",
     "text": [
      "2024-01-05 13:28:56> End predicting RT/IM/MS2\n"
     ]
    },
    {
     "name": "stderr",
     "output_type": "stream",
     "text": [
      "\n"
     ]
    },
    {
     "data": {
      "text/html": [
       "<div>\n",
       "<style scoped>\n",
       "    .dataframe tbody tr th:only-of-type {\n",
       "        vertical-align: middle;\n",
       "    }\n",
       "\n",
       "    .dataframe tbody tr th {\n",
       "        vertical-align: top;\n",
       "    }\n",
       "\n",
       "    .dataframe thead th {\n",
       "        text-align: right;\n",
       "    }\n",
       "</style>\n",
       "<table border=\"1\" class=\"dataframe\">\n",
       "  <thead>\n",
       "    <tr style=\"text-align: right;\">\n",
       "      <th></th>\n",
       "      <th>sequence</th>\n",
       "      <th>protein_idxes</th>\n",
       "      <th>miss_cleavage</th>\n",
       "      <th>is_prot_nterm</th>\n",
       "      <th>is_prot_cterm</th>\n",
       "      <th>mods</th>\n",
       "      <th>mod_sites</th>\n",
       "      <th>nAA</th>\n",
       "      <th>charge</th>\n",
       "      <th>precursor_mz</th>\n",
       "      <th>rt_pred</th>\n",
       "      <th>rt_norm_pred</th>\n",
       "      <th>nce</th>\n",
       "      <th>instrument</th>\n",
       "      <th>frag_start_idx</th>\n",
       "      <th>frag_stop_idx</th>\n",
       "    </tr>\n",
       "  </thead>\n",
       "  <tbody>\n",
       "    <tr>\n",
       "      <th>0</th>\n",
       "      <td>QKELDSK</td>\n",
       "      <td>0</td>\n",
       "      <td>1</td>\n",
       "      <td>False</td>\n",
       "      <td>False</td>\n",
       "      <td>Phospho@S</td>\n",
       "      <td>6</td>\n",
       "      <td>7</td>\n",
       "      <td>2</td>\n",
       "      <td>464.212790</td>\n",
       "      <td>0.107773</td>\n",
       "      <td>0.107773</td>\n",
       "      <td>30.0</td>\n",
       "      <td>Lumos</td>\n",
       "      <td>0</td>\n",
       "      <td>6</td>\n",
       "    </tr>\n",
       "    <tr>\n",
       "      <th>1</th>\n",
       "      <td>QKELDSK</td>\n",
       "      <td>0</td>\n",
       "      <td>1</td>\n",
       "      <td>False</td>\n",
       "      <td>False</td>\n",
       "      <td></td>\n",
       "      <td></td>\n",
       "      <td>7</td>\n",
       "      <td>2</td>\n",
       "      <td>424.229625</td>\n",
       "      <td>0.104636</td>\n",
       "      <td>0.104636</td>\n",
       "      <td>30.0</td>\n",
       "      <td>Lumos</td>\n",
       "      <td>6</td>\n",
       "      <td>12</td>\n",
       "    </tr>\n",
       "    <tr>\n",
       "      <th>2</th>\n",
       "      <td>RKEVVHK</td>\n",
       "      <td>0</td>\n",
       "      <td>2</td>\n",
       "      <td>False</td>\n",
       "      <td>False</td>\n",
       "      <td></td>\n",
       "      <td></td>\n",
       "      <td>7</td>\n",
       "      <td>2</td>\n",
       "      <td>448.277244</td>\n",
       "      <td>0.137680</td>\n",
       "      <td>0.137680</td>\n",
       "      <td>30.0</td>\n",
       "      <td>Lumos</td>\n",
       "      <td>12</td>\n",
       "      <td>18</td>\n",
       "    </tr>\n",
       "    <tr>\n",
       "      <th>3</th>\n",
       "      <td>ILENAQR</td>\n",
       "      <td>0</td>\n",
       "      <td>0</td>\n",
       "      <td>False</td>\n",
       "      <td>False</td>\n",
       "      <td></td>\n",
       "      <td></td>\n",
       "      <td>7</td>\n",
       "      <td>2</td>\n",
       "      <td>422.237784</td>\n",
       "      <td>0.240211</td>\n",
       "      <td>0.240211</td>\n",
       "      <td>30.0</td>\n",
       "      <td>Lumos</td>\n",
       "      <td>18</td>\n",
       "      <td>24</td>\n",
       "    </tr>\n",
       "    <tr>\n",
       "      <th>4</th>\n",
       "      <td>ELDSKVR</td>\n",
       "      <td>0</td>\n",
       "      <td>1</td>\n",
       "      <td>False</td>\n",
       "      <td>False</td>\n",
       "      <td>Phospho@S</td>\n",
       "      <td>4</td>\n",
       "      <td>7</td>\n",
       "      <td>2</td>\n",
       "      <td>463.720782</td>\n",
       "      <td>0.177771</td>\n",
       "      <td>0.177771</td>\n",
       "      <td>30.0</td>\n",
       "      <td>Lumos</td>\n",
       "      <td>24</td>\n",
       "      <td>30</td>\n",
       "    </tr>\n",
       "    <tr>\n",
       "      <th>...</th>\n",
       "      <td>...</td>\n",
       "      <td>...</td>\n",
       "      <td>...</td>\n",
       "      <td>...</td>\n",
       "      <td>...</td>\n",
       "      <td>...</td>\n",
       "      <td>...</td>\n",
       "      <td>...</td>\n",
       "      <td>...</td>\n",
       "      <td>...</td>\n",
       "      <td>...</td>\n",
       "      <td>...</td>\n",
       "      <td>...</td>\n",
       "      <td>...</td>\n",
       "      <td>...</td>\n",
       "      <td>...</td>\n",
       "    </tr>\n",
       "    <tr>\n",
       "      <th>611</th>\n",
       "      <td>QDWEHAANDVSFATIRFHDLLSQLDDQYSR</td>\n",
       "      <td>0</td>\n",
       "      <td>1</td>\n",
       "      <td>False</td>\n",
       "      <td>False</td>\n",
       "      <td>Phospho@T</td>\n",
       "      <td>14</td>\n",
       "      <td>30</td>\n",
       "      <td>4</td>\n",
       "      <td>915.165315</td>\n",
       "      <td>0.930701</td>\n",
       "      <td>0.930701</td>\n",
       "      <td>30.0</td>\n",
       "      <td>Lumos</td>\n",
       "      <td>10294</td>\n",
       "      <td>10323</td>\n",
       "    </tr>\n",
       "    <tr>\n",
       "      <th>612</th>\n",
       "      <td>QDWEHAANDVSFATIRFHDLLSQLDDQYSR</td>\n",
       "      <td>0</td>\n",
       "      <td>1</td>\n",
       "      <td>False</td>\n",
       "      <td>False</td>\n",
       "      <td>Phospho@S</td>\n",
       "      <td>22</td>\n",
       "      <td>30</td>\n",
       "      <td>4</td>\n",
       "      <td>915.165315</td>\n",
       "      <td>0.938164</td>\n",
       "      <td>0.938164</td>\n",
       "      <td>30.0</td>\n",
       "      <td>Lumos</td>\n",
       "      <td>10323</td>\n",
       "      <td>10352</td>\n",
       "    </tr>\n",
       "    <tr>\n",
       "      <th>613</th>\n",
       "      <td>QDWEHAANDVSFATIRFHDLLSQLDDQYSR</td>\n",
       "      <td>0</td>\n",
       "      <td>1</td>\n",
       "      <td>False</td>\n",
       "      <td>False</td>\n",
       "      <td>Phospho@Y</td>\n",
       "      <td>28</td>\n",
       "      <td>30</td>\n",
       "      <td>4</td>\n",
       "      <td>915.165315</td>\n",
       "      <td>0.925687</td>\n",
       "      <td>0.925687</td>\n",
       "      <td>30.0</td>\n",
       "      <td>Lumos</td>\n",
       "      <td>10352</td>\n",
       "      <td>10381</td>\n",
       "    </tr>\n",
       "    <tr>\n",
       "      <th>614</th>\n",
       "      <td>QDWEHAANDVSFATIRFHDLLSQLDDQYSR</td>\n",
       "      <td>0</td>\n",
       "      <td>1</td>\n",
       "      <td>False</td>\n",
       "      <td>False</td>\n",
       "      <td>Phospho@S</td>\n",
       "      <td>29</td>\n",
       "      <td>30</td>\n",
       "      <td>4</td>\n",
       "      <td>915.165315</td>\n",
       "      <td>0.921293</td>\n",
       "      <td>0.921293</td>\n",
       "      <td>30.0</td>\n",
       "      <td>Lumos</td>\n",
       "      <td>10381</td>\n",
       "      <td>10410</td>\n",
       "    </tr>\n",
       "    <tr>\n",
       "      <th>615</th>\n",
       "      <td>QDWEHAANDVSFATIRFHDLLSQLDDQYSR</td>\n",
       "      <td>0</td>\n",
       "      <td>1</td>\n",
       "      <td>False</td>\n",
       "      <td>False</td>\n",
       "      <td></td>\n",
       "      <td></td>\n",
       "      <td>30</td>\n",
       "      <td>4</td>\n",
       "      <td>895.173732</td>\n",
       "      <td>0.885225</td>\n",
       "      <td>0.885225</td>\n",
       "      <td>30.0</td>\n",
       "      <td>Lumos</td>\n",
       "      <td>10410</td>\n",
       "      <td>10439</td>\n",
       "    </tr>\n",
       "  </tbody>\n",
       "</table>\n",
       "<p>616 rows × 16 columns</p>\n",
       "</div>"
      ],
      "text/plain": [
       "                           sequence protein_idxes  miss_cleavage  \\\n",
       "0                           QKELDSK             0              1   \n",
       "1                           QKELDSK             0              1   \n",
       "2                           RKEVVHK             0              2   \n",
       "3                           ILENAQR             0              0   \n",
       "4                           ELDSKVR             0              1   \n",
       "..                              ...           ...            ...   \n",
       "611  QDWEHAANDVSFATIRFHDLLSQLDDQYSR             0              1   \n",
       "612  QDWEHAANDVSFATIRFHDLLSQLDDQYSR             0              1   \n",
       "613  QDWEHAANDVSFATIRFHDLLSQLDDQYSR             0              1   \n",
       "614  QDWEHAANDVSFATIRFHDLLSQLDDQYSR             0              1   \n",
       "615  QDWEHAANDVSFATIRFHDLLSQLDDQYSR             0              1   \n",
       "\n",
       "     is_prot_nterm  is_prot_cterm       mods mod_sites  nAA  charge  \\\n",
       "0            False          False  Phospho@S         6    7       2   \n",
       "1            False          False                         7       2   \n",
       "2            False          False                         7       2   \n",
       "3            False          False                         7       2   \n",
       "4            False          False  Phospho@S         4    7       2   \n",
       "..             ...            ...        ...       ...  ...     ...   \n",
       "611          False          False  Phospho@T        14   30       4   \n",
       "612          False          False  Phospho@S        22   30       4   \n",
       "613          False          False  Phospho@Y        28   30       4   \n",
       "614          False          False  Phospho@S        29   30       4   \n",
       "615          False          False                        30       4   \n",
       "\n",
       "     precursor_mz   rt_pred  rt_norm_pred   nce instrument  frag_start_idx  \\\n",
       "0      464.212790  0.107773      0.107773  30.0      Lumos               0   \n",
       "1      424.229625  0.104636      0.104636  30.0      Lumos               6   \n",
       "2      448.277244  0.137680      0.137680  30.0      Lumos              12   \n",
       "3      422.237784  0.240211      0.240211  30.0      Lumos              18   \n",
       "4      463.720782  0.177771      0.177771  30.0      Lumos              24   \n",
       "..            ...       ...           ...   ...        ...             ...   \n",
       "611    915.165315  0.930701      0.930701  30.0      Lumos           10294   \n",
       "612    915.165315  0.938164      0.938164  30.0      Lumos           10323   \n",
       "613    915.165315  0.925687      0.925687  30.0      Lumos           10352   \n",
       "614    915.165315  0.921293      0.921293  30.0      Lumos           10381   \n",
       "615    895.173732  0.885225      0.885225  30.0      Lumos           10410   \n",
       "\n",
       "     frag_stop_idx  \n",
       "0                6  \n",
       "1               12  \n",
       "2               18  \n",
       "3               24  \n",
       "4               30  \n",
       "..             ...  \n",
       "611          10323  \n",
       "612          10352  \n",
       "613          10381  \n",
       "614          10410  \n",
       "615          10439  \n",
       "\n",
       "[616 rows x 16 columns]"
      ]
     },
     "execution_count": 16,
     "metadata": {},
     "output_type": "execute_result"
    }
   ],
   "source": [
    "fasta_lib.predict_all(\n",
    "    predict_items=[\"rt\",\"ms2\"]\n",
    ")\n",
    "fasta_lib.precursor_df"
   ]
  },
  {
   "cell_type": "code",
   "execution_count": 17,
   "metadata": {},
   "outputs": [
    {
     "data": {
      "text/html": [
       "<div>\n",
       "<style scoped>\n",
       "    .dataframe tbody tr th:only-of-type {\n",
       "        vertical-align: middle;\n",
       "    }\n",
       "\n",
       "    .dataframe tbody tr th {\n",
       "        vertical-align: top;\n",
       "    }\n",
       "\n",
       "    .dataframe thead th {\n",
       "        text-align: right;\n",
       "    }\n",
       "</style>\n",
       "<table border=\"1\" class=\"dataframe\">\n",
       "  <thead>\n",
       "    <tr style=\"text-align: right;\">\n",
       "      <th></th>\n",
       "      <th>b_z1</th>\n",
       "      <th>b_z2</th>\n",
       "      <th>y_z1</th>\n",
       "      <th>y_z2</th>\n",
       "      <th>b_modloss_z1</th>\n",
       "      <th>b_modloss_z2</th>\n",
       "      <th>y_modloss_z1</th>\n",
       "      <th>y_modloss_z2</th>\n",
       "    </tr>\n",
       "  </thead>\n",
       "  <tbody>\n",
       "    <tr>\n",
       "      <th>0</th>\n",
       "      <td>0.000000</td>\n",
       "      <td>0.0</td>\n",
       "      <td>0.000000</td>\n",
       "      <td>0.0</td>\n",
       "      <td>0.0</td>\n",
       "      <td>0.0</td>\n",
       "      <td>0.055726</td>\n",
       "      <td>0.028839</td>\n",
       "    </tr>\n",
       "    <tr>\n",
       "      <th>1</th>\n",
       "      <td>0.000000</td>\n",
       "      <td>0.0</td>\n",
       "      <td>0.000000</td>\n",
       "      <td>0.0</td>\n",
       "      <td>0.0</td>\n",
       "      <td>0.0</td>\n",
       "      <td>1.000000</td>\n",
       "      <td>0.000000</td>\n",
       "    </tr>\n",
       "    <tr>\n",
       "      <th>2</th>\n",
       "      <td>0.027916</td>\n",
       "      <td>0.0</td>\n",
       "      <td>0.000000</td>\n",
       "      <td>0.0</td>\n",
       "      <td>0.0</td>\n",
       "      <td>0.0</td>\n",
       "      <td>0.614695</td>\n",
       "      <td>0.000000</td>\n",
       "    </tr>\n",
       "    <tr>\n",
       "      <th>3</th>\n",
       "      <td>0.000000</td>\n",
       "      <td>0.0</td>\n",
       "      <td>0.000000</td>\n",
       "      <td>0.0</td>\n",
       "      <td>0.0</td>\n",
       "      <td>0.0</td>\n",
       "      <td>0.930825</td>\n",
       "      <td>0.000000</td>\n",
       "    </tr>\n",
       "    <tr>\n",
       "      <th>4</th>\n",
       "      <td>0.000000</td>\n",
       "      <td>0.0</td>\n",
       "      <td>0.023271</td>\n",
       "      <td>0.0</td>\n",
       "      <td>0.0</td>\n",
       "      <td>0.0</td>\n",
       "      <td>0.943874</td>\n",
       "      <td>0.003736</td>\n",
       "    </tr>\n",
       "    <tr>\n",
       "      <th>...</th>\n",
       "      <td>...</td>\n",
       "      <td>...</td>\n",
       "      <td>...</td>\n",
       "      <td>...</td>\n",
       "      <td>...</td>\n",
       "      <td>...</td>\n",
       "      <td>...</td>\n",
       "      <td>...</td>\n",
       "    </tr>\n",
       "    <tr>\n",
       "      <th>10434</th>\n",
       "      <td>0.000000</td>\n",
       "      <td>0.0</td>\n",
       "      <td>0.822472</td>\n",
       "      <td>0.0</td>\n",
       "      <td>0.0</td>\n",
       "      <td>0.0</td>\n",
       "      <td>0.000000</td>\n",
       "      <td>0.000000</td>\n",
       "    </tr>\n",
       "    <tr>\n",
       "      <th>10435</th>\n",
       "      <td>0.000000</td>\n",
       "      <td>0.0</td>\n",
       "      <td>0.915372</td>\n",
       "      <td>0.0</td>\n",
       "      <td>0.0</td>\n",
       "      <td>0.0</td>\n",
       "      <td>0.000000</td>\n",
       "      <td>0.000000</td>\n",
       "    </tr>\n",
       "    <tr>\n",
       "      <th>10436</th>\n",
       "      <td>0.000000</td>\n",
       "      <td>0.0</td>\n",
       "      <td>0.148882</td>\n",
       "      <td>0.0</td>\n",
       "      <td>0.0</td>\n",
       "      <td>0.0</td>\n",
       "      <td>0.000000</td>\n",
       "      <td>0.000000</td>\n",
       "    </tr>\n",
       "    <tr>\n",
       "      <th>10437</th>\n",
       "      <td>0.000000</td>\n",
       "      <td>0.0</td>\n",
       "      <td>0.128119</td>\n",
       "      <td>0.0</td>\n",
       "      <td>0.0</td>\n",
       "      <td>0.0</td>\n",
       "      <td>0.000000</td>\n",
       "      <td>0.000000</td>\n",
       "    </tr>\n",
       "    <tr>\n",
       "      <th>10438</th>\n",
       "      <td>0.000000</td>\n",
       "      <td>0.0</td>\n",
       "      <td>0.379597</td>\n",
       "      <td>0.0</td>\n",
       "      <td>0.0</td>\n",
       "      <td>0.0</td>\n",
       "      <td>0.000000</td>\n",
       "      <td>0.000000</td>\n",
       "    </tr>\n",
       "  </tbody>\n",
       "</table>\n",
       "<p>10439 rows × 8 columns</p>\n",
       "</div>"
      ],
      "text/plain": [
       "           b_z1  b_z2      y_z1  y_z2  b_modloss_z1  b_modloss_z2  \\\n",
       "0      0.000000   0.0  0.000000   0.0           0.0           0.0   \n",
       "1      0.000000   0.0  0.000000   0.0           0.0           0.0   \n",
       "2      0.027916   0.0  0.000000   0.0           0.0           0.0   \n",
       "3      0.000000   0.0  0.000000   0.0           0.0           0.0   \n",
       "4      0.000000   0.0  0.023271   0.0           0.0           0.0   \n",
       "...         ...   ...       ...   ...           ...           ...   \n",
       "10434  0.000000   0.0  0.822472   0.0           0.0           0.0   \n",
       "10435  0.000000   0.0  0.915372   0.0           0.0           0.0   \n",
       "10436  0.000000   0.0  0.148882   0.0           0.0           0.0   \n",
       "10437  0.000000   0.0  0.128119   0.0           0.0           0.0   \n",
       "10438  0.000000   0.0  0.379597   0.0           0.0           0.0   \n",
       "\n",
       "       y_modloss_z1  y_modloss_z2  \n",
       "0          0.055726      0.028839  \n",
       "1          1.000000      0.000000  \n",
       "2          0.614695      0.000000  \n",
       "3          0.930825      0.000000  \n",
       "4          0.943874      0.003736  \n",
       "...             ...           ...  \n",
       "10434      0.000000      0.000000  \n",
       "10435      0.000000      0.000000  \n",
       "10436      0.000000      0.000000  \n",
       "10437      0.000000      0.000000  \n",
       "10438      0.000000      0.000000  \n",
       "\n",
       "[10439 rows x 8 columns]"
      ]
     },
     "execution_count": 17,
     "metadata": {},
     "output_type": "execute_result"
    }
   ],
   "source": [
    "fasta_lib.fragment_intensity_df"
   ]
  },
  {
   "cell_type": "markdown",
   "metadata": {},
   "source": [
    "#### Save predicted speclib into HDF (supported by AlphaDIA)"
   ]
  },
  {
   "cell_type": "code",
   "execution_count": 20,
   "metadata": {},
   "outputs": [],
   "source": [
    "fasta_lib.save_hdf(\"../test_data/speclib/predicted.speclib.hdf\")"
   ]
  },
  {
   "cell_type": "markdown",
   "metadata": {},
   "source": [
    "### Save predicted speclib into TSV (SWATH format)"
   ]
  },
  {
   "cell_type": "code",
   "execution_count": 18,
   "metadata": {},
   "outputs": [
    {
     "name": "stderr",
     "output_type": "stream",
     "text": [
      "100%|██████████| 1/1 [00:00<00:00,  1.34it/s]\n"
     ]
    },
    {
     "name": "stdout",
     "output_type": "stream",
     "text": [
      "Translation finished, it will take several minutes to export the rest precursors to the tsv file...\n"
     ]
    }
   ],
   "source": [
    "from peptdeep.spec_lib.translate import translate_to_tsv\n",
    "\n",
    "translate_to_tsv(\n",
    "    fasta_lib, \n",
    "    tsv=\"../speclib/predicted.speclib.tsv\",\n",
    "    keep_k_highest_fragments=12,\n",
    "    min_frag_mz=200, \n",
    "    max_frag_mz=10000,\n",
    "    min_frag_intensity=0.01,\n",
    "    batch_size=100000,\n",
    "    multiprocessing=True\n",
    ")"
   ]
  },
  {
   "cell_type": "code",
   "execution_count": null,
   "metadata": {},
   "outputs": [],
   "source": []
  }
 ],
 "metadata": {
  "kernelspec": {
   "display_name": "base",
   "language": "python",
   "name": "python3"
  },
  "language_info": {
   "codemirror_mode": {
    "name": "ipython",
    "version": 3
   },
   "file_extension": ".py",
   "mimetype": "text/x-python",
   "name": "python",
   "nbconvert_exporter": "python",
   "pygments_lexer": "ipython3",
   "version": "3.9.12"
  }
 },
 "nbformat": 4,
 "nbformat_minor": 2
}
