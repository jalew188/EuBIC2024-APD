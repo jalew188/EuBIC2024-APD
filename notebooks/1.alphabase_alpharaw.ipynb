{
 "cells": [
  {
   "cell_type": "markdown",
   "metadata": {},
   "source": [
    "# AlphaBase, AlphaRaw and Spectrum Vis"
   ]
  },
  {
   "cell_type": "markdown",
   "metadata": {},
   "source": [
    "### Load Thermo Raw Data using AlphaRaw\n",
    "\n",
    "To access Raw data, `PythonNet` must be installed based on .NET Framework, .NETCore or Mono for different OS systems. See https://github.com/MannLabs/alpharaw#installation."
   ]
  },
  {
   "cell_type": "code",
   "execution_count": 1,
   "metadata": {},
   "outputs": [],
   "source": [
    "# from alpharaw.thermo import ThermoRawData\n",
    "# from alpharaw.sciex import SciexWiffData\n",
    "# from alpharaw.mzml import MzMLReader\n",
    "# raw_data = ThermoRawData(save_as_hdf=True)\n",
    "# raw_data.import_raw(\"/Users/wenfengzeng/data/ap_msdata/HeLa_500ng.raw\")"
   ]
  },
  {
   "cell_type": "markdown",
   "metadata": {},
   "source": [
    "### Load AlphaRaw's HDF format"
   ]
  },
  {
   "cell_type": "code",
   "execution_count": 2,
   "metadata": {},
   "outputs": [
    {
     "data": {
      "text/html": [
       "<div>\n",
       "<style scoped>\n",
       "    .dataframe tbody tr th:only-of-type {\n",
       "        vertical-align: middle;\n",
       "    }\n",
       "\n",
       "    .dataframe tbody tr th {\n",
       "        vertical-align: top;\n",
       "    }\n",
       "\n",
       "    .dataframe thead th {\n",
       "        text-align: right;\n",
       "    }\n",
       "</style>\n",
       "<table border=\"1\" class=\"dataframe\">\n",
       "  <thead>\n",
       "    <tr style=\"text-align: right;\">\n",
       "      <th></th>\n",
       "      <th>isolation_lower_mz</th>\n",
       "      <th>isolation_upper_mz</th>\n",
       "      <th>ms_level</th>\n",
       "      <th>nce</th>\n",
       "      <th>peak_start_idx</th>\n",
       "      <th>peak_stop_idx</th>\n",
       "      <th>precursor_charge</th>\n",
       "      <th>precursor_mz</th>\n",
       "      <th>rt</th>\n",
       "      <th>spec_idx</th>\n",
       "    </tr>\n",
       "  </thead>\n",
       "  <tbody>\n",
       "    <tr>\n",
       "      <th>0</th>\n",
       "      <td>-1.000000</td>\n",
       "      <td>-1.000000</td>\n",
       "      <td>1</td>\n",
       "      <td>0.0</td>\n",
       "      <td>0</td>\n",
       "      <td>947</td>\n",
       "      <td>0</td>\n",
       "      <td>-1.000000</td>\n",
       "      <td>0.002132</td>\n",
       "      <td>0</td>\n",
       "    </tr>\n",
       "    <tr>\n",
       "      <th>1</th>\n",
       "      <td>-1.000000</td>\n",
       "      <td>-1.000000</td>\n",
       "      <td>1</td>\n",
       "      <td>0.0</td>\n",
       "      <td>947</td>\n",
       "      <td>1804</td>\n",
       "      <td>0</td>\n",
       "      <td>-1.000000</td>\n",
       "      <td>0.006426</td>\n",
       "      <td>1</td>\n",
       "    </tr>\n",
       "    <tr>\n",
       "      <th>2</th>\n",
       "      <td>-1.000000</td>\n",
       "      <td>-1.000000</td>\n",
       "      <td>1</td>\n",
       "      <td>0.0</td>\n",
       "      <td>1804</td>\n",
       "      <td>2745</td>\n",
       "      <td>0</td>\n",
       "      <td>-1.000000</td>\n",
       "      <td>0.010237</td>\n",
       "      <td>2</td>\n",
       "    </tr>\n",
       "    <tr>\n",
       "      <th>3</th>\n",
       "      <td>-1.000000</td>\n",
       "      <td>-1.000000</td>\n",
       "      <td>1</td>\n",
       "      <td>0.0</td>\n",
       "      <td>2745</td>\n",
       "      <td>3666</td>\n",
       "      <td>0</td>\n",
       "      <td>-1.000000</td>\n",
       "      <td>0.014216</td>\n",
       "      <td>3</td>\n",
       "    </tr>\n",
       "    <tr>\n",
       "      <th>4</th>\n",
       "      <td>-1.000000</td>\n",
       "      <td>-1.000000</td>\n",
       "      <td>1</td>\n",
       "      <td>0.0</td>\n",
       "      <td>3666</td>\n",
       "      <td>4554</td>\n",
       "      <td>0</td>\n",
       "      <td>-1.000000</td>\n",
       "      <td>0.018199</td>\n",
       "      <td>4</td>\n",
       "    </tr>\n",
       "    <tr>\n",
       "      <th>...</th>\n",
       "      <td>...</td>\n",
       "      <td>...</td>\n",
       "      <td>...</td>\n",
       "      <td>...</td>\n",
       "      <td>...</td>\n",
       "      <td>...</td>\n",
       "      <td>...</td>\n",
       "      <td>...</td>\n",
       "      <td>...</td>\n",
       "      <td>...</td>\n",
       "    </tr>\n",
       "    <tr>\n",
       "      <th>133451</th>\n",
       "      <td>513.694897</td>\n",
       "      <td>515.094897</td>\n",
       "      <td>2</td>\n",
       "      <td>27.0</td>\n",
       "      <td>52689507</td>\n",
       "      <td>52689523</td>\n",
       "      <td>0</td>\n",
       "      <td>514.394897</td>\n",
       "      <td>119.992310</td>\n",
       "      <td>133451</td>\n",
       "    </tr>\n",
       "    <tr>\n",
       "      <th>133452</th>\n",
       "      <td>-1.000000</td>\n",
       "      <td>-1.000000</td>\n",
       "      <td>1</td>\n",
       "      <td>0.0</td>\n",
       "      <td>52689523</td>\n",
       "      <td>52690736</td>\n",
       "      <td>0</td>\n",
       "      <td>-1.000000</td>\n",
       "      <td>119.993600</td>\n",
       "      <td>133452</td>\n",
       "    </tr>\n",
       "    <tr>\n",
       "      <th>133453</th>\n",
       "      <td>747.706555</td>\n",
       "      <td>749.106555</td>\n",
       "      <td>2</td>\n",
       "      <td>27.0</td>\n",
       "      <td>52690736</td>\n",
       "      <td>52690748</td>\n",
       "      <td>0</td>\n",
       "      <td>748.406555</td>\n",
       "      <td>119.996860</td>\n",
       "      <td>133453</td>\n",
       "    </tr>\n",
       "    <tr>\n",
       "      <th>133454</th>\n",
       "      <td>-1.000000</td>\n",
       "      <td>-1.000000</td>\n",
       "      <td>1</td>\n",
       "      <td>0.0</td>\n",
       "      <td>52690748</td>\n",
       "      <td>52691929</td>\n",
       "      <td>0</td>\n",
       "      <td>-1.000000</td>\n",
       "      <td>119.998150</td>\n",
       "      <td>133454</td>\n",
       "    </tr>\n",
       "    <tr>\n",
       "      <th>133455</th>\n",
       "      <td>1007.302075</td>\n",
       "      <td>1008.702075</td>\n",
       "      <td>2</td>\n",
       "      <td>27.0</td>\n",
       "      <td>52691929</td>\n",
       "      <td>52691942</td>\n",
       "      <td>0</td>\n",
       "      <td>1008.002075</td>\n",
       "      <td>120.001420</td>\n",
       "      <td>133455</td>\n",
       "    </tr>\n",
       "  </tbody>\n",
       "</table>\n",
       "<p>133456 rows × 10 columns</p>\n",
       "</div>"
      ],
      "text/plain": [
       "        isolation_lower_mz  isolation_upper_mz  ms_level   nce  \\\n",
       "0                -1.000000           -1.000000         1   0.0   \n",
       "1                -1.000000           -1.000000         1   0.0   \n",
       "2                -1.000000           -1.000000         1   0.0   \n",
       "3                -1.000000           -1.000000         1   0.0   \n",
       "4                -1.000000           -1.000000         1   0.0   \n",
       "...                    ...                 ...       ...   ...   \n",
       "133451          513.694897          515.094897         2  27.0   \n",
       "133452           -1.000000           -1.000000         1   0.0   \n",
       "133453          747.706555          749.106555         2  27.0   \n",
       "133454           -1.000000           -1.000000         1   0.0   \n",
       "133455         1007.302075         1008.702075         2  27.0   \n",
       "\n",
       "        peak_start_idx  peak_stop_idx  precursor_charge  precursor_mz  \\\n",
       "0                    0            947                 0     -1.000000   \n",
       "1                  947           1804                 0     -1.000000   \n",
       "2                 1804           2745                 0     -1.000000   \n",
       "3                 2745           3666                 0     -1.000000   \n",
       "4                 3666           4554                 0     -1.000000   \n",
       "...                ...            ...               ...           ...   \n",
       "133451        52689507       52689523                 0    514.394897   \n",
       "133452        52689523       52690736                 0     -1.000000   \n",
       "133453        52690736       52690748                 0    748.406555   \n",
       "133454        52690748       52691929                 0     -1.000000   \n",
       "133455        52691929       52691942                 0   1008.002075   \n",
       "\n",
       "                rt  spec_idx  \n",
       "0         0.002132         0  \n",
       "1         0.006426         1  \n",
       "2         0.010237         2  \n",
       "3         0.014216         3  \n",
       "4         0.018199         4  \n",
       "...            ...       ...  \n",
       "133451  119.992310    133451  \n",
       "133452  119.993600    133452  \n",
       "133453  119.996860    133453  \n",
       "133454  119.998150    133454  \n",
       "133455  120.001420    133455  \n",
       "\n",
       "[133456 rows x 10 columns]"
      ]
     },
     "execution_count": 2,
     "metadata": {},
     "output_type": "execute_result"
    }
   ],
   "source": [
    "from alpharaw.ms_data_base import MSData_Base\n",
    "\n",
    "ms_data = MSData_Base()\n",
    "ms_data.load_hdf(\"../test_data/dda/HeLa_500ng.raw.hdf\")\n",
    "ms_data.spectrum_df"
   ]
  },
  {
   "cell_type": "code",
   "execution_count": 3,
   "metadata": {},
   "outputs": [
    {
     "data": {
      "text/html": [
       "<div>\n",
       "<style scoped>\n",
       "    .dataframe tbody tr th:only-of-type {\n",
       "        vertical-align: middle;\n",
       "    }\n",
       "\n",
       "    .dataframe tbody tr th {\n",
       "        vertical-align: top;\n",
       "    }\n",
       "\n",
       "    .dataframe thead th {\n",
       "        text-align: right;\n",
       "    }\n",
       "</style>\n",
       "<table border=\"1\" class=\"dataframe\">\n",
       "  <thead>\n",
       "    <tr style=\"text-align: right;\">\n",
       "      <th></th>\n",
       "      <th>intensity</th>\n",
       "      <th>mz</th>\n",
       "    </tr>\n",
       "  </thead>\n",
       "  <tbody>\n",
       "    <tr>\n",
       "      <th>0</th>\n",
       "      <td>78647.179688</td>\n",
       "      <td>300.062225</td>\n",
       "    </tr>\n",
       "    <tr>\n",
       "      <th>1</th>\n",
       "      <td>16854.835938</td>\n",
       "      <td>300.181488</td>\n",
       "    </tr>\n",
       "    <tr>\n",
       "      <th>2</th>\n",
       "      <td>48675.617188</td>\n",
       "      <td>300.277588</td>\n",
       "    </tr>\n",
       "    <tr>\n",
       "      <th>3</th>\n",
       "      <td>37171.460938</td>\n",
       "      <td>300.298889</td>\n",
       "    </tr>\n",
       "    <tr>\n",
       "      <th>4</th>\n",
       "      <td>12439.951172</td>\n",
       "      <td>300.335724</td>\n",
       "    </tr>\n",
       "    <tr>\n",
       "      <th>...</th>\n",
       "      <td>...</td>\n",
       "      <td>...</td>\n",
       "    </tr>\n",
       "    <tr>\n",
       "      <th>52691937</th>\n",
       "      <td>8425.477539</td>\n",
       "      <td>684.554565</td>\n",
       "    </tr>\n",
       "    <tr>\n",
       "      <th>52691938</th>\n",
       "      <td>9639.876953</td>\n",
       "      <td>897.415161</td>\n",
       "    </tr>\n",
       "    <tr>\n",
       "      <th>52691939</th>\n",
       "      <td>10831.402344</td>\n",
       "      <td>1007.536987</td>\n",
       "    </tr>\n",
       "    <tr>\n",
       "      <th>52691940</th>\n",
       "      <td>9109.153320</td>\n",
       "      <td>1427.651367</td>\n",
       "    </tr>\n",
       "    <tr>\n",
       "      <th>52691941</th>\n",
       "      <td>8562.273438</td>\n",
       "      <td>1515.917358</td>\n",
       "    </tr>\n",
       "  </tbody>\n",
       "</table>\n",
       "<p>52691942 rows × 2 columns</p>\n",
       "</div>"
      ],
      "text/plain": [
       "             intensity           mz\n",
       "0         78647.179688   300.062225\n",
       "1         16854.835938   300.181488\n",
       "2         48675.617188   300.277588\n",
       "3         37171.460938   300.298889\n",
       "4         12439.951172   300.335724\n",
       "...                ...          ...\n",
       "52691937   8425.477539   684.554565\n",
       "52691938   9639.876953   897.415161\n",
       "52691939  10831.402344  1007.536987\n",
       "52691940   9109.153320  1427.651367\n",
       "52691941   8562.273438  1515.917358\n",
       "\n",
       "[52691942 rows x 2 columns]"
      ]
     },
     "execution_count": 3,
     "metadata": {},
     "output_type": "execute_result"
    }
   ],
   "source": [
    "ms_data.peak_df"
   ]
  },
  {
   "cell_type": "markdown",
   "metadata": {},
   "source": [
    "### Get the peak list for a given spectrum"
   ]
  },
  {
   "cell_type": "code",
   "execution_count": 4,
   "metadata": {},
   "outputs": [
    {
     "data": {
      "text/html": [
       "<div>\n",
       "<style scoped>\n",
       "    .dataframe tbody tr th:only-of-type {\n",
       "        vertical-align: middle;\n",
       "    }\n",
       "\n",
       "    .dataframe tbody tr th {\n",
       "        vertical-align: top;\n",
       "    }\n",
       "\n",
       "    .dataframe thead th {\n",
       "        text-align: right;\n",
       "    }\n",
       "</style>\n",
       "<table border=\"1\" class=\"dataframe\">\n",
       "  <thead>\n",
       "    <tr style=\"text-align: right;\">\n",
       "      <th></th>\n",
       "      <th>intensity</th>\n",
       "      <th>mz</th>\n",
       "    </tr>\n",
       "  </thead>\n",
       "  <tbody>\n",
       "    <tr>\n",
       "      <th>76866</th>\n",
       "      <td>82767.609375</td>\n",
       "      <td>300.061005</td>\n",
       "    </tr>\n",
       "    <tr>\n",
       "      <th>76867</th>\n",
       "      <td>33471.000000</td>\n",
       "      <td>300.180450</td>\n",
       "    </tr>\n",
       "    <tr>\n",
       "      <th>76868</th>\n",
       "      <td>40469.039062</td>\n",
       "      <td>300.276886</td>\n",
       "    </tr>\n",
       "    <tr>\n",
       "      <th>76869</th>\n",
       "      <td>12977.758789</td>\n",
       "      <td>300.289520</td>\n",
       "    </tr>\n",
       "    <tr>\n",
       "      <th>76870</th>\n",
       "      <td>42692.718750</td>\n",
       "      <td>300.298004</td>\n",
       "    </tr>\n",
       "    <tr>\n",
       "      <th>...</th>\n",
       "      <td>...</td>\n",
       "      <td>...</td>\n",
       "    </tr>\n",
       "    <tr>\n",
       "      <th>77658</th>\n",
       "      <td>20136.412109</td>\n",
       "      <td>1360.538208</td>\n",
       "    </tr>\n",
       "    <tr>\n",
       "      <th>77659</th>\n",
       "      <td>22530.769531</td>\n",
       "      <td>1366.057007</td>\n",
       "    </tr>\n",
       "    <tr>\n",
       "      <th>77660</th>\n",
       "      <td>25471.552734</td>\n",
       "      <td>1373.409546</td>\n",
       "    </tr>\n",
       "    <tr>\n",
       "      <th>77661</th>\n",
       "      <td>21047.003906</td>\n",
       "      <td>1476.254028</td>\n",
       "    </tr>\n",
       "    <tr>\n",
       "      <th>77662</th>\n",
       "      <td>23264.013672</td>\n",
       "      <td>1503.185669</td>\n",
       "    </tr>\n",
       "  </tbody>\n",
       "</table>\n",
       "<p>797 rows × 2 columns</p>\n",
       "</div>"
      ],
      "text/plain": [
       "          intensity           mz\n",
       "76866  82767.609375   300.061005\n",
       "76867  33471.000000   300.180450\n",
       "76868  40469.039062   300.276886\n",
       "76869  12977.758789   300.289520\n",
       "76870  42692.718750   300.298004\n",
       "...             ...          ...\n",
       "77658  20136.412109  1360.538208\n",
       "77659  22530.769531  1366.057007\n",
       "77660  25471.552734  1373.409546\n",
       "77661  21047.003906  1476.254028\n",
       "77662  23264.013672  1503.185669\n",
       "\n",
       "[797 rows x 2 columns]"
      ]
     },
     "execution_count": 4,
     "metadata": {},
     "output_type": "execute_result"
    }
   ],
   "source": [
    "spec_idx = 100 # scan_num = spec_idx + 1\n",
    "peak_start_idx = ms_data.spectrum_df.peak_start_idx.values[spec_idx]\n",
    "peak_stop_idx = ms_data.spectrum_df.peak_stop_idx.values[spec_idx]\n",
    "ms_data.peak_df.iloc[peak_start_idx:peak_stop_idx]"
   ]
  },
  {
   "cell_type": "markdown",
   "metadata": {},
   "source": [
    "# AlphaBase"
   ]
  },
  {
   "cell_type": "markdown",
   "metadata": {},
   "source": [
    "### Load PSMs from search engines"
   ]
  },
  {
   "cell_type": "code",
   "execution_count": 5,
   "metadata": {},
   "outputs": [],
   "source": [
    "from alphabase.psm_reader import (\n",
    "    AlphaPeptReader, \n",
    "    pFindReader, \n",
    "    MaxQuantReader, \n",
    "    MSFragger_PSM_TSV_Reader,\n",
    ")\n",
    "\n",
    "from alphabase.psm_reader.dia_psm_reader import (\n",
    "    DiannReader, \n",
    "    SpectronautReportReader, \n",
    "    SpectronautReader, \n",
    "    SwathReader\n",
    ")"
   ]
  },
  {
   "cell_type": "code",
   "execution_count": 6,
   "metadata": {},
   "outputs": [
    {
     "data": {
      "text/html": [
       "<div>\n",
       "<style scoped>\n",
       "    .dataframe tbody tr th:only-of-type {\n",
       "        vertical-align: middle;\n",
       "    }\n",
       "\n",
       "    .dataframe tbody tr th {\n",
       "        vertical-align: top;\n",
       "    }\n",
       "\n",
       "    .dataframe thead th {\n",
       "        text-align: right;\n",
       "    }\n",
       "</style>\n",
       "<table border=\"1\" class=\"dataframe\">\n",
       "  <thead>\n",
       "    <tr style=\"text-align: right;\">\n",
       "      <th></th>\n",
       "      <th>sequence</th>\n",
       "      <th>charge</th>\n",
       "      <th>raw_name</th>\n",
       "      <th>query_id</th>\n",
       "      <th>scan_num</th>\n",
       "      <th>score</th>\n",
       "      <th>proteins</th>\n",
       "      <th>uniprot_ids</th>\n",
       "      <th>fdr</th>\n",
       "      <th>decoy</th>\n",
       "      <th>spec_idx</th>\n",
       "      <th>mods</th>\n",
       "      <th>mod_sites</th>\n",
       "      <th>nAA</th>\n",
       "      <th>precursor_mz</th>\n",
       "    </tr>\n",
       "  </thead>\n",
       "  <tbody>\n",
       "    <tr>\n",
       "      <th>0</th>\n",
       "      <td>ESLLVK</td>\n",
       "      <td>2</td>\n",
       "      <td>HeLa_500ng</td>\n",
       "      <td>HeLa_500ng.35692.35692.2.0.dta</td>\n",
       "      <td>35692</td>\n",
       "      <td>1.622062</td>\n",
       "      <td>sp|Q6S5L8|SHC4_HUMAN;REV_sp|Q8WZ42|TITIN_HUMAN...</td>\n",
       "      <td>sp|Q6S5L8|SHC4_HUMAN;REV_sp|Q8WZ42|TITIN_HUMAN...</td>\n",
       "      <td>0.003092</td>\n",
       "      <td>0</td>\n",
       "      <td>35691</td>\n",
       "      <td></td>\n",
       "      <td></td>\n",
       "      <td>6</td>\n",
       "      <td>344.715622</td>\n",
       "    </tr>\n",
       "    <tr>\n",
       "      <th>1</th>\n",
       "      <td>VPAFVR</td>\n",
       "      <td>2</td>\n",
       "      <td>HeLa_500ng</td>\n",
       "      <td>HeLa_500ng.42111.42111.2.0.dta</td>\n",
       "      <td>42111</td>\n",
       "      <td>1.221872</td>\n",
       "      <td>REV_sp|Q8N6M6|AMPO_HUMAN;sp|P48739|PIPNB_HUMAN...</td>\n",
       "      <td>REV_sp|Q8N6M6|AMPO_HUMAN;sp|P48739|PIPNB_HUMAN...</td>\n",
       "      <td>0.005711</td>\n",
       "      <td>0</td>\n",
       "      <td>42110</td>\n",
       "      <td></td>\n",
       "      <td></td>\n",
       "      <td>6</td>\n",
       "      <td>344.710674</td>\n",
       "    </tr>\n",
       "    <tr>\n",
       "      <th>2</th>\n",
       "      <td>RLEDFR</td>\n",
       "      <td>2</td>\n",
       "      <td>HeLa_500ng</td>\n",
       "      <td>HeLa_500ng.18181.18181.2.0.dta</td>\n",
       "      <td>18181</td>\n",
       "      <td>1.221981</td>\n",
       "      <td>sp|Q659C4|LAR1B_HUMAN;sp|Q6PKG0|LARP1_HUMAN</td>\n",
       "      <td>sp|Q659C4|LAR1B_HUMAN;sp|Q6PKG0|LARP1_HUMAN</td>\n",
       "      <td>0.005711</td>\n",
       "      <td>0</td>\n",
       "      <td>18180</td>\n",
       "      <td></td>\n",
       "      <td></td>\n",
       "      <td>6</td>\n",
       "      <td>418.224677</td>\n",
       "    </tr>\n",
       "    <tr>\n",
       "      <th>3</th>\n",
       "      <td>MENLLR</td>\n",
       "      <td>2</td>\n",
       "      <td>HeLa_500ng</td>\n",
       "      <td>HeLa_500ng.42606.42606.2.0.dta</td>\n",
       "      <td>42606</td>\n",
       "      <td>1.496833</td>\n",
       "      <td>REV_sp|Q92833|JARD2_HUMAN;REV_sp|P08779|K1C16_...</td>\n",
       "      <td>REV_sp|Q92833|JARD2_HUMAN;REV_sp|P08779|K1C16_...</td>\n",
       "      <td>0.003616</td>\n",
       "      <td>0</td>\n",
       "      <td>42605</td>\n",
       "      <td></td>\n",
       "      <td></td>\n",
       "      <td>6</td>\n",
       "      <td>388.210181</td>\n",
       "    </tr>\n",
       "    <tr>\n",
       "      <th>4</th>\n",
       "      <td>YLMALK</td>\n",
       "      <td>2</td>\n",
       "      <td>HeLa_500ng</td>\n",
       "      <td>HeLa_500ng.57170.57170.2.1.dta</td>\n",
       "      <td>57170</td>\n",
       "      <td>1.222059</td>\n",
       "      <td>sp|P50579|MAP2_HUMAN</td>\n",
       "      <td>sp|P50579|MAP2_HUMAN</td>\n",
       "      <td>0.005711</td>\n",
       "      <td>0</td>\n",
       "      <td>57169</td>\n",
       "      <td></td>\n",
       "      <td></td>\n",
       "      <td>6</td>\n",
       "      <td>369.714568</td>\n",
       "    </tr>\n",
       "    <tr>\n",
       "      <th>...</th>\n",
       "      <td>...</td>\n",
       "      <td>...</td>\n",
       "      <td>...</td>\n",
       "      <td>...</td>\n",
       "      <td>...</td>\n",
       "      <td>...</td>\n",
       "      <td>...</td>\n",
       "      <td>...</td>\n",
       "      <td>...</td>\n",
       "      <td>...</td>\n",
       "      <td>...</td>\n",
       "      <td>...</td>\n",
       "      <td>...</td>\n",
       "      <td>...</td>\n",
       "      <td>...</td>\n",
       "    </tr>\n",
       "    <tr>\n",
       "      <th>165446</th>\n",
       "      <td>TPAEPEVGPAAPAMAPAPASAPAPASAPAPAPVPTPAMVSAPSSTV...</td>\n",
       "      <td>4</td>\n",
       "      <td>HeLa_500ng</td>\n",
       "      <td>HeLa_500ng.119581.119581.4.1.dta</td>\n",
       "      <td>119581</td>\n",
       "      <td>6.142999</td>\n",
       "      <td>sp|Q14244|MAP7_HUMAN</td>\n",
       "      <td>sp|Q14244|MAP7_HUMAN</td>\n",
       "      <td>0.000034</td>\n",
       "      <td>0</td>\n",
       "      <td>119580</td>\n",
       "      <td>Deamidated@N</td>\n",
       "      <td>47</td>\n",
       "      <td>53</td>\n",
       "      <td>1204.107032</td>\n",
       "    </tr>\n",
       "    <tr>\n",
       "      <th>165447</th>\n",
       "      <td>AAAAAADPNAAWAAYYSHYYQQPPGPVPGPAPAPAAPPAQGEPPQP...</td>\n",
       "      <td>5</td>\n",
       "      <td>HeLa_500ng</td>\n",
       "      <td>HeLa_500ng.112172.112172.5.0.dta</td>\n",
       "      <td>112172</td>\n",
       "      <td>9.357916</td>\n",
       "      <td>sp|Q92945|FUBP2_HUMAN</td>\n",
       "      <td>sp|Q92945|FUBP2_HUMAN</td>\n",
       "      <td>0.000000</td>\n",
       "      <td>0</td>\n",
       "      <td>112171</td>\n",
       "      <td></td>\n",
       "      <td></td>\n",
       "      <td>56</td>\n",
       "      <td>1125.538184</td>\n",
       "    </tr>\n",
       "    <tr>\n",
       "      <th>165448</th>\n",
       "      <td>QDPAAAQEGEDEGASAGQGPKPEAHSQEQGHPQTGCECEDGPDGQE...</td>\n",
       "      <td>5</td>\n",
       "      <td>HeLa_500ng</td>\n",
       "      <td>HeLa_500ng.42554.42554.5.0.dta</td>\n",
       "      <td>42554</td>\n",
       "      <td>6.239731</td>\n",
       "      <td>sp|Q4V326|GAG2E_HUMAN;sp|Q13066|GAG2B_HUMAN;sp...</td>\n",
       "      <td>sp|Q4V326|GAG2E_HUMAN;sp|Q13066|GAG2B_HUMAN;sp...</td>\n",
       "      <td>0.000000</td>\n",
       "      <td>0</td>\n",
       "      <td>42553</td>\n",
       "      <td>Pentose@T</td>\n",
       "      <td>34</td>\n",
       "      <td>56</td>\n",
       "      <td>1186.293216</td>\n",
       "    </tr>\n",
       "    <tr>\n",
       "      <th>165449</th>\n",
       "      <td>QDPAAAQEGQDEGASAGQGPKPEAHSQEQGHPQTGCECEDGPDGQE...</td>\n",
       "      <td>5</td>\n",
       "      <td>HeLa_500ng</td>\n",
       "      <td>HeLa_500ng.50483.50483.5.0.dta</td>\n",
       "      <td>50483</td>\n",
       "      <td>7.362675</td>\n",
       "      <td>sp|Q6NT46|GAG2A_HUMAN</td>\n",
       "      <td>sp|Q6NT46|GAG2A_HUMAN</td>\n",
       "      <td>0.000000</td>\n",
       "      <td>0</td>\n",
       "      <td>50482</td>\n",
       "      <td>2-succinyl@C</td>\n",
       "      <td>38</td>\n",
       "      <td>56</td>\n",
       "      <td>1182.890153</td>\n",
       "    </tr>\n",
       "    <tr>\n",
       "      <th>165450</th>\n",
       "      <td>ENPQLLQQISQHQEHFIQMLNEPVQEAGGQGGGGGGGSGGIAEAGS...</td>\n",
       "      <td>5</td>\n",
       "      <td>HeLa_500ng</td>\n",
       "      <td>HeLa_500ng.116500.116500.5.0.dta</td>\n",
       "      <td>116500</td>\n",
       "      <td>19.874702</td>\n",
       "      <td>sp|P54727|RD23B_HUMAN</td>\n",
       "      <td>sp|P54727|RD23B_HUMAN</td>\n",
       "      <td>0.000000</td>\n",
       "      <td>0</td>\n",
       "      <td>116499</td>\n",
       "      <td></td>\n",
       "      <td></td>\n",
       "      <td>59</td>\n",
       "      <td>1225.783835</td>\n",
       "    </tr>\n",
       "  </tbody>\n",
       "</table>\n",
       "<p>165451 rows × 15 columns</p>\n",
       "</div>"
      ],
      "text/plain": [
       "                                                 sequence  charge    raw_name  \\\n",
       "0                                                  ESLLVK       2  HeLa_500ng   \n",
       "1                                                  VPAFVR       2  HeLa_500ng   \n",
       "2                                                  RLEDFR       2  HeLa_500ng   \n",
       "3                                                  MENLLR       2  HeLa_500ng   \n",
       "4                                                  YLMALK       2  HeLa_500ng   \n",
       "...                                                   ...     ...         ...   \n",
       "165446  TPAEPEVGPAAPAMAPAPASAPAPASAPAPAPVPTPAMVSAPSSTV...       4  HeLa_500ng   \n",
       "165447  AAAAAADPNAAWAAYYSHYYQQPPGPVPGPAPAPAAPPAQGEPPQP...       5  HeLa_500ng   \n",
       "165448  QDPAAAQEGEDEGASAGQGPKPEAHSQEQGHPQTGCECEDGPDGQE...       5  HeLa_500ng   \n",
       "165449  QDPAAAQEGQDEGASAGQGPKPEAHSQEQGHPQTGCECEDGPDGQE...       5  HeLa_500ng   \n",
       "165450  ENPQLLQQISQHQEHFIQMLNEPVQEAGGQGGGGGGGSGGIAEAGS...       5  HeLa_500ng   \n",
       "\n",
       "                                query_id  scan_num      score  \\\n",
       "0         HeLa_500ng.35692.35692.2.0.dta     35692   1.622062   \n",
       "1         HeLa_500ng.42111.42111.2.0.dta     42111   1.221872   \n",
       "2         HeLa_500ng.18181.18181.2.0.dta     18181   1.221981   \n",
       "3         HeLa_500ng.42606.42606.2.0.dta     42606   1.496833   \n",
       "4         HeLa_500ng.57170.57170.2.1.dta     57170   1.222059   \n",
       "...                                  ...       ...        ...   \n",
       "165446  HeLa_500ng.119581.119581.4.1.dta    119581   6.142999   \n",
       "165447  HeLa_500ng.112172.112172.5.0.dta    112172   9.357916   \n",
       "165448    HeLa_500ng.42554.42554.5.0.dta     42554   6.239731   \n",
       "165449    HeLa_500ng.50483.50483.5.0.dta     50483   7.362675   \n",
       "165450  HeLa_500ng.116500.116500.5.0.dta    116500  19.874702   \n",
       "\n",
       "                                                 proteins  \\\n",
       "0       sp|Q6S5L8|SHC4_HUMAN;REV_sp|Q8WZ42|TITIN_HUMAN...   \n",
       "1       REV_sp|Q8N6M6|AMPO_HUMAN;sp|P48739|PIPNB_HUMAN...   \n",
       "2             sp|Q659C4|LAR1B_HUMAN;sp|Q6PKG0|LARP1_HUMAN   \n",
       "3       REV_sp|Q92833|JARD2_HUMAN;REV_sp|P08779|K1C16_...   \n",
       "4                                    sp|P50579|MAP2_HUMAN   \n",
       "...                                                   ...   \n",
       "165446                               sp|Q14244|MAP7_HUMAN   \n",
       "165447                              sp|Q92945|FUBP2_HUMAN   \n",
       "165448  sp|Q4V326|GAG2E_HUMAN;sp|Q13066|GAG2B_HUMAN;sp...   \n",
       "165449                              sp|Q6NT46|GAG2A_HUMAN   \n",
       "165450                              sp|P54727|RD23B_HUMAN   \n",
       "\n",
       "                                              uniprot_ids       fdr  decoy  \\\n",
       "0       sp|Q6S5L8|SHC4_HUMAN;REV_sp|Q8WZ42|TITIN_HUMAN...  0.003092      0   \n",
       "1       REV_sp|Q8N6M6|AMPO_HUMAN;sp|P48739|PIPNB_HUMAN...  0.005711      0   \n",
       "2             sp|Q659C4|LAR1B_HUMAN;sp|Q6PKG0|LARP1_HUMAN  0.005711      0   \n",
       "3       REV_sp|Q92833|JARD2_HUMAN;REV_sp|P08779|K1C16_...  0.003616      0   \n",
       "4                                    sp|P50579|MAP2_HUMAN  0.005711      0   \n",
       "...                                                   ...       ...    ...   \n",
       "165446                               sp|Q14244|MAP7_HUMAN  0.000034      0   \n",
       "165447                              sp|Q92945|FUBP2_HUMAN  0.000000      0   \n",
       "165448  sp|Q4V326|GAG2E_HUMAN;sp|Q13066|GAG2B_HUMAN;sp...  0.000000      0   \n",
       "165449                              sp|Q6NT46|GAG2A_HUMAN  0.000000      0   \n",
       "165450                              sp|P54727|RD23B_HUMAN  0.000000      0   \n",
       "\n",
       "        spec_idx          mods mod_sites  nAA  precursor_mz  \n",
       "0          35691                            6    344.715622  \n",
       "1          42110                            6    344.710674  \n",
       "2          18180                            6    418.224677  \n",
       "3          42605                            6    388.210181  \n",
       "4          57169                            6    369.714568  \n",
       "...          ...           ...       ...  ...           ...  \n",
       "165446    119580  Deamidated@N        47   53   1204.107032  \n",
       "165447    112171                           56   1125.538184  \n",
       "165448     42553     Pentose@T        34   56   1186.293216  \n",
       "165449     50482  2-succinyl@C        38   56   1182.890153  \n",
       "165450    116499                           59   1225.783835  \n",
       "\n",
       "[165451 rows x 15 columns]"
      ]
     },
     "execution_count": 6,
     "metadata": {},
     "output_type": "execute_result"
    }
   ],
   "source": [
    "psm_reader = pFindReader()\n",
    "psm_df = psm_reader.import_file(\"../test_data/dda/pFind-Filtered.spectra\")\n",
    "psm_df"
   ]
  },
  {
   "cell_type": "code",
   "execution_count": 7,
   "metadata": {},
   "outputs": [
    {
     "data": {
      "text/html": [
       "<div>\n",
       "<style scoped>\n",
       "    .dataframe tbody tr th:only-of-type {\n",
       "        vertical-align: middle;\n",
       "    }\n",
       "\n",
       "    .dataframe tbody tr th {\n",
       "        vertical-align: top;\n",
       "    }\n",
       "\n",
       "    .dataframe thead th {\n",
       "        text-align: right;\n",
       "    }\n",
       "</style>\n",
       "<table border=\"1\" class=\"dataframe\">\n",
       "  <thead>\n",
       "    <tr style=\"text-align: right;\">\n",
       "      <th></th>\n",
       "      <th>sequence</th>\n",
       "      <th>charge</th>\n",
       "      <th>rt</th>\n",
       "      <th>scan_num</th>\n",
       "      <th>raw_name</th>\n",
       "      <th>precursor_mz</th>\n",
       "      <th>score</th>\n",
       "      <th>proteins</th>\n",
       "      <th>genes</th>\n",
       "      <th>decoy</th>\n",
       "      <th>spec_idx</th>\n",
       "      <th>mods</th>\n",
       "      <th>mod_sites</th>\n",
       "      <th>nAA</th>\n",
       "      <th>rt_norm</th>\n",
       "    </tr>\n",
       "  </thead>\n",
       "  <tbody>\n",
       "    <tr>\n",
       "      <th>0</th>\n",
       "      <td>ISFELMR</td>\n",
       "      <td>2</td>\n",
       "      <td>72.800</td>\n",
       "      <td>84562</td>\n",
       "      <td>HeLa_500ng</td>\n",
       "      <td>448.23894</td>\n",
       "      <td>153.880</td>\n",
       "      <td>Q9UNE7</td>\n",
       "      <td>STUB1</td>\n",
       "      <td>0</td>\n",
       "      <td>84561</td>\n",
       "      <td></td>\n",
       "      <td></td>\n",
       "      <td>7</td>\n",
       "      <td>0.608340</td>\n",
       "    </tr>\n",
       "    <tr>\n",
       "      <th>1</th>\n",
       "      <td>IYCTDLR</td>\n",
       "      <td>2</td>\n",
       "      <td>34.141</td>\n",
       "      <td>34871</td>\n",
       "      <td>HeLa_500ng</td>\n",
       "      <td>470.73148</td>\n",
       "      <td>89.427</td>\n",
       "      <td>Q8TAF3</td>\n",
       "      <td>WDR48</td>\n",
       "      <td>0</td>\n",
       "      <td>34870</td>\n",
       "      <td>Carbamidomethyl@C</td>\n",
       "      <td>3</td>\n",
       "      <td>7</td>\n",
       "      <td>0.285293</td>\n",
       "    </tr>\n",
       "    <tr>\n",
       "      <th>2</th>\n",
       "      <td>EGIVALR</td>\n",
       "      <td>2</td>\n",
       "      <td>45.346</td>\n",
       "      <td>49451</td>\n",
       "      <td>HeLa_500ng</td>\n",
       "      <td>379.23197</td>\n",
       "      <td>118.060</td>\n",
       "      <td>P40227</td>\n",
       "      <td>CCT6A</td>\n",
       "      <td>0</td>\n",
       "      <td>49450</td>\n",
       "      <td></td>\n",
       "      <td></td>\n",
       "      <td>7</td>\n",
       "      <td>0.378925</td>\n",
       "    </tr>\n",
       "    <tr>\n",
       "      <th>3</th>\n",
       "      <td>TLDVAVK</td>\n",
       "      <td>2</td>\n",
       "      <td>35.632</td>\n",
       "      <td>36818</td>\n",
       "      <td>HeLa_500ng</td>\n",
       "      <td>373.22635</td>\n",
       "      <td>66.993</td>\n",
       "      <td>A0FGR8</td>\n",
       "      <td>ESYT2</td>\n",
       "      <td>0</td>\n",
       "      <td>36817</td>\n",
       "      <td></td>\n",
       "      <td></td>\n",
       "      <td>7</td>\n",
       "      <td>0.297752</td>\n",
       "    </tr>\n",
       "    <tr>\n",
       "      <th>4</th>\n",
       "      <td>EGIPVMR</td>\n",
       "      <td>2</td>\n",
       "      <td>45.502</td>\n",
       "      <td>49650</td>\n",
       "      <td>HeLa_500ng</td>\n",
       "      <td>401.21801</td>\n",
       "      <td>82.263</td>\n",
       "      <td>Q14697</td>\n",
       "      <td>GANAB</td>\n",
       "      <td>0</td>\n",
       "      <td>49649</td>\n",
       "      <td></td>\n",
       "      <td></td>\n",
       "      <td>7</td>\n",
       "      <td>0.380229</td>\n",
       "    </tr>\n",
       "    <tr>\n",
       "      <th>...</th>\n",
       "      <td>...</td>\n",
       "      <td>...</td>\n",
       "      <td>...</td>\n",
       "      <td>...</td>\n",
       "      <td>...</td>\n",
       "      <td>...</td>\n",
       "      <td>...</td>\n",
       "      <td>...</td>\n",
       "      <td>...</td>\n",
       "      <td>...</td>\n",
       "      <td>...</td>\n",
       "      <td>...</td>\n",
       "      <td>...</td>\n",
       "      <td>...</td>\n",
       "      <td>...</td>\n",
       "    </tr>\n",
       "    <tr>\n",
       "      <th>55217</th>\n",
       "      <td>AVNPDEAVAIGAAIQGGVLAGDVTDVLLLDVTPLSLGIETLGGVFTK</td>\n",
       "      <td>4</td>\n",
       "      <td>108.190</td>\n",
       "      <td>128548</td>\n",
       "      <td>HeLa_500ng</td>\n",
       "      <td>1148.12960</td>\n",
       "      <td>36.090</td>\n",
       "      <td>P38646</td>\n",
       "      <td>HSPA9</td>\n",
       "      <td>0</td>\n",
       "      <td>128547</td>\n",
       "      <td></td>\n",
       "      <td></td>\n",
       "      <td>47</td>\n",
       "      <td>0.904070</td>\n",
       "    </tr>\n",
       "    <tr>\n",
       "      <th>55218</th>\n",
       "      <td>SPVGSGAPQAAAPAPAAHVAGNPGGDAAPAATGTAAAASLATAAGS...</td>\n",
       "      <td>3</td>\n",
       "      <td>75.088</td>\n",
       "      <td>87443</td>\n",
       "      <td>HeLa_500ng</td>\n",
       "      <td>1460.37600</td>\n",
       "      <td>239.620</td>\n",
       "      <td>P16989</td>\n",
       "      <td>YBX3</td>\n",
       "      <td>0</td>\n",
       "      <td>87442</td>\n",
       "      <td></td>\n",
       "      <td></td>\n",
       "      <td>51</td>\n",
       "      <td>0.627459</td>\n",
       "    </tr>\n",
       "    <tr>\n",
       "      <th>55219</th>\n",
       "      <td>SPVGSGAPQAAAPAPAAHVAGNPGGDAAPAATGTAAAASLATAAGS...</td>\n",
       "      <td>4</td>\n",
       "      <td>75.052</td>\n",
       "      <td>87398</td>\n",
       "      <td>HeLa_500ng</td>\n",
       "      <td>1095.53380</td>\n",
       "      <td>177.480</td>\n",
       "      <td>P16989</td>\n",
       "      <td>YBX3</td>\n",
       "      <td>0</td>\n",
       "      <td>87397</td>\n",
       "      <td></td>\n",
       "      <td></td>\n",
       "      <td>51</td>\n",
       "      <td>0.627158</td>\n",
       "    </tr>\n",
       "    <tr>\n",
       "      <th>55220</th>\n",
       "      <td>SSEAETQQPPAAPPAAPALSAADTKPGTTGSGAGSGGPGGLTSAAP...</td>\n",
       "      <td>3</td>\n",
       "      <td>76.213</td>\n",
       "      <td>88863</td>\n",
       "      <td>HeLa_500ng</td>\n",
       "      <td>1505.39000</td>\n",
       "      <td>145.780</td>\n",
       "      <td>P67809</td>\n",
       "      <td>YBX1</td>\n",
       "      <td>0</td>\n",
       "      <td>88862</td>\n",
       "      <td>Acetyl@Protein N-term</td>\n",
       "      <td>0</td>\n",
       "      <td>51</td>\n",
       "      <td>0.636860</td>\n",
       "    </tr>\n",
       "    <tr>\n",
       "      <th>55221</th>\n",
       "      <td>SSEAETQQPPAAPPAAPALSAADTKPGTTGSGAGSGGPGGLTSAAP...</td>\n",
       "      <td>4</td>\n",
       "      <td>76.181</td>\n",
       "      <td>88821</td>\n",
       "      <td>HeLa_500ng</td>\n",
       "      <td>1129.29430</td>\n",
       "      <td>159.670</td>\n",
       "      <td>P67809</td>\n",
       "      <td>YBX1</td>\n",
       "      <td>0</td>\n",
       "      <td>88820</td>\n",
       "      <td>Acetyl@Protein N-term</td>\n",
       "      <td>0</td>\n",
       "      <td>51</td>\n",
       "      <td>0.636592</td>\n",
       "    </tr>\n",
       "  </tbody>\n",
       "</table>\n",
       "<p>55222 rows × 15 columns</p>\n",
       "</div>"
      ],
      "text/plain": [
       "                                                sequence  charge       rt  \\\n",
       "0                                                ISFELMR       2   72.800   \n",
       "1                                                IYCTDLR       2   34.141   \n",
       "2                                                EGIVALR       2   45.346   \n",
       "3                                                TLDVAVK       2   35.632   \n",
       "4                                                EGIPVMR       2   45.502   \n",
       "...                                                  ...     ...      ...   \n",
       "55217    AVNPDEAVAIGAAIQGGVLAGDVTDVLLLDVTPLSLGIETLGGVFTK       4  108.190   \n",
       "55218  SPVGSGAPQAAAPAPAAHVAGNPGGDAAPAATGTAAAASLATAAGS...       3   75.088   \n",
       "55219  SPVGSGAPQAAAPAPAAHVAGNPGGDAAPAATGTAAAASLATAAGS...       4   75.052   \n",
       "55220  SSEAETQQPPAAPPAAPALSAADTKPGTTGSGAGSGGPGGLTSAAP...       3   76.213   \n",
       "55221  SSEAETQQPPAAPPAAPALSAADTKPGTTGSGAGSGGPGGLTSAAP...       4   76.181   \n",
       "\n",
       "       scan_num    raw_name  precursor_mz    score proteins  genes  decoy  \\\n",
       "0         84562  HeLa_500ng     448.23894  153.880   Q9UNE7  STUB1      0   \n",
       "1         34871  HeLa_500ng     470.73148   89.427   Q8TAF3  WDR48      0   \n",
       "2         49451  HeLa_500ng     379.23197  118.060   P40227  CCT6A      0   \n",
       "3         36818  HeLa_500ng     373.22635   66.993   A0FGR8  ESYT2      0   \n",
       "4         49650  HeLa_500ng     401.21801   82.263   Q14697  GANAB      0   \n",
       "...         ...         ...           ...      ...      ...    ...    ...   \n",
       "55217    128548  HeLa_500ng    1148.12960   36.090   P38646  HSPA9      0   \n",
       "55218     87443  HeLa_500ng    1460.37600  239.620   P16989   YBX3      0   \n",
       "55219     87398  HeLa_500ng    1095.53380  177.480   P16989   YBX3      0   \n",
       "55220     88863  HeLa_500ng    1505.39000  145.780   P67809   YBX1      0   \n",
       "55221     88821  HeLa_500ng    1129.29430  159.670   P67809   YBX1      0   \n",
       "\n",
       "       spec_idx                   mods mod_sites  nAA   rt_norm  \n",
       "0         84561                                     7  0.608340  \n",
       "1         34870      Carbamidomethyl@C         3    7  0.285293  \n",
       "2         49450                                     7  0.378925  \n",
       "3         36817                                     7  0.297752  \n",
       "4         49649                                     7  0.380229  \n",
       "...         ...                    ...       ...  ...       ...  \n",
       "55217    128547                                    47  0.904070  \n",
       "55218     87442                                    51  0.627459  \n",
       "55219     87397                                    51  0.627158  \n",
       "55220     88862  Acetyl@Protein N-term         0   51  0.636860  \n",
       "55221     88820  Acetyl@Protein N-term         0   51  0.636592  \n",
       "\n",
       "[55222 rows x 15 columns]"
      ]
     },
     "execution_count": 7,
     "metadata": {},
     "output_type": "execute_result"
    }
   ],
   "source": [
    "psm_reader = MaxQuantReader()\n",
    "psm_df = psm_reader.import_file(\"../test_data/dda/MaxQuant_msms.txt\")\n",
    "psm_df"
   ]
  },
  {
   "cell_type": "markdown",
   "metadata": {},
   "source": [
    "### Get fragment m/z values of PSMs"
   ]
  },
  {
   "cell_type": "code",
   "execution_count": 8,
   "metadata": {},
   "outputs": [],
   "source": [
    "from alphabase.peptide.fragment import create_fragment_mz_dataframe"
   ]
  },
  {
   "cell_type": "code",
   "execution_count": 9,
   "metadata": {},
   "outputs": [
    {
     "data": {
      "text/html": [
       "<div>\n",
       "<style scoped>\n",
       "    .dataframe tbody tr th:only-of-type {\n",
       "        vertical-align: middle;\n",
       "    }\n",
       "\n",
       "    .dataframe tbody tr th {\n",
       "        vertical-align: top;\n",
       "    }\n",
       "\n",
       "    .dataframe thead th {\n",
       "        text-align: right;\n",
       "    }\n",
       "</style>\n",
       "<table border=\"1\" class=\"dataframe\">\n",
       "  <thead>\n",
       "    <tr style=\"text-align: right;\">\n",
       "      <th></th>\n",
       "      <th>b_z1</th>\n",
       "      <th>b_z2</th>\n",
       "      <th>y_z1</th>\n",
       "      <th>y_z2</th>\n",
       "    </tr>\n",
       "  </thead>\n",
       "  <tbody>\n",
       "    <tr>\n",
       "      <th>0</th>\n",
       "      <td>114.091339</td>\n",
       "      <td>57.549309</td>\n",
       "      <td>782.386536</td>\n",
       "      <td>391.696899</td>\n",
       "    </tr>\n",
       "    <tr>\n",
       "      <th>1</th>\n",
       "      <td>201.123367</td>\n",
       "      <td>101.065323</td>\n",
       "      <td>695.354492</td>\n",
       "      <td>348.180878</td>\n",
       "    </tr>\n",
       "    <tr>\n",
       "      <th>2</th>\n",
       "      <td>348.191772</td>\n",
       "      <td>174.599533</td>\n",
       "      <td>548.286072</td>\n",
       "      <td>274.646698</td>\n",
       "    </tr>\n",
       "    <tr>\n",
       "      <th>3</th>\n",
       "      <td>477.234375</td>\n",
       "      <td>239.120819</td>\n",
       "      <td>419.243500</td>\n",
       "      <td>210.125381</td>\n",
       "    </tr>\n",
       "    <tr>\n",
       "      <th>4</th>\n",
       "      <td>590.318420</td>\n",
       "      <td>295.662872</td>\n",
       "      <td>306.159424</td>\n",
       "      <td>153.583359</td>\n",
       "    </tr>\n",
       "    <tr>\n",
       "      <th>...</th>\n",
       "      <td>...</td>\n",
       "      <td>...</td>\n",
       "      <td>...</td>\n",
       "      <td>...</td>\n",
       "    </tr>\n",
       "    <tr>\n",
       "      <th>681643</th>\n",
       "      <td>4067.942871</td>\n",
       "      <td>2034.475098</td>\n",
       "      <td>447.219788</td>\n",
       "      <td>224.113525</td>\n",
       "    </tr>\n",
       "    <tr>\n",
       "      <th>681644</th>\n",
       "      <td>4138.979980</td>\n",
       "      <td>2069.993652</td>\n",
       "      <td>376.182678</td>\n",
       "      <td>188.594971</td>\n",
       "    </tr>\n",
       "    <tr>\n",
       "      <th>681645</th>\n",
       "      <td>4196.001465</td>\n",
       "      <td>2098.504395</td>\n",
       "      <td>319.161224</td>\n",
       "      <td>160.084244</td>\n",
       "    </tr>\n",
       "    <tr>\n",
       "      <th>681646</th>\n",
       "      <td>4253.022949</td>\n",
       "      <td>2127.015137</td>\n",
       "      <td>262.139740</td>\n",
       "      <td>131.573517</td>\n",
       "    </tr>\n",
       "    <tr>\n",
       "      <th>681647</th>\n",
       "      <td>4368.049805</td>\n",
       "      <td>2184.528564</td>\n",
       "      <td>147.112808</td>\n",
       "      <td>74.060043</td>\n",
       "    </tr>\n",
       "  </tbody>\n",
       "</table>\n",
       "<p>681648 rows × 4 columns</p>\n",
       "</div>"
      ],
      "text/plain": [
       "               b_z1         b_z2        y_z1        y_z2\n",
       "0        114.091339    57.549309  782.386536  391.696899\n",
       "1        201.123367   101.065323  695.354492  348.180878\n",
       "2        348.191772   174.599533  548.286072  274.646698\n",
       "3        477.234375   239.120819  419.243500  210.125381\n",
       "4        590.318420   295.662872  306.159424  153.583359\n",
       "...             ...          ...         ...         ...\n",
       "681643  4067.942871  2034.475098  447.219788  224.113525\n",
       "681644  4138.979980  2069.993652  376.182678  188.594971\n",
       "681645  4196.001465  2098.504395  319.161224  160.084244\n",
       "681646  4253.022949  2127.015137  262.139740  131.573517\n",
       "681647  4368.049805  2184.528564  147.112808   74.060043\n",
       "\n",
       "[681648 rows x 4 columns]"
      ]
     },
     "execution_count": 9,
     "metadata": {},
     "output_type": "execute_result"
    }
   ],
   "source": [
    "fragment_mz_df = create_fragment_mz_dataframe(\n",
    "    psm_df, \n",
    "    charged_frag_types=[\"b_z1\",\"b_z2\",\"y_z1\",\"y_z2\"]\n",
    ")\n",
    "fragment_mz_df"
   ]
  },
  {
   "cell_type": "code",
   "execution_count": 10,
   "metadata": {},
   "outputs": [
    {
     "data": {
      "text/html": [
       "<div>\n",
       "<style scoped>\n",
       "    .dataframe tbody tr th:only-of-type {\n",
       "        vertical-align: middle;\n",
       "    }\n",
       "\n",
       "    .dataframe tbody tr th {\n",
       "        vertical-align: top;\n",
       "    }\n",
       "\n",
       "    .dataframe thead th {\n",
       "        text-align: right;\n",
       "    }\n",
       "</style>\n",
       "<table border=\"1\" class=\"dataframe\">\n",
       "  <thead>\n",
       "    <tr style=\"text-align: right;\">\n",
       "      <th></th>\n",
       "      <th>b_z1</th>\n",
       "      <th>b_z2</th>\n",
       "      <th>y_z1</th>\n",
       "      <th>y_z2</th>\n",
       "    </tr>\n",
       "  </thead>\n",
       "  <tbody>\n",
       "    <tr>\n",
       "      <th>600</th>\n",
       "      <td>88.039307</td>\n",
       "      <td>44.523293</td>\n",
       "      <td>676.406189</td>\n",
       "      <td>338.706757</td>\n",
       "    </tr>\n",
       "    <tr>\n",
       "      <th>601</th>\n",
       "      <td>201.123367</td>\n",
       "      <td>101.065323</td>\n",
       "      <td>563.322144</td>\n",
       "      <td>282.164703</td>\n",
       "    </tr>\n",
       "    <tr>\n",
       "      <th>602</th>\n",
       "      <td>314.207428</td>\n",
       "      <td>157.607361</td>\n",
       "      <td>450.238068</td>\n",
       "      <td>225.622681</td>\n",
       "    </tr>\n",
       "    <tr>\n",
       "      <th>603</th>\n",
       "      <td>385.244537</td>\n",
       "      <td>193.125916</td>\n",
       "      <td>379.200958</td>\n",
       "      <td>190.104126</td>\n",
       "    </tr>\n",
       "    <tr>\n",
       "      <th>604</th>\n",
       "      <td>486.292236</td>\n",
       "      <td>243.649750</td>\n",
       "      <td>278.153290</td>\n",
       "      <td>139.580276</td>\n",
       "    </tr>\n",
       "    <tr>\n",
       "      <th>605</th>\n",
       "      <td>617.332703</td>\n",
       "      <td>309.169983</td>\n",
       "      <td>147.112808</td>\n",
       "      <td>74.060043</td>\n",
       "    </tr>\n",
       "  </tbody>\n",
       "</table>\n",
       "</div>"
      ],
      "text/plain": [
       "           b_z1        b_z2        y_z1        y_z2\n",
       "600   88.039307   44.523293  676.406189  338.706757\n",
       "601  201.123367  101.065323  563.322144  282.164703\n",
       "602  314.207428  157.607361  450.238068  225.622681\n",
       "603  385.244537  193.125916  379.200958  190.104126\n",
       "604  486.292236  243.649750  278.153290  139.580276\n",
       "605  617.332703  309.169983  147.112808   74.060043"
      ]
     },
     "execution_count": 10,
     "metadata": {},
     "output_type": "execute_result"
    }
   ],
   "source": [
    "psm_idx = 100\n",
    "frag_start_idx = psm_df.frag_start_idx.values[psm_idx]\n",
    "frag_stop_idx = psm_df.frag_stop_idx.values[psm_idx]\n",
    "fragment_mz_df.iloc[frag_start_idx:frag_stop_idx]"
   ]
  },
  {
   "cell_type": "markdown",
   "metadata": {},
   "source": [
    "### Extract matched fragment intensities for PSMs against spectra"
   ]
  },
  {
   "cell_type": "code",
   "execution_count": 11,
   "metadata": {},
   "outputs": [
    {
     "name": "stderr",
     "output_type": "stream",
     "text": [
      "WARNING:root:WARNING: Temp mmap arrays are written to /var/folders/fh/hf8t3l1x02d42ggk3b304_rh0000gn/T/temp_mmap_bna3qfkc. Cleanup of this folder is OS dependant, and might need to be triggered manually! Current space: 623,245,606,912\n",
      "WARNING:root:WARNING: No Bruker libraries are available for this operating system. Mobility and m/z values need to be estimated. While this estimation often returns acceptable results with errors < 0.02 Th, huge errors (e.g. offsets of 6 Th) have already been observed for some samples!\n",
      "100%|██████████| 1/1 [00:02<00:00,  2.14s/it]\n"
     ]
    },
    {
     "data": {
      "text/html": [
       "<div>\n",
       "<style scoped>\n",
       "    .dataframe tbody tr th:only-of-type {\n",
       "        vertical-align: middle;\n",
       "    }\n",
       "\n",
       "    .dataframe tbody tr th {\n",
       "        vertical-align: top;\n",
       "    }\n",
       "\n",
       "    .dataframe thead th {\n",
       "        text-align: right;\n",
       "    }\n",
       "</style>\n",
       "<table border=\"1\" class=\"dataframe\">\n",
       "  <thead>\n",
       "    <tr style=\"text-align: right;\">\n",
       "      <th></th>\n",
       "      <th>b_z1</th>\n",
       "      <th>b_z2</th>\n",
       "      <th>y_z1</th>\n",
       "      <th>y_z2</th>\n",
       "    </tr>\n",
       "  </thead>\n",
       "  <tbody>\n",
       "    <tr>\n",
       "      <th>0</th>\n",
       "      <td>0.00000</td>\n",
       "      <td>0.0</td>\n",
       "      <td>6.393688e+06</td>\n",
       "      <td>0.0000</td>\n",
       "    </tr>\n",
       "    <tr>\n",
       "      <th>1</th>\n",
       "      <td>994209.43750</td>\n",
       "      <td>0.0</td>\n",
       "      <td>3.624949e+06</td>\n",
       "      <td>83244.8125</td>\n",
       "    </tr>\n",
       "    <tr>\n",
       "      <th>2</th>\n",
       "      <td>0.00000</td>\n",
       "      <td>0.0</td>\n",
       "      <td>1.687645e+06</td>\n",
       "      <td>0.0000</td>\n",
       "    </tr>\n",
       "    <tr>\n",
       "      <th>3</th>\n",
       "      <td>247355.09375</td>\n",
       "      <td>0.0</td>\n",
       "      <td>1.748330e+06</td>\n",
       "      <td>0.0000</td>\n",
       "    </tr>\n",
       "    <tr>\n",
       "      <th>4</th>\n",
       "      <td>0.00000</td>\n",
       "      <td>0.0</td>\n",
       "      <td>4.013234e+05</td>\n",
       "      <td>0.0000</td>\n",
       "    </tr>\n",
       "    <tr>\n",
       "      <th>...</th>\n",
       "      <td>...</td>\n",
       "      <td>...</td>\n",
       "      <td>...</td>\n",
       "      <td>...</td>\n",
       "    </tr>\n",
       "    <tr>\n",
       "      <th>681643</th>\n",
       "      <td>0.00000</td>\n",
       "      <td>0.0</td>\n",
       "      <td>0.000000e+00</td>\n",
       "      <td>0.0000</td>\n",
       "    </tr>\n",
       "    <tr>\n",
       "      <th>681644</th>\n",
       "      <td>0.00000</td>\n",
       "      <td>0.0</td>\n",
       "      <td>4.155696e+05</td>\n",
       "      <td>0.0000</td>\n",
       "    </tr>\n",
       "    <tr>\n",
       "      <th>681645</th>\n",
       "      <td>0.00000</td>\n",
       "      <td>0.0</td>\n",
       "      <td>1.136814e+05</td>\n",
       "      <td>0.0000</td>\n",
       "    </tr>\n",
       "    <tr>\n",
       "      <th>681646</th>\n",
       "      <td>0.00000</td>\n",
       "      <td>0.0</td>\n",
       "      <td>6.669666e+04</td>\n",
       "      <td>0.0000</td>\n",
       "    </tr>\n",
       "    <tr>\n",
       "      <th>681647</th>\n",
       "      <td>0.00000</td>\n",
       "      <td>0.0</td>\n",
       "      <td>1.342651e+05</td>\n",
       "      <td>0.0000</td>\n",
       "    </tr>\n",
       "  </tbody>\n",
       "</table>\n",
       "<p>681648 rows × 4 columns</p>\n",
       "</div>"
      ],
      "text/plain": [
       "                b_z1  b_z2          y_z1        y_z2\n",
       "0            0.00000   0.0  6.393688e+06      0.0000\n",
       "1       994209.43750   0.0  3.624949e+06  83244.8125\n",
       "2            0.00000   0.0  1.687645e+06      0.0000\n",
       "3       247355.09375   0.0  1.748330e+06      0.0000\n",
       "4            0.00000   0.0  4.013234e+05      0.0000\n",
       "...              ...   ...           ...         ...\n",
       "681643       0.00000   0.0  0.000000e+00      0.0000\n",
       "681644       0.00000   0.0  4.155696e+05      0.0000\n",
       "681645       0.00000   0.0  1.136814e+05      0.0000\n",
       "681646       0.00000   0.0  6.669666e+04      0.0000\n",
       "681647       0.00000   0.0  1.342651e+05      0.0000\n",
       "\n",
       "[681648 rows x 4 columns]"
      ]
     },
     "execution_count": 11,
     "metadata": {},
     "output_type": "execute_result"
    }
   ],
   "source": [
    "from alpharaw.match.psm_match import PepSpecMatch\n",
    "\n",
    "match = PepSpecMatch(\n",
    "    charged_frag_types=[\"b_z1\",\"b_z2\",\"y_z1\",\"y_z2\"],\n",
    "    match_closest=True, use_ppm=True, tol_value=20 # 20 ppm\n",
    ")\n",
    "(\n",
    "    psm_df, fragment_mz_df,\n",
    "    matched_intensity_df,\n",
    "    matched_mass_error_df\n",
    ") = match.match_ms2_multi_raw(\n",
    "    psm_df, \n",
    "    ms_files=[\"../test_data/dda/HeLa_500ng.raw.hdf\"],\n",
    "    ms_file_type=\"alpharaw_hdf\"\n",
    ")\n",
    "matched_intensity_df"
   ]
  },
  {
   "cell_type": "markdown",
   "metadata": {},
   "source": [
    "### Visualize annotated peaks for a PSM"
   ]
  },
  {
   "cell_type": "code",
   "execution_count": 12,
   "metadata": {},
   "outputs": [],
   "source": [
    "from alpharaw.viz.psm_plot import PSM_Plot\n",
    "psm_plotter = PSM_Plot()"
   ]
  },
  {
   "cell_type": "code",
   "execution_count": 13,
   "metadata": {},
   "outputs": [
    {
     "data": {
      "text/html": [
       "<div>\n",
       "<style scoped>\n",
       "    .dataframe tbody tr th:only-of-type {\n",
       "        vertical-align: middle;\n",
       "    }\n",
       "\n",
       "    .dataframe tbody tr th {\n",
       "        vertical-align: top;\n",
       "    }\n",
       "\n",
       "    .dataframe thead th {\n",
       "        text-align: right;\n",
       "    }\n",
       "</style>\n",
       "<table border=\"1\" class=\"dataframe\">\n",
       "  <thead>\n",
       "    <tr style=\"text-align: right;\">\n",
       "      <th></th>\n",
       "      <th>sequence</th>\n",
       "      <th>charge</th>\n",
       "      <th>rt</th>\n",
       "      <th>scan_num</th>\n",
       "      <th>raw_name</th>\n",
       "      <th>precursor_mz</th>\n",
       "      <th>score</th>\n",
       "      <th>proteins</th>\n",
       "      <th>genes</th>\n",
       "      <th>decoy</th>\n",
       "      <th>spec_idx</th>\n",
       "      <th>mods</th>\n",
       "      <th>mod_sites</th>\n",
       "      <th>nAA</th>\n",
       "      <th>rt_norm</th>\n",
       "      <th>frag_start_idx</th>\n",
       "      <th>frag_stop_idx</th>\n",
       "      <th>nce</th>\n",
       "    </tr>\n",
       "  </thead>\n",
       "  <tbody>\n",
       "    <tr>\n",
       "      <th>100</th>\n",
       "      <td>SLLATMK</td>\n",
       "      <td>2</td>\n",
       "      <td>44.227</td>\n",
       "      <td>48002</td>\n",
       "      <td>HeLa_500ng</td>\n",
       "      <td>382.22276</td>\n",
       "      <td>86.866</td>\n",
       "      <td>P15924</td>\n",
       "      <td>DSP</td>\n",
       "      <td>0</td>\n",
       "      <td>48001</td>\n",
       "      <td></td>\n",
       "      <td></td>\n",
       "      <td>7</td>\n",
       "      <td>0.369575</td>\n",
       "      <td>600</td>\n",
       "      <td>606</td>\n",
       "      <td>27.0</td>\n",
       "    </tr>\n",
       "  </tbody>\n",
       "</table>\n",
       "</div>"
      ],
      "text/plain": [
       "    sequence  charge      rt  scan_num    raw_name  precursor_mz   score  \\\n",
       "100  SLLATMK       2  44.227     48002  HeLa_500ng     382.22276  86.866   \n",
       "\n",
       "    proteins genes  decoy  spec_idx mods mod_sites  nAA   rt_norm  \\\n",
       "100   P15924   DSP      0     48001                   7  0.369575   \n",
       "\n",
       "     frag_start_idx  frag_stop_idx   nce  \n",
       "100             600            606  27.0  "
      ]
     },
     "execution_count": 13,
     "metadata": {},
     "output_type": "execute_result"
    }
   ],
   "source": [
    "psm_idx = 100\n",
    "plot_psm = psm_df.loc[psm_idx:psm_idx]\n",
    "plot_psm"
   ]
  },
  {
   "cell_type": "code",
   "execution_count": 14,
   "metadata": {},
   "outputs": [
    {
     "data": {
      "text/html": [
       "<div>\n",
       "<style scoped>\n",
       "    .dataframe tbody tr th:only-of-type {\n",
       "        vertical-align: middle;\n",
       "    }\n",
       "\n",
       "    .dataframe tbody tr th {\n",
       "        vertical-align: top;\n",
       "    }\n",
       "\n",
       "    .dataframe thead th {\n",
       "        text-align: right;\n",
       "    }\n",
       "</style>\n",
       "<table border=\"1\" class=\"dataframe\">\n",
       "  <thead>\n",
       "    <tr style=\"text-align: right;\">\n",
       "      <th></th>\n",
       "      <th>b_z1</th>\n",
       "      <th>b_z2</th>\n",
       "      <th>y_z1</th>\n",
       "      <th>y_z2</th>\n",
       "    </tr>\n",
       "  </thead>\n",
       "  <tbody>\n",
       "    <tr>\n",
       "      <th>0</th>\n",
       "      <td>88.039307</td>\n",
       "      <td>44.523293</td>\n",
       "      <td>676.406189</td>\n",
       "      <td>338.706757</td>\n",
       "    </tr>\n",
       "    <tr>\n",
       "      <th>1</th>\n",
       "      <td>201.123367</td>\n",
       "      <td>101.065323</td>\n",
       "      <td>563.322144</td>\n",
       "      <td>282.164703</td>\n",
       "    </tr>\n",
       "    <tr>\n",
       "      <th>2</th>\n",
       "      <td>314.207428</td>\n",
       "      <td>157.607361</td>\n",
       "      <td>450.238068</td>\n",
       "      <td>225.622681</td>\n",
       "    </tr>\n",
       "    <tr>\n",
       "      <th>3</th>\n",
       "      <td>385.244537</td>\n",
       "      <td>193.125916</td>\n",
       "      <td>379.200958</td>\n",
       "      <td>190.104126</td>\n",
       "    </tr>\n",
       "    <tr>\n",
       "      <th>4</th>\n",
       "      <td>486.292236</td>\n",
       "      <td>243.649750</td>\n",
       "      <td>278.153290</td>\n",
       "      <td>139.580276</td>\n",
       "    </tr>\n",
       "    <tr>\n",
       "      <th>5</th>\n",
       "      <td>617.332703</td>\n",
       "      <td>309.169983</td>\n",
       "      <td>147.112808</td>\n",
       "      <td>74.060043</td>\n",
       "    </tr>\n",
       "  </tbody>\n",
       "</table>\n",
       "</div>"
      ],
      "text/plain": [
       "         b_z1        b_z2        y_z1        y_z2\n",
       "0   88.039307   44.523293  676.406189  338.706757\n",
       "1  201.123367  101.065323  563.322144  282.164703\n",
       "2  314.207428  157.607361  450.238068  225.622681\n",
       "3  385.244537  193.125916  379.200958  190.104126\n",
       "4  486.292236  243.649750  278.153290  139.580276\n",
       "5  617.332703  309.169983  147.112808   74.060043"
      ]
     },
     "execution_count": 14,
     "metadata": {},
     "output_type": "execute_result"
    }
   ],
   "source": [
    "plot_psm = plot_psm.drop(columns=[\"frag_start_idx\",\"frag_stop_idx\"])\n",
    "plot_frag_mz_df = create_fragment_mz_dataframe(\n",
    "    plot_psm, \n",
    "    charged_frag_types=[\"b_z1\",\"b_z2\",\"y_z1\",\"y_z2\"]\n",
    ")\n",
    "plot_frag_mz_df"
   ]
  },
  {
   "cell_type": "code",
   "execution_count": 15,
   "metadata": {},
   "outputs": [
    {
     "name": "stderr",
     "output_type": "stream",
     "text": [
      "100%|██████████| 1/1 [00:00<00:00,  1.64it/s]\n"
     ]
    },
    {
     "data": {
      "text/html": [
       "<div>\n",
       "<style scoped>\n",
       "    .dataframe tbody tr th:only-of-type {\n",
       "        vertical-align: middle;\n",
       "    }\n",
       "\n",
       "    .dataframe tbody tr th {\n",
       "        vertical-align: top;\n",
       "    }\n",
       "\n",
       "    .dataframe thead th {\n",
       "        text-align: right;\n",
       "    }\n",
       "</style>\n",
       "<table border=\"1\" class=\"dataframe\">\n",
       "  <thead>\n",
       "    <tr style=\"text-align: right;\">\n",
       "      <th></th>\n",
       "      <th>b_z1</th>\n",
       "      <th>b_z2</th>\n",
       "      <th>y_z1</th>\n",
       "      <th>y_z2</th>\n",
       "    </tr>\n",
       "  </thead>\n",
       "  <tbody>\n",
       "    <tr>\n",
       "      <th>0</th>\n",
       "      <td>0.000000</td>\n",
       "      <td>0.0</td>\n",
       "      <td>20505.599609</td>\n",
       "      <td>0.00000</td>\n",
       "    </tr>\n",
       "    <tr>\n",
       "      <th>1</th>\n",
       "      <td>477963.625000</td>\n",
       "      <td>0.0</td>\n",
       "      <td>984503.750000</td>\n",
       "      <td>14939.34082</td>\n",
       "    </tr>\n",
       "    <tr>\n",
       "      <th>2</th>\n",
       "      <td>24317.273438</td>\n",
       "      <td>0.0</td>\n",
       "      <td>445672.250000</td>\n",
       "      <td>0.00000</td>\n",
       "    </tr>\n",
       "    <tr>\n",
       "      <th>3</th>\n",
       "      <td>0.000000</td>\n",
       "      <td>0.0</td>\n",
       "      <td>404354.968750</td>\n",
       "      <td>0.00000</td>\n",
       "    </tr>\n",
       "    <tr>\n",
       "      <th>4</th>\n",
       "      <td>0.000000</td>\n",
       "      <td>0.0</td>\n",
       "      <td>419753.562500</td>\n",
       "      <td>0.00000</td>\n",
       "    </tr>\n",
       "    <tr>\n",
       "      <th>5</th>\n",
       "      <td>0.000000</td>\n",
       "      <td>0.0</td>\n",
       "      <td>584019.812500</td>\n",
       "      <td>0.00000</td>\n",
       "    </tr>\n",
       "  </tbody>\n",
       "</table>\n",
       "</div>"
      ],
      "text/plain": [
       "            b_z1  b_z2           y_z1         y_z2\n",
       "0       0.000000   0.0   20505.599609      0.00000\n",
       "1  477963.625000   0.0  984503.750000  14939.34082\n",
       "2   24317.273438   0.0  445672.250000      0.00000\n",
       "3       0.000000   0.0  404354.968750      0.00000\n",
       "4       0.000000   0.0  419753.562500      0.00000\n",
       "5       0.000000   0.0  584019.812500      0.00000"
      ]
     },
     "execution_count": 15,
     "metadata": {},
     "output_type": "execute_result"
    }
   ],
   "source": [
    "(\n",
    "    plot_psm, plot_frag_mz_df,\n",
    "    matched_intensity_df,\n",
    "    matched_mass_error_df\n",
    ") = match.match_ms2_multi_raw(\n",
    "    plot_psm, \n",
    "    ms_files=[\"../test_data/dda/HeLa_500ng.raw.hdf\"],\n",
    "    ms_file_type=\"alpharaw_hdf\"\n",
    ")\n",
    "matched_intensity_df"
   ]
  },
  {
   "cell_type": "code",
   "execution_count": 16,
   "metadata": {},
   "outputs": [
    {
     "data": {
      "application/vnd.plotly.v1+json": {
       "config": {
        "plotlyServerURL": "https://plot.ly"
       },
       "data": [
        {
         "marker": {
          "color": "lightgrey",
          "size": 1
         },
         "mode": "markers",
         "name": "",
         "showlegend": false,
         "type": "scatter",
         "x": [
          101.07127,
          102.05545,
          103.05437,
          104.05306,
          107.04926,
          110.0716,
          110.09681,
          112.08737,
          115.08597,
          116.07133,
          120.08082,
          120.090004,
          121.084526,
          125.07108,
          127.08666,
          128.10681,
          129.0655,
          129.10223,
          129.11255,
          130.03232,
          130.06508,
          130.08641,
          130.10556,
          131.0898,
          136.07579,
          137.07939,
          138.0909,
          143.0824,
          143.11775,
          145.09702,
          147.11273,
          148.11633,
          153.1023,
          155.0819,
          155.1179,
          156.077,
          157.09662,
          157.13397,
          158.09225,
          159.0913,
          166.06157,
          169.09749,
          169.13377,
          170.06044,
          171.06343,
          171.11281,
          172.11537,
          173.0943,
          173.12852,
          174.13223,
          175.11882,
          180.10193,
          183.11296,
          183.14845,
          185.09204,
          185.12839,
          185.16484,
          186.12434,
          187.14444,
          190.06816,
          197.09164,
          197.12845,
          199.10715,
          199.1804,
          200.18443,
          201.12334,
          202.12689,
          204.13481,
          205.10022,
          211.1447,
          214.11887,
          214.50197,
          215.08842,
          215.1396,
          217.13596,
          218.14043,
          219.11581,
          220.11888,
          221.47499,
          226.1187,
          227.10124,
          227.17517,
          233.09525,
          233.16536,
          234.14601,
          235.14717,
          240.13525,
          242.15086,
          245.1298,
          247.10942,
          251.10683,
          255.14433,
          258.14612,
          260.1426,
          260.19675,
          261.12662,
          261.19922,
          262.13956,
          268.1652,
          269.16428,
          272.17184,
          277.1219,
          278.153,
          279.15793,
          282.1679,
          283.1426,
          286.12164,
          286.17633,
          287.17838,
          288.20306,
          301.39795,
          303.1773,
          310.5489,
          314.2086,
          321.158,
          322.18658,
          323.20932,
          331.1871,
          331.6898,
          338.67487,
          339.1753,
          341.21753,
          347.1172,
          361.19254,
          375.2257,
          379.20038,
          380.20325,
          382.2188,
          399.20673,
          417.2236,
          418.2571,
          419.244,
          424.24057,
          432.22577,
          433.2289,
          435.2726,
          436.27835,
          450.23758,
          451.24258,
          503.27988,
          516.2936,
          517.3054,
          518.3353,
          520.2946,
          526.27094,
          536.3157,
          545.3117,
          546.3113,
          552.3137,
          553.31995,
          563.32184,
          564.3211,
          565.3176,
          579.28644,
          580.2898,
          625.3469,
          626.33624,
          631.42633,
          639.3595,
          649.3527,
          650.35443,
          661.36804,
          665.4032,
          676.4026
         ],
         "xaxis": "x2",
         "y": [
          30519.52,
          33914.508,
          13623.526,
          144472.86,
          36500.777,
          163431.12,
          26750.617,
          15490.185,
          14660.7705,
          19247.498,
          269554.7,
          21007.908,
          21938.312,
          12177.118,
          38936.75,
          88963.516,
          16646.15,
          396617.8,
          27012.197,
          14025.2705,
          55377.63,
          262069.03,
          38219.004,
          22965.889,
          100701.33,
          11737.302,
          15400.402,
          19162.688,
          71599.6,
          20571.09,
          584019.8,
          42037.387,
          16210.656,
          21804.732,
          106038.62,
          15783.1875,
          68640.086,
          80940.88,
          34751.906,
          17297.914,
          13126.856,
          20815.307,
          70175.43,
          111183.625,
          16978.057,
          39391.91,
          44267.055,
          68023.484,
          2726695,
          169588,
          116318.414,
          39803.31,
          15250.683,
          72384.75,
          34743.227,
          150599.6,
          51884.504,
          27279.61,
          19256.486,
          16813.795,
          21276.887,
          77375.305,
          51006.848,
          103290.44,
          14723.845,
          477963.62,
          38992.695,
          39244.258,
          83126.34,
          31783.969,
          55353.51,
          26804.455,
          12312.446,
          30421.107,
          135258.4,
          42937.895,
          186314.28,
          21196.578,
          14106.906,
          16006.923,
          29972.635,
          45197.367,
          44677.336,
          55170.7,
          29649.06,
          22800.104,
          20836.625,
          29031.55,
          25738.535,
          18619.416,
          19211.188,
          61408.047,
          17100.408,
          56674.04,
          48469.566,
          13267.997,
          13632.029,
          39423.09,
          157393.67,
          13984.591,
          39897.273,
          16782.727,
          419753.56,
          46155.36,
          14939.341,
          13764.179,
          35878.63,
          385729.1,
          38501.117,
          27741.723,
          26604.957,
          25218.287,
          13234.433,
          24317.273,
          18894.223,
          21179.879,
          49077.703,
          107776.84,
          45178.676,
          27062.977,
          27468.723,
          70552.93,
          20278.367,
          48261.684,
          33700.223,
          404354.97,
          49040.605,
          69757.35,
          51682.746,
          18385.639,
          18342.229,
          15334.54,
          21940.85,
          174233.33,
          22230.73,
          87515.95,
          29863.314,
          445672.25,
          68555.52,
          15075.474,
          209722.97,
          49091.96,
          30652.951,
          29141.443,
          27579.078,
          23964.812,
          146297.94,
          43928.02,
          41562.84,
          24836.557,
          984503.75,
          342337.5,
          41316.81,
          71359.59,
          25861.307,
          45733.74,
          15196.297,
          23392.248,
          53212.023,
          27747.625,
          36853.555,
          48556.395,
          24854.82,
          20505.6
         ],
         "yaxis": "y2"
        },
        {
         "hovertemplate": "<b>%{hovertext}</b><br><b>m/z:</b> %{x}<br><b>intensity:</b> %{y}",
         "hovertext": [
          "b2+",
          "b3+"
         ],
         "marker": {
          "color": "blue",
          "size": 1
         },
         "mode": "markers",
         "name": "",
         "showlegend": false,
         "type": "scatter",
         "x": [
          201.12337,
          314.20743
         ],
         "xaxis": "x2",
         "y": [
          477963.62,
          24317.273
         ],
         "yaxis": "y2"
        },
        {
         "hovertemplate": "<b>%{hovertext}</b><br><b>m/z:</b> %{x}<br><b>intensity:</b> %{y}",
         "hovertext": [],
         "marker": {
          "color": "blue",
          "size": 1
         },
         "mode": "markers",
         "name": "",
         "showlegend": false,
         "type": "scatter",
         "x": [],
         "xaxis": "x2",
         "y": [],
         "yaxis": "y2"
        },
        {
         "hovertemplate": "<b>%{hovertext}</b><br><b>m/z:</b> %{x}<br><b>intensity:</b> %{y}",
         "hovertext": [
          "y6+",
          "y5+",
          "y5++",
          "y4+",
          "y3+",
          "y2+",
          "y1+"
         ],
         "marker": {
          "color": "red",
          "size": 1
         },
         "mode": "markers",
         "name": "",
         "showlegend": false,
         "type": "scatter",
         "x": [
          676.4062,
          563.32214,
          282.1647,
          450.23807,
          379.20096,
          278.1533,
          147.11281
         ],
         "xaxis": "x2",
         "y": [
          20505.6,
          984503.75,
          14939.341,
          445672.25,
          404354.97,
          419753.56,
          584019.8
         ],
         "yaxis": "y2"
        },
        {
         "hovertemplate": "<b>%{hovertext}</b><br><b>m/z:</b> %{x}<br><b>intensity:</b> %{y}",
         "hovertext": [],
         "marker": {
          "color": "red",
          "size": 1
         },
         "mode": "markers",
         "name": "",
         "showlegend": false,
         "type": "scatter",
         "x": [],
         "xaxis": "x2",
         "y": [],
         "yaxis": "y2"
        },
        {
         "hovertemplate": "%{hovertext}<br><b>m/z:</b> %{x}<br><b>Mass err:</b> %{y}",
         "hovertext": [
          "b2+",
          "b3+"
         ],
         "marker": {
          "color": "blue",
          "size": 5
         },
         "mode": "markers",
         "name": "blue",
         "showlegend": false,
         "type": "scatter",
         "x": [
          201.12337,
          314.20743
         ],
         "xaxis": "x3",
         "y": [
          -0.1517,
          3.6908
         ],
         "yaxis": "y3"
        },
        {
         "hovertemplate": "%{hovertext}<br><b>m/z:</b> %{x}<br><b>Mass err:</b> %{y}",
         "hovertext": [
          "y6+",
          "y5+",
          "y5++",
          "y4+",
          "y3+",
          "y2+",
          "y1+"
         ],
         "marker": {
          "color": "red",
          "size": 5
         },
         "mode": "markers",
         "name": "red",
         "showlegend": false,
         "type": "scatter",
         "x": [
          676.4062,
          563.32214,
          282.1647,
          450.23807,
          379.20096,
          278.1533,
          147.11281
         ],
         "xaxis": "x3",
         "y": [
          -5.3238,
          -0.5417,
          11.3563,
          -1.0845,
          -1.5291,
          -0.9874,
          -0.5186
         ],
         "yaxis": "y3"
        },
        {
         "hoverinfo": "skip",
         "line": {
          "width": 1
         },
         "marker": {
          "color": "blue"
         },
         "mode": "lines",
         "showlegend": false,
         "type": "scatter",
         "x": [
          300.67726166394294,
          318.2895556080098,
          318.2895556080098
         ],
         "xaxis": "x",
         "y": [
          0.6,
          0.6,
          0.4
         ],
         "yaxis": "y"
        },
        {
         "hoverinfo": "skip",
         "line": {
          "width": 1
         },
         "marker": {
          "color": "blue"
         },
         "mode": "lines",
         "showlegend": false,
         "type": "scatter",
         "x": [
          335.90184955207667,
          353.51414349614356,
          353.51414349614356
         ],
         "xaxis": "x",
         "y": [
          0.6,
          0.6,
          0.4
         ],
         "yaxis": "y"
        },
        {
         "hoverinfo": "skip",
         "line": {
          "width": 1
         },
         "marker": {
          "color": "red"
         },
         "mode": "lines",
         "showlegend": false,
         "type": "scatter",
         "x": [
          300.67726166394294,
          283.0649677198761,
          283.0649677198761
         ],
         "xaxis": "x",
         "y": [
          -0.6,
          -0.6,
          -0.4
         ],
         "yaxis": "y"
        },
        {
         "hoverinfo": "skip",
         "line": {
          "width": 1
         },
         "marker": {
          "color": "red"
         },
         "mode": "lines",
         "showlegend": false,
         "type": "scatter",
         "x": [
          335.90184955207667,
          318.2895556080098,
          318.2895556080098
         ],
         "xaxis": "x",
         "y": [
          -0.6,
          -0.6,
          -0.4
         ],
         "yaxis": "y"
        },
        {
         "hoverinfo": "skip",
         "line": {
          "width": 1
         },
         "marker": {
          "color": "red"
         },
         "mode": "lines",
         "showlegend": false,
         "type": "scatter",
         "x": [
          371.12643744021045,
          353.51414349614356,
          353.51414349614356
         ],
         "xaxis": "x",
         "y": [
          -0.6,
          -0.6,
          -0.4
         ],
         "yaxis": "y"
        },
        {
         "hoverinfo": "skip",
         "line": {
          "width": 1
         },
         "marker": {
          "color": "red"
         },
         "mode": "lines",
         "showlegend": false,
         "type": "scatter",
         "x": [
          406.35102532834424,
          388.73873138427734,
          388.73873138427734
         ],
         "xaxis": "x",
         "y": [
          -0.6,
          -0.6,
          -0.4
         ],
         "yaxis": "y"
        },
        {
         "hoverinfo": "skip",
         "line": {
          "width": 1
         },
         "marker": {
          "color": "red"
         },
         "mode": "lines",
         "showlegend": false,
         "type": "scatter",
         "x": [
          441.57561321647796,
          423.96331927241107,
          423.96331927241107
         ],
         "xaxis": "x",
         "y": [
          -0.6,
          -0.6,
          -0.4
         ],
         "yaxis": "y"
        },
        {
         "hoverinfo": "skip",
         "line": {
          "width": 1
         },
         "marker": {
          "color": "red"
         },
         "mode": "lines",
         "showlegend": false,
         "type": "scatter",
         "x": [
          476.80020110461174,
          459.1879071605449,
          459.1879071605449
         ],
         "xaxis": "x",
         "y": [
          -0.6,
          -0.6,
          -0.4
         ],
         "yaxis": "y"
        }
       ],
       "layout": {
        "annotations": [
         {
          "font": {
           "size": 10
          },
          "text": "y6+",
          "textangle": -90,
          "x": 676.4061889648438,
          "xref": "x2",
          "y": 40195.674609375,
          "yref": "y2"
         },
         {
          "font": {
           "size": 10
          },
          "text": "b2+",
          "textangle": -90,
          "x": 201.1233673095703,
          "xref": "x2",
          "y": 497653.7,
          "yref": "y2"
         },
         {
          "font": {
           "size": 10
          },
          "text": "y5+",
          "textangle": -90,
          "x": 563.3221435546875,
          "xref": "x2",
          "y": 1004193.825,
          "yref": "y2"
         },
         {
          "font": {
           "size": 10
          },
          "text": "y5++",
          "textangle": -90,
          "x": 282.1647033691406,
          "xref": "x2",
          "y": 34629.4158203125,
          "yref": "y2"
         },
         {
          "font": {
           "size": 10
          },
          "text": "b3+",
          "textangle": -90,
          "x": 314.2074279785156,
          "xref": "x2",
          "y": 44007.3484375,
          "yref": "y2"
         },
         {
          "font": {
           "size": 10
          },
          "text": "y4+",
          "textangle": -90,
          "x": 450.2380676269531,
          "xref": "x2",
          "y": 465362.325,
          "yref": "y2"
         },
         {
          "font": {
           "size": 10
          },
          "text": "y3+",
          "textangle": -90,
          "x": 379.2009582519531,
          "xref": "x2",
          "y": 424045.04375,
          "yref": "y2"
         },
         {
          "font": {
           "size": 10
          },
          "text": "y2+",
          "textangle": -90,
          "x": 278.1532897949219,
          "xref": "x2",
          "y": 439443.6375,
          "yref": "y2"
         },
         {
          "font": {
           "size": 10
          },
          "text": "y1+",
          "textangle": -90,
          "x": 147.11280822753906,
          "xref": "x2",
          "y": 603709.8875,
          "yref": "y2"
         },
         {
          "align": "center",
          "font": {
           "size": 14
          },
          "showarrow": false,
          "text": "S",
          "x": 265.45267377580916,
          "xref": "x",
          "y": 0,
          "yref": "y",
          "yshift": 1
         },
         {
          "align": "center",
          "font": {
           "size": 14
          },
          "showarrow": false,
          "text": "L",
          "x": 300.67726166394294,
          "xref": "x",
          "y": 0,
          "yref": "y",
          "yshift": 1
         },
         {
          "align": "center",
          "font": {
           "size": 14
          },
          "showarrow": false,
          "text": "L",
          "x": 335.90184955207667,
          "xref": "x",
          "y": 0,
          "yref": "y",
          "yshift": 1
         },
         {
          "align": "center",
          "font": {
           "size": 14
          },
          "showarrow": false,
          "text": "A",
          "x": 371.12643744021045,
          "xref": "x",
          "y": 0,
          "yref": "y",
          "yshift": 1
         },
         {
          "align": "center",
          "font": {
           "size": 14
          },
          "showarrow": false,
          "text": "T",
          "x": 406.35102532834424,
          "xref": "x",
          "y": 0,
          "yref": "y",
          "yshift": 1
         },
         {
          "align": "center",
          "font": {
           "size": 14
          },
          "showarrow": false,
          "text": "M",
          "x": 441.57561321647796,
          "xref": "x",
          "y": 0,
          "yref": "y",
          "yshift": 1
         },
         {
          "align": "center",
          "font": {
           "size": 14
          },
          "showarrow": false,
          "text": "K",
          "x": 476.80020110461174,
          "xref": "x",
          "y": 0,
          "yref": "y",
          "yshift": 1
         },
         {
          "font": {
           "size": 8
          },
          "showarrow": false,
          "text": "b2",
          "x": 309.4834086359764,
          "xref": "x",
          "y": 1,
          "yref": "y"
         },
         {
          "font": {
           "size": 8
          },
          "showarrow": false,
          "text": "b3",
          "x": 344.7079965241101,
          "xref": "x",
          "y": 1,
          "yref": "y"
         },
         {
          "font": {
           "size": 8
          },
          "showarrow": false,
          "text": "y6",
          "x": 291.8711146919095,
          "xref": "x",
          "y": -1,
          "yref": "y"
         },
         {
          "font": {
           "size": 8
          },
          "showarrow": false,
          "text": "y5",
          "x": 327.0957025800432,
          "xref": "x",
          "y": -1,
          "yref": "y"
         },
         {
          "font": {
           "size": 8
          },
          "showarrow": false,
          "text": "y4",
          "x": 362.320290468177,
          "xref": "x",
          "y": -1,
          "yref": "y"
         },
         {
          "font": {
           "size": 8
          },
          "showarrow": false,
          "text": "y3",
          "x": 397.5448783563108,
          "xref": "x",
          "y": -1,
          "yref": "y"
         },
         {
          "font": {
           "size": 8
          },
          "showarrow": false,
          "text": "y2",
          "x": 432.7694662444445,
          "xref": "x",
          "y": -1,
          "yref": "y"
         },
         {
          "font": {
           "size": 8
          },
          "showarrow": false,
          "text": "y1",
          "x": 467.9940541325783,
          "xref": "x",
          "y": -1,
          "yref": "y"
         }
        ],
        "height": 600,
        "hovermode": "x",
        "shapes": [
         {
          "line": {
           "color": "lightgrey",
           "width": 1.5
          },
          "type": "line",
          "x0": 101.07127380371094,
          "x1": 101.07127380371094,
          "xref": "x2",
          "y0": 0,
          "y1": 30519.51953125,
          "yref": "y2"
         },
         {
          "line": {
           "color": "lightgrey",
           "width": 1.5
          },
          "type": "line",
          "x0": 102.05545043945312,
          "x1": 102.05545043945312,
          "xref": "x2",
          "y0": 0,
          "y1": 33914.5078125,
          "yref": "y2"
         },
         {
          "line": {
           "color": "lightgrey",
           "width": 1.5
          },
          "type": "line",
          "x0": 103.05436706542969,
          "x1": 103.05436706542969,
          "xref": "x2",
          "y0": 0,
          "y1": 13623.5263671875,
          "yref": "y2"
         },
         {
          "line": {
           "color": "lightgrey",
           "width": 1.5
          },
          "type": "line",
          "x0": 104.05306243896484,
          "x1": 104.05306243896484,
          "xref": "x2",
          "y0": 0,
          "y1": 144472.859375,
          "yref": "y2"
         },
         {
          "line": {
           "color": "lightgrey",
           "width": 1.5
          },
          "type": "line",
          "x0": 107.04926300048828,
          "x1": 107.04926300048828,
          "xref": "x2",
          "y0": 0,
          "y1": 36500.77734375,
          "yref": "y2"
         },
         {
          "line": {
           "color": "lightgrey",
           "width": 1.5
          },
          "type": "line",
          "x0": 110.07160186767578,
          "x1": 110.07160186767578,
          "xref": "x2",
          "y0": 0,
          "y1": 163431.125,
          "yref": "y2"
         },
         {
          "line": {
           "color": "lightgrey",
           "width": 1.5
          },
          "type": "line",
          "x0": 110.09680938720703,
          "x1": 110.09680938720703,
          "xref": "x2",
          "y0": 0,
          "y1": 26750.6171875,
          "yref": "y2"
         },
         {
          "line": {
           "color": "lightgrey",
           "width": 1.5
          },
          "type": "line",
          "x0": 112.08737182617188,
          "x1": 112.08737182617188,
          "xref": "x2",
          "y0": 0,
          "y1": 15490.1845703125,
          "yref": "y2"
         },
         {
          "line": {
           "color": "lightgrey",
           "width": 1.5
          },
          "type": "line",
          "x0": 115.08596801757812,
          "x1": 115.08596801757812,
          "xref": "x2",
          "y0": 0,
          "y1": 14660.7705078125,
          "yref": "y2"
         },
         {
          "line": {
           "color": "lightgrey",
           "width": 1.5
          },
          "type": "line",
          "x0": 116.07132720947266,
          "x1": 116.07132720947266,
          "xref": "x2",
          "y0": 0,
          "y1": 19247.498046875,
          "yref": "y2"
         },
         {
          "line": {
           "color": "lightgrey",
           "width": 1.5
          },
          "type": "line",
          "x0": 120.08081817626953,
          "x1": 120.08081817626953,
          "xref": "x2",
          "y0": 0,
          "y1": 269554.6875,
          "yref": "y2"
         },
         {
          "line": {
           "color": "lightgrey",
           "width": 1.5
          },
          "type": "line",
          "x0": 120.09000396728516,
          "x1": 120.09000396728516,
          "xref": "x2",
          "y0": 0,
          "y1": 21007.908203125,
          "yref": "y2"
         },
         {
          "line": {
           "color": "lightgrey",
           "width": 1.5
          },
          "type": "line",
          "x0": 121.08452606201172,
          "x1": 121.08452606201172,
          "xref": "x2",
          "y0": 0,
          "y1": 21938.3125,
          "yref": "y2"
         },
         {
          "line": {
           "color": "lightgrey",
           "width": 1.5
          },
          "type": "line",
          "x0": 125.07108306884766,
          "x1": 125.07108306884766,
          "xref": "x2",
          "y0": 0,
          "y1": 12177.1181640625,
          "yref": "y2"
         },
         {
          "line": {
           "color": "lightgrey",
           "width": 1.5
          },
          "type": "line",
          "x0": 127.08666229248047,
          "x1": 127.08666229248047,
          "xref": "x2",
          "y0": 0,
          "y1": 38936.75,
          "yref": "y2"
         },
         {
          "line": {
           "color": "lightgrey",
           "width": 1.5
          },
          "type": "line",
          "x0": 128.1068115234375,
          "x1": 128.1068115234375,
          "xref": "x2",
          "y0": 0,
          "y1": 88963.515625,
          "yref": "y2"
         },
         {
          "line": {
           "color": "lightgrey",
           "width": 1.5
          },
          "type": "line",
          "x0": 129.0655059814453,
          "x1": 129.0655059814453,
          "xref": "x2",
          "y0": 0,
          "y1": 16646.150390625,
          "yref": "y2"
         },
         {
          "line": {
           "color": "lightgrey",
           "width": 1.5
          },
          "type": "line",
          "x0": 129.10223388671875,
          "x1": 129.10223388671875,
          "xref": "x2",
          "y0": 0,
          "y1": 396617.8125,
          "yref": "y2"
         },
         {
          "line": {
           "color": "lightgrey",
           "width": 1.5
          },
          "type": "line",
          "x0": 129.112548828125,
          "x1": 129.112548828125,
          "xref": "x2",
          "y0": 0,
          "y1": 27012.197265625,
          "yref": "y2"
         },
         {
          "line": {
           "color": "lightgrey",
           "width": 1.5
          },
          "type": "line",
          "x0": 130.03231811523438,
          "x1": 130.03231811523438,
          "xref": "x2",
          "y0": 0,
          "y1": 14025.2705078125,
          "yref": "y2"
         },
         {
          "line": {
           "color": "lightgrey",
           "width": 1.5
          },
          "type": "line",
          "x0": 130.06507873535156,
          "x1": 130.06507873535156,
          "xref": "x2",
          "y0": 0,
          "y1": 55377.62890625,
          "yref": "y2"
         },
         {
          "line": {
           "color": "lightgrey",
           "width": 1.5
          },
          "type": "line",
          "x0": 130.08641052246094,
          "x1": 130.08641052246094,
          "xref": "x2",
          "y0": 0,
          "y1": 262069.03125,
          "yref": "y2"
         },
         {
          "line": {
           "color": "lightgrey",
           "width": 1.5
          },
          "type": "line",
          "x0": 130.10556030273438,
          "x1": 130.10556030273438,
          "xref": "x2",
          "y0": 0,
          "y1": 38219.00390625,
          "yref": "y2"
         },
         {
          "line": {
           "color": "lightgrey",
           "width": 1.5
          },
          "type": "line",
          "x0": 131.0897979736328,
          "x1": 131.0897979736328,
          "xref": "x2",
          "y0": 0,
          "y1": 22965.888671875,
          "yref": "y2"
         },
         {
          "line": {
           "color": "lightgrey",
           "width": 1.5
          },
          "type": "line",
          "x0": 136.07579040527344,
          "x1": 136.07579040527344,
          "xref": "x2",
          "y0": 0,
          "y1": 100701.328125,
          "yref": "y2"
         },
         {
          "line": {
           "color": "lightgrey",
           "width": 1.5
          },
          "type": "line",
          "x0": 137.0793914794922,
          "x1": 137.0793914794922,
          "xref": "x2",
          "y0": 0,
          "y1": 11737.3017578125,
          "yref": "y2"
         },
         {
          "line": {
           "color": "lightgrey",
           "width": 1.5
          },
          "type": "line",
          "x0": 138.0908966064453,
          "x1": 138.0908966064453,
          "xref": "x2",
          "y0": 0,
          "y1": 15400.40234375,
          "yref": "y2"
         },
         {
          "line": {
           "color": "lightgrey",
           "width": 1.5
          },
          "type": "line",
          "x0": 143.0823974609375,
          "x1": 143.0823974609375,
          "xref": "x2",
          "y0": 0,
          "y1": 19162.6875,
          "yref": "y2"
         },
         {
          "line": {
           "color": "lightgrey",
           "width": 1.5
          },
          "type": "line",
          "x0": 143.1177520751953,
          "x1": 143.1177520751953,
          "xref": "x2",
          "y0": 0,
          "y1": 71599.6015625,
          "yref": "y2"
         },
         {
          "line": {
           "color": "lightgrey",
           "width": 1.5
          },
          "type": "line",
          "x0": 145.09701538085938,
          "x1": 145.09701538085938,
          "xref": "x2",
          "y0": 0,
          "y1": 20571.08984375,
          "yref": "y2"
         },
         {
          "line": {
           "color": "lightgrey",
           "width": 1.5
          },
          "type": "line",
          "x0": 147.11273193359375,
          "x1": 147.11273193359375,
          "xref": "x2",
          "y0": 0,
          "y1": 584019.8125,
          "yref": "y2"
         },
         {
          "line": {
           "color": "lightgrey",
           "width": 1.5
          },
          "type": "line",
          "x0": 148.1163330078125,
          "x1": 148.1163330078125,
          "xref": "x2",
          "y0": 0,
          "y1": 42037.38671875,
          "yref": "y2"
         },
         {
          "line": {
           "color": "lightgrey",
           "width": 1.5
          },
          "type": "line",
          "x0": 153.102294921875,
          "x1": 153.102294921875,
          "xref": "x2",
          "y0": 0,
          "y1": 16210.65625,
          "yref": "y2"
         },
         {
          "line": {
           "color": "lightgrey",
           "width": 1.5
          },
          "type": "line",
          "x0": 155.08189392089844,
          "x1": 155.08189392089844,
          "xref": "x2",
          "y0": 0,
          "y1": 21804.732421875,
          "yref": "y2"
         },
         {
          "line": {
           "color": "lightgrey",
           "width": 1.5
          },
          "type": "line",
          "x0": 155.11790466308594,
          "x1": 155.11790466308594,
          "xref": "x2",
          "y0": 0,
          "y1": 106038.6171875,
          "yref": "y2"
         },
         {
          "line": {
           "color": "lightgrey",
           "width": 1.5
          },
          "type": "line",
          "x0": 156.07699584960938,
          "x1": 156.07699584960938,
          "xref": "x2",
          "y0": 0,
          "y1": 15783.1875,
          "yref": "y2"
         },
         {
          "line": {
           "color": "lightgrey",
           "width": 1.5
          },
          "type": "line",
          "x0": 157.09661865234375,
          "x1": 157.09661865234375,
          "xref": "x2",
          "y0": 0,
          "y1": 68640.0859375,
          "yref": "y2"
         },
         {
          "line": {
           "color": "lightgrey",
           "width": 1.5
          },
          "type": "line",
          "x0": 157.13397216796875,
          "x1": 157.13397216796875,
          "xref": "x2",
          "y0": 0,
          "y1": 80940.8828125,
          "yref": "y2"
         },
         {
          "line": {
           "color": "lightgrey",
           "width": 1.5
          },
          "type": "line",
          "x0": 158.09225463867188,
          "x1": 158.09225463867188,
          "xref": "x2",
          "y0": 0,
          "y1": 34751.90625,
          "yref": "y2"
         },
         {
          "line": {
           "color": "lightgrey",
           "width": 1.5
          },
          "type": "line",
          "x0": 159.09129333496094,
          "x1": 159.09129333496094,
          "xref": "x2",
          "y0": 0,
          "y1": 17297.9140625,
          "yref": "y2"
         },
         {
          "line": {
           "color": "lightgrey",
           "width": 1.5
          },
          "type": "line",
          "x0": 166.0615692138672,
          "x1": 166.0615692138672,
          "xref": "x2",
          "y0": 0,
          "y1": 13126.8564453125,
          "yref": "y2"
         },
         {
          "line": {
           "color": "lightgrey",
           "width": 1.5
          },
          "type": "line",
          "x0": 169.0974884033203,
          "x1": 169.0974884033203,
          "xref": "x2",
          "y0": 0,
          "y1": 20815.306640625,
          "yref": "y2"
         },
         {
          "line": {
           "color": "lightgrey",
           "width": 1.5
          },
          "type": "line",
          "x0": 169.13377380371094,
          "x1": 169.13377380371094,
          "xref": "x2",
          "y0": 0,
          "y1": 70175.4296875,
          "yref": "y2"
         },
         {
          "line": {
           "color": "lightgrey",
           "width": 1.5
          },
          "type": "line",
          "x0": 170.06044006347656,
          "x1": 170.06044006347656,
          "xref": "x2",
          "y0": 0,
          "y1": 111183.625,
          "yref": "y2"
         },
         {
          "line": {
           "color": "lightgrey",
           "width": 1.5
          },
          "type": "line",
          "x0": 171.0634307861328,
          "x1": 171.0634307861328,
          "xref": "x2",
          "y0": 0,
          "y1": 16978.056640625,
          "yref": "y2"
         },
         {
          "line": {
           "color": "lightgrey",
           "width": 1.5
          },
          "type": "line",
          "x0": 171.11280822753906,
          "x1": 171.11280822753906,
          "xref": "x2",
          "y0": 0,
          "y1": 39391.91015625,
          "yref": "y2"
         },
         {
          "line": {
           "color": "lightgrey",
           "width": 1.5
          },
          "type": "line",
          "x0": 172.11537170410156,
          "x1": 172.11537170410156,
          "xref": "x2",
          "y0": 0,
          "y1": 44267.0546875,
          "yref": "y2"
         },
         {
          "line": {
           "color": "lightgrey",
           "width": 1.5
          },
          "type": "line",
          "x0": 173.09429931640625,
          "x1": 173.09429931640625,
          "xref": "x2",
          "y0": 0,
          "y1": 68023.484375,
          "yref": "y2"
         },
         {
          "line": {
           "color": "lightgrey",
           "width": 1.5
          },
          "type": "line",
          "x0": 173.12852478027344,
          "x1": 173.12852478027344,
          "xref": "x2",
          "y0": 0,
          "y1": 2726695,
          "yref": "y2"
         },
         {
          "line": {
           "color": "lightgrey",
           "width": 1.5
          },
          "type": "line",
          "x0": 174.13223266601562,
          "x1": 174.13223266601562,
          "xref": "x2",
          "y0": 0,
          "y1": 169588,
          "yref": "y2"
         },
         {
          "line": {
           "color": "lightgrey",
           "width": 1.5
          },
          "type": "line",
          "x0": 175.1188201904297,
          "x1": 175.1188201904297,
          "xref": "x2",
          "y0": 0,
          "y1": 116318.4140625,
          "yref": "y2"
         },
         {
          "line": {
           "color": "lightgrey",
           "width": 1.5
          },
          "type": "line",
          "x0": 180.1019287109375,
          "x1": 180.1019287109375,
          "xref": "x2",
          "y0": 0,
          "y1": 39803.30859375,
          "yref": "y2"
         },
         {
          "line": {
           "color": "lightgrey",
           "width": 1.5
          },
          "type": "line",
          "x0": 183.1129608154297,
          "x1": 183.1129608154297,
          "xref": "x2",
          "y0": 0,
          "y1": 15250.6826171875,
          "yref": "y2"
         },
         {
          "line": {
           "color": "lightgrey",
           "width": 1.5
          },
          "type": "line",
          "x0": 183.14845275878906,
          "x1": 183.14845275878906,
          "xref": "x2",
          "y0": 0,
          "y1": 72384.75,
          "yref": "y2"
         },
         {
          "line": {
           "color": "lightgrey",
           "width": 1.5
          },
          "type": "line",
          "x0": 185.092041015625,
          "x1": 185.092041015625,
          "xref": "x2",
          "y0": 0,
          "y1": 34743.2265625,
          "yref": "y2"
         },
         {
          "line": {
           "color": "lightgrey",
           "width": 1.5
          },
          "type": "line",
          "x0": 185.12838745117188,
          "x1": 185.12838745117188,
          "xref": "x2",
          "y0": 0,
          "y1": 150599.59375,
          "yref": "y2"
         },
         {
          "line": {
           "color": "lightgrey",
           "width": 1.5
          },
          "type": "line",
          "x0": 185.1648406982422,
          "x1": 185.1648406982422,
          "xref": "x2",
          "y0": 0,
          "y1": 51884.50390625,
          "yref": "y2"
         },
         {
          "line": {
           "color": "lightgrey",
           "width": 1.5
          },
          "type": "line",
          "x0": 186.1243438720703,
          "x1": 186.1243438720703,
          "xref": "x2",
          "y0": 0,
          "y1": 27279.609375,
          "yref": "y2"
         },
         {
          "line": {
           "color": "lightgrey",
           "width": 1.5
          },
          "type": "line",
          "x0": 187.14443969726562,
          "x1": 187.14443969726562,
          "xref": "x2",
          "y0": 0,
          "y1": 19256.486328125,
          "yref": "y2"
         },
         {
          "line": {
           "color": "lightgrey",
           "width": 1.5
          },
          "type": "line",
          "x0": 190.0681610107422,
          "x1": 190.0681610107422,
          "xref": "x2",
          "y0": 0,
          "y1": 16813.794921875,
          "yref": "y2"
         },
         {
          "line": {
           "color": "lightgrey",
           "width": 1.5
          },
          "type": "line",
          "x0": 197.09164428710938,
          "x1": 197.09164428710938,
          "xref": "x2",
          "y0": 0,
          "y1": 21276.88671875,
          "yref": "y2"
         },
         {
          "line": {
           "color": "lightgrey",
           "width": 1.5
          },
          "type": "line",
          "x0": 197.12844848632812,
          "x1": 197.12844848632812,
          "xref": "x2",
          "y0": 0,
          "y1": 77375.3046875,
          "yref": "y2"
         },
         {
          "line": {
           "color": "lightgrey",
           "width": 1.5
          },
          "type": "line",
          "x0": 199.10714721679688,
          "x1": 199.10714721679688,
          "xref": "x2",
          "y0": 0,
          "y1": 51006.84765625,
          "yref": "y2"
         },
         {
          "line": {
           "color": "lightgrey",
           "width": 1.5
          },
          "type": "line",
          "x0": 199.18040466308594,
          "x1": 199.18040466308594,
          "xref": "x2",
          "y0": 0,
          "y1": 103290.4375,
          "yref": "y2"
         },
         {
          "line": {
           "color": "lightgrey",
           "width": 1.5
          },
          "type": "line",
          "x0": 200.18443298339844,
          "x1": 200.18443298339844,
          "xref": "x2",
          "y0": 0,
          "y1": 14723.8447265625,
          "yref": "y2"
         },
         {
          "line": {
           "color": "lightgrey",
           "width": 1.5
          },
          "type": "line",
          "x0": 201.1233367919922,
          "x1": 201.1233367919922,
          "xref": "x2",
          "y0": 0,
          "y1": 477963.625,
          "yref": "y2"
         },
         {
          "line": {
           "color": "lightgrey",
           "width": 1.5
          },
          "type": "line",
          "x0": 202.12689208984375,
          "x1": 202.12689208984375,
          "xref": "x2",
          "y0": 0,
          "y1": 38992.6953125,
          "yref": "y2"
         },
         {
          "line": {
           "color": "lightgrey",
           "width": 1.5
          },
          "type": "line",
          "x0": 204.1348114013672,
          "x1": 204.1348114013672,
          "xref": "x2",
          "y0": 0,
          "y1": 39244.2578125,
          "yref": "y2"
         },
         {
          "line": {
           "color": "lightgrey",
           "width": 1.5
          },
          "type": "line",
          "x0": 205.1002197265625,
          "x1": 205.1002197265625,
          "xref": "x2",
          "y0": 0,
          "y1": 83126.34375,
          "yref": "y2"
         },
         {
          "line": {
           "color": "lightgrey",
           "width": 1.5
          },
          "type": "line",
          "x0": 211.1446990966797,
          "x1": 211.1446990966797,
          "xref": "x2",
          "y0": 0,
          "y1": 31783.96875,
          "yref": "y2"
         },
         {
          "line": {
           "color": "lightgrey",
           "width": 1.5
          },
          "type": "line",
          "x0": 214.11886596679688,
          "x1": 214.11886596679688,
          "xref": "x2",
          "y0": 0,
          "y1": 55353.51171875,
          "yref": "y2"
         },
         {
          "line": {
           "color": "lightgrey",
           "width": 1.5
          },
          "type": "line",
          "x0": 214.50196838378906,
          "x1": 214.50196838378906,
          "xref": "x2",
          "y0": 0,
          "y1": 26804.455078125,
          "yref": "y2"
         },
         {
          "line": {
           "color": "lightgrey",
           "width": 1.5
          },
          "type": "line",
          "x0": 215.0884246826172,
          "x1": 215.0884246826172,
          "xref": "x2",
          "y0": 0,
          "y1": 12312.4462890625,
          "yref": "y2"
         },
         {
          "line": {
           "color": "lightgrey",
           "width": 1.5
          },
          "type": "line",
          "x0": 215.1396026611328,
          "x1": 215.1396026611328,
          "xref": "x2",
          "y0": 0,
          "y1": 30421.107421875,
          "yref": "y2"
         },
         {
          "line": {
           "color": "lightgrey",
           "width": 1.5
          },
          "type": "line",
          "x0": 217.13595581054688,
          "x1": 217.13595581054688,
          "xref": "x2",
          "y0": 0,
          "y1": 135258.40625,
          "yref": "y2"
         },
         {
          "line": {
           "color": "lightgrey",
           "width": 1.5
          },
          "type": "line",
          "x0": 218.1404266357422,
          "x1": 218.1404266357422,
          "xref": "x2",
          "y0": 0,
          "y1": 42937.89453125,
          "yref": "y2"
         },
         {
          "line": {
           "color": "lightgrey",
           "width": 1.5
          },
          "type": "line",
          "x0": 219.11581420898438,
          "x1": 219.11581420898438,
          "xref": "x2",
          "y0": 0,
          "y1": 186314.28125,
          "yref": "y2"
         },
         {
          "line": {
           "color": "lightgrey",
           "width": 1.5
          },
          "type": "line",
          "x0": 220.11888122558594,
          "x1": 220.11888122558594,
          "xref": "x2",
          "y0": 0,
          "y1": 21196.578125,
          "yref": "y2"
         },
         {
          "line": {
           "color": "lightgrey",
           "width": 1.5
          },
          "type": "line",
          "x0": 221.47499084472656,
          "x1": 221.47499084472656,
          "xref": "x2",
          "y0": 0,
          "y1": 14106.90625,
          "yref": "y2"
         },
         {
          "line": {
           "color": "lightgrey",
           "width": 1.5
          },
          "type": "line",
          "x0": 226.1186981201172,
          "x1": 226.1186981201172,
          "xref": "x2",
          "y0": 0,
          "y1": 16006.9228515625,
          "yref": "y2"
         },
         {
          "line": {
           "color": "lightgrey",
           "width": 1.5
          },
          "type": "line",
          "x0": 227.1012420654297,
          "x1": 227.1012420654297,
          "xref": "x2",
          "y0": 0,
          "y1": 29972.634765625,
          "yref": "y2"
         },
         {
          "line": {
           "color": "lightgrey",
           "width": 1.5
          },
          "type": "line",
          "x0": 227.1751708984375,
          "x1": 227.1751708984375,
          "xref": "x2",
          "y0": 0,
          "y1": 45197.3671875,
          "yref": "y2"
         },
         {
          "line": {
           "color": "lightgrey",
           "width": 1.5
          },
          "type": "line",
          "x0": 233.09524536132812,
          "x1": 233.09524536132812,
          "xref": "x2",
          "y0": 0,
          "y1": 44677.3359375,
          "yref": "y2"
         },
         {
          "line": {
           "color": "lightgrey",
           "width": 1.5
          },
          "type": "line",
          "x0": 233.1653594970703,
          "x1": 233.1653594970703,
          "xref": "x2",
          "y0": 0,
          "y1": 55170.69921875,
          "yref": "y2"
         },
         {
          "line": {
           "color": "lightgrey",
           "width": 1.5
          },
          "type": "line",
          "x0": 234.14601135253906,
          "x1": 234.14601135253906,
          "xref": "x2",
          "y0": 0,
          "y1": 29649.060546875,
          "yref": "y2"
         },
         {
          "line": {
           "color": "lightgrey",
           "width": 1.5
          },
          "type": "line",
          "x0": 235.1471710205078,
          "x1": 235.1471710205078,
          "xref": "x2",
          "y0": 0,
          "y1": 22800.103515625,
          "yref": "y2"
         },
         {
          "line": {
           "color": "lightgrey",
           "width": 1.5
          },
          "type": "line",
          "x0": 240.13525390625,
          "x1": 240.13525390625,
          "xref": "x2",
          "y0": 0,
          "y1": 20836.625,
          "yref": "y2"
         },
         {
          "line": {
           "color": "lightgrey",
           "width": 1.5
          },
          "type": "line",
          "x0": 242.15086364746094,
          "x1": 242.15086364746094,
          "xref": "x2",
          "y0": 0,
          "y1": 29031.55078125,
          "yref": "y2"
         },
         {
          "line": {
           "color": "lightgrey",
           "width": 1.5
          },
          "type": "line",
          "x0": 245.1298065185547,
          "x1": 245.1298065185547,
          "xref": "x2",
          "y0": 0,
          "y1": 25738.53515625,
          "yref": "y2"
         },
         {
          "line": {
           "color": "lightgrey",
           "width": 1.5
          },
          "type": "line",
          "x0": 247.1094207763672,
          "x1": 247.1094207763672,
          "xref": "x2",
          "y0": 0,
          "y1": 18619.416015625,
          "yref": "y2"
         },
         {
          "line": {
           "color": "lightgrey",
           "width": 1.5
          },
          "type": "line",
          "x0": 251.10682678222656,
          "x1": 251.10682678222656,
          "xref": "x2",
          "y0": 0,
          "y1": 19211.1875,
          "yref": "y2"
         },
         {
          "line": {
           "color": "lightgrey",
           "width": 1.5
          },
          "type": "line",
          "x0": 255.1443328857422,
          "x1": 255.1443328857422,
          "xref": "x2",
          "y0": 0,
          "y1": 61408.046875,
          "yref": "y2"
         },
         {
          "line": {
           "color": "lightgrey",
           "width": 1.5
          },
          "type": "line",
          "x0": 258.1461181640625,
          "x1": 258.1461181640625,
          "xref": "x2",
          "y0": 0,
          "y1": 17100.408203125,
          "yref": "y2"
         },
         {
          "line": {
           "color": "lightgrey",
           "width": 1.5
          },
          "type": "line",
          "x0": 260.1426086425781,
          "x1": 260.1426086425781,
          "xref": "x2",
          "y0": 0,
          "y1": 56674.0390625,
          "yref": "y2"
         },
         {
          "line": {
           "color": "lightgrey",
           "width": 1.5
          },
          "type": "line",
          "x0": 260.1967468261719,
          "x1": 260.1967468261719,
          "xref": "x2",
          "y0": 0,
          "y1": 48469.56640625,
          "yref": "y2"
         },
         {
          "line": {
           "color": "lightgrey",
           "width": 1.5
          },
          "type": "line",
          "x0": 261.1266174316406,
          "x1": 261.1266174316406,
          "xref": "x2",
          "y0": 0,
          "y1": 13267.9970703125,
          "yref": "y2"
         },
         {
          "line": {
           "color": "lightgrey",
           "width": 1.5
          },
          "type": "line",
          "x0": 261.19921875,
          "x1": 261.19921875,
          "xref": "x2",
          "y0": 0,
          "y1": 13632.029296875,
          "yref": "y2"
         },
         {
          "line": {
           "color": "lightgrey",
           "width": 1.5
          },
          "type": "line",
          "x0": 262.1395568847656,
          "x1": 262.1395568847656,
          "xref": "x2",
          "y0": 0,
          "y1": 39423.08984375,
          "yref": "y2"
         },
         {
          "line": {
           "color": "lightgrey",
           "width": 1.5
          },
          "type": "line",
          "x0": 268.1651916503906,
          "x1": 268.1651916503906,
          "xref": "x2",
          "y0": 0,
          "y1": 157393.671875,
          "yref": "y2"
         },
         {
          "line": {
           "color": "lightgrey",
           "width": 1.5
          },
          "type": "line",
          "x0": 269.1642761230469,
          "x1": 269.1642761230469,
          "xref": "x2",
          "y0": 0,
          "y1": 13984.5908203125,
          "yref": "y2"
         },
         {
          "line": {
           "color": "lightgrey",
           "width": 1.5
          },
          "type": "line",
          "x0": 272.1718444824219,
          "x1": 272.1718444824219,
          "xref": "x2",
          "y0": 0,
          "y1": 39897.2734375,
          "yref": "y2"
         },
         {
          "line": {
           "color": "lightgrey",
           "width": 1.5
          },
          "type": "line",
          "x0": 277.12188720703125,
          "x1": 277.12188720703125,
          "xref": "x2",
          "y0": 0,
          "y1": 16782.7265625,
          "yref": "y2"
         },
         {
          "line": {
           "color": "lightgrey",
           "width": 1.5
          },
          "type": "line",
          "x0": 278.15301513671875,
          "x1": 278.15301513671875,
          "xref": "x2",
          "y0": 0,
          "y1": 419753.5625,
          "yref": "y2"
         },
         {
          "line": {
           "color": "lightgrey",
           "width": 1.5
          },
          "type": "line",
          "x0": 279.1579284667969,
          "x1": 279.1579284667969,
          "xref": "x2",
          "y0": 0,
          "y1": 46155.359375,
          "yref": "y2"
         },
         {
          "line": {
           "color": "lightgrey",
           "width": 1.5
          },
          "type": "line",
          "x0": 282.16790771484375,
          "x1": 282.16790771484375,
          "xref": "x2",
          "y0": 0,
          "y1": 14939.3408203125,
          "yref": "y2"
         },
         {
          "line": {
           "color": "lightgrey",
           "width": 1.5
          },
          "type": "line",
          "x0": 283.1426086425781,
          "x1": 283.1426086425781,
          "xref": "x2",
          "y0": 0,
          "y1": 13764.1787109375,
          "yref": "y2"
         },
         {
          "line": {
           "color": "lightgrey",
           "width": 1.5
          },
          "type": "line",
          "x0": 286.12164306640625,
          "x1": 286.12164306640625,
          "xref": "x2",
          "y0": 0,
          "y1": 35878.62890625,
          "yref": "y2"
         },
         {
          "line": {
           "color": "lightgrey",
           "width": 1.5
          },
          "type": "line",
          "x0": 286.17633056640625,
          "x1": 286.17633056640625,
          "xref": "x2",
          "y0": 0,
          "y1": 385729.09375,
          "yref": "y2"
         },
         {
          "line": {
           "color": "lightgrey",
           "width": 1.5
          },
          "type": "line",
          "x0": 287.1783752441406,
          "x1": 287.1783752441406,
          "xref": "x2",
          "y0": 0,
          "y1": 38501.1171875,
          "yref": "y2"
         },
         {
          "line": {
           "color": "lightgrey",
           "width": 1.5
          },
          "type": "line",
          "x0": 288.20306396484375,
          "x1": 288.20306396484375,
          "xref": "x2",
          "y0": 0,
          "y1": 27741.72265625,
          "yref": "y2"
         },
         {
          "line": {
           "color": "lightgrey",
           "width": 1.5
          },
          "type": "line",
          "x0": 301.39794921875,
          "x1": 301.39794921875,
          "xref": "x2",
          "y0": 0,
          "y1": 26604.95703125,
          "yref": "y2"
         },
         {
          "line": {
           "color": "lightgrey",
           "width": 1.5
          },
          "type": "line",
          "x0": 303.17730712890625,
          "x1": 303.17730712890625,
          "xref": "x2",
          "y0": 0,
          "y1": 25218.287109375,
          "yref": "y2"
         },
         {
          "line": {
           "color": "lightgrey",
           "width": 1.5
          },
          "type": "line",
          "x0": 310.54888916015625,
          "x1": 310.54888916015625,
          "xref": "x2",
          "y0": 0,
          "y1": 13234.4326171875,
          "yref": "y2"
         },
         {
          "line": {
           "color": "lightgrey",
           "width": 1.5
          },
          "type": "line",
          "x0": 314.2085876464844,
          "x1": 314.2085876464844,
          "xref": "x2",
          "y0": 0,
          "y1": 24317.2734375,
          "yref": "y2"
         },
         {
          "line": {
           "color": "lightgrey",
           "width": 1.5
          },
          "type": "line",
          "x0": 321.1579895019531,
          "x1": 321.1579895019531,
          "xref": "x2",
          "y0": 0,
          "y1": 18894.22265625,
          "yref": "y2"
         },
         {
          "line": {
           "color": "lightgrey",
           "width": 1.5
          },
          "type": "line",
          "x0": 322.18658447265625,
          "x1": 322.18658447265625,
          "xref": "x2",
          "y0": 0,
          "y1": 21179.87890625,
          "yref": "y2"
         },
         {
          "line": {
           "color": "lightgrey",
           "width": 1.5
          },
          "type": "line",
          "x0": 323.2093200683594,
          "x1": 323.2093200683594,
          "xref": "x2",
          "y0": 0,
          "y1": 49077.703125,
          "yref": "y2"
         },
         {
          "line": {
           "color": "lightgrey",
           "width": 1.5
          },
          "type": "line",
          "x0": 331.1871032714844,
          "x1": 331.1871032714844,
          "xref": "x2",
          "y0": 0,
          "y1": 107776.84375,
          "yref": "y2"
         },
         {
          "line": {
           "color": "lightgrey",
           "width": 1.5
          },
          "type": "line",
          "x0": 331.6897888183594,
          "x1": 331.6897888183594,
          "xref": "x2",
          "y0": 0,
          "y1": 45178.67578125,
          "yref": "y2"
         },
         {
          "line": {
           "color": "lightgrey",
           "width": 1.5
          },
          "type": "line",
          "x0": 338.67486572265625,
          "x1": 338.67486572265625,
          "xref": "x2",
          "y0": 0,
          "y1": 27062.9765625,
          "yref": "y2"
         },
         {
          "line": {
           "color": "lightgrey",
           "width": 1.5
          },
          "type": "line",
          "x0": 339.17529296875,
          "x1": 339.17529296875,
          "xref": "x2",
          "y0": 0,
          "y1": 27468.72265625,
          "yref": "y2"
         },
         {
          "line": {
           "color": "lightgrey",
           "width": 1.5
          },
          "type": "line",
          "x0": 341.217529296875,
          "x1": 341.217529296875,
          "xref": "x2",
          "y0": 0,
          "y1": 70552.9296875,
          "yref": "y2"
         },
         {
          "line": {
           "color": "lightgrey",
           "width": 1.5
          },
          "type": "line",
          "x0": 347.1171875,
          "x1": 347.1171875,
          "xref": "x2",
          "y0": 0,
          "y1": 20278.3671875,
          "yref": "y2"
         },
         {
          "line": {
           "color": "lightgrey",
           "width": 1.5
          },
          "type": "line",
          "x0": 361.1925354003906,
          "x1": 361.1925354003906,
          "xref": "x2",
          "y0": 0,
          "y1": 48261.68359375,
          "yref": "y2"
         },
         {
          "line": {
           "color": "lightgrey",
           "width": 1.5
          },
          "type": "line",
          "x0": 375.2257080078125,
          "x1": 375.2257080078125,
          "xref": "x2",
          "y0": 0,
          "y1": 33700.22265625,
          "yref": "y2"
         },
         {
          "line": {
           "color": "lightgrey",
           "width": 1.5
          },
          "type": "line",
          "x0": 379.20037841796875,
          "x1": 379.20037841796875,
          "xref": "x2",
          "y0": 0,
          "y1": 404354.96875,
          "yref": "y2"
         },
         {
          "line": {
           "color": "lightgrey",
           "width": 1.5
          },
          "type": "line",
          "x0": 380.2032470703125,
          "x1": 380.2032470703125,
          "xref": "x2",
          "y0": 0,
          "y1": 49040.60546875,
          "yref": "y2"
         },
         {
          "line": {
           "color": "lightgrey",
           "width": 1.5
          },
          "type": "line",
          "x0": 382.21881103515625,
          "x1": 382.21881103515625,
          "xref": "x2",
          "y0": 0,
          "y1": 69757.3515625,
          "yref": "y2"
         },
         {
          "line": {
           "color": "lightgrey",
           "width": 1.5
          },
          "type": "line",
          "x0": 399.20672607421875,
          "x1": 399.20672607421875,
          "xref": "x2",
          "y0": 0,
          "y1": 51682.74609375,
          "yref": "y2"
         },
         {
          "line": {
           "color": "lightgrey",
           "width": 1.5
          },
          "type": "line",
          "x0": 417.2236022949219,
          "x1": 417.2236022949219,
          "xref": "x2",
          "y0": 0,
          "y1": 18385.638671875,
          "yref": "y2"
         },
         {
          "line": {
           "color": "lightgrey",
           "width": 1.5
          },
          "type": "line",
          "x0": 418.2571105957031,
          "x1": 418.2571105957031,
          "xref": "x2",
          "y0": 0,
          "y1": 18342.228515625,
          "yref": "y2"
         },
         {
          "line": {
           "color": "lightgrey",
           "width": 1.5
          },
          "type": "line",
          "x0": 419.2439880371094,
          "x1": 419.2439880371094,
          "xref": "x2",
          "y0": 0,
          "y1": 15334.5400390625,
          "yref": "y2"
         },
         {
          "line": {
           "color": "lightgrey",
           "width": 1.5
          },
          "type": "line",
          "x0": 424.2405700683594,
          "x1": 424.2405700683594,
          "xref": "x2",
          "y0": 0,
          "y1": 21940.849609375,
          "yref": "y2"
         },
         {
          "line": {
           "color": "lightgrey",
           "width": 1.5
          },
          "type": "line",
          "x0": 432.22576904296875,
          "x1": 432.22576904296875,
          "xref": "x2",
          "y0": 0,
          "y1": 174233.328125,
          "yref": "y2"
         },
         {
          "line": {
           "color": "lightgrey",
           "width": 1.5
          },
          "type": "line",
          "x0": 433.2289123535156,
          "x1": 433.2289123535156,
          "xref": "x2",
          "y0": 0,
          "y1": 22230.73046875,
          "yref": "y2"
         },
         {
          "line": {
           "color": "lightgrey",
           "width": 1.5
          },
          "type": "line",
          "x0": 435.2726135253906,
          "x1": 435.2726135253906,
          "xref": "x2",
          "y0": 0,
          "y1": 87515.953125,
          "yref": "y2"
         },
         {
          "line": {
           "color": "lightgrey",
           "width": 1.5
          },
          "type": "line",
          "x0": 436.2783508300781,
          "x1": 436.2783508300781,
          "xref": "x2",
          "y0": 0,
          "y1": 29863.314453125,
          "yref": "y2"
         },
         {
          "line": {
           "color": "lightgrey",
           "width": 1.5
          },
          "type": "line",
          "x0": 450.2375793457031,
          "x1": 450.2375793457031,
          "xref": "x2",
          "y0": 0,
          "y1": 445672.25,
          "yref": "y2"
         },
         {
          "line": {
           "color": "lightgrey",
           "width": 1.5
          },
          "type": "line",
          "x0": 451.2425842285156,
          "x1": 451.2425842285156,
          "xref": "x2",
          "y0": 0,
          "y1": 68555.5234375,
          "yref": "y2"
         },
         {
          "line": {
           "color": "lightgrey",
           "width": 1.5
          },
          "type": "line",
          "x0": 503.2798767089844,
          "x1": 503.2798767089844,
          "xref": "x2",
          "y0": 0,
          "y1": 15075.4736328125,
          "yref": "y2"
         },
         {
          "line": {
           "color": "lightgrey",
           "width": 1.5
          },
          "type": "line",
          "x0": 516.2935791015625,
          "x1": 516.2935791015625,
          "xref": "x2",
          "y0": 0,
          "y1": 209722.96875,
          "yref": "y2"
         },
         {
          "line": {
           "color": "lightgrey",
           "width": 1.5
          },
          "type": "line",
          "x0": 517.305419921875,
          "x1": 517.305419921875,
          "xref": "x2",
          "y0": 0,
          "y1": 49091.9609375,
          "yref": "y2"
         },
         {
          "line": {
           "color": "lightgrey",
           "width": 1.5
          },
          "type": "line",
          "x0": 518.3353271484375,
          "x1": 518.3353271484375,
          "xref": "x2",
          "y0": 0,
          "y1": 30652.951171875,
          "yref": "y2"
         },
         {
          "line": {
           "color": "lightgrey",
           "width": 1.5
          },
          "type": "line",
          "x0": 520.2946166992188,
          "x1": 520.2946166992188,
          "xref": "x2",
          "y0": 0,
          "y1": 29141.443359375,
          "yref": "y2"
         },
         {
          "line": {
           "color": "lightgrey",
           "width": 1.5
          },
          "type": "line",
          "x0": 526.2709350585938,
          "x1": 526.2709350585938,
          "xref": "x2",
          "y0": 0,
          "y1": 27579.078125,
          "yref": "y2"
         },
         {
          "line": {
           "color": "lightgrey",
           "width": 1.5
          },
          "type": "line",
          "x0": 536.315673828125,
          "x1": 536.315673828125,
          "xref": "x2",
          "y0": 0,
          "y1": 23964.8125,
          "yref": "y2"
         },
         {
          "line": {
           "color": "lightgrey",
           "width": 1.5
          },
          "type": "line",
          "x0": 545.3117065429688,
          "x1": 545.3117065429688,
          "xref": "x2",
          "y0": 0,
          "y1": 146297.9375,
          "yref": "y2"
         },
         {
          "line": {
           "color": "lightgrey",
           "width": 1.5
          },
          "type": "line",
          "x0": 546.311279296875,
          "x1": 546.311279296875,
          "xref": "x2",
          "y0": 0,
          "y1": 43928.01953125,
          "yref": "y2"
         },
         {
          "line": {
           "color": "lightgrey",
           "width": 1.5
          },
          "type": "line",
          "x0": 552.313720703125,
          "x1": 552.313720703125,
          "xref": "x2",
          "y0": 0,
          "y1": 41562.83984375,
          "yref": "y2"
         },
         {
          "line": {
           "color": "lightgrey",
           "width": 1.5
          },
          "type": "line",
          "x0": 553.3199462890625,
          "x1": 553.3199462890625,
          "xref": "x2",
          "y0": 0,
          "y1": 24836.556640625,
          "yref": "y2"
         },
         {
          "line": {
           "color": "lightgrey",
           "width": 1.5
          },
          "type": "line",
          "x0": 563.3218383789062,
          "x1": 563.3218383789062,
          "xref": "x2",
          "y0": 0,
          "y1": 984503.75,
          "yref": "y2"
         },
         {
          "line": {
           "color": "lightgrey",
           "width": 1.5
          },
          "type": "line",
          "x0": 564.3211059570312,
          "x1": 564.3211059570312,
          "xref": "x2",
          "y0": 0,
          "y1": 342337.5,
          "yref": "y2"
         },
         {
          "line": {
           "color": "lightgrey",
           "width": 1.5
          },
          "type": "line",
          "x0": 565.317626953125,
          "x1": 565.317626953125,
          "xref": "x2",
          "y0": 0,
          "y1": 41316.80859375,
          "yref": "y2"
         },
         {
          "line": {
           "color": "lightgrey",
           "width": 1.5
          },
          "type": "line",
          "x0": 579.2864379882812,
          "x1": 579.2864379882812,
          "xref": "x2",
          "y0": 0,
          "y1": 71359.59375,
          "yref": "y2"
         },
         {
          "line": {
           "color": "lightgrey",
           "width": 1.5
          },
          "type": "line",
          "x0": 580.289794921875,
          "x1": 580.289794921875,
          "xref": "x2",
          "y0": 0,
          "y1": 25861.306640625,
          "yref": "y2"
         },
         {
          "line": {
           "color": "lightgrey",
           "width": 1.5
          },
          "type": "line",
          "x0": 625.346923828125,
          "x1": 625.346923828125,
          "xref": "x2",
          "y0": 0,
          "y1": 45733.73828125,
          "yref": "y2"
         },
         {
          "line": {
           "color": "lightgrey",
           "width": 1.5
          },
          "type": "line",
          "x0": 626.3362426757812,
          "x1": 626.3362426757812,
          "xref": "x2",
          "y0": 0,
          "y1": 15196.296875,
          "yref": "y2"
         },
         {
          "line": {
           "color": "lightgrey",
           "width": 1.5
          },
          "type": "line",
          "x0": 631.4263305664062,
          "x1": 631.4263305664062,
          "xref": "x2",
          "y0": 0,
          "y1": 23392.248046875,
          "yref": "y2"
         },
         {
          "line": {
           "color": "lightgrey",
           "width": 1.5
          },
          "type": "line",
          "x0": 639.3594970703125,
          "x1": 639.3594970703125,
          "xref": "x2",
          "y0": 0,
          "y1": 53212.0234375,
          "yref": "y2"
         },
         {
          "line": {
           "color": "lightgrey",
           "width": 1.5
          },
          "type": "line",
          "x0": 649.3527221679688,
          "x1": 649.3527221679688,
          "xref": "x2",
          "y0": 0,
          "y1": 27747.625,
          "yref": "y2"
         },
         {
          "line": {
           "color": "lightgrey",
           "width": 1.5
          },
          "type": "line",
          "x0": 650.3544311523438,
          "x1": 650.3544311523438,
          "xref": "x2",
          "y0": 0,
          "y1": 36853.5546875,
          "yref": "y2"
         },
         {
          "line": {
           "color": "lightgrey",
           "width": 1.5
          },
          "type": "line",
          "x0": 661.3680419921875,
          "x1": 661.3680419921875,
          "xref": "x2",
          "y0": 0,
          "y1": 48556.39453125,
          "yref": "y2"
         },
         {
          "line": {
           "color": "lightgrey",
           "width": 1.5
          },
          "type": "line",
          "x0": 665.4031982421875,
          "x1": 665.4031982421875,
          "xref": "x2",
          "y0": 0,
          "y1": 24854.8203125,
          "yref": "y2"
         },
         {
          "line": {
           "color": "lightgrey",
           "width": 1.5
          },
          "type": "line",
          "x0": 676.402587890625,
          "x1": 676.402587890625,
          "xref": "x2",
          "y0": 0,
          "y1": 20505.599609375,
          "yref": "y2"
         },
         {
          "line": {
           "color": "red",
           "width": 1.5
          },
          "type": "line",
          "x0": 676.4061889648438,
          "x1": 676.4061889648438,
          "xref": "x2",
          "y0": 0,
          "y1": 20505.599609375,
          "yref": "y2"
         },
         {
          "line": {
           "color": "blue",
           "width": 1.5
          },
          "type": "line",
          "x0": 201.1233673095703,
          "x1": 201.1233673095703,
          "xref": "x2",
          "y0": 0,
          "y1": 477963.625,
          "yref": "y2"
         },
         {
          "line": {
           "color": "red",
           "width": 1.5
          },
          "type": "line",
          "x0": 563.3221435546875,
          "x1": 563.3221435546875,
          "xref": "x2",
          "y0": 0,
          "y1": 984503.75,
          "yref": "y2"
         },
         {
          "line": {
           "color": "red",
           "width": 1.5
          },
          "type": "line",
          "x0": 282.1647033691406,
          "x1": 282.1647033691406,
          "xref": "x2",
          "y0": 0,
          "y1": 14939.3408203125,
          "yref": "y2"
         },
         {
          "line": {
           "color": "blue",
           "width": 1.5
          },
          "type": "line",
          "x0": 314.2074279785156,
          "x1": 314.2074279785156,
          "xref": "x2",
          "y0": 0,
          "y1": 24317.2734375,
          "yref": "y2"
         },
         {
          "line": {
           "color": "red",
           "width": 1.5
          },
          "type": "line",
          "x0": 450.2380676269531,
          "x1": 450.2380676269531,
          "xref": "x2",
          "y0": 0,
          "y1": 445672.25,
          "yref": "y2"
         },
         {
          "line": {
           "color": "red",
           "width": 1.5
          },
          "type": "line",
          "x0": 379.2009582519531,
          "x1": 379.2009582519531,
          "xref": "x2",
          "y0": 0,
          "y1": 404354.96875,
          "yref": "y2"
         },
         {
          "line": {
           "color": "red",
           "width": 1.5
          },
          "type": "line",
          "x0": 278.1532897949219,
          "x1": 278.1532897949219,
          "xref": "x2",
          "y0": 0,
          "y1": 419753.5625,
          "yref": "y2"
         },
         {
          "line": {
           "color": "red",
           "width": 1.5
          },
          "type": "line",
          "x0": 147.11280822753906,
          "x1": 147.11280822753906,
          "xref": "x2",
          "y0": 0,
          "y1": 584019.8125,
          "yref": "y2"
         }
        ],
        "template": {
         "data": {
          "bar": [
           {
            "error_x": {
             "color": "#2a3f5f"
            },
            "error_y": {
             "color": "#2a3f5f"
            },
            "marker": {
             "line": {
              "color": "white",
              "width": 0.5
             },
             "pattern": {
              "fillmode": "overlay",
              "size": 10,
              "solidity": 0.2
             }
            },
            "type": "bar"
           }
          ],
          "barpolar": [
           {
            "marker": {
             "line": {
              "color": "white",
              "width": 0.5
             },
             "pattern": {
              "fillmode": "overlay",
              "size": 10,
              "solidity": 0.2
             }
            },
            "type": "barpolar"
           }
          ],
          "carpet": [
           {
            "aaxis": {
             "endlinecolor": "#2a3f5f",
             "gridcolor": "#C8D4E3",
             "linecolor": "#C8D4E3",
             "minorgridcolor": "#C8D4E3",
             "startlinecolor": "#2a3f5f"
            },
            "baxis": {
             "endlinecolor": "#2a3f5f",
             "gridcolor": "#C8D4E3",
             "linecolor": "#C8D4E3",
             "minorgridcolor": "#C8D4E3",
             "startlinecolor": "#2a3f5f"
            },
            "type": "carpet"
           }
          ],
          "choropleth": [
           {
            "colorbar": {
             "outlinewidth": 0,
             "ticks": ""
            },
            "type": "choropleth"
           }
          ],
          "contour": [
           {
            "colorbar": {
             "outlinewidth": 0,
             "ticks": ""
            },
            "colorscale": [
             [
              0,
              "#0d0887"
             ],
             [
              0.1111111111111111,
              "#46039f"
             ],
             [
              0.2222222222222222,
              "#7201a8"
             ],
             [
              0.3333333333333333,
              "#9c179e"
             ],
             [
              0.4444444444444444,
              "#bd3786"
             ],
             [
              0.5555555555555556,
              "#d8576b"
             ],
             [
              0.6666666666666666,
              "#ed7953"
             ],
             [
              0.7777777777777778,
              "#fb9f3a"
             ],
             [
              0.8888888888888888,
              "#fdca26"
             ],
             [
              1,
              "#f0f921"
             ]
            ],
            "type": "contour"
           }
          ],
          "contourcarpet": [
           {
            "colorbar": {
             "outlinewidth": 0,
             "ticks": ""
            },
            "type": "contourcarpet"
           }
          ],
          "heatmap": [
           {
            "colorbar": {
             "outlinewidth": 0,
             "ticks": ""
            },
            "colorscale": [
             [
              0,
              "#0d0887"
             ],
             [
              0.1111111111111111,
              "#46039f"
             ],
             [
              0.2222222222222222,
              "#7201a8"
             ],
             [
              0.3333333333333333,
              "#9c179e"
             ],
             [
              0.4444444444444444,
              "#bd3786"
             ],
             [
              0.5555555555555556,
              "#d8576b"
             ],
             [
              0.6666666666666666,
              "#ed7953"
             ],
             [
              0.7777777777777778,
              "#fb9f3a"
             ],
             [
              0.8888888888888888,
              "#fdca26"
             ],
             [
              1,
              "#f0f921"
             ]
            ],
            "type": "heatmap"
           }
          ],
          "heatmapgl": [
           {
            "colorbar": {
             "outlinewidth": 0,
             "ticks": ""
            },
            "colorscale": [
             [
              0,
              "#0d0887"
             ],
             [
              0.1111111111111111,
              "#46039f"
             ],
             [
              0.2222222222222222,
              "#7201a8"
             ],
             [
              0.3333333333333333,
              "#9c179e"
             ],
             [
              0.4444444444444444,
              "#bd3786"
             ],
             [
              0.5555555555555556,
              "#d8576b"
             ],
             [
              0.6666666666666666,
              "#ed7953"
             ],
             [
              0.7777777777777778,
              "#fb9f3a"
             ],
             [
              0.8888888888888888,
              "#fdca26"
             ],
             [
              1,
              "#f0f921"
             ]
            ],
            "type": "heatmapgl"
           }
          ],
          "histogram": [
           {
            "marker": {
             "pattern": {
              "fillmode": "overlay",
              "size": 10,
              "solidity": 0.2
             }
            },
            "type": "histogram"
           }
          ],
          "histogram2d": [
           {
            "colorbar": {
             "outlinewidth": 0,
             "ticks": ""
            },
            "colorscale": [
             [
              0,
              "#0d0887"
             ],
             [
              0.1111111111111111,
              "#46039f"
             ],
             [
              0.2222222222222222,
              "#7201a8"
             ],
             [
              0.3333333333333333,
              "#9c179e"
             ],
             [
              0.4444444444444444,
              "#bd3786"
             ],
             [
              0.5555555555555556,
              "#d8576b"
             ],
             [
              0.6666666666666666,
              "#ed7953"
             ],
             [
              0.7777777777777778,
              "#fb9f3a"
             ],
             [
              0.8888888888888888,
              "#fdca26"
             ],
             [
              1,
              "#f0f921"
             ]
            ],
            "type": "histogram2d"
           }
          ],
          "histogram2dcontour": [
           {
            "colorbar": {
             "outlinewidth": 0,
             "ticks": ""
            },
            "colorscale": [
             [
              0,
              "#0d0887"
             ],
             [
              0.1111111111111111,
              "#46039f"
             ],
             [
              0.2222222222222222,
              "#7201a8"
             ],
             [
              0.3333333333333333,
              "#9c179e"
             ],
             [
              0.4444444444444444,
              "#bd3786"
             ],
             [
              0.5555555555555556,
              "#d8576b"
             ],
             [
              0.6666666666666666,
              "#ed7953"
             ],
             [
              0.7777777777777778,
              "#fb9f3a"
             ],
             [
              0.8888888888888888,
              "#fdca26"
             ],
             [
              1,
              "#f0f921"
             ]
            ],
            "type": "histogram2dcontour"
           }
          ],
          "mesh3d": [
           {
            "colorbar": {
             "outlinewidth": 0,
             "ticks": ""
            },
            "type": "mesh3d"
           }
          ],
          "parcoords": [
           {
            "line": {
             "colorbar": {
              "outlinewidth": 0,
              "ticks": ""
             }
            },
            "type": "parcoords"
           }
          ],
          "pie": [
           {
            "automargin": true,
            "type": "pie"
           }
          ],
          "scatter": [
           {
            "fillpattern": {
             "fillmode": "overlay",
             "size": 10,
             "solidity": 0.2
            },
            "type": "scatter"
           }
          ],
          "scatter3d": [
           {
            "line": {
             "colorbar": {
              "outlinewidth": 0,
              "ticks": ""
             }
            },
            "marker": {
             "colorbar": {
              "outlinewidth": 0,
              "ticks": ""
             }
            },
            "type": "scatter3d"
           }
          ],
          "scattercarpet": [
           {
            "marker": {
             "colorbar": {
              "outlinewidth": 0,
              "ticks": ""
             }
            },
            "type": "scattercarpet"
           }
          ],
          "scattergeo": [
           {
            "marker": {
             "colorbar": {
              "outlinewidth": 0,
              "ticks": ""
             }
            },
            "type": "scattergeo"
           }
          ],
          "scattergl": [
           {
            "marker": {
             "colorbar": {
              "outlinewidth": 0,
              "ticks": ""
             }
            },
            "type": "scattergl"
           }
          ],
          "scattermapbox": [
           {
            "marker": {
             "colorbar": {
              "outlinewidth": 0,
              "ticks": ""
             }
            },
            "type": "scattermapbox"
           }
          ],
          "scatterpolar": [
           {
            "marker": {
             "colorbar": {
              "outlinewidth": 0,
              "ticks": ""
             }
            },
            "type": "scatterpolar"
           }
          ],
          "scatterpolargl": [
           {
            "marker": {
             "colorbar": {
              "outlinewidth": 0,
              "ticks": ""
             }
            },
            "type": "scatterpolargl"
           }
          ],
          "scatterternary": [
           {
            "marker": {
             "colorbar": {
              "outlinewidth": 0,
              "ticks": ""
             }
            },
            "type": "scatterternary"
           }
          ],
          "surface": [
           {
            "colorbar": {
             "outlinewidth": 0,
             "ticks": ""
            },
            "colorscale": [
             [
              0,
              "#0d0887"
             ],
             [
              0.1111111111111111,
              "#46039f"
             ],
             [
              0.2222222222222222,
              "#7201a8"
             ],
             [
              0.3333333333333333,
              "#9c179e"
             ],
             [
              0.4444444444444444,
              "#bd3786"
             ],
             [
              0.5555555555555556,
              "#d8576b"
             ],
             [
              0.6666666666666666,
              "#ed7953"
             ],
             [
              0.7777777777777778,
              "#fb9f3a"
             ],
             [
              0.8888888888888888,
              "#fdca26"
             ],
             [
              1,
              "#f0f921"
             ]
            ],
            "type": "surface"
           }
          ],
          "table": [
           {
            "cells": {
             "fill": {
              "color": "#EBF0F8"
             },
             "line": {
              "color": "white"
             }
            },
            "header": {
             "fill": {
              "color": "#C8D4E3"
             },
             "line": {
              "color": "white"
             }
            },
            "type": "table"
           }
          ]
         },
         "layout": {
          "annotationdefaults": {
           "arrowcolor": "#2a3f5f",
           "arrowhead": 0,
           "arrowwidth": 1
          },
          "autotypenumbers": "strict",
          "coloraxis": {
           "colorbar": {
            "outlinewidth": 0,
            "ticks": ""
           }
          },
          "colorscale": {
           "diverging": [
            [
             0,
             "#8e0152"
            ],
            [
             0.1,
             "#c51b7d"
            ],
            [
             0.2,
             "#de77ae"
            ],
            [
             0.3,
             "#f1b6da"
            ],
            [
             0.4,
             "#fde0ef"
            ],
            [
             0.5,
             "#f7f7f7"
            ],
            [
             0.6,
             "#e6f5d0"
            ],
            [
             0.7,
             "#b8e186"
            ],
            [
             0.8,
             "#7fbc41"
            ],
            [
             0.9,
             "#4d9221"
            ],
            [
             1,
             "#276419"
            ]
           ],
           "sequential": [
            [
             0,
             "#0d0887"
            ],
            [
             0.1111111111111111,
             "#46039f"
            ],
            [
             0.2222222222222222,
             "#7201a8"
            ],
            [
             0.3333333333333333,
             "#9c179e"
            ],
            [
             0.4444444444444444,
             "#bd3786"
            ],
            [
             0.5555555555555556,
             "#d8576b"
            ],
            [
             0.6666666666666666,
             "#ed7953"
            ],
            [
             0.7777777777777778,
             "#fb9f3a"
            ],
            [
             0.8888888888888888,
             "#fdca26"
            ],
            [
             1,
             "#f0f921"
            ]
           ],
           "sequentialminus": [
            [
             0,
             "#0d0887"
            ],
            [
             0.1111111111111111,
             "#46039f"
            ],
            [
             0.2222222222222222,
             "#7201a8"
            ],
            [
             0.3333333333333333,
             "#9c179e"
            ],
            [
             0.4444444444444444,
             "#bd3786"
            ],
            [
             0.5555555555555556,
             "#d8576b"
            ],
            [
             0.6666666666666666,
             "#ed7953"
            ],
            [
             0.7777777777777778,
             "#fb9f3a"
            ],
            [
             0.8888888888888888,
             "#fdca26"
            ],
            [
             1,
             "#f0f921"
            ]
           ]
          },
          "colorway": [
           "#636efa",
           "#EF553B",
           "#00cc96",
           "#ab63fa",
           "#FFA15A",
           "#19d3f3",
           "#FF6692",
           "#B6E880",
           "#FF97FF",
           "#FECB52"
          ],
          "font": {
           "color": "#2a3f5f"
          },
          "geo": {
           "bgcolor": "white",
           "lakecolor": "white",
           "landcolor": "white",
           "showlakes": true,
           "showland": true,
           "subunitcolor": "#C8D4E3"
          },
          "hoverlabel": {
           "align": "left"
          },
          "hovermode": "closest",
          "mapbox": {
           "style": "light"
          },
          "paper_bgcolor": "white",
          "plot_bgcolor": "white",
          "polar": {
           "angularaxis": {
            "gridcolor": "#EBF0F8",
            "linecolor": "#EBF0F8",
            "ticks": ""
           },
           "bgcolor": "white",
           "radialaxis": {
            "gridcolor": "#EBF0F8",
            "linecolor": "#EBF0F8",
            "ticks": ""
           }
          },
          "scene": {
           "xaxis": {
            "backgroundcolor": "white",
            "gridcolor": "#DFE8F3",
            "gridwidth": 2,
            "linecolor": "#EBF0F8",
            "showbackground": true,
            "ticks": "",
            "zerolinecolor": "#EBF0F8"
           },
           "yaxis": {
            "backgroundcolor": "white",
            "gridcolor": "#DFE8F3",
            "gridwidth": 2,
            "linecolor": "#EBF0F8",
            "showbackground": true,
            "ticks": "",
            "zerolinecolor": "#EBF0F8"
           },
           "zaxis": {
            "backgroundcolor": "white",
            "gridcolor": "#DFE8F3",
            "gridwidth": 2,
            "linecolor": "#EBF0F8",
            "showbackground": true,
            "ticks": "",
            "zerolinecolor": "#EBF0F8"
           }
          },
          "shapedefaults": {
           "line": {
            "color": "#2a3f5f"
           }
          },
          "ternary": {
           "aaxis": {
            "gridcolor": "#DFE8F3",
            "linecolor": "#A2B1C6",
            "ticks": ""
           },
           "baxis": {
            "gridcolor": "#DFE8F3",
            "linecolor": "#A2B1C6",
            "ticks": ""
           },
           "bgcolor": "white",
           "caxis": {
            "gridcolor": "#DFE8F3",
            "linecolor": "#A2B1C6",
            "ticks": ""
           }
          },
          "title": {
           "x": 0.05
          },
          "xaxis": {
           "automargin": true,
           "gridcolor": "#EBF0F8",
           "linecolor": "#EBF0F8",
           "ticks": "",
           "title": {
            "standoff": 15
           },
           "zerolinecolor": "#EBF0F8",
           "zerolinewidth": 2
          },
          "yaxis": {
           "automargin": true,
           "gridcolor": "#EBF0F8",
           "linecolor": "#EBF0F8",
           "ticks": "",
           "title": {
            "standoff": 15
           },
           "zerolinecolor": "#EBF0F8",
           "zerolinewidth": 2
          }
         }
        },
        "title": {
         "text": "",
         "yanchor": "bottom"
        },
        "xaxis": {
         "anchor": "y",
         "domain": [
          0,
          1
         ],
         "matches": "x",
         "visible": false
        },
        "xaxis2": {
         "anchor": "y2",
         "domain": [
          0,
          1
         ],
         "matches": "x"
        },
        "xaxis3": {
         "anchor": "y3",
         "domain": [
          0,
          1
         ],
         "matches": "x"
        },
        "yaxis": {
         "anchor": "x",
         "domain": [
          0.875,
          1
         ],
         "range": [
          -1.1,
          1.1
         ],
         "title": {
          "text": "intensity"
         },
         "visible": false
        },
        "yaxis2": {
         "anchor": "x2",
         "domain": [
          0.175,
          0.825
         ],
         "title": {
          "text": "intensity"
         }
        },
        "yaxis3": {
         "anchor": "x3",
         "domain": [
          0,
          0.125
         ],
         "title": {
          "text": "m/z err"
         }
        }
       }
      }
     },
     "metadata": {},
     "output_type": "display_data"
    }
   ],
   "source": [
    "from alpharaw.viz.df_utils import make_psm_plot_for_dfs\n",
    "\n",
    "spec_idx = plot_psm.spec_idx.values[0]\n",
    "peak_mzs, peak_intens = ms_data.get_peaks(spec_idx)\n",
    "\n",
    "plot_df = make_psm_plot_for_dfs(\n",
    "    peak_mzs, peak_intens,\n",
    "    plot_psm,\n",
    "    plot_frag_mz_df,\n",
    "    fragment_intensity_df=None,\n",
    ")\n",
    "psm_plotter.plot(plot_df, plot_psm.sequence[0], \"\", plot_unmatched_peaks=True)"
   ]
  },
  {
   "cell_type": "markdown",
   "metadata": {},
   "source": [
    "### Mirror plot with predicted intensities"
   ]
  },
  {
   "cell_type": "code",
   "execution_count": 17,
   "metadata": {},
   "outputs": [
    {
     "name": "stdout",
     "output_type": "stream",
     "text": [
      "2024-01-04 19:57:36> Predicting MS2 ...\n"
     ]
    },
    {
     "name": "stderr",
     "output_type": "stream",
     "text": [
      "100%|██████████| 1/1 [00:00<00:00, 172.21it/s]\n"
     ]
    }
   ],
   "source": [
    "from peptdeep.pretrained_models import ModelManager\n",
    "\n",
    "model_mgr = ModelManager()\n",
    "pred_inten_df = model_mgr.predict_ms2(plot_psm)"
   ]
  },
  {
   "cell_type": "code",
   "execution_count": 18,
   "metadata": {},
   "outputs": [
    {
     "data": {
      "application/vnd.plotly.v1+json": {
       "config": {
        "plotlyServerURL": "https://plot.ly"
       },
       "data": [
        {
         "marker": {
          "color": "lightgrey",
          "size": 1
         },
         "mode": "markers",
         "name": "",
         "showlegend": false,
         "type": "scatter",
         "x": [
          101.07127,
          102.05545,
          103.05437,
          104.05306,
          107.04926,
          110.0716,
          110.09681,
          112.08737,
          115.08597,
          116.07133,
          120.08082,
          120.090004,
          121.084526,
          125.07108,
          127.08666,
          128.10681,
          129.0655,
          129.10223,
          129.11255,
          130.03232,
          130.06508,
          130.08641,
          130.10556,
          131.0898,
          136.07579,
          137.07939,
          138.0909,
          143.0824,
          143.11775,
          145.09702,
          147.11273,
          148.11633,
          153.1023,
          155.0819,
          155.1179,
          156.077,
          157.09662,
          157.13397,
          158.09225,
          159.0913,
          166.06157,
          169.09749,
          169.13377,
          170.06044,
          171.06343,
          171.11281,
          172.11537,
          173.0943,
          173.12852,
          174.13223,
          175.11882,
          180.10193,
          183.11296,
          183.14845,
          185.09204,
          185.12839,
          185.16484,
          186.12434,
          187.14444,
          190.06816,
          197.09164,
          197.12845,
          199.10715,
          199.1804,
          200.18443,
          201.12334,
          202.12689,
          204.13481,
          205.10022,
          211.1447,
          214.11887,
          214.50197,
          215.08842,
          215.1396,
          217.13596,
          218.14043,
          219.11581,
          220.11888,
          221.47499,
          226.1187,
          227.10124,
          227.17517,
          233.09525,
          233.16536,
          234.14601,
          235.14717,
          240.13525,
          242.15086,
          245.1298,
          247.10942,
          251.10683,
          255.14433,
          258.14612,
          260.1426,
          260.19675,
          261.12662,
          261.19922,
          262.13956,
          268.1652,
          269.16428,
          272.17184,
          277.1219,
          278.153,
          279.15793,
          282.1679,
          283.1426,
          286.12164,
          286.17633,
          287.17838,
          288.20306,
          301.39795,
          303.1773,
          310.5489,
          314.2086,
          321.158,
          322.18658,
          323.20932,
          331.1871,
          331.6898,
          338.67487,
          339.1753,
          341.21753,
          347.1172,
          361.19254,
          375.2257,
          379.20038,
          380.20325,
          382.2188,
          399.20673,
          417.2236,
          418.2571,
          419.244,
          424.24057,
          432.22577,
          433.2289,
          435.2726,
          436.27835,
          450.23758,
          451.24258,
          503.27988,
          516.2936,
          517.3054,
          518.3353,
          520.2946,
          526.27094,
          536.3157,
          545.3117,
          546.3113,
          552.3137,
          553.31995,
          563.32184,
          564.3211,
          565.3176,
          579.28644,
          580.2898,
          625.3469,
          626.33624,
          631.42633,
          639.3595,
          649.3527,
          650.35443,
          661.36804,
          665.4032,
          676.4026
         ],
         "xaxis": "x2",
         "y": [
          30519.52,
          33914.508,
          13623.526,
          144472.86,
          36500.777,
          163431.12,
          26750.617,
          15490.185,
          14660.7705,
          19247.498,
          269554.7,
          21007.908,
          21938.312,
          12177.118,
          38936.75,
          88963.516,
          16646.15,
          396617.8,
          27012.197,
          14025.2705,
          55377.63,
          262069.03,
          38219.004,
          22965.889,
          100701.33,
          11737.302,
          15400.402,
          19162.688,
          71599.6,
          20571.09,
          584019.8,
          42037.387,
          16210.656,
          21804.732,
          106038.62,
          15783.1875,
          68640.086,
          80940.88,
          34751.906,
          17297.914,
          13126.856,
          20815.307,
          70175.43,
          111183.625,
          16978.057,
          39391.91,
          44267.055,
          68023.484,
          2726695,
          169588,
          116318.414,
          39803.31,
          15250.683,
          72384.75,
          34743.227,
          150599.6,
          51884.504,
          27279.61,
          19256.486,
          16813.795,
          21276.887,
          77375.305,
          51006.848,
          103290.44,
          14723.845,
          477963.62,
          38992.695,
          39244.258,
          83126.34,
          31783.969,
          55353.51,
          26804.455,
          12312.446,
          30421.107,
          135258.4,
          42937.895,
          186314.28,
          21196.578,
          14106.906,
          16006.923,
          29972.635,
          45197.367,
          44677.336,
          55170.7,
          29649.06,
          22800.104,
          20836.625,
          29031.55,
          25738.535,
          18619.416,
          19211.188,
          61408.047,
          17100.408,
          56674.04,
          48469.566,
          13267.997,
          13632.029,
          39423.09,
          157393.67,
          13984.591,
          39897.273,
          16782.727,
          419753.56,
          46155.36,
          14939.341,
          13764.179,
          35878.63,
          385729.1,
          38501.117,
          27741.723,
          26604.957,
          25218.287,
          13234.433,
          24317.273,
          18894.223,
          21179.879,
          49077.703,
          107776.84,
          45178.676,
          27062.977,
          27468.723,
          70552.93,
          20278.367,
          48261.684,
          33700.223,
          404354.97,
          49040.605,
          69757.35,
          51682.746,
          18385.639,
          18342.229,
          15334.54,
          21940.85,
          174233.33,
          22230.73,
          87515.95,
          29863.314,
          445672.25,
          68555.52,
          15075.474,
          209722.97,
          49091.96,
          30652.951,
          29141.443,
          27579.078,
          23964.812,
          146297.94,
          43928.02,
          41562.84,
          24836.557,
          984503.75,
          342337.5,
          41316.81,
          71359.59,
          25861.307,
          45733.74,
          15196.297,
          23392.248,
          53212.023,
          27747.625,
          36853.555,
          48556.395,
          24854.82,
          20505.6
         ],
         "yaxis": "y2"
        },
        {
         "hovertemplate": "<b>%{hovertext}</b><br><b>m/z:</b> %{x}<br><b>intensity:</b> %{y}",
         "hovertext": [
          "b2+",
          "b3+"
         ],
         "marker": {
          "color": "blue",
          "size": 1
         },
         "mode": "markers",
         "name": "",
         "showlegend": false,
         "type": "scatter",
         "x": [
          201.12337,
          314.20743
         ],
         "xaxis": "x2",
         "y": [
          477963.62,
          24317.273
         ],
         "yaxis": "y2"
        },
        {
         "hovertemplate": "<b>%{hovertext}</b><br><b>m/z:</b> %{x}<br><b>intensity:</b> %{y}",
         "hovertext": [
          "b2+",
          "b3+"
         ],
         "marker": {
          "color": "blue",
          "size": 1
         },
         "mode": "markers",
         "name": "",
         "showlegend": false,
         "type": "scatter",
         "x": [
          201.12337,
          314.20743
         ],
         "xaxis": "x2",
         "y": [
          -426686.62,
          -41247.375
         ],
         "yaxis": "y2"
        },
        {
         "hovertemplate": "<b>%{hovertext}</b><br><b>m/z:</b> %{x}<br><b>intensity:</b> %{y}",
         "hovertext": [
          "y6+",
          "y5+",
          "y5++",
          "y4+",
          "y3+",
          "y2+",
          "y1+"
         ],
         "marker": {
          "color": "red",
          "size": 1
         },
         "mode": "markers",
         "name": "",
         "showlegend": false,
         "type": "scatter",
         "x": [
          676.4062,
          563.32214,
          282.1647,
          450.23807,
          379.20096,
          278.1533,
          147.11281
         ],
         "xaxis": "x2",
         "y": [
          20505.6,
          984503.75,
          14939.341,
          445672.25,
          404354.97,
          419753.56,
          584019.8
         ],
         "yaxis": "y2"
        },
        {
         "hovertemplate": "<b>%{hovertext}</b><br><b>m/z:</b> %{x}<br><b>intensity:</b> %{y}",
         "hovertext": [
          "y6+",
          "y5+",
          "y5++",
          "y4+",
          "y3+",
          "y2+",
          "y1+"
         ],
         "marker": {
          "color": "red",
          "size": 1
         },
         "mode": "markers",
         "name": "",
         "showlegend": false,
         "type": "scatter",
         "x": [
          676.4062,
          563.32214,
          282.1647,
          450.23807,
          379.20096,
          278.1533,
          147.11281
         ],
         "xaxis": "x2",
         "y": [
          -25063.373,
          -984503.75,
          -28490.99,
          -432450.75,
          -300897.4,
          -252634.62,
          -190381.05
         ],
         "yaxis": "y2"
        },
        {
         "hovertemplate": "%{hovertext}<br><b>m/z:</b> %{x}<br><b>Mass err:</b> %{y}",
         "hovertext": [
          "b2+",
          "b3+"
         ],
         "marker": {
          "color": "blue",
          "size": 5
         },
         "mode": "markers",
         "name": "blue",
         "showlegend": false,
         "type": "scatter",
         "x": [
          201.12337,
          314.20743
         ],
         "xaxis": "x3",
         "y": [
          -0.1517,
          3.6908
         ],
         "yaxis": "y3"
        },
        {
         "hovertemplate": "%{hovertext}<br><b>m/z:</b> %{x}<br><b>Mass err:</b> %{y}",
         "hovertext": [
          "y6+",
          "y5+",
          "y5++",
          "y4+",
          "y3+",
          "y2+",
          "y1+"
         ],
         "marker": {
          "color": "red",
          "size": 5
         },
         "mode": "markers",
         "name": "red",
         "showlegend": false,
         "type": "scatter",
         "x": [
          676.4062,
          563.32214,
          282.1647,
          450.23807,
          379.20096,
          278.1533,
          147.11281
         ],
         "xaxis": "x3",
         "y": [
          -5.3238,
          -0.5417,
          11.3563,
          -1.0845,
          -1.5291,
          -0.9874,
          -0.5186
         ],
         "yaxis": "y3"
        },
        {
         "hoverinfo": "skip",
         "line": {
          "width": 1
         },
         "marker": {
          "color": "blue"
         },
         "mode": "lines",
         "showlegend": false,
         "type": "scatter",
         "x": [
          300.67726166394294,
          318.2895556080098,
          318.2895556080098
         ],
         "xaxis": "x",
         "y": [
          0.6,
          0.6,
          0.4
         ],
         "yaxis": "y"
        },
        {
         "hoverinfo": "skip",
         "line": {
          "width": 1
         },
         "marker": {
          "color": "blue"
         },
         "mode": "lines",
         "showlegend": false,
         "type": "scatter",
         "x": [
          335.90184955207667,
          353.51414349614356,
          353.51414349614356
         ],
         "xaxis": "x",
         "y": [
          0.6,
          0.6,
          0.4
         ],
         "yaxis": "y"
        },
        {
         "hoverinfo": "skip",
         "line": {
          "width": 1
         },
         "marker": {
          "color": "red"
         },
         "mode": "lines",
         "showlegend": false,
         "type": "scatter",
         "x": [
          300.67726166394294,
          283.0649677198761,
          283.0649677198761
         ],
         "xaxis": "x",
         "y": [
          -0.6,
          -0.6,
          -0.4
         ],
         "yaxis": "y"
        },
        {
         "hoverinfo": "skip",
         "line": {
          "width": 1
         },
         "marker": {
          "color": "red"
         },
         "mode": "lines",
         "showlegend": false,
         "type": "scatter",
         "x": [
          335.90184955207667,
          318.2895556080098,
          318.2895556080098
         ],
         "xaxis": "x",
         "y": [
          -0.6,
          -0.6,
          -0.4
         ],
         "yaxis": "y"
        },
        {
         "hoverinfo": "skip",
         "line": {
          "width": 1
         },
         "marker": {
          "color": "red"
         },
         "mode": "lines",
         "showlegend": false,
         "type": "scatter",
         "x": [
          371.12643744021045,
          353.51414349614356,
          353.51414349614356
         ],
         "xaxis": "x",
         "y": [
          -0.6,
          -0.6,
          -0.4
         ],
         "yaxis": "y"
        },
        {
         "hoverinfo": "skip",
         "line": {
          "width": 1
         },
         "marker": {
          "color": "red"
         },
         "mode": "lines",
         "showlegend": false,
         "type": "scatter",
         "x": [
          406.35102532834424,
          388.73873138427734,
          388.73873138427734
         ],
         "xaxis": "x",
         "y": [
          -0.6,
          -0.6,
          -0.4
         ],
         "yaxis": "y"
        },
        {
         "hoverinfo": "skip",
         "line": {
          "width": 1
         },
         "marker": {
          "color": "red"
         },
         "mode": "lines",
         "showlegend": false,
         "type": "scatter",
         "x": [
          441.57561321647796,
          423.96331927241107,
          423.96331927241107
         ],
         "xaxis": "x",
         "y": [
          -0.6,
          -0.6,
          -0.4
         ],
         "yaxis": "y"
        },
        {
         "hoverinfo": "skip",
         "line": {
          "width": 1
         },
         "marker": {
          "color": "red"
         },
         "mode": "lines",
         "showlegend": false,
         "type": "scatter",
         "x": [
          476.80020110461174,
          459.1879071605449,
          459.1879071605449
         ],
         "xaxis": "x",
         "y": [
          -0.6,
          -0.6,
          -0.4
         ],
         "yaxis": "y"
        }
       ],
       "layout": {
        "annotations": [
         {
          "font": {
           "size": 10
          },
          "text": "y6+",
          "textangle": -90,
          "x": 676.4061889648438,
          "xref": "x2",
          "y": 40195.674609375,
          "yref": "y2"
         },
         {
          "font": {
           "size": 10
          },
          "text": "b2+",
          "textangle": -90,
          "x": 201.1233673095703,
          "xref": "x2",
          "y": 497653.7,
          "yref": "y2"
         },
         {
          "font": {
           "size": 10
          },
          "text": "y5+",
          "textangle": -90,
          "x": 563.3221435546875,
          "xref": "x2",
          "y": 1004193.825,
          "yref": "y2"
         },
         {
          "font": {
           "size": 10
          },
          "text": "y5++",
          "textangle": -90,
          "x": 282.1647033691406,
          "xref": "x2",
          "y": 34629.4158203125,
          "yref": "y2"
         },
         {
          "font": {
           "size": 10
          },
          "text": "b3+",
          "textangle": -90,
          "x": 314.2074279785156,
          "xref": "x2",
          "y": 44007.3484375,
          "yref": "y2"
         },
         {
          "font": {
           "size": 10
          },
          "text": "y4+",
          "textangle": -90,
          "x": 450.2380676269531,
          "xref": "x2",
          "y": 465362.325,
          "yref": "y2"
         },
         {
          "font": {
           "size": 10
          },
          "text": "y3+",
          "textangle": -90,
          "x": 379.2009582519531,
          "xref": "x2",
          "y": 424045.04375,
          "yref": "y2"
         },
         {
          "font": {
           "size": 10
          },
          "text": "y2+",
          "textangle": -90,
          "x": 278.1532897949219,
          "xref": "x2",
          "y": 439443.6375,
          "yref": "y2"
         },
         {
          "font": {
           "size": 10
          },
          "text": "y1+",
          "textangle": -90,
          "x": 147.11280822753906,
          "xref": "x2",
          "y": 603709.8875,
          "yref": "y2"
         },
         {
          "align": "center",
          "font": {
           "size": 14
          },
          "showarrow": false,
          "text": "S",
          "x": 265.45267377580916,
          "xref": "x",
          "y": 0,
          "yref": "y",
          "yshift": 1
         },
         {
          "align": "center",
          "font": {
           "size": 14
          },
          "showarrow": false,
          "text": "L",
          "x": 300.67726166394294,
          "xref": "x",
          "y": 0,
          "yref": "y",
          "yshift": 1
         },
         {
          "align": "center",
          "font": {
           "size": 14
          },
          "showarrow": false,
          "text": "L",
          "x": 335.90184955207667,
          "xref": "x",
          "y": 0,
          "yref": "y",
          "yshift": 1
         },
         {
          "align": "center",
          "font": {
           "size": 14
          },
          "showarrow": false,
          "text": "A",
          "x": 371.12643744021045,
          "xref": "x",
          "y": 0,
          "yref": "y",
          "yshift": 1
         },
         {
          "align": "center",
          "font": {
           "size": 14
          },
          "showarrow": false,
          "text": "T",
          "x": 406.35102532834424,
          "xref": "x",
          "y": 0,
          "yref": "y",
          "yshift": 1
         },
         {
          "align": "center",
          "font": {
           "size": 14
          },
          "showarrow": false,
          "text": "M",
          "x": 441.57561321647796,
          "xref": "x",
          "y": 0,
          "yref": "y",
          "yshift": 1
         },
         {
          "align": "center",
          "font": {
           "size": 14
          },
          "showarrow": false,
          "text": "K",
          "x": 476.80020110461174,
          "xref": "x",
          "y": 0,
          "yref": "y",
          "yshift": 1
         },
         {
          "font": {
           "size": 8
          },
          "showarrow": false,
          "text": "b2",
          "x": 309.4834086359764,
          "xref": "x",
          "y": 1,
          "yref": "y"
         },
         {
          "font": {
           "size": 8
          },
          "showarrow": false,
          "text": "b3",
          "x": 344.7079965241101,
          "xref": "x",
          "y": 1,
          "yref": "y"
         },
         {
          "font": {
           "size": 8
          },
          "showarrow": false,
          "text": "y6",
          "x": 291.8711146919095,
          "xref": "x",
          "y": -1,
          "yref": "y"
         },
         {
          "font": {
           "size": 8
          },
          "showarrow": false,
          "text": "y5",
          "x": 327.0957025800432,
          "xref": "x",
          "y": -1,
          "yref": "y"
         },
         {
          "font": {
           "size": 8
          },
          "showarrow": false,
          "text": "y4",
          "x": 362.320290468177,
          "xref": "x",
          "y": -1,
          "yref": "y"
         },
         {
          "font": {
           "size": 8
          },
          "showarrow": false,
          "text": "y3",
          "x": 397.5448783563108,
          "xref": "x",
          "y": -1,
          "yref": "y"
         },
         {
          "font": {
           "size": 8
          },
          "showarrow": false,
          "text": "y2",
          "x": 432.7694662444445,
          "xref": "x",
          "y": -1,
          "yref": "y"
         },
         {
          "font": {
           "size": 8
          },
          "showarrow": false,
          "text": "y1",
          "x": 467.9940541325783,
          "xref": "x",
          "y": -1,
          "yref": "y"
         }
        ],
        "height": 600,
        "hovermode": "x",
        "shapes": [
         {
          "line": {
           "color": "lightgrey",
           "width": 1.5
          },
          "type": "line",
          "x0": 101.07127380371094,
          "x1": 101.07127380371094,
          "xref": "x2",
          "y0": 0,
          "y1": 30519.51953125,
          "yref": "y2"
         },
         {
          "line": {
           "color": "lightgrey",
           "width": 1.5
          },
          "type": "line",
          "x0": 102.05545043945312,
          "x1": 102.05545043945312,
          "xref": "x2",
          "y0": 0,
          "y1": 33914.5078125,
          "yref": "y2"
         },
         {
          "line": {
           "color": "lightgrey",
           "width": 1.5
          },
          "type": "line",
          "x0": 103.05436706542969,
          "x1": 103.05436706542969,
          "xref": "x2",
          "y0": 0,
          "y1": 13623.5263671875,
          "yref": "y2"
         },
         {
          "line": {
           "color": "lightgrey",
           "width": 1.5
          },
          "type": "line",
          "x0": 104.05306243896484,
          "x1": 104.05306243896484,
          "xref": "x2",
          "y0": 0,
          "y1": 144472.859375,
          "yref": "y2"
         },
         {
          "line": {
           "color": "lightgrey",
           "width": 1.5
          },
          "type": "line",
          "x0": 107.04926300048828,
          "x1": 107.04926300048828,
          "xref": "x2",
          "y0": 0,
          "y1": 36500.77734375,
          "yref": "y2"
         },
         {
          "line": {
           "color": "lightgrey",
           "width": 1.5
          },
          "type": "line",
          "x0": 110.07160186767578,
          "x1": 110.07160186767578,
          "xref": "x2",
          "y0": 0,
          "y1": 163431.125,
          "yref": "y2"
         },
         {
          "line": {
           "color": "lightgrey",
           "width": 1.5
          },
          "type": "line",
          "x0": 110.09680938720703,
          "x1": 110.09680938720703,
          "xref": "x2",
          "y0": 0,
          "y1": 26750.6171875,
          "yref": "y2"
         },
         {
          "line": {
           "color": "lightgrey",
           "width": 1.5
          },
          "type": "line",
          "x0": 112.08737182617188,
          "x1": 112.08737182617188,
          "xref": "x2",
          "y0": 0,
          "y1": 15490.1845703125,
          "yref": "y2"
         },
         {
          "line": {
           "color": "lightgrey",
           "width": 1.5
          },
          "type": "line",
          "x0": 115.08596801757812,
          "x1": 115.08596801757812,
          "xref": "x2",
          "y0": 0,
          "y1": 14660.7705078125,
          "yref": "y2"
         },
         {
          "line": {
           "color": "lightgrey",
           "width": 1.5
          },
          "type": "line",
          "x0": 116.07132720947266,
          "x1": 116.07132720947266,
          "xref": "x2",
          "y0": 0,
          "y1": 19247.498046875,
          "yref": "y2"
         },
         {
          "line": {
           "color": "lightgrey",
           "width": 1.5
          },
          "type": "line",
          "x0": 120.08081817626953,
          "x1": 120.08081817626953,
          "xref": "x2",
          "y0": 0,
          "y1": 269554.6875,
          "yref": "y2"
         },
         {
          "line": {
           "color": "lightgrey",
           "width": 1.5
          },
          "type": "line",
          "x0": 120.09000396728516,
          "x1": 120.09000396728516,
          "xref": "x2",
          "y0": 0,
          "y1": 21007.908203125,
          "yref": "y2"
         },
         {
          "line": {
           "color": "lightgrey",
           "width": 1.5
          },
          "type": "line",
          "x0": 121.08452606201172,
          "x1": 121.08452606201172,
          "xref": "x2",
          "y0": 0,
          "y1": 21938.3125,
          "yref": "y2"
         },
         {
          "line": {
           "color": "lightgrey",
           "width": 1.5
          },
          "type": "line",
          "x0": 125.07108306884766,
          "x1": 125.07108306884766,
          "xref": "x2",
          "y0": 0,
          "y1": 12177.1181640625,
          "yref": "y2"
         },
         {
          "line": {
           "color": "lightgrey",
           "width": 1.5
          },
          "type": "line",
          "x0": 127.08666229248047,
          "x1": 127.08666229248047,
          "xref": "x2",
          "y0": 0,
          "y1": 38936.75,
          "yref": "y2"
         },
         {
          "line": {
           "color": "lightgrey",
           "width": 1.5
          },
          "type": "line",
          "x0": 128.1068115234375,
          "x1": 128.1068115234375,
          "xref": "x2",
          "y0": 0,
          "y1": 88963.515625,
          "yref": "y2"
         },
         {
          "line": {
           "color": "lightgrey",
           "width": 1.5
          },
          "type": "line",
          "x0": 129.0655059814453,
          "x1": 129.0655059814453,
          "xref": "x2",
          "y0": 0,
          "y1": 16646.150390625,
          "yref": "y2"
         },
         {
          "line": {
           "color": "lightgrey",
           "width": 1.5
          },
          "type": "line",
          "x0": 129.10223388671875,
          "x1": 129.10223388671875,
          "xref": "x2",
          "y0": 0,
          "y1": 396617.8125,
          "yref": "y2"
         },
         {
          "line": {
           "color": "lightgrey",
           "width": 1.5
          },
          "type": "line",
          "x0": 129.112548828125,
          "x1": 129.112548828125,
          "xref": "x2",
          "y0": 0,
          "y1": 27012.197265625,
          "yref": "y2"
         },
         {
          "line": {
           "color": "lightgrey",
           "width": 1.5
          },
          "type": "line",
          "x0": 130.03231811523438,
          "x1": 130.03231811523438,
          "xref": "x2",
          "y0": 0,
          "y1": 14025.2705078125,
          "yref": "y2"
         },
         {
          "line": {
           "color": "lightgrey",
           "width": 1.5
          },
          "type": "line",
          "x0": 130.06507873535156,
          "x1": 130.06507873535156,
          "xref": "x2",
          "y0": 0,
          "y1": 55377.62890625,
          "yref": "y2"
         },
         {
          "line": {
           "color": "lightgrey",
           "width": 1.5
          },
          "type": "line",
          "x0": 130.08641052246094,
          "x1": 130.08641052246094,
          "xref": "x2",
          "y0": 0,
          "y1": 262069.03125,
          "yref": "y2"
         },
         {
          "line": {
           "color": "lightgrey",
           "width": 1.5
          },
          "type": "line",
          "x0": 130.10556030273438,
          "x1": 130.10556030273438,
          "xref": "x2",
          "y0": 0,
          "y1": 38219.00390625,
          "yref": "y2"
         },
         {
          "line": {
           "color": "lightgrey",
           "width": 1.5
          },
          "type": "line",
          "x0": 131.0897979736328,
          "x1": 131.0897979736328,
          "xref": "x2",
          "y0": 0,
          "y1": 22965.888671875,
          "yref": "y2"
         },
         {
          "line": {
           "color": "lightgrey",
           "width": 1.5
          },
          "type": "line",
          "x0": 136.07579040527344,
          "x1": 136.07579040527344,
          "xref": "x2",
          "y0": 0,
          "y1": 100701.328125,
          "yref": "y2"
         },
         {
          "line": {
           "color": "lightgrey",
           "width": 1.5
          },
          "type": "line",
          "x0": 137.0793914794922,
          "x1": 137.0793914794922,
          "xref": "x2",
          "y0": 0,
          "y1": 11737.3017578125,
          "yref": "y2"
         },
         {
          "line": {
           "color": "lightgrey",
           "width": 1.5
          },
          "type": "line",
          "x0": 138.0908966064453,
          "x1": 138.0908966064453,
          "xref": "x2",
          "y0": 0,
          "y1": 15400.40234375,
          "yref": "y2"
         },
         {
          "line": {
           "color": "lightgrey",
           "width": 1.5
          },
          "type": "line",
          "x0": 143.0823974609375,
          "x1": 143.0823974609375,
          "xref": "x2",
          "y0": 0,
          "y1": 19162.6875,
          "yref": "y2"
         },
         {
          "line": {
           "color": "lightgrey",
           "width": 1.5
          },
          "type": "line",
          "x0": 143.1177520751953,
          "x1": 143.1177520751953,
          "xref": "x2",
          "y0": 0,
          "y1": 71599.6015625,
          "yref": "y2"
         },
         {
          "line": {
           "color": "lightgrey",
           "width": 1.5
          },
          "type": "line",
          "x0": 145.09701538085938,
          "x1": 145.09701538085938,
          "xref": "x2",
          "y0": 0,
          "y1": 20571.08984375,
          "yref": "y2"
         },
         {
          "line": {
           "color": "lightgrey",
           "width": 1.5
          },
          "type": "line",
          "x0": 147.11273193359375,
          "x1": 147.11273193359375,
          "xref": "x2",
          "y0": 0,
          "y1": 584019.8125,
          "yref": "y2"
         },
         {
          "line": {
           "color": "lightgrey",
           "width": 1.5
          },
          "type": "line",
          "x0": 148.1163330078125,
          "x1": 148.1163330078125,
          "xref": "x2",
          "y0": 0,
          "y1": 42037.38671875,
          "yref": "y2"
         },
         {
          "line": {
           "color": "lightgrey",
           "width": 1.5
          },
          "type": "line",
          "x0": 153.102294921875,
          "x1": 153.102294921875,
          "xref": "x2",
          "y0": 0,
          "y1": 16210.65625,
          "yref": "y2"
         },
         {
          "line": {
           "color": "lightgrey",
           "width": 1.5
          },
          "type": "line",
          "x0": 155.08189392089844,
          "x1": 155.08189392089844,
          "xref": "x2",
          "y0": 0,
          "y1": 21804.732421875,
          "yref": "y2"
         },
         {
          "line": {
           "color": "lightgrey",
           "width": 1.5
          },
          "type": "line",
          "x0": 155.11790466308594,
          "x1": 155.11790466308594,
          "xref": "x2",
          "y0": 0,
          "y1": 106038.6171875,
          "yref": "y2"
         },
         {
          "line": {
           "color": "lightgrey",
           "width": 1.5
          },
          "type": "line",
          "x0": 156.07699584960938,
          "x1": 156.07699584960938,
          "xref": "x2",
          "y0": 0,
          "y1": 15783.1875,
          "yref": "y2"
         },
         {
          "line": {
           "color": "lightgrey",
           "width": 1.5
          },
          "type": "line",
          "x0": 157.09661865234375,
          "x1": 157.09661865234375,
          "xref": "x2",
          "y0": 0,
          "y1": 68640.0859375,
          "yref": "y2"
         },
         {
          "line": {
           "color": "lightgrey",
           "width": 1.5
          },
          "type": "line",
          "x0": 157.13397216796875,
          "x1": 157.13397216796875,
          "xref": "x2",
          "y0": 0,
          "y1": 80940.8828125,
          "yref": "y2"
         },
         {
          "line": {
           "color": "lightgrey",
           "width": 1.5
          },
          "type": "line",
          "x0": 158.09225463867188,
          "x1": 158.09225463867188,
          "xref": "x2",
          "y0": 0,
          "y1": 34751.90625,
          "yref": "y2"
         },
         {
          "line": {
           "color": "lightgrey",
           "width": 1.5
          },
          "type": "line",
          "x0": 159.09129333496094,
          "x1": 159.09129333496094,
          "xref": "x2",
          "y0": 0,
          "y1": 17297.9140625,
          "yref": "y2"
         },
         {
          "line": {
           "color": "lightgrey",
           "width": 1.5
          },
          "type": "line",
          "x0": 166.0615692138672,
          "x1": 166.0615692138672,
          "xref": "x2",
          "y0": 0,
          "y1": 13126.8564453125,
          "yref": "y2"
         },
         {
          "line": {
           "color": "lightgrey",
           "width": 1.5
          },
          "type": "line",
          "x0": 169.0974884033203,
          "x1": 169.0974884033203,
          "xref": "x2",
          "y0": 0,
          "y1": 20815.306640625,
          "yref": "y2"
         },
         {
          "line": {
           "color": "lightgrey",
           "width": 1.5
          },
          "type": "line",
          "x0": 169.13377380371094,
          "x1": 169.13377380371094,
          "xref": "x2",
          "y0": 0,
          "y1": 70175.4296875,
          "yref": "y2"
         },
         {
          "line": {
           "color": "lightgrey",
           "width": 1.5
          },
          "type": "line",
          "x0": 170.06044006347656,
          "x1": 170.06044006347656,
          "xref": "x2",
          "y0": 0,
          "y1": 111183.625,
          "yref": "y2"
         },
         {
          "line": {
           "color": "lightgrey",
           "width": 1.5
          },
          "type": "line",
          "x0": 171.0634307861328,
          "x1": 171.0634307861328,
          "xref": "x2",
          "y0": 0,
          "y1": 16978.056640625,
          "yref": "y2"
         },
         {
          "line": {
           "color": "lightgrey",
           "width": 1.5
          },
          "type": "line",
          "x0": 171.11280822753906,
          "x1": 171.11280822753906,
          "xref": "x2",
          "y0": 0,
          "y1": 39391.91015625,
          "yref": "y2"
         },
         {
          "line": {
           "color": "lightgrey",
           "width": 1.5
          },
          "type": "line",
          "x0": 172.11537170410156,
          "x1": 172.11537170410156,
          "xref": "x2",
          "y0": 0,
          "y1": 44267.0546875,
          "yref": "y2"
         },
         {
          "line": {
           "color": "lightgrey",
           "width": 1.5
          },
          "type": "line",
          "x0": 173.09429931640625,
          "x1": 173.09429931640625,
          "xref": "x2",
          "y0": 0,
          "y1": 68023.484375,
          "yref": "y2"
         },
         {
          "line": {
           "color": "lightgrey",
           "width": 1.5
          },
          "type": "line",
          "x0": 173.12852478027344,
          "x1": 173.12852478027344,
          "xref": "x2",
          "y0": 0,
          "y1": 2726695,
          "yref": "y2"
         },
         {
          "line": {
           "color": "lightgrey",
           "width": 1.5
          },
          "type": "line",
          "x0": 174.13223266601562,
          "x1": 174.13223266601562,
          "xref": "x2",
          "y0": 0,
          "y1": 169588,
          "yref": "y2"
         },
         {
          "line": {
           "color": "lightgrey",
           "width": 1.5
          },
          "type": "line",
          "x0": 175.1188201904297,
          "x1": 175.1188201904297,
          "xref": "x2",
          "y0": 0,
          "y1": 116318.4140625,
          "yref": "y2"
         },
         {
          "line": {
           "color": "lightgrey",
           "width": 1.5
          },
          "type": "line",
          "x0": 180.1019287109375,
          "x1": 180.1019287109375,
          "xref": "x2",
          "y0": 0,
          "y1": 39803.30859375,
          "yref": "y2"
         },
         {
          "line": {
           "color": "lightgrey",
           "width": 1.5
          },
          "type": "line",
          "x0": 183.1129608154297,
          "x1": 183.1129608154297,
          "xref": "x2",
          "y0": 0,
          "y1": 15250.6826171875,
          "yref": "y2"
         },
         {
          "line": {
           "color": "lightgrey",
           "width": 1.5
          },
          "type": "line",
          "x0": 183.14845275878906,
          "x1": 183.14845275878906,
          "xref": "x2",
          "y0": 0,
          "y1": 72384.75,
          "yref": "y2"
         },
         {
          "line": {
           "color": "lightgrey",
           "width": 1.5
          },
          "type": "line",
          "x0": 185.092041015625,
          "x1": 185.092041015625,
          "xref": "x2",
          "y0": 0,
          "y1": 34743.2265625,
          "yref": "y2"
         },
         {
          "line": {
           "color": "lightgrey",
           "width": 1.5
          },
          "type": "line",
          "x0": 185.12838745117188,
          "x1": 185.12838745117188,
          "xref": "x2",
          "y0": 0,
          "y1": 150599.59375,
          "yref": "y2"
         },
         {
          "line": {
           "color": "lightgrey",
           "width": 1.5
          },
          "type": "line",
          "x0": 185.1648406982422,
          "x1": 185.1648406982422,
          "xref": "x2",
          "y0": 0,
          "y1": 51884.50390625,
          "yref": "y2"
         },
         {
          "line": {
           "color": "lightgrey",
           "width": 1.5
          },
          "type": "line",
          "x0": 186.1243438720703,
          "x1": 186.1243438720703,
          "xref": "x2",
          "y0": 0,
          "y1": 27279.609375,
          "yref": "y2"
         },
         {
          "line": {
           "color": "lightgrey",
           "width": 1.5
          },
          "type": "line",
          "x0": 187.14443969726562,
          "x1": 187.14443969726562,
          "xref": "x2",
          "y0": 0,
          "y1": 19256.486328125,
          "yref": "y2"
         },
         {
          "line": {
           "color": "lightgrey",
           "width": 1.5
          },
          "type": "line",
          "x0": 190.0681610107422,
          "x1": 190.0681610107422,
          "xref": "x2",
          "y0": 0,
          "y1": 16813.794921875,
          "yref": "y2"
         },
         {
          "line": {
           "color": "lightgrey",
           "width": 1.5
          },
          "type": "line",
          "x0": 197.09164428710938,
          "x1": 197.09164428710938,
          "xref": "x2",
          "y0": 0,
          "y1": 21276.88671875,
          "yref": "y2"
         },
         {
          "line": {
           "color": "lightgrey",
           "width": 1.5
          },
          "type": "line",
          "x0": 197.12844848632812,
          "x1": 197.12844848632812,
          "xref": "x2",
          "y0": 0,
          "y1": 77375.3046875,
          "yref": "y2"
         },
         {
          "line": {
           "color": "lightgrey",
           "width": 1.5
          },
          "type": "line",
          "x0": 199.10714721679688,
          "x1": 199.10714721679688,
          "xref": "x2",
          "y0": 0,
          "y1": 51006.84765625,
          "yref": "y2"
         },
         {
          "line": {
           "color": "lightgrey",
           "width": 1.5
          },
          "type": "line",
          "x0": 199.18040466308594,
          "x1": 199.18040466308594,
          "xref": "x2",
          "y0": 0,
          "y1": 103290.4375,
          "yref": "y2"
         },
         {
          "line": {
           "color": "lightgrey",
           "width": 1.5
          },
          "type": "line",
          "x0": 200.18443298339844,
          "x1": 200.18443298339844,
          "xref": "x2",
          "y0": 0,
          "y1": 14723.8447265625,
          "yref": "y2"
         },
         {
          "line": {
           "color": "lightgrey",
           "width": 1.5
          },
          "type": "line",
          "x0": 201.1233367919922,
          "x1": 201.1233367919922,
          "xref": "x2",
          "y0": 0,
          "y1": 477963.625,
          "yref": "y2"
         },
         {
          "line": {
           "color": "lightgrey",
           "width": 1.5
          },
          "type": "line",
          "x0": 202.12689208984375,
          "x1": 202.12689208984375,
          "xref": "x2",
          "y0": 0,
          "y1": 38992.6953125,
          "yref": "y2"
         },
         {
          "line": {
           "color": "lightgrey",
           "width": 1.5
          },
          "type": "line",
          "x0": 204.1348114013672,
          "x1": 204.1348114013672,
          "xref": "x2",
          "y0": 0,
          "y1": 39244.2578125,
          "yref": "y2"
         },
         {
          "line": {
           "color": "lightgrey",
           "width": 1.5
          },
          "type": "line",
          "x0": 205.1002197265625,
          "x1": 205.1002197265625,
          "xref": "x2",
          "y0": 0,
          "y1": 83126.34375,
          "yref": "y2"
         },
         {
          "line": {
           "color": "lightgrey",
           "width": 1.5
          },
          "type": "line",
          "x0": 211.1446990966797,
          "x1": 211.1446990966797,
          "xref": "x2",
          "y0": 0,
          "y1": 31783.96875,
          "yref": "y2"
         },
         {
          "line": {
           "color": "lightgrey",
           "width": 1.5
          },
          "type": "line",
          "x0": 214.11886596679688,
          "x1": 214.11886596679688,
          "xref": "x2",
          "y0": 0,
          "y1": 55353.51171875,
          "yref": "y2"
         },
         {
          "line": {
           "color": "lightgrey",
           "width": 1.5
          },
          "type": "line",
          "x0": 214.50196838378906,
          "x1": 214.50196838378906,
          "xref": "x2",
          "y0": 0,
          "y1": 26804.455078125,
          "yref": "y2"
         },
         {
          "line": {
           "color": "lightgrey",
           "width": 1.5
          },
          "type": "line",
          "x0": 215.0884246826172,
          "x1": 215.0884246826172,
          "xref": "x2",
          "y0": 0,
          "y1": 12312.4462890625,
          "yref": "y2"
         },
         {
          "line": {
           "color": "lightgrey",
           "width": 1.5
          },
          "type": "line",
          "x0": 215.1396026611328,
          "x1": 215.1396026611328,
          "xref": "x2",
          "y0": 0,
          "y1": 30421.107421875,
          "yref": "y2"
         },
         {
          "line": {
           "color": "lightgrey",
           "width": 1.5
          },
          "type": "line",
          "x0": 217.13595581054688,
          "x1": 217.13595581054688,
          "xref": "x2",
          "y0": 0,
          "y1": 135258.40625,
          "yref": "y2"
         },
         {
          "line": {
           "color": "lightgrey",
           "width": 1.5
          },
          "type": "line",
          "x0": 218.1404266357422,
          "x1": 218.1404266357422,
          "xref": "x2",
          "y0": 0,
          "y1": 42937.89453125,
          "yref": "y2"
         },
         {
          "line": {
           "color": "lightgrey",
           "width": 1.5
          },
          "type": "line",
          "x0": 219.11581420898438,
          "x1": 219.11581420898438,
          "xref": "x2",
          "y0": 0,
          "y1": 186314.28125,
          "yref": "y2"
         },
         {
          "line": {
           "color": "lightgrey",
           "width": 1.5
          },
          "type": "line",
          "x0": 220.11888122558594,
          "x1": 220.11888122558594,
          "xref": "x2",
          "y0": 0,
          "y1": 21196.578125,
          "yref": "y2"
         },
         {
          "line": {
           "color": "lightgrey",
           "width": 1.5
          },
          "type": "line",
          "x0": 221.47499084472656,
          "x1": 221.47499084472656,
          "xref": "x2",
          "y0": 0,
          "y1": 14106.90625,
          "yref": "y2"
         },
         {
          "line": {
           "color": "lightgrey",
           "width": 1.5
          },
          "type": "line",
          "x0": 226.1186981201172,
          "x1": 226.1186981201172,
          "xref": "x2",
          "y0": 0,
          "y1": 16006.9228515625,
          "yref": "y2"
         },
         {
          "line": {
           "color": "lightgrey",
           "width": 1.5
          },
          "type": "line",
          "x0": 227.1012420654297,
          "x1": 227.1012420654297,
          "xref": "x2",
          "y0": 0,
          "y1": 29972.634765625,
          "yref": "y2"
         },
         {
          "line": {
           "color": "lightgrey",
           "width": 1.5
          },
          "type": "line",
          "x0": 227.1751708984375,
          "x1": 227.1751708984375,
          "xref": "x2",
          "y0": 0,
          "y1": 45197.3671875,
          "yref": "y2"
         },
         {
          "line": {
           "color": "lightgrey",
           "width": 1.5
          },
          "type": "line",
          "x0": 233.09524536132812,
          "x1": 233.09524536132812,
          "xref": "x2",
          "y0": 0,
          "y1": 44677.3359375,
          "yref": "y2"
         },
         {
          "line": {
           "color": "lightgrey",
           "width": 1.5
          },
          "type": "line",
          "x0": 233.1653594970703,
          "x1": 233.1653594970703,
          "xref": "x2",
          "y0": 0,
          "y1": 55170.69921875,
          "yref": "y2"
         },
         {
          "line": {
           "color": "lightgrey",
           "width": 1.5
          },
          "type": "line",
          "x0": 234.14601135253906,
          "x1": 234.14601135253906,
          "xref": "x2",
          "y0": 0,
          "y1": 29649.060546875,
          "yref": "y2"
         },
         {
          "line": {
           "color": "lightgrey",
           "width": 1.5
          },
          "type": "line",
          "x0": 235.1471710205078,
          "x1": 235.1471710205078,
          "xref": "x2",
          "y0": 0,
          "y1": 22800.103515625,
          "yref": "y2"
         },
         {
          "line": {
           "color": "lightgrey",
           "width": 1.5
          },
          "type": "line",
          "x0": 240.13525390625,
          "x1": 240.13525390625,
          "xref": "x2",
          "y0": 0,
          "y1": 20836.625,
          "yref": "y2"
         },
         {
          "line": {
           "color": "lightgrey",
           "width": 1.5
          },
          "type": "line",
          "x0": 242.15086364746094,
          "x1": 242.15086364746094,
          "xref": "x2",
          "y0": 0,
          "y1": 29031.55078125,
          "yref": "y2"
         },
         {
          "line": {
           "color": "lightgrey",
           "width": 1.5
          },
          "type": "line",
          "x0": 245.1298065185547,
          "x1": 245.1298065185547,
          "xref": "x2",
          "y0": 0,
          "y1": 25738.53515625,
          "yref": "y2"
         },
         {
          "line": {
           "color": "lightgrey",
           "width": 1.5
          },
          "type": "line",
          "x0": 247.1094207763672,
          "x1": 247.1094207763672,
          "xref": "x2",
          "y0": 0,
          "y1": 18619.416015625,
          "yref": "y2"
         },
         {
          "line": {
           "color": "lightgrey",
           "width": 1.5
          },
          "type": "line",
          "x0": 251.10682678222656,
          "x1": 251.10682678222656,
          "xref": "x2",
          "y0": 0,
          "y1": 19211.1875,
          "yref": "y2"
         },
         {
          "line": {
           "color": "lightgrey",
           "width": 1.5
          },
          "type": "line",
          "x0": 255.1443328857422,
          "x1": 255.1443328857422,
          "xref": "x2",
          "y0": 0,
          "y1": 61408.046875,
          "yref": "y2"
         },
         {
          "line": {
           "color": "lightgrey",
           "width": 1.5
          },
          "type": "line",
          "x0": 258.1461181640625,
          "x1": 258.1461181640625,
          "xref": "x2",
          "y0": 0,
          "y1": 17100.408203125,
          "yref": "y2"
         },
         {
          "line": {
           "color": "lightgrey",
           "width": 1.5
          },
          "type": "line",
          "x0": 260.1426086425781,
          "x1": 260.1426086425781,
          "xref": "x2",
          "y0": 0,
          "y1": 56674.0390625,
          "yref": "y2"
         },
         {
          "line": {
           "color": "lightgrey",
           "width": 1.5
          },
          "type": "line",
          "x0": 260.1967468261719,
          "x1": 260.1967468261719,
          "xref": "x2",
          "y0": 0,
          "y1": 48469.56640625,
          "yref": "y2"
         },
         {
          "line": {
           "color": "lightgrey",
           "width": 1.5
          },
          "type": "line",
          "x0": 261.1266174316406,
          "x1": 261.1266174316406,
          "xref": "x2",
          "y0": 0,
          "y1": 13267.9970703125,
          "yref": "y2"
         },
         {
          "line": {
           "color": "lightgrey",
           "width": 1.5
          },
          "type": "line",
          "x0": 261.19921875,
          "x1": 261.19921875,
          "xref": "x2",
          "y0": 0,
          "y1": 13632.029296875,
          "yref": "y2"
         },
         {
          "line": {
           "color": "lightgrey",
           "width": 1.5
          },
          "type": "line",
          "x0": 262.1395568847656,
          "x1": 262.1395568847656,
          "xref": "x2",
          "y0": 0,
          "y1": 39423.08984375,
          "yref": "y2"
         },
         {
          "line": {
           "color": "lightgrey",
           "width": 1.5
          },
          "type": "line",
          "x0": 268.1651916503906,
          "x1": 268.1651916503906,
          "xref": "x2",
          "y0": 0,
          "y1": 157393.671875,
          "yref": "y2"
         },
         {
          "line": {
           "color": "lightgrey",
           "width": 1.5
          },
          "type": "line",
          "x0": 269.1642761230469,
          "x1": 269.1642761230469,
          "xref": "x2",
          "y0": 0,
          "y1": 13984.5908203125,
          "yref": "y2"
         },
         {
          "line": {
           "color": "lightgrey",
           "width": 1.5
          },
          "type": "line",
          "x0": 272.1718444824219,
          "x1": 272.1718444824219,
          "xref": "x2",
          "y0": 0,
          "y1": 39897.2734375,
          "yref": "y2"
         },
         {
          "line": {
           "color": "lightgrey",
           "width": 1.5
          },
          "type": "line",
          "x0": 277.12188720703125,
          "x1": 277.12188720703125,
          "xref": "x2",
          "y0": 0,
          "y1": 16782.7265625,
          "yref": "y2"
         },
         {
          "line": {
           "color": "lightgrey",
           "width": 1.5
          },
          "type": "line",
          "x0": 278.15301513671875,
          "x1": 278.15301513671875,
          "xref": "x2",
          "y0": 0,
          "y1": 419753.5625,
          "yref": "y2"
         },
         {
          "line": {
           "color": "lightgrey",
           "width": 1.5
          },
          "type": "line",
          "x0": 279.1579284667969,
          "x1": 279.1579284667969,
          "xref": "x2",
          "y0": 0,
          "y1": 46155.359375,
          "yref": "y2"
         },
         {
          "line": {
           "color": "lightgrey",
           "width": 1.5
          },
          "type": "line",
          "x0": 282.16790771484375,
          "x1": 282.16790771484375,
          "xref": "x2",
          "y0": 0,
          "y1": 14939.3408203125,
          "yref": "y2"
         },
         {
          "line": {
           "color": "lightgrey",
           "width": 1.5
          },
          "type": "line",
          "x0": 283.1426086425781,
          "x1": 283.1426086425781,
          "xref": "x2",
          "y0": 0,
          "y1": 13764.1787109375,
          "yref": "y2"
         },
         {
          "line": {
           "color": "lightgrey",
           "width": 1.5
          },
          "type": "line",
          "x0": 286.12164306640625,
          "x1": 286.12164306640625,
          "xref": "x2",
          "y0": 0,
          "y1": 35878.62890625,
          "yref": "y2"
         },
         {
          "line": {
           "color": "lightgrey",
           "width": 1.5
          },
          "type": "line",
          "x0": 286.17633056640625,
          "x1": 286.17633056640625,
          "xref": "x2",
          "y0": 0,
          "y1": 385729.09375,
          "yref": "y2"
         },
         {
          "line": {
           "color": "lightgrey",
           "width": 1.5
          },
          "type": "line",
          "x0": 287.1783752441406,
          "x1": 287.1783752441406,
          "xref": "x2",
          "y0": 0,
          "y1": 38501.1171875,
          "yref": "y2"
         },
         {
          "line": {
           "color": "lightgrey",
           "width": 1.5
          },
          "type": "line",
          "x0": 288.20306396484375,
          "x1": 288.20306396484375,
          "xref": "x2",
          "y0": 0,
          "y1": 27741.72265625,
          "yref": "y2"
         },
         {
          "line": {
           "color": "lightgrey",
           "width": 1.5
          },
          "type": "line",
          "x0": 301.39794921875,
          "x1": 301.39794921875,
          "xref": "x2",
          "y0": 0,
          "y1": 26604.95703125,
          "yref": "y2"
         },
         {
          "line": {
           "color": "lightgrey",
           "width": 1.5
          },
          "type": "line",
          "x0": 303.17730712890625,
          "x1": 303.17730712890625,
          "xref": "x2",
          "y0": 0,
          "y1": 25218.287109375,
          "yref": "y2"
         },
         {
          "line": {
           "color": "lightgrey",
           "width": 1.5
          },
          "type": "line",
          "x0": 310.54888916015625,
          "x1": 310.54888916015625,
          "xref": "x2",
          "y0": 0,
          "y1": 13234.4326171875,
          "yref": "y2"
         },
         {
          "line": {
           "color": "lightgrey",
           "width": 1.5
          },
          "type": "line",
          "x0": 314.2085876464844,
          "x1": 314.2085876464844,
          "xref": "x2",
          "y0": 0,
          "y1": 24317.2734375,
          "yref": "y2"
         },
         {
          "line": {
           "color": "lightgrey",
           "width": 1.5
          },
          "type": "line",
          "x0": 321.1579895019531,
          "x1": 321.1579895019531,
          "xref": "x2",
          "y0": 0,
          "y1": 18894.22265625,
          "yref": "y2"
         },
         {
          "line": {
           "color": "lightgrey",
           "width": 1.5
          },
          "type": "line",
          "x0": 322.18658447265625,
          "x1": 322.18658447265625,
          "xref": "x2",
          "y0": 0,
          "y1": 21179.87890625,
          "yref": "y2"
         },
         {
          "line": {
           "color": "lightgrey",
           "width": 1.5
          },
          "type": "line",
          "x0": 323.2093200683594,
          "x1": 323.2093200683594,
          "xref": "x2",
          "y0": 0,
          "y1": 49077.703125,
          "yref": "y2"
         },
         {
          "line": {
           "color": "lightgrey",
           "width": 1.5
          },
          "type": "line",
          "x0": 331.1871032714844,
          "x1": 331.1871032714844,
          "xref": "x2",
          "y0": 0,
          "y1": 107776.84375,
          "yref": "y2"
         },
         {
          "line": {
           "color": "lightgrey",
           "width": 1.5
          },
          "type": "line",
          "x0": 331.6897888183594,
          "x1": 331.6897888183594,
          "xref": "x2",
          "y0": 0,
          "y1": 45178.67578125,
          "yref": "y2"
         },
         {
          "line": {
           "color": "lightgrey",
           "width": 1.5
          },
          "type": "line",
          "x0": 338.67486572265625,
          "x1": 338.67486572265625,
          "xref": "x2",
          "y0": 0,
          "y1": 27062.9765625,
          "yref": "y2"
         },
         {
          "line": {
           "color": "lightgrey",
           "width": 1.5
          },
          "type": "line",
          "x0": 339.17529296875,
          "x1": 339.17529296875,
          "xref": "x2",
          "y0": 0,
          "y1": 27468.72265625,
          "yref": "y2"
         },
         {
          "line": {
           "color": "lightgrey",
           "width": 1.5
          },
          "type": "line",
          "x0": 341.217529296875,
          "x1": 341.217529296875,
          "xref": "x2",
          "y0": 0,
          "y1": 70552.9296875,
          "yref": "y2"
         },
         {
          "line": {
           "color": "lightgrey",
           "width": 1.5
          },
          "type": "line",
          "x0": 347.1171875,
          "x1": 347.1171875,
          "xref": "x2",
          "y0": 0,
          "y1": 20278.3671875,
          "yref": "y2"
         },
         {
          "line": {
           "color": "lightgrey",
           "width": 1.5
          },
          "type": "line",
          "x0": 361.1925354003906,
          "x1": 361.1925354003906,
          "xref": "x2",
          "y0": 0,
          "y1": 48261.68359375,
          "yref": "y2"
         },
         {
          "line": {
           "color": "lightgrey",
           "width": 1.5
          },
          "type": "line",
          "x0": 375.2257080078125,
          "x1": 375.2257080078125,
          "xref": "x2",
          "y0": 0,
          "y1": 33700.22265625,
          "yref": "y2"
         },
         {
          "line": {
           "color": "lightgrey",
           "width": 1.5
          },
          "type": "line",
          "x0": 379.20037841796875,
          "x1": 379.20037841796875,
          "xref": "x2",
          "y0": 0,
          "y1": 404354.96875,
          "yref": "y2"
         },
         {
          "line": {
           "color": "lightgrey",
           "width": 1.5
          },
          "type": "line",
          "x0": 380.2032470703125,
          "x1": 380.2032470703125,
          "xref": "x2",
          "y0": 0,
          "y1": 49040.60546875,
          "yref": "y2"
         },
         {
          "line": {
           "color": "lightgrey",
           "width": 1.5
          },
          "type": "line",
          "x0": 382.21881103515625,
          "x1": 382.21881103515625,
          "xref": "x2",
          "y0": 0,
          "y1": 69757.3515625,
          "yref": "y2"
         },
         {
          "line": {
           "color": "lightgrey",
           "width": 1.5
          },
          "type": "line",
          "x0": 399.20672607421875,
          "x1": 399.20672607421875,
          "xref": "x2",
          "y0": 0,
          "y1": 51682.74609375,
          "yref": "y2"
         },
         {
          "line": {
           "color": "lightgrey",
           "width": 1.5
          },
          "type": "line",
          "x0": 417.2236022949219,
          "x1": 417.2236022949219,
          "xref": "x2",
          "y0": 0,
          "y1": 18385.638671875,
          "yref": "y2"
         },
         {
          "line": {
           "color": "lightgrey",
           "width": 1.5
          },
          "type": "line",
          "x0": 418.2571105957031,
          "x1": 418.2571105957031,
          "xref": "x2",
          "y0": 0,
          "y1": 18342.228515625,
          "yref": "y2"
         },
         {
          "line": {
           "color": "lightgrey",
           "width": 1.5
          },
          "type": "line",
          "x0": 419.2439880371094,
          "x1": 419.2439880371094,
          "xref": "x2",
          "y0": 0,
          "y1": 15334.5400390625,
          "yref": "y2"
         },
         {
          "line": {
           "color": "lightgrey",
           "width": 1.5
          },
          "type": "line",
          "x0": 424.2405700683594,
          "x1": 424.2405700683594,
          "xref": "x2",
          "y0": 0,
          "y1": 21940.849609375,
          "yref": "y2"
         },
         {
          "line": {
           "color": "lightgrey",
           "width": 1.5
          },
          "type": "line",
          "x0": 432.22576904296875,
          "x1": 432.22576904296875,
          "xref": "x2",
          "y0": 0,
          "y1": 174233.328125,
          "yref": "y2"
         },
         {
          "line": {
           "color": "lightgrey",
           "width": 1.5
          },
          "type": "line",
          "x0": 433.2289123535156,
          "x1": 433.2289123535156,
          "xref": "x2",
          "y0": 0,
          "y1": 22230.73046875,
          "yref": "y2"
         },
         {
          "line": {
           "color": "lightgrey",
           "width": 1.5
          },
          "type": "line",
          "x0": 435.2726135253906,
          "x1": 435.2726135253906,
          "xref": "x2",
          "y0": 0,
          "y1": 87515.953125,
          "yref": "y2"
         },
         {
          "line": {
           "color": "lightgrey",
           "width": 1.5
          },
          "type": "line",
          "x0": 436.2783508300781,
          "x1": 436.2783508300781,
          "xref": "x2",
          "y0": 0,
          "y1": 29863.314453125,
          "yref": "y2"
         },
         {
          "line": {
           "color": "lightgrey",
           "width": 1.5
          },
          "type": "line",
          "x0": 450.2375793457031,
          "x1": 450.2375793457031,
          "xref": "x2",
          "y0": 0,
          "y1": 445672.25,
          "yref": "y2"
         },
         {
          "line": {
           "color": "lightgrey",
           "width": 1.5
          },
          "type": "line",
          "x0": 451.2425842285156,
          "x1": 451.2425842285156,
          "xref": "x2",
          "y0": 0,
          "y1": 68555.5234375,
          "yref": "y2"
         },
         {
          "line": {
           "color": "lightgrey",
           "width": 1.5
          },
          "type": "line",
          "x0": 503.2798767089844,
          "x1": 503.2798767089844,
          "xref": "x2",
          "y0": 0,
          "y1": 15075.4736328125,
          "yref": "y2"
         },
         {
          "line": {
           "color": "lightgrey",
           "width": 1.5
          },
          "type": "line",
          "x0": 516.2935791015625,
          "x1": 516.2935791015625,
          "xref": "x2",
          "y0": 0,
          "y1": 209722.96875,
          "yref": "y2"
         },
         {
          "line": {
           "color": "lightgrey",
           "width": 1.5
          },
          "type": "line",
          "x0": 517.305419921875,
          "x1": 517.305419921875,
          "xref": "x2",
          "y0": 0,
          "y1": 49091.9609375,
          "yref": "y2"
         },
         {
          "line": {
           "color": "lightgrey",
           "width": 1.5
          },
          "type": "line",
          "x0": 518.3353271484375,
          "x1": 518.3353271484375,
          "xref": "x2",
          "y0": 0,
          "y1": 30652.951171875,
          "yref": "y2"
         },
         {
          "line": {
           "color": "lightgrey",
           "width": 1.5
          },
          "type": "line",
          "x0": 520.2946166992188,
          "x1": 520.2946166992188,
          "xref": "x2",
          "y0": 0,
          "y1": 29141.443359375,
          "yref": "y2"
         },
         {
          "line": {
           "color": "lightgrey",
           "width": 1.5
          },
          "type": "line",
          "x0": 526.2709350585938,
          "x1": 526.2709350585938,
          "xref": "x2",
          "y0": 0,
          "y1": 27579.078125,
          "yref": "y2"
         },
         {
          "line": {
           "color": "lightgrey",
           "width": 1.5
          },
          "type": "line",
          "x0": 536.315673828125,
          "x1": 536.315673828125,
          "xref": "x2",
          "y0": 0,
          "y1": 23964.8125,
          "yref": "y2"
         },
         {
          "line": {
           "color": "lightgrey",
           "width": 1.5
          },
          "type": "line",
          "x0": 545.3117065429688,
          "x1": 545.3117065429688,
          "xref": "x2",
          "y0": 0,
          "y1": 146297.9375,
          "yref": "y2"
         },
         {
          "line": {
           "color": "lightgrey",
           "width": 1.5
          },
          "type": "line",
          "x0": 546.311279296875,
          "x1": 546.311279296875,
          "xref": "x2",
          "y0": 0,
          "y1": 43928.01953125,
          "yref": "y2"
         },
         {
          "line": {
           "color": "lightgrey",
           "width": 1.5
          },
          "type": "line",
          "x0": 552.313720703125,
          "x1": 552.313720703125,
          "xref": "x2",
          "y0": 0,
          "y1": 41562.83984375,
          "yref": "y2"
         },
         {
          "line": {
           "color": "lightgrey",
           "width": 1.5
          },
          "type": "line",
          "x0": 553.3199462890625,
          "x1": 553.3199462890625,
          "xref": "x2",
          "y0": 0,
          "y1": 24836.556640625,
          "yref": "y2"
         },
         {
          "line": {
           "color": "lightgrey",
           "width": 1.5
          },
          "type": "line",
          "x0": 563.3218383789062,
          "x1": 563.3218383789062,
          "xref": "x2",
          "y0": 0,
          "y1": 984503.75,
          "yref": "y2"
         },
         {
          "line": {
           "color": "lightgrey",
           "width": 1.5
          },
          "type": "line",
          "x0": 564.3211059570312,
          "x1": 564.3211059570312,
          "xref": "x2",
          "y0": 0,
          "y1": 342337.5,
          "yref": "y2"
         },
         {
          "line": {
           "color": "lightgrey",
           "width": 1.5
          },
          "type": "line",
          "x0": 565.317626953125,
          "x1": 565.317626953125,
          "xref": "x2",
          "y0": 0,
          "y1": 41316.80859375,
          "yref": "y2"
         },
         {
          "line": {
           "color": "lightgrey",
           "width": 1.5
          },
          "type": "line",
          "x0": 579.2864379882812,
          "x1": 579.2864379882812,
          "xref": "x2",
          "y0": 0,
          "y1": 71359.59375,
          "yref": "y2"
         },
         {
          "line": {
           "color": "lightgrey",
           "width": 1.5
          },
          "type": "line",
          "x0": 580.289794921875,
          "x1": 580.289794921875,
          "xref": "x2",
          "y0": 0,
          "y1": 25861.306640625,
          "yref": "y2"
         },
         {
          "line": {
           "color": "lightgrey",
           "width": 1.5
          },
          "type": "line",
          "x0": 625.346923828125,
          "x1": 625.346923828125,
          "xref": "x2",
          "y0": 0,
          "y1": 45733.73828125,
          "yref": "y2"
         },
         {
          "line": {
           "color": "lightgrey",
           "width": 1.5
          },
          "type": "line",
          "x0": 626.3362426757812,
          "x1": 626.3362426757812,
          "xref": "x2",
          "y0": 0,
          "y1": 15196.296875,
          "yref": "y2"
         },
         {
          "line": {
           "color": "lightgrey",
           "width": 1.5
          },
          "type": "line",
          "x0": 631.4263305664062,
          "x1": 631.4263305664062,
          "xref": "x2",
          "y0": 0,
          "y1": 23392.248046875,
          "yref": "y2"
         },
         {
          "line": {
           "color": "lightgrey",
           "width": 1.5
          },
          "type": "line",
          "x0": 639.3594970703125,
          "x1": 639.3594970703125,
          "xref": "x2",
          "y0": 0,
          "y1": 53212.0234375,
          "yref": "y2"
         },
         {
          "line": {
           "color": "lightgrey",
           "width": 1.5
          },
          "type": "line",
          "x0": 649.3527221679688,
          "x1": 649.3527221679688,
          "xref": "x2",
          "y0": 0,
          "y1": 27747.625,
          "yref": "y2"
         },
         {
          "line": {
           "color": "lightgrey",
           "width": 1.5
          },
          "type": "line",
          "x0": 650.3544311523438,
          "x1": 650.3544311523438,
          "xref": "x2",
          "y0": 0,
          "y1": 36853.5546875,
          "yref": "y2"
         },
         {
          "line": {
           "color": "lightgrey",
           "width": 1.5
          },
          "type": "line",
          "x0": 661.3680419921875,
          "x1": 661.3680419921875,
          "xref": "x2",
          "y0": 0,
          "y1": 48556.39453125,
          "yref": "y2"
         },
         {
          "line": {
           "color": "lightgrey",
           "width": 1.5
          },
          "type": "line",
          "x0": 665.4031982421875,
          "x1": 665.4031982421875,
          "xref": "x2",
          "y0": 0,
          "y1": 24854.8203125,
          "yref": "y2"
         },
         {
          "line": {
           "color": "lightgrey",
           "width": 1.5
          },
          "type": "line",
          "x0": 676.402587890625,
          "x1": 676.402587890625,
          "xref": "x2",
          "y0": 0,
          "y1": 20505.599609375,
          "yref": "y2"
         },
         {
          "line": {
           "color": "red",
           "width": 1.5
          },
          "type": "line",
          "x0": 676.4061889648438,
          "x1": 676.4061889648438,
          "xref": "x2",
          "y0": 0,
          "y1": 20505.599609375,
          "yref": "y2"
         },
         {
          "line": {
           "color": "blue",
           "width": 1.5
          },
          "type": "line",
          "x0": 201.1233673095703,
          "x1": 201.1233673095703,
          "xref": "x2",
          "y0": 0,
          "y1": 477963.625,
          "yref": "y2"
         },
         {
          "line": {
           "color": "red",
           "width": 1.5
          },
          "type": "line",
          "x0": 563.3221435546875,
          "x1": 563.3221435546875,
          "xref": "x2",
          "y0": 0,
          "y1": 984503.75,
          "yref": "y2"
         },
         {
          "line": {
           "color": "red",
           "width": 1.5
          },
          "type": "line",
          "x0": 282.1647033691406,
          "x1": 282.1647033691406,
          "xref": "x2",
          "y0": 0,
          "y1": 14939.3408203125,
          "yref": "y2"
         },
         {
          "line": {
           "color": "blue",
           "width": 1.5
          },
          "type": "line",
          "x0": 314.2074279785156,
          "x1": 314.2074279785156,
          "xref": "x2",
          "y0": 0,
          "y1": 24317.2734375,
          "yref": "y2"
         },
         {
          "line": {
           "color": "red",
           "width": 1.5
          },
          "type": "line",
          "x0": 450.2380676269531,
          "x1": 450.2380676269531,
          "xref": "x2",
          "y0": 0,
          "y1": 445672.25,
          "yref": "y2"
         },
         {
          "line": {
           "color": "red",
           "width": 1.5
          },
          "type": "line",
          "x0": 379.2009582519531,
          "x1": 379.2009582519531,
          "xref": "x2",
          "y0": 0,
          "y1": 404354.96875,
          "yref": "y2"
         },
         {
          "line": {
           "color": "red",
           "width": 1.5
          },
          "type": "line",
          "x0": 278.1532897949219,
          "x1": 278.1532897949219,
          "xref": "x2",
          "y0": 0,
          "y1": 419753.5625,
          "yref": "y2"
         },
         {
          "line": {
           "color": "red",
           "width": 1.5
          },
          "type": "line",
          "x0": 147.11280822753906,
          "x1": 147.11280822753906,
          "xref": "x2",
          "y0": 0,
          "y1": 584019.8125,
          "yref": "y2"
         },
         {
          "line": {
           "color": "red",
           "width": 1.5
          },
          "type": "line",
          "x0": 676.4061889648438,
          "x1": 676.4061889648438,
          "xref": "x2",
          "y0": 0,
          "y1": -25063.373046875,
          "yref": "y2"
         },
         {
          "line": {
           "color": "blue",
           "width": 1.5
          },
          "type": "line",
          "x0": 201.1233673095703,
          "x1": 201.1233673095703,
          "xref": "x2",
          "y0": 0,
          "y1": -426686.625,
          "yref": "y2"
         },
         {
          "line": {
           "color": "red",
           "width": 1.5
          },
          "type": "line",
          "x0": 563.3221435546875,
          "x1": 563.3221435546875,
          "xref": "x2",
          "y0": 0,
          "y1": -984503.75,
          "yref": "y2"
         },
         {
          "line": {
           "color": "red",
           "width": 1.5
          },
          "type": "line",
          "x0": 282.1647033691406,
          "x1": 282.1647033691406,
          "xref": "x2",
          "y0": 0,
          "y1": -28490.990234375,
          "yref": "y2"
         },
         {
          "line": {
           "color": "blue",
           "width": 1.5
          },
          "type": "line",
          "x0": 314.2074279785156,
          "x1": 314.2074279785156,
          "xref": "x2",
          "y0": 0,
          "y1": -41247.375,
          "yref": "y2"
         },
         {
          "line": {
           "color": "red",
           "width": 1.5
          },
          "type": "line",
          "x0": 450.2380676269531,
          "x1": 450.2380676269531,
          "xref": "x2",
          "y0": 0,
          "y1": -432450.75,
          "yref": "y2"
         },
         {
          "line": {
           "color": "red",
           "width": 1.5
          },
          "type": "line",
          "x0": 379.2009582519531,
          "x1": 379.2009582519531,
          "xref": "x2",
          "y0": 0,
          "y1": -300897.40625,
          "yref": "y2"
         },
         {
          "line": {
           "color": "red",
           "width": 1.5
          },
          "type": "line",
          "x0": 278.1532897949219,
          "x1": 278.1532897949219,
          "xref": "x2",
          "y0": 0,
          "y1": -252634.625,
          "yref": "y2"
         },
         {
          "line": {
           "color": "red",
           "width": 1.5
          },
          "type": "line",
          "x0": 147.11280822753906,
          "x1": 147.11280822753906,
          "xref": "x2",
          "y0": 0,
          "y1": -190381.046875,
          "yref": "y2"
         }
        ],
        "template": {
         "data": {
          "bar": [
           {
            "error_x": {
             "color": "#2a3f5f"
            },
            "error_y": {
             "color": "#2a3f5f"
            },
            "marker": {
             "line": {
              "color": "white",
              "width": 0.5
             },
             "pattern": {
              "fillmode": "overlay",
              "size": 10,
              "solidity": 0.2
             }
            },
            "type": "bar"
           }
          ],
          "barpolar": [
           {
            "marker": {
             "line": {
              "color": "white",
              "width": 0.5
             },
             "pattern": {
              "fillmode": "overlay",
              "size": 10,
              "solidity": 0.2
             }
            },
            "type": "barpolar"
           }
          ],
          "carpet": [
           {
            "aaxis": {
             "endlinecolor": "#2a3f5f",
             "gridcolor": "#C8D4E3",
             "linecolor": "#C8D4E3",
             "minorgridcolor": "#C8D4E3",
             "startlinecolor": "#2a3f5f"
            },
            "baxis": {
             "endlinecolor": "#2a3f5f",
             "gridcolor": "#C8D4E3",
             "linecolor": "#C8D4E3",
             "minorgridcolor": "#C8D4E3",
             "startlinecolor": "#2a3f5f"
            },
            "type": "carpet"
           }
          ],
          "choropleth": [
           {
            "colorbar": {
             "outlinewidth": 0,
             "ticks": ""
            },
            "type": "choropleth"
           }
          ],
          "contour": [
           {
            "colorbar": {
             "outlinewidth": 0,
             "ticks": ""
            },
            "colorscale": [
             [
              0,
              "#0d0887"
             ],
             [
              0.1111111111111111,
              "#46039f"
             ],
             [
              0.2222222222222222,
              "#7201a8"
             ],
             [
              0.3333333333333333,
              "#9c179e"
             ],
             [
              0.4444444444444444,
              "#bd3786"
             ],
             [
              0.5555555555555556,
              "#d8576b"
             ],
             [
              0.6666666666666666,
              "#ed7953"
             ],
             [
              0.7777777777777778,
              "#fb9f3a"
             ],
             [
              0.8888888888888888,
              "#fdca26"
             ],
             [
              1,
              "#f0f921"
             ]
            ],
            "type": "contour"
           }
          ],
          "contourcarpet": [
           {
            "colorbar": {
             "outlinewidth": 0,
             "ticks": ""
            },
            "type": "contourcarpet"
           }
          ],
          "heatmap": [
           {
            "colorbar": {
             "outlinewidth": 0,
             "ticks": ""
            },
            "colorscale": [
             [
              0,
              "#0d0887"
             ],
             [
              0.1111111111111111,
              "#46039f"
             ],
             [
              0.2222222222222222,
              "#7201a8"
             ],
             [
              0.3333333333333333,
              "#9c179e"
             ],
             [
              0.4444444444444444,
              "#bd3786"
             ],
             [
              0.5555555555555556,
              "#d8576b"
             ],
             [
              0.6666666666666666,
              "#ed7953"
             ],
             [
              0.7777777777777778,
              "#fb9f3a"
             ],
             [
              0.8888888888888888,
              "#fdca26"
             ],
             [
              1,
              "#f0f921"
             ]
            ],
            "type": "heatmap"
           }
          ],
          "heatmapgl": [
           {
            "colorbar": {
             "outlinewidth": 0,
             "ticks": ""
            },
            "colorscale": [
             [
              0,
              "#0d0887"
             ],
             [
              0.1111111111111111,
              "#46039f"
             ],
             [
              0.2222222222222222,
              "#7201a8"
             ],
             [
              0.3333333333333333,
              "#9c179e"
             ],
             [
              0.4444444444444444,
              "#bd3786"
             ],
             [
              0.5555555555555556,
              "#d8576b"
             ],
             [
              0.6666666666666666,
              "#ed7953"
             ],
             [
              0.7777777777777778,
              "#fb9f3a"
             ],
             [
              0.8888888888888888,
              "#fdca26"
             ],
             [
              1,
              "#f0f921"
             ]
            ],
            "type": "heatmapgl"
           }
          ],
          "histogram": [
           {
            "marker": {
             "pattern": {
              "fillmode": "overlay",
              "size": 10,
              "solidity": 0.2
             }
            },
            "type": "histogram"
           }
          ],
          "histogram2d": [
           {
            "colorbar": {
             "outlinewidth": 0,
             "ticks": ""
            },
            "colorscale": [
             [
              0,
              "#0d0887"
             ],
             [
              0.1111111111111111,
              "#46039f"
             ],
             [
              0.2222222222222222,
              "#7201a8"
             ],
             [
              0.3333333333333333,
              "#9c179e"
             ],
             [
              0.4444444444444444,
              "#bd3786"
             ],
             [
              0.5555555555555556,
              "#d8576b"
             ],
             [
              0.6666666666666666,
              "#ed7953"
             ],
             [
              0.7777777777777778,
              "#fb9f3a"
             ],
             [
              0.8888888888888888,
              "#fdca26"
             ],
             [
              1,
              "#f0f921"
             ]
            ],
            "type": "histogram2d"
           }
          ],
          "histogram2dcontour": [
           {
            "colorbar": {
             "outlinewidth": 0,
             "ticks": ""
            },
            "colorscale": [
             [
              0,
              "#0d0887"
             ],
             [
              0.1111111111111111,
              "#46039f"
             ],
             [
              0.2222222222222222,
              "#7201a8"
             ],
             [
              0.3333333333333333,
              "#9c179e"
             ],
             [
              0.4444444444444444,
              "#bd3786"
             ],
             [
              0.5555555555555556,
              "#d8576b"
             ],
             [
              0.6666666666666666,
              "#ed7953"
             ],
             [
              0.7777777777777778,
              "#fb9f3a"
             ],
             [
              0.8888888888888888,
              "#fdca26"
             ],
             [
              1,
              "#f0f921"
             ]
            ],
            "type": "histogram2dcontour"
           }
          ],
          "mesh3d": [
           {
            "colorbar": {
             "outlinewidth": 0,
             "ticks": ""
            },
            "type": "mesh3d"
           }
          ],
          "parcoords": [
           {
            "line": {
             "colorbar": {
              "outlinewidth": 0,
              "ticks": ""
             }
            },
            "type": "parcoords"
           }
          ],
          "pie": [
           {
            "automargin": true,
            "type": "pie"
           }
          ],
          "scatter": [
           {
            "fillpattern": {
             "fillmode": "overlay",
             "size": 10,
             "solidity": 0.2
            },
            "type": "scatter"
           }
          ],
          "scatter3d": [
           {
            "line": {
             "colorbar": {
              "outlinewidth": 0,
              "ticks": ""
             }
            },
            "marker": {
             "colorbar": {
              "outlinewidth": 0,
              "ticks": ""
             }
            },
            "type": "scatter3d"
           }
          ],
          "scattercarpet": [
           {
            "marker": {
             "colorbar": {
              "outlinewidth": 0,
              "ticks": ""
             }
            },
            "type": "scattercarpet"
           }
          ],
          "scattergeo": [
           {
            "marker": {
             "colorbar": {
              "outlinewidth": 0,
              "ticks": ""
             }
            },
            "type": "scattergeo"
           }
          ],
          "scattergl": [
           {
            "marker": {
             "colorbar": {
              "outlinewidth": 0,
              "ticks": ""
             }
            },
            "type": "scattergl"
           }
          ],
          "scattermapbox": [
           {
            "marker": {
             "colorbar": {
              "outlinewidth": 0,
              "ticks": ""
             }
            },
            "type": "scattermapbox"
           }
          ],
          "scatterpolar": [
           {
            "marker": {
             "colorbar": {
              "outlinewidth": 0,
              "ticks": ""
             }
            },
            "type": "scatterpolar"
           }
          ],
          "scatterpolargl": [
           {
            "marker": {
             "colorbar": {
              "outlinewidth": 0,
              "ticks": ""
             }
            },
            "type": "scatterpolargl"
           }
          ],
          "scatterternary": [
           {
            "marker": {
             "colorbar": {
              "outlinewidth": 0,
              "ticks": ""
             }
            },
            "type": "scatterternary"
           }
          ],
          "surface": [
           {
            "colorbar": {
             "outlinewidth": 0,
             "ticks": ""
            },
            "colorscale": [
             [
              0,
              "#0d0887"
             ],
             [
              0.1111111111111111,
              "#46039f"
             ],
             [
              0.2222222222222222,
              "#7201a8"
             ],
             [
              0.3333333333333333,
              "#9c179e"
             ],
             [
              0.4444444444444444,
              "#bd3786"
             ],
             [
              0.5555555555555556,
              "#d8576b"
             ],
             [
              0.6666666666666666,
              "#ed7953"
             ],
             [
              0.7777777777777778,
              "#fb9f3a"
             ],
             [
              0.8888888888888888,
              "#fdca26"
             ],
             [
              1,
              "#f0f921"
             ]
            ],
            "type": "surface"
           }
          ],
          "table": [
           {
            "cells": {
             "fill": {
              "color": "#EBF0F8"
             },
             "line": {
              "color": "white"
             }
            },
            "header": {
             "fill": {
              "color": "#C8D4E3"
             },
             "line": {
              "color": "white"
             }
            },
            "type": "table"
           }
          ]
         },
         "layout": {
          "annotationdefaults": {
           "arrowcolor": "#2a3f5f",
           "arrowhead": 0,
           "arrowwidth": 1
          },
          "autotypenumbers": "strict",
          "coloraxis": {
           "colorbar": {
            "outlinewidth": 0,
            "ticks": ""
           }
          },
          "colorscale": {
           "diverging": [
            [
             0,
             "#8e0152"
            ],
            [
             0.1,
             "#c51b7d"
            ],
            [
             0.2,
             "#de77ae"
            ],
            [
             0.3,
             "#f1b6da"
            ],
            [
             0.4,
             "#fde0ef"
            ],
            [
             0.5,
             "#f7f7f7"
            ],
            [
             0.6,
             "#e6f5d0"
            ],
            [
             0.7,
             "#b8e186"
            ],
            [
             0.8,
             "#7fbc41"
            ],
            [
             0.9,
             "#4d9221"
            ],
            [
             1,
             "#276419"
            ]
           ],
           "sequential": [
            [
             0,
             "#0d0887"
            ],
            [
             0.1111111111111111,
             "#46039f"
            ],
            [
             0.2222222222222222,
             "#7201a8"
            ],
            [
             0.3333333333333333,
             "#9c179e"
            ],
            [
             0.4444444444444444,
             "#bd3786"
            ],
            [
             0.5555555555555556,
             "#d8576b"
            ],
            [
             0.6666666666666666,
             "#ed7953"
            ],
            [
             0.7777777777777778,
             "#fb9f3a"
            ],
            [
             0.8888888888888888,
             "#fdca26"
            ],
            [
             1,
             "#f0f921"
            ]
           ],
           "sequentialminus": [
            [
             0,
             "#0d0887"
            ],
            [
             0.1111111111111111,
             "#46039f"
            ],
            [
             0.2222222222222222,
             "#7201a8"
            ],
            [
             0.3333333333333333,
             "#9c179e"
            ],
            [
             0.4444444444444444,
             "#bd3786"
            ],
            [
             0.5555555555555556,
             "#d8576b"
            ],
            [
             0.6666666666666666,
             "#ed7953"
            ],
            [
             0.7777777777777778,
             "#fb9f3a"
            ],
            [
             0.8888888888888888,
             "#fdca26"
            ],
            [
             1,
             "#f0f921"
            ]
           ]
          },
          "colorway": [
           "#636efa",
           "#EF553B",
           "#00cc96",
           "#ab63fa",
           "#FFA15A",
           "#19d3f3",
           "#FF6692",
           "#B6E880",
           "#FF97FF",
           "#FECB52"
          ],
          "font": {
           "color": "#2a3f5f"
          },
          "geo": {
           "bgcolor": "white",
           "lakecolor": "white",
           "landcolor": "white",
           "showlakes": true,
           "showland": true,
           "subunitcolor": "#C8D4E3"
          },
          "hoverlabel": {
           "align": "left"
          },
          "hovermode": "closest",
          "mapbox": {
           "style": "light"
          },
          "paper_bgcolor": "white",
          "plot_bgcolor": "white",
          "polar": {
           "angularaxis": {
            "gridcolor": "#EBF0F8",
            "linecolor": "#EBF0F8",
            "ticks": ""
           },
           "bgcolor": "white",
           "radialaxis": {
            "gridcolor": "#EBF0F8",
            "linecolor": "#EBF0F8",
            "ticks": ""
           }
          },
          "scene": {
           "xaxis": {
            "backgroundcolor": "white",
            "gridcolor": "#DFE8F3",
            "gridwidth": 2,
            "linecolor": "#EBF0F8",
            "showbackground": true,
            "ticks": "",
            "zerolinecolor": "#EBF0F8"
           },
           "yaxis": {
            "backgroundcolor": "white",
            "gridcolor": "#DFE8F3",
            "gridwidth": 2,
            "linecolor": "#EBF0F8",
            "showbackground": true,
            "ticks": "",
            "zerolinecolor": "#EBF0F8"
           },
           "zaxis": {
            "backgroundcolor": "white",
            "gridcolor": "#DFE8F3",
            "gridwidth": 2,
            "linecolor": "#EBF0F8",
            "showbackground": true,
            "ticks": "",
            "zerolinecolor": "#EBF0F8"
           }
          },
          "shapedefaults": {
           "line": {
            "color": "#2a3f5f"
           }
          },
          "ternary": {
           "aaxis": {
            "gridcolor": "#DFE8F3",
            "linecolor": "#A2B1C6",
            "ticks": ""
           },
           "baxis": {
            "gridcolor": "#DFE8F3",
            "linecolor": "#A2B1C6",
            "ticks": ""
           },
           "bgcolor": "white",
           "caxis": {
            "gridcolor": "#DFE8F3",
            "linecolor": "#A2B1C6",
            "ticks": ""
           }
          },
          "title": {
           "x": 0.05
          },
          "xaxis": {
           "automargin": true,
           "gridcolor": "#EBF0F8",
           "linecolor": "#EBF0F8",
           "ticks": "",
           "title": {
            "standoff": 15
           },
           "zerolinecolor": "#EBF0F8",
           "zerolinewidth": 2
          },
          "yaxis": {
           "automargin": true,
           "gridcolor": "#EBF0F8",
           "linecolor": "#EBF0F8",
           "ticks": "",
           "title": {
            "standoff": 15
           },
           "zerolinecolor": "#EBF0F8",
           "zerolinewidth": 2
          }
         }
        },
        "title": {
         "text": " (R=0.908)",
         "yanchor": "bottom"
        },
        "xaxis": {
         "anchor": "y",
         "domain": [
          0,
          1
         ],
         "matches": "x",
         "visible": false
        },
        "xaxis2": {
         "anchor": "y2",
         "domain": [
          0,
          1
         ],
         "matches": "x"
        },
        "xaxis3": {
         "anchor": "y3",
         "domain": [
          0,
          1
         ],
         "matches": "x"
        },
        "yaxis": {
         "anchor": "x",
         "domain": [
          0.875,
          1
         ],
         "range": [
          -1.1,
          1.1
         ],
         "title": {
          "text": "intensity"
         },
         "visible": false
        },
        "yaxis2": {
         "anchor": "x2",
         "domain": [
          0.175,
          0.825
         ],
         "title": {
          "text": "intensity"
         }
        },
        "yaxis3": {
         "anchor": "x3",
         "domain": [
          0,
          0.125
         ],
         "title": {
          "text": "m/z err"
         }
        }
       }
      }
     },
     "metadata": {},
     "output_type": "display_data"
    }
   ],
   "source": [
    "from alpharaw.viz.df_utils import make_psm_plot_for_dfs\n",
    "\n",
    "spec_idx = plot_psm.spec_idx.values[0]\n",
    "peak_mzs, peak_intens = ms_data.get_peaks(spec_idx)\n",
    "\n",
    "plot_df = make_psm_plot_for_dfs(\n",
    "    peak_mzs, peak_intens,\n",
    "    plot_psm,\n",
    "    plot_frag_mz_df,\n",
    "    fragment_intensity_df=pred_inten_df[plot_frag_mz_df.columns],\n",
    ")\n",
    "psm_plotter.plot(plot_df, plot_psm.sequence[0], \"\", plot_unmatched_peaks=True)"
   ]
  },
  {
   "cell_type": "code",
   "execution_count": null,
   "metadata": {},
   "outputs": [],
   "source": []
  }
 ],
 "metadata": {
  "kernelspec": {
   "display_name": "base",
   "language": "python",
   "name": "python3"
  },
  "language_info": {
   "codemirror_mode": {
    "name": "ipython",
    "version": 3
   },
   "file_extension": ".py",
   "mimetype": "text/x-python",
   "name": "python",
   "nbconvert_exporter": "python",
   "pygments_lexer": "ipython3",
   "version": "3.9.12"
  }
 },
 "nbformat": 4,
 "nbformat_minor": 2
}
