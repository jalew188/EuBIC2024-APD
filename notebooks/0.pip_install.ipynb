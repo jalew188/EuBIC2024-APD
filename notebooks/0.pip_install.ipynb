{
 "cells": [
  {
   "cell_type": "markdown",
   "metadata": {},
   "source": [
    "To access Raw MS data (Thermo Raw and Sciex Wiff), `PythonNet` must be installed based on .NET Framework, .NETCore or Mono for different OS systems. See https://github.com/MannLabs/alpharaw#installation for the installation guide."
   ]
  },
  {
   "cell_type": "code",
   "execution_count": null,
   "metadata": {},
   "outputs": [],
   "source": [
    "%pip install peptdeep plotly alphatims alpharaw"
   ]
  },
  {
   "cell_type": "markdown",
   "metadata": {},
   "source": [
    "To install GPU-based pytorch, check https://pytorch.org/get-started/locally/, for example:"
   ]
  },
  {
   "cell_type": "code",
   "execution_count": null,
   "metadata": {},
   "outputs": [],
   "source": [
    "#%pip install -U torch --index-url https://download.pytorch.org/whl/cu118"
   ]
  },
  {
   "cell_type": "code",
   "execution_count": null,
   "metadata": {},
   "outputs": [],
   "source": []
  }
 ],
 "metadata": {
  "kernelspec": {
   "display_name": "base",
   "language": "python",
   "name": "python3"
  },
  "language_info": {
   "codemirror_mode": {
    "name": "ipython",
    "version": 3
   },
   "file_extension": ".py",
   "mimetype": "text/x-python",
   "name": "python",
   "nbconvert_exporter": "python",
   "pygments_lexer": "ipython3",
   "version": "3.9.12"
  }
 },
 "nbformat": 4,
 "nbformat_minor": 2
}
