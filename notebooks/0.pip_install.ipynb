{
 "cells": [
  {
   "cell_type": "markdown",
   "metadata": {},
   "source": [
    "To access Raw MS data (Thermo Raw and Sciex Wiff), `PythonNet` must be installed based on .NET Framework, .NETCore or Mono for different OS systems. See https://github.com/MannLabs/alpharaw#installation for the installation guide."
   ]
  },
  {
   "cell_type": "code",
   "execution_count": null,
   "metadata": {},
   "outputs": [],
   "source": [
    "# %pip install -U peptdeep plotly alphatims alpharaw"
   ]
  },
  {
   "cell_type": "markdown",
   "metadata": {},
   "source": [
    "To install GPU-based pytorch, check https://pytorch.org/get-started/locally/, for example:"
   ]
  },
  {
   "cell_type": "code",
   "execution_count": null,
   "metadata": {},
   "outputs": [],
   "source": [
    "# %pip install -U torch --index-url https://download.pytorch.org/whl/cu118"
   ]
  },
  {
   "cell_type": "markdown",
   "metadata": {},
   "source": [
    "### Test if everything is correctly installed"
   ]
  },
  {
   "cell_type": "code",
   "execution_count": null,
   "metadata": {},
   "outputs": [],
   "source": [
    "import alphabase\n",
    "import alpharaw\n",
    "import peptdeep"
   ]
  }
 ],
 "metadata": {
  "kernelspec": {
   "display_name": "base",
   "language": "python",
   "name": "python3"
  },
  "language_info": {
   "codemirror_mode": {
    "name": "ipython",
    "version": 3
   },
   "file_extension": ".py",
   "mimetype": "text/x-python",
   "name": "python",
   "nbconvert_exporter": "python",
   "pygments_lexer": "ipython3",
   "version": "3.9.12"
  }
 },
 "nbformat": 4,
 "nbformat_minor": 2
}
